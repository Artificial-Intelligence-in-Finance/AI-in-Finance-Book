{
 "cells": [
  {
   "attachments": {
    "AIFI_logo.jpg": {
     "image/jpeg": "[encoded data removed]"
    }
   },
   "cell_type": "markdown",
   "metadata": {
    "slideshow": {
     "slide_type": "slide"
    }
   },
   "source": [
    "![AIFI_logo.jpg](attachment:AIFI_logo.jpg)\n",
    "\n",
    "\n",
    "# Bootcamp - Python and Coding - Primer"
   ]
  },
  {
   "cell_type": "markdown",
   "metadata": {
    "slideshow": {
     "slide_type": "slide"
    }
   },
   "source": [
    "# Getting Data from the Web\n"
   ]
  },
  {
   "cell_type": "markdown",
   "metadata": {
    "slideshow": {
     "slide_type": "slide"
    }
   },
   "source": [
    "## [json](https://docs.python.org/3.6/library/json.html)\n",
    "\n",
    "Nowadays, data often accumulates in traffic between computers. A format which has established itself as a standard for communication between different systems, programming languages, frameworks is json. You probably know json from somewhere else, have programmed an *API* which returns json, or similar.  \n",
    "\n",
    "The json package in Python is part of the *standard library*. So you don't need to install anything to work with json."
   ]
  },
  {
   "cell_type": "markdown",
   "metadata": {
    "slideshow": {
     "slide_type": "skip"
    }
   },
   "source": [
    "# Imports"
   ]
  },
  {
   "cell_type": "code",
   "execution_count": 1,
   "metadata": {
    "slideshow": {
     "slide_type": "skip"
    }
   },
   "outputs": [],
   "source": [
    "import json\n",
    "import requests\n",
    "import re\n",
    "import html2text\n",
    "import pandas as pd"
   ]
  },
  {
   "cell_type": "code",
   "execution_count": 2,
   "metadata": {
    "slideshow": {
     "slide_type": "slide"
    }
   },
   "outputs": [],
   "source": [
    "# in python data can be stored in nested dicts and lists:\n",
    "some_data = [\n",
    "    {'object': 'flat', 'sqm': 70, 'location': 'NYC', 'price': 900000 },\n",
    "    {'object': 'house', 'sqm': 180, 'location': 'LA', 'price': 1500000 },\n",
    "]"
   ]
  },
  {
   "cell_type": "code",
   "execution_count": 3,
   "metadata": {
    "slideshow": {
     "slide_type": "fragment"
    }
   },
   "outputs": [
    {
     "data": {
      "text/plain": [
       "'[{\"object\": \"flat\", \"sqm\": 70, \"location\": \"NYC\", \"price\": 900000}, {\"object\": \"house\", \"sqm\": 180, \"location\": \"LA\", \"price\": 1500000}]'"
      ]
     },
     "execution_count": 3,
     "metadata": {},
     "output_type": "execute_result"
    }
   ],
   "source": [
    "# we can directly transform such objects to valid json\n",
    "json_data = json.dumps(some_data)\n",
    "json_data"
   ]
  },
  {
   "cell_type": "code",
   "execution_count": 4,
   "metadata": {
    "slideshow": {
     "slide_type": "slide"
    }
   },
   "outputs": [
    {
     "data": {
      "text/plain": [
       "[{'object': 'flat', 'sqm': 70, 'location': 'NYC', 'price': 900000},\n",
       " {'object': 'house', 'sqm': 180, 'location': 'LA', 'price': 1500000}]"
      ]
     },
     "execution_count": 4,
     "metadata": {},
     "output_type": "execute_result"
    }
   ],
   "source": [
    "# and of course also load it back into python lists and strings\n",
    "json.loads(json_data)"
   ]
  },
  {
   "cell_type": "markdown",
   "metadata": {
    "slideshow": {
     "slide_type": "slide"
    }
   },
   "source": [
    "## [requests](https://docs.python.org/3/library/urllib.request.html)\n",
    "\n",
    "Numerous sources of information are available as freely accessible resources on servers and behind APIs. To access this data, the Python package `requests` is perfectly suited. This is how it works:"
   ]
  },
  {
   "cell_type": "code",
   "execution_count": 5,
   "metadata": {
    "slideshow": {
     "slide_type": "slide"
    }
   },
   "outputs": [],
   "source": [
    "r = requests.get('https://www.aifinanceinstitute.com/')"
   ]
  },
  {
   "cell_type": "code",
   "execution_count": 6,
   "metadata": {
    "slideshow": {
     "slide_type": "fragment"
    }
   },
   "outputs": [
    {
     "data": {
      "text/plain": [
       "200"
      ]
     },
     "execution_count": 6,
     "metadata": {},
     "output_type": "execute_result"
    }
   ],
   "source": [
    "# status of the request\n",
    "r.status_code"
   ]
  },
  {
   "cell_type": "code",
   "execution_count": 7,
   "metadata": {
    "slideshow": {
     "slide_type": "fragment"
    }
   },
   "outputs": [
    {
     "data": {
      "text/plain": [
       "'utf-8'"
      ]
     },
     "execution_count": 7,
     "metadata": {},
     "output_type": "execute_result"
    }
   ],
   "source": [
    "# encoding of strings\n",
    "r.encoding"
   ]
  },
  {
   "cell_type": "code",
   "execution_count": 8,
   "metadata": {
    "slideshow": {
     "slide_type": "slide"
    }
   },
   "outputs": [
    {
     "data": {
      "text/plain": [
       "{'Cache-Control': 'no-cache', 'Pragma': 'no-cache', 'Content-Type': 'text/html; charset=utf-8', 'Content-Encoding': 'gzip', 'Expires': '-1', 'Vary': 'Accept-Encoding', 'Set-Cookie': 'dnn_IsMobile=False; path=/; HttpOnly, language=en-US; path=/; HttpOnly, .ASPXANONYMOUS=N77N0sgy21tUcuvwwGMk8HCa06iIZn5cWn72f4jySJNZi6cP6-Uja7IXDllfmlS1h8pPBzYYyTzkhVQWjfNOkKHzbNmkSLRp2Gpsir5Et5y8q5ym0; expires=Thu, 13-Oct-2022 08:15:22 GMT; path=/; HttpOnly, dnn_IsMobile=False; path=/; HttpOnly, language=en-US; path=/; HttpOnly, .ASPXANONYMOUS=N77N0sgy21tUcuvwwGMk8HCa06iIZn5cWn72f4jySJNZi6cP6-Uja7IXDllfmlS1h8pPBzYYyTzkhVQWjfNOkKHzbNmkSLRp2Gpsir5Et5y8q5ym0; expires=Thu, 13-Oct-2022 08:15:22 GMT; path=/; HttpOnly, dnn_IsMobile=False; path=/; HttpOnly, language=en-US; path=/; HttpOnly, .ASPXANONYMOUS=N77N0sgy21tUcuvwwGMk8HCa06iIZn5cWn72f4jySJNZi6cP6-Uja7IXDllfmlS1h8pPBzYYyTzkhVQWjfNOkKHzbNmkSLRp2Gpsir5Et5y8q5ym0; expires=Thu, 13-Oct-2022 08:15:22 GMT; path=/; HttpOnly, __RequestVerificationToken=9VGwWAy3_CSavnSE8Jb-GgXsRcB82RgWfaIFLHZqWgT7r6c3g0oQ-CydZ5gV_Ho1Sza8uA2; path=/; HttpOnly', 'X-UA-Compatible': 'IE=edge', 'X-XSS-Protection': '1; mode=block', 'X-Frame-Options': 'SAMEORIGIN', 'Date': 'Thu, 04 Aug 2022 21:35:22 GMT', 'Content-Length': '10759'}"
      ]
     },
     "execution_count": 8,
     "metadata": {},
     "output_type": "execute_result"
    }
   ],
   "source": [
    "# get html headers\n",
    "r.headers"
   ]
  },
  {
   "cell_type": "code",
   "execution_count": 9,
   "metadata": {
    "slideshow": {
     "slide_type": "slide"
    }
   },
   "outputs": [
    {
     "data": {
      "text/plain": [
       "['<!DOCTYPE html>\\r',\n",
       " '<html  lang=\"en-US\">\\r',\n",
       " '<head id=\"Head\"><meta content=\"text/html; charset=UTF-8\" http-equiv=\"Content-Type\" /><title>\\r',\n",
       " '\\tAIFI\\r',\n",
       " '</title><meta id=\"MetaDescription\" name=\"description\" content=\"The Artificial Intelligence Finance Institute’s (AIFI) mission is to be the world’s leading educator in the application of artificial intelligence to investment management, capital markets and risk.\" /><meta id=\"MetaRobots\" name=\"robots\" content=\"INDEX, FOLLOW\" /><link href=\"https://fonts.googleapis.com/css?family=Raleway:300,400,500,700&amp;cdv=118\" type=\"text/css\" rel=\"stylesheet\"/><link href=\"/Resources/Shared/stylesheets/dnndefault/7.0.0/default.css?cdv=118\" type=\"text/css\" rel=\"stylesheet\"/><link href=\"/DesktopModules/OpenContent/module.css?cdv=118\" type=\"text/css\" rel=\"stylesheet\"/><link href=\"/DesktopModules/OpenContent/js/lib/eonasdan-bootstrap-datetimepicker/build/css/bootstrap-datetimepicker.min.css?cdv=118\" type=\"text/css\" rel=\"stylesheet\"/><link href=\"/DesktopModules/OpenContent/js/summernote/summernote.css?cdv=118\" type=\"text/css\" rel=\"stylesheet\"/><link href=\"/Portals/_default/skins/aifi_v18/css/styles.min.css?cdv=118\" type=\"text/css\" rel=\"stylesheet\"/><script src=\"/Resources/libraries/jQuery/03_05_01/jquery.js?cdv=118\" type=\"text/javascript\"></script><script src=\"/Resources/libraries/jQuery-Migrate/03_02_00/jquery-migrate.js?cdv=118\" type=\"text/javascript\"></script><script src=\"/Resources/libraries/jQuery-UI/01_12_01/jquery-ui.js?cdv=118\" type=\"text/javascript\"></script><script src=\"/DesktopModules/OpenContent/js/lib/handlebars/handlebars.js?cdv=118\" type=\"text/javascript\"></script><script src=\"/DesktopModules/OpenContent/js/alpaca/bootstrap/alpaca.js?cdv=118\" type=\"text/javascript\"></script><script src=\"/DesktopModules/OpenContent/js/lib/moment/min/moment-with-locales.min.js?cdv=118\" type=\"text/javascript\"></script><script src=\"/DesktopModules/OpenContent/js/lib/eonasdan-bootstrap-datetimepicker/build/js/bootstrap-datetimepicker.min.js?cdv=118\" type=\"text/javascript\"></script><script src=\"/DesktopModules/OpenContent/alpaca/js/fields/dnn/DateField.js?cdv=118\" type=\"text/javascript\"></script><script src=\"/DesktopModules/OpenContent/js/summernote/summernote.js?cdv=118\" type=\"text/javascript\"></script><script src=\"/DesktopModules/OpenContent/alpaca/js/fields/dnn/SummernoteField.js?cdv=118\" type=\"text/javascript\"></script><link rel=\\'SHORTCUT ICON\\' href=\\'/Portals/0/favicon.ico?ver=yPvtaafF0sDGrIXJvZQ7yA%3d%3d\\' type=\\'image/x-icon\\' />     \\r',\n",
       " '        \\r',\n",
       " '<!-- Global site tag (gtag.js) - Google Analytics -->\\r',\n",
       " '<script async src=\"https://www.googletagmanager.com/gtag/js?id=UA-127097595-1\"></script>\\r',\n",
       " '<script>\\r',\n",
       " '  window.dataLayer = window.dataLayer || [];\\r']"
      ]
     },
     "execution_count": 9,
     "metadata": {},
     "output_type": "execute_result"
    }
   ],
   "source": [
    "# the first 10 rows of the content\n",
    "r.content.decode('utf-8').rsplit('\\n')[:10]"
   ]
  },
  {
   "cell_type": "markdown",
   "metadata": {
    "slideshow": {
     "slide_type": "slide"
    }
   },
   "source": [
    "### Download Data from URL "
   ]
  },
  {
   "cell_type": "code",
   "execution_count": 10,
   "metadata": {
    "slideshow": {
     "slide_type": "fragment"
    }
   },
   "outputs": [],
   "source": [
    "# downloading a data file from google sheets, but could be any other link to any csv file\n",
    "url = 'https://docs.google.com/spreadsheets/d/e/2PACX-1vQTGWI6Z1VUmh36xY6gum7EBo5ag0ZAqlesamHBPkzPr-8ht949aw_4kiTIgZexFJXvNoPXo53bHeef/pub?output=csv'"
   ]
  },
  {
   "cell_type": "code",
   "execution_count": 11,
   "metadata": {
    "slideshow": {
     "slide_type": "fragment"
    }
   },
   "outputs": [],
   "source": [
    "data = requests.get(url)"
   ]
  },
  {
   "cell_type": "code",
   "execution_count": 12,
   "metadata": {
    "slideshow": {
     "slide_type": "fragment"
    }
   },
   "outputs": [
    {
     "data": {
      "text/plain": [
       "200"
      ]
     },
     "execution_count": 12,
     "metadata": {},
     "output_type": "execute_result"
    }
   ],
   "source": [
    "data.status_code"
   ]
  },
  {
   "cell_type": "code",
   "execution_count": 13,
   "metadata": {
    "scrolled": true,
    "slideshow": {
     "slide_type": "slide"
    }
   },
   "outputs": [
    {
     "data": {
      "text/plain": [
       "b'ticker,date,close\\r\\nAAPL,1980-12-12,0.1014988136\\r\\nAAPL,1980-12-15,0.09620322328\\r\\nAAPL,1980-12-16,0.08914243625\\r\\nAAPL,1980-12-17,0.09133128023\\r\\nAAPL,1980-12-18,0.0940143793\\r\\nAAPL,1980-12-19,0.0997336168\\r\\nAAPL,1980-12-22,0.1046055598\\r\\nAAPL,1980-12-23,0.1090185517\\r\\nAAPL,1980-12-24,0.1147377892\\r\\nAAPL,1980-12-26,0.1253289698\\r\\nAAPL,1980-12-29,0.1270941665\\r\\nAAPL,1980-12-30,0.1239874202\\r\\nAAPL,1980-12-31,0.1204923307\\r\\nAAPL,1981-01-02,0.1217985763\\r\\nAAPL,1981-01-05,0.1191507811\\r\\nAAPL,1981-01-06,0.1138551909\\r\\nAAPL,1981-01-07,0.1090185517\\r\\nAAPL,1981-01-08,0.1067944038\\r\\nAAPL,1981-01-09,0.1125489453\\r\\nAAPL,1981-01-12,0.1116310429\\r\\nAAPL,1981-01-13,0.1076770022\\r\\nAAPL,1981-01-14,0.1081359534\\r\\nAAPL,1981-01-15,0.1103247973\\r\\nAAPL,1981-01-16,0.109442199\\r\\nAAPL,1981-01-19,0.1160440348\\r\\nAAPL,1981-01-20,0.1125489453\\r\\nAAPL,1981-01-21,0.1147377892\\r\\nAAPL,1981-01-22,0.1160440348\\r\\nAAPL,1981-01-23,0.1156203876\\r\\nAAPL,1981-01-26,0.1138551909\\r\\nAAPL,1981-01-27,0.1129725925\\r\\nAAPL,1981-01-28,0.109442199\\r\\nAAPL,1981-01-29,0.10'"
      ]
     },
     "execution_count": 13,
     "metadata": {},
     "output_type": "execute_result"
    }
   ],
   "source": [
    "data.content[:1000]"
   ]
  },
  {
   "cell_type": "code",
   "execution_count": 14,
   "metadata": {
    "slideshow": {
     "slide_type": "slide"
    }
   },
   "outputs": [
    {
     "data": {
      "text/plain": [
       "'ISO-8859-1'"
      ]
     },
     "execution_count": 14,
     "metadata": {},
     "output_type": "execute_result"
    }
   ],
   "source": [
    "data.encoding"
   ]
  },
  {
   "cell_type": "code",
   "execution_count": 15,
   "metadata": {
    "slideshow": {
     "slide_type": "slide"
    }
   },
   "outputs": [],
   "source": [
    "# write the data to a csv file (in binary form)\n",
    "with open('stock_data.csv', 'wb') as fid:\n",
    "    fid.write(data.content)"
   ]
  },
  {
   "cell_type": "code",
   "execution_count": 16,
   "metadata": {
    "slideshow": {
     "slide_type": "slide"
    }
   },
   "outputs": [],
   "source": [
    "# and read it now with pandas from the csv-file\n",
    "df = pd.read_csv(\"stock_data.csv\")"
   ]
  },
  {
   "cell_type": "code",
   "execution_count": 18,
   "metadata": {
    "slideshow": {
     "slide_type": "fragment"
    }
   },
   "outputs": [
    {
     "data": {
      "text/html": [
       "<div>\n",
       "<style scoped>\n",
       "    .dataframe tbody tr th:only-of-type {\n",
       "        vertical-align: middle;\n",
       "    }\n",
       "\n",
       "    .dataframe tbody tr th {\n",
       "        vertical-align: top;\n",
       "    }\n",
       "\n",
       "    .dataframe thead th {\n",
       "        text-align: right;\n",
       "    }\n",
       "</style>\n",
       "<table border=\"1\" class=\"dataframe\">\n",
       "  <thead>\n",
       "    <tr style=\"text-align: right;\">\n",
       "      <th></th>\n",
       "      <th>ticker</th>\n",
       "      <th>date</th>\n",
       "      <th>close</th>\n",
       "    </tr>\n",
       "  </thead>\n",
       "  <tbody>\n",
       "    <tr>\n",
       "      <th>0</th>\n",
       "      <td>AAPL</td>\n",
       "      <td>1980-12-12</td>\n",
       "      <td>0.101499</td>\n",
       "    </tr>\n",
       "    <tr>\n",
       "      <th>1</th>\n",
       "      <td>AAPL</td>\n",
       "      <td>1980-12-15</td>\n",
       "      <td>0.096203</td>\n",
       "    </tr>\n",
       "    <tr>\n",
       "      <th>2</th>\n",
       "      <td>AAPL</td>\n",
       "      <td>1980-12-16</td>\n",
       "      <td>0.089142</td>\n",
       "    </tr>\n",
       "    <tr>\n",
       "      <th>3</th>\n",
       "      <td>AAPL</td>\n",
       "      <td>1980-12-17</td>\n",
       "      <td>0.091331</td>\n",
       "    </tr>\n",
       "    <tr>\n",
       "      <th>4</th>\n",
       "      <td>AAPL</td>\n",
       "      <td>1980-12-18</td>\n",
       "      <td>0.094014</td>\n",
       "    </tr>\n",
       "  </tbody>\n",
       "</table>\n",
       "</div>"
      ],
      "text/plain": [
       "  ticker        date     close\n",
       "0   AAPL  1980-12-12  0.101499\n",
       "1   AAPL  1980-12-15  0.096203\n",
       "2   AAPL  1980-12-16  0.089142\n",
       "3   AAPL  1980-12-17  0.091331\n",
       "4   AAPL  1980-12-18  0.094014"
      ]
     },
     "execution_count": 18,
     "metadata": {},
     "output_type": "execute_result"
    }
   ],
   "source": [
    "df.head()"
   ]
  },
  {
   "cell_type": "markdown",
   "metadata": {
    "slideshow": {
     "slide_type": "slide"
    }
   },
   "source": [
    "### API-Access \n",
    "\n",
    "**Example:** [https://lyricsovh.docs.apiary.io](https://lyricsovh.docs.apiary.io)"
   ]
  },
  {
   "cell_type": "code",
   "execution_count": 19,
   "metadata": {
    "slideshow": {
     "slide_type": "fragment"
    }
   },
   "outputs": [],
   "source": [
    "lyrics = requests.get('https://api.lyrics.ovh/v1/coldplay/yellow')"
   ]
  },
  {
   "cell_type": "code",
   "execution_count": 20,
   "metadata": {
    "slideshow": {
     "slide_type": "fragment"
    }
   },
   "outputs": [
    {
     "data": {
      "text/plain": [
       "200"
      ]
     },
     "execution_count": 20,
     "metadata": {},
     "output_type": "execute_result"
    }
   ],
   "source": [
    "lyrics.status_code"
   ]
  },
  {
   "cell_type": "code",
   "execution_count": 21,
   "metadata": {
    "slideshow": {
     "slide_type": "slide"
    }
   },
   "outputs": [
    {
     "data": {
      "text/plain": [
       "b'{\"lyrics\":\"Paroles de la chanson Yellow par Coldplay\\\\r\\\\n[Chris Martin]\\\\nLook at the stars\\\\nLook how they shine for you\\\\nAnd everything you do\\\\nYeah, they were all yellow\\\\nI came along\\\\nI wrote a song for you\\\\nAnd all the things you do\\\\nAnd it was called \\\\\"Yellow\\\\\"\\\\nSo then I took my turn\\\\nOh, what a thing to have done\\\\nAnd it was all yellow\\\\n\\\\n[Chris, Jonny & Will]\\\\n(Aah) Your skin, oh yeah, your skin and bones\\\\n(Ooh) Turn into something beautiful\\\\n\\\\n(Aah) You know, you know I love you so\\\\nYou know I love you so\\\\n\\\\n[Chris Martin]\\\\nI swam across\\\\nI jumped across for you\\\\nOh, what a thing to do\\\\n\\'Cause you were all yellow\\\\nI drew a line\\\\nI drew a line for you\\\\nOh, what a thing to do\\\\nAnd it was all yellow\\\\n\\\\n[Chris, Jonny & Will]\\\\n(Aah) Your skin, oh yeah, your skin and bones\\\\n(Ooh) Turn into something beautiful\\\\n(Aah) And you know\\\\nFor you, I\\'d bleed myself dry\\\\n\\\\nFor you, I\\'d bleed myself dry\\\\n\\\\n[ Chris Martin]\\\\nIt\\'s true, look how they shine for you\\\\nLook how they shine for you\\\\nLook how they shine for\\\\nLook how they shine for you\\\\nLook how they shine for you\\\\nLook how they shine\\\\n\\\\n[ Chris Martin]\\\\nLook at the stars\\\\nLook how they shine for you\\\\nAnd all the things that you do\"}'"
      ]
     },
     "execution_count": 21,
     "metadata": {},
     "output_type": "execute_result"
    }
   ],
   "source": [
    "lyrics.content"
   ]
  },
  {
   "cell_type": "code",
   "execution_count": 22,
   "metadata": {
    "slideshow": {
     "slide_type": "fragment"
    }
   },
   "outputs": [
    {
     "data": {
      "text/plain": [
       "'utf-8'"
      ]
     },
     "execution_count": 22,
     "metadata": {},
     "output_type": "execute_result"
    }
   ],
   "source": [
    "lyrics.encoding"
   ]
  },
  {
   "cell_type": "code",
   "execution_count": 23,
   "metadata": {
    "slideshow": {
     "slide_type": "slide"
    }
   },
   "outputs": [],
   "source": [
    "song = lyrics.content.decode('utf-8')"
   ]
  },
  {
   "cell_type": "code",
   "execution_count": 24,
   "metadata": {
    "slideshow": {
     "slide_type": "fragment"
    }
   },
   "outputs": [
    {
     "name": "stdout",
     "output_type": "stream",
     "text": [
      "Paroles de la chanson Yellow par Coldplay\n",
      "[Chris Martin]\n",
      "Look at the stars\n",
      "Look how they shine for you\n",
      "And everything you do\n",
      "Yeah, they were all yellow\n",
      "I came along\n",
      "I wrote a song for you\n",
      "And all the things you do\n",
      "And it was called \"Yellow\"\n",
      "So then I took my turn\n",
      "Oh, what a thing to have done\n",
      "And it was all yellow\n",
      "\n",
      "[Chris, Jonny & Will]\n",
      "(Aah) Your skin, oh yeah, your skin and bones\n",
      "(Ooh) Turn into something beautiful\n",
      "\n",
      "(Aah) You know, you know I love you so\n",
      "You know I love you so\n",
      "\n",
      "[Chris Martin]\n",
      " ...\n"
     ]
    }
   ],
   "source": [
    "print(json.loads(song)['lyrics'].replace('\\r', '')[:500]+' ...')"
   ]
  },
  {
   "cell_type": "markdown",
   "metadata": {
    "slideshow": {
     "slide_type": "slide"
    }
   },
   "source": [
    "## Custom Web-Crawler"
   ]
  },
  {
   "cell_type": "markdown",
   "metadata": {
    "slideshow": {
     "slide_type": "fragment"
    }
   },
   "source": [
    "the following code is a web scraping function that retrieves text content from a given URL and extracts relevant information based on a list of tags. The text content is converted from HTML to plain text using the `html2text` library, and only the text containing the relevant tags is kept. The filtered text is then appended to a Pandas DataFrame and returned as a tuple. Additionally, the code checks if the next line after the relevant text is a link, and if so, it is also appended to the filtered text."
   ]
  },
  {
   "cell_type": "code",
   "execution_count": 3,
   "metadata": {
    "slideshow": {
     "slide_type": "slide"
    }
   },
   "outputs": [],
   "source": [
    "def scrape_text_content(url):\n",
    "    cols = ['text']\n",
    "    df = pd.DataFrame(columns = cols)\n",
    "    headers = {\n",
    "    'User-Agent': 'Mozilla/5.0 (Macintosh; Intel Mac OS X 10_11_5) AppleWebKit/537.36 (KHTML, like Gecko) Chrome/50.0.2661.102 Safari/537.36'}\n",
    "    response = requests.get(url, headers=headers)\n",
    "    # Convert HTML to plain text\n",
    "    html = response.text\n",
    "    text = html2text.html2text(html)\n",
    "    # Keep only text with relevant tags\n",
    "    tags = ['iPhones', 'revenue', 'loss', 'losses']\n",
    "    filtered_text = ''\n",
    "    para_split = text.split('\\n\\n')\n",
    "    for i, para in enumerate(para_split):\n",
    "        if any(tag in para for tag in tags):\n",
    "            df = df.append({'text': para},ignore_index=True)\n",
    "            filtered_text += para + '\\n\\n'\n",
    "            \n",
    "    # Check if the next line is a link\n",
    "    try:\n",
    "        next_line = para_split[i+3].strip()\n",
    "        print(next_line)\n",
    "        if next_line.startswith('[') and '](/' in next_line:\n",
    "            filtered_text += next_line + '\\n\\n\\n\\n'\n",
    "    except IndexError:\n",
    "        pass\n",
    "    return df, filtered_text"
   ]
  },
  {
   "cell_type": "code",
   "execution_count": 4,
   "metadata": {
    "slideshow": {
     "slide_type": "slide"
    }
   },
   "outputs": [
    {
     "name": "stdout",
     "output_type": "stream",
     "text": [
      "##  Stock pares back losses despite wide miss on revenue\n",
      "\n",
      "Apple Inc. posted its largest revenue decline in more than six years amid\n",
      "underwhelming sales of iPhones, Macs and wearables, but its shares pared back\n",
      "most of their initial losses in after-hours trading Thursday after the company\n",
      "blamed its smartphone declines on supply issues.\n",
      "\n",
      "Apple’s [AAPL, +3.71%](/investing/stock/AAPL?mod=MW_story_quote) iPhone\n",
      "revenue fell to $65.8 billion in the fiscal first quarter from $71.6 billion a\n",
      "year before, whereas analysts tracked by FactSet were looking for $67.8\n",
      "billion. The performance comes after Apple [warned in\n",
      "November](https://www.marketwatch.com/story/apple-warns-that-iphone-14-pro-\n",
      "and-pro-max-shipments-will-be-affected-by-china-production-\n",
      "issues-11667777870?mod=article_inline&mod=article_inline&mod=article_inline&mod=article_inline)\n",
      "that its iPhone 14 Pro and Pro Max shipments would be impacted by pandemic-\n",
      "fueled production constraints at a major Foxconn [2354,\n",
      "-0.18%](/investing/stock/2354?countryCode=TW&mod=MW_story_quote) facility in\n",
      "China.\n",
      "\n",
      "After reporting a [quarterly revenue record for Macs in the September\n",
      "quarter](https://www.marketwatch.com/story/apple-earnings-show-iphone-sales-\n",
      "miss-amid-questions-about-smartphone-demand-stock-\n",
      "dips-11666903283?mod=search_headline&mod=article_inline&mod=article_inline),\n",
      "Apple fell way short of those heights in the December quarter with its\n",
      "Thursday afternoon report, and the company missed expectations by a wide\n",
      "margin. Mac sales declined to $7.7 billion from $10.9 billion a year earlier,\n",
      "while analysts had been looking for $9.4 billion.\n",
      "\n",
      "Those big misses helped drive total revenue lower on the year and fueled a\n",
      "miss on the top line, despite a sizable beat in the iPad category. Overall\n",
      "revenue declined to $117.2 billion from $123.9 billion a year ago, while\n",
      "analysts were looking for $121.4 billion.\n",
      "\n",
      "Dating back to its report for the December 2017 quarter, Apple has only missed\n",
      "revenue expectations twice, according to FactSet, including one time when the\n",
      "company issued a formal warning ahead of its official results.\n",
      "\n",
      "Apple executives once again declined to provide a traditional financial\n",
      "forecast, though Chief Financial Officer Luca Maestri shared on the call that\n",
      "he expects Apple’s year-over-year revenue performance in the March quarter to\n",
      "be similar to what was seen in the December quarter. That would actually mark\n",
      "an acceleration of sorts, he said, since the December quarter benefited from\n",
      "an extra week.\n",
      "\n",
      "Within iPhones specifically, Maestri also anticipates that year-over-year\n",
      "revenue growth will accelerate.\n",
      "\n",
      "Revenue for wearables, home and accessories came in at $13.5 billion, down\n",
      "from $14.7 billion a year before and far below the $15.3 billion that analysts\n",
      "were modeling. Services revenue rose to $20.8 billion from $19.5 billion and\n",
      "beat the FactSet consensus, which was for $20.4 billion.\n",
      "\n",
      "  * [ Barron's: Tesla Stock Has Rocketed. Time to Take Some Profits. ](https://www.marketwatch.com/articles/tesla-stock-price-buy-sell-51675274324?mod=mw_more_headlines)\n",
      "  * [ Amazon stock falls as least profitable holiday quarter since 2014 leads to its worst annual loss on record ](https://www.marketwatch.com/story/amazon-stock-falls-after-earnings-miss-shows-worst-annual-loss-on-record-least-profitable-holiday-quarter-since-2014-11675372658?mod=mw_more_headlines)\n",
      "  * [ Barron's: Alphabet Stock Slides on Earnings Miss. YouTube Revenue Fell 8%. ](https://www.marketwatch.com/articles/alphabet-google-earnings-stock-price-51675289734?mod=mw_more_headlines)\n",
      "  * [ Amazon earnings: What to expect ](https://www.marketwatch.com/story/amazon-earnings-what-to-expect-11675343771?mod=mw_more_headlines)\n",
      "\n",
      "\n"
     ]
    }
   ],
   "source": [
    "url = \"https://www.marketwatch.com/story/apple-earnings-fall-short-on-underwhelming-sales-of-iphones-and-macs-11675373982?mod=home-page\"\n",
    "df, text = scrape_text_content(url)\n",
    "\n",
    "print(text)"
   ]
  }
 ],
 "metadata": {
  "celltoolbar": "Slideshow",
  "kernelspec": {
   "display_name": "Python 3 (ipykernel)",
   "language": "python",
   "name": "python3"
  },
  "language_info": {
   "codemirror_mode": {
    "name": "ipython",
    "version": 3
   },
   "file_extension": ".py",
   "mimetype": "text/x-python",
   "name": "python",
   "nbconvert_exporter": "python",
   "pygments_lexer": "ipython3",
   "version": "3.10.8"
  },
  "latex_metadata": {
   "topic": "Einf{\"u}hrung",
   "unitid": "Lerneinheit 1"
  },
  "toc": {
   "base_numbering": 1,
   "nav_menu": {},
   "number_sections": false,
   "sideBar": true,
   "skip_h1_title": false,
   "title_cell": "Table of Contents",
   "title_sidebar": "Contents",
   "toc_cell": false,
   "toc_position": {},
   "toc_section_display": true,
   "toc_window_display": false
  },
  "varInspector": {
   "cols": {
    "lenName": 16,
    "lenType": 16,
    "lenVar": 40
   },
   "kernels_config": {
    "python": {
     "delete_cmd_postfix": "",
     "delete_cmd_prefix": "del ",
     "library": "var_list.py",
     "varRefreshCmd": "print(var_dic_list())"
    },
    "r": {
     "delete_cmd_postfix": ") ",
     "delete_cmd_prefix": "rm(",
     "library": "var_list.r",
     "varRefreshCmd": "cat(var_dic_list()) "
    }
   },
   "types_to_exclude": [
    "module",
    "function",
    "builtin_function_or_method",
    "instance",
    "_Feature"
   ],
   "window_display": false
  }
 },
 "nbformat": 4,
 "nbformat_minor": 4
}
