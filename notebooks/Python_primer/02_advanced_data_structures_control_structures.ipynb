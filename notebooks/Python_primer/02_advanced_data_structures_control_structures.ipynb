{
 "cells": [
  {
   "attachments": {
    "AIFI_logo.jpg": {
     "image/jpeg": "[encoded data removed]"
    }
   },
   "cell_type": "markdown",
   "id": "innocent-suspect",
   "metadata": {
    "slideshow": {
     "slide_type": "slide"
    }
   },
   "source": [
    "![AIFI_logo.jpg](attachment:AIFI_logo.jpg)\n",
    "\n",
    "\n",
    "# Bootcamp - Python and Coding - Primer"
   ]
  },
  {
   "cell_type": "markdown",
   "id": "challenging-relative",
   "metadata": {
    "slideshow": {
     "slide_type": "skip"
    }
   },
   "source": [
    "# About this Notebook"
   ]
  },
  {
   "cell_type": "markdown",
   "id": "personal-infrastructure",
   "metadata": {
    "slideshow": {
     "slide_type": "skip"
    }
   },
   "source": [
    "This is an except of more advanced concepts in Python, such as list comprehension and functional programming. For more info, how Python does support functional programming please visit: [functional programming in Python](https://docs.python.org/3/howto/functional.html). For more infos about Pythons data structures, follow this [link](https://docs.python.org/3/tutorial/datastructures.html)."
   ]
  },
  {
   "cell_type": "markdown",
   "id": "agricultural-omega",
   "metadata": {
    "slideshow": {
     "slide_type": "skip"
    }
   },
   "source": [
    "# Imports"
   ]
  },
  {
   "cell_type": "code",
   "execution_count": 1,
   "id": "varied-tactics",
   "metadata": {
    "slideshow": {
     "slide_type": "skip"
    }
   },
   "outputs": [],
   "source": [
    "import re\n",
    "from datetime import datetime\n",
    "import numpy as np\n",
    "import itertools \n",
    "import operator"
   ]
  },
  {
   "cell_type": "markdown",
   "id": "warming-reader",
   "metadata": {
    "slideshow": {
     "slide_type": "fragment"
    }
   },
   "source": [
    "# Advanced Data Structures in Python"
   ]
  },
  {
   "cell_type": "markdown",
   "id": "failing-assurance",
   "metadata": {
    "slideshow": {
     "slide_type": "slide"
    }
   },
   "source": [
    "## List comprehensions "
   ]
  },
  {
   "cell_type": "markdown",
   "id": "labeled-configuration",
   "metadata": {
    "slideshow": {
     "slide_type": "skip"
    }
   },
   "source": [
    "A list comprehension is an interative structure in Python - and it's the \"Pythonic way\" of writing a for loop."
   ]
  },
  {
   "cell_type": "code",
   "execution_count": 2,
   "id": "rental-steal",
   "metadata": {
    "slideshow": {
     "slide_type": "fragment"
    }
   },
   "outputs": [],
   "source": [
    "# create a list\n",
    "l = [np.arange(1,5)] "
   ]
  },
  {
   "cell_type": "code",
   "execution_count": 3,
   "id": "legislative-boards",
   "metadata": {
    "slideshow": {
     "slide_type": "fragment"
    }
   },
   "outputs": [
    {
     "name": "stdout",
     "output_type": "stream",
     "text": [
      "[0, 1, 4, 9, 16]\n"
     ]
    }
   ],
   "source": [
    "# loop over the list\n",
    "squared_list = [x**2 for x in range(5)]\n",
    "print(squared_list)"
   ]
  },
  {
   "cell_type": "code",
   "execution_count": 4,
   "id": "sized-illness",
   "metadata": {
    "slideshow": {
     "slide_type": "fragment"
    }
   },
   "outputs": [
    {
     "name": "stdout",
     "output_type": "stream",
     "text": [
      "[0, 1, 2, 3, 4, 5, 6, 7, 8, 9, 10]\n"
     ]
    }
   ],
   "source": [
    "# loops needs +1\n",
    "print([n for n in range(11)])"
   ]
  },
  {
   "cell_type": "code",
   "execution_count": 5,
   "id": "twenty-better",
   "metadata": {
    "slideshow": {
     "slide_type": "fragment"
    }
   },
   "outputs": [
    {
     "name": "stdout",
     "output_type": "stream",
     "text": [
      "[0, 2, 4, 6, 8, 10]\n"
     ]
    }
   ],
   "source": [
    "# find even numbers\n",
    "even = [n for n in range(11) if n%2==0]\n",
    "print(even)"
   ]
  },
  {
   "cell_type": "markdown",
   "id": "compact-latest",
   "metadata": {
    "slideshow": {
     "slide_type": "slide"
    }
   },
   "source": [
    "## Lambda Functions"
   ]
  },
  {
   "cell_type": "markdown",
   "id": "instrumental-butler",
   "metadata": {
    "slideshow": {
     "slide_type": "skip"
    }
   },
   "source": [
    "Lambda functions are so-called anonymous functions, which in Python refers to the lambda functions."
   ]
  },
  {
   "cell_type": "code",
   "execution_count": 6,
   "id": "opposite-phoenix",
   "metadata": {
    "slideshow": {
     "slide_type": "fragment"
    }
   },
   "outputs": [
    {
     "data": {
      "text/plain": [
       "[2, 4, 8]"
      ]
     },
     "execution_count": 6,
     "metadata": {},
     "output_type": "execute_result"
    }
   ],
   "source": [
    "np.random.seed(42) \n",
    "nums = [2, 4,8]\n",
    "nums"
   ]
  },
  {
   "cell_type": "code",
   "execution_count": 7,
   "id": "recovered-newton",
   "metadata": {
    "slideshow": {
     "slide_type": "fragment"
    }
   },
   "outputs": [
    {
     "data": {
      "text/plain": [
       "[4, 16, 64]"
      ]
     },
     "execution_count": 7,
     "metadata": {},
     "output_type": "execute_result"
    }
   ],
   "source": [
    "list(map(lambda x: x**2, nums))"
   ]
  },
  {
   "cell_type": "markdown",
   "id": "cloudy-surgery",
   "metadata": {
    "slideshow": {
     "slide_type": "slide"
    }
   },
   "source": [
    "## Functional Programming"
   ]
  },
  {
   "cell_type": "code",
   "execution_count": 8,
   "id": "anonymous-failure",
   "metadata": {
    "slideshow": {
     "slide_type": "fragment"
    }
   },
   "outputs": [],
   "source": [
    "def power_3(x):\n",
    "    return x ** 3\n",
    "\n",
    "def even(x):\n",
    "    return x % 2 == 0"
   ]
  },
  {
   "cell_type": "code",
   "execution_count": 9,
   "id": "fatty-dollar",
   "metadata": {
    "slideshow": {
     "slide_type": "fragment"
    }
   },
   "outputs": [
    {
     "data": {
      "text/plain": [
       "[True, False, True, False, True, False, True, False, True, False]"
      ]
     },
     "execution_count": 9,
     "metadata": {},
     "output_type": "execute_result"
    }
   ],
   "source": [
    "list(map(even, range(10)))"
   ]
  },
  {
   "cell_type": "code",
   "execution_count": 10,
   "id": "revised-castle",
   "metadata": {
    "slideshow": {
     "slide_type": "fragment"
    }
   },
   "outputs": [
    {
     "data": {
      "text/plain": [
       "[0, 2, 4, 6, 8, 10, 12, 14]"
      ]
     },
     "execution_count": 10,
     "metadata": {},
     "output_type": "execute_result"
    }
   ],
   "source": [
    "list(filter(even, range(15)))"
   ]
  },
  {
   "cell_type": "code",
   "execution_count": 11,
   "id": "freelance-liberal",
   "metadata": {},
   "outputs": [
    {
     "data": {
      "text/plain": [
       "[True, False, True, False, True, False, True, False, True, False]"
      ]
     },
     "execution_count": 11,
     "metadata": {},
     "output_type": "execute_result"
    }
   ],
   "source": [
    "list(map(even, range(10)))"
   ]
  },
  {
   "cell_type": "code",
   "execution_count": 12,
   "id": "honest-documentation",
   "metadata": {},
   "outputs": [
    {
     "data": {
      "text/plain": [
       "[8, 64, 512]"
      ]
     },
     "execution_count": 12,
     "metadata": {},
     "output_type": "execute_result"
    }
   ],
   "source": [
    "list(map(power_3, nums))"
   ]
  },
  {
   "cell_type": "markdown",
   "id": "serious-collaboration",
   "metadata": {
    "slideshow": {
     "slide_type": "skip"
    }
   },
   "source": [
    "----"
   ]
  },
  {
   "cell_type": "markdown",
   "id": "inappropriate-reply",
   "metadata": {
    "slideshow": {
     "slide_type": "slide"
    }
   },
   "source": [
    "# Control Structures"
   ]
  },
  {
   "cell_type": "code",
   "execution_count": 13,
   "id": "falling-destruction",
   "metadata": {
    "slideshow": {
     "slide_type": "fragment"
    }
   },
   "outputs": [
    {
     "name": "stdout",
     "output_type": "stream",
     "text": [
      "2 4\n",
      "3 9\n",
      "4 16\n",
      "5 25\n",
      "6 36\n",
      "7 49\n",
      "End of loop\n"
     ]
    }
   ],
   "source": [
    "# note: loop ends at 7\n",
    "for i in range(2, 8):\n",
    "    print(i, i ** 2)\n",
    "print('End of loop')"
   ]
  },
  {
   "cell_type": "code",
   "execution_count": 14,
   "id": "internal-oxide",
   "metadata": {
    "slideshow": {
     "slide_type": "slide"
    }
   },
   "outputs": [
    {
     "name": "stdout",
     "output_type": "stream",
     "text": [
      "1 is odd\n",
      "2 is even\n",
      "3 is odd\n",
      "4 is multiple of 4\n",
      "5 is odd\n",
      "6 is even\n",
      "7 is odd\n",
      "8 is multiple of 4\n",
      "9 is odd\n"
     ]
    }
   ],
   "source": [
    "for i in range(1, 10):\n",
    "    if i % 2 != 0:  \n",
    "        print(\"%d is odd\" % i)\n",
    "    elif i % 4 == 0:\n",
    "        print(\"%d is multiple of 4\" % i)\n",
    "    else:\n",
    "        print(\"%d is even\" % i)"
   ]
  },
  {
   "cell_type": "code",
   "execution_count": 15,
   "id": "seven-soviet",
   "metadata": {
    "scrolled": true,
    "slideshow": {
     "slide_type": "slide"
    }
   },
   "outputs": [
    {
     "name": "stdout",
     "output_type": "stream",
     "text": [
      "[ 1  4  9 16]\n"
     ]
    }
   ],
   "source": [
    "for element in l:\n",
    "    print(element ** 2)"
   ]
  },
  {
   "cell_type": "code",
   "execution_count": 16,
   "id": "digital-timothy",
   "metadata": {
    "slideshow": {
     "slide_type": "fragment"
    }
   },
   "outputs": [
    {
     "name": "stdout",
     "output_type": "stream",
     "text": [
      "the number is 0\n",
      "the number is 1\n",
      "the number is 2\n",
      "the number is 3\n"
     ]
    }
   ],
   "source": [
    "i = 0\n",
    "while i < 4:\n",
    "    print('the number is %d' % i)\n",
    "    i += 1"
   ]
  },
  {
   "cell_type": "markdown",
   "id": "sharing-sudan",
   "metadata": {
    "slideshow": {
     "slide_type": "slide"
    }
   },
   "source": [
    "### Break"
   ]
  },
  {
   "cell_type": "code",
   "execution_count": 17,
   "id": "registered-quick",
   "metadata": {
    "slideshow": {
     "slide_type": "fragment"
    }
   },
   "outputs": [
    {
     "name": "stdout",
     "output_type": "stream",
     "text": [
      "Current Letter : c\n"
     ]
    }
   ],
   "source": [
    "for letter in 'AIFI Bootcamp':  \n",
    "    # break the loop as soon it sees 'c' or 'm'\n",
    "    if letter == 'c' or letter == 'm':\n",
    "         break\n",
    "print('Current Letter :', letter)"
   ]
  },
  {
   "cell_type": "markdown",
   "id": "systematic-investing",
   "metadata": {
    "slideshow": {
     "slide_type": "slide"
    }
   },
   "source": [
    "### Continue"
   ]
  },
  {
   "cell_type": "code",
   "execution_count": 18,
   "id": "unlikely-choir",
   "metadata": {
    "slideshow": {
     "slide_type": "fragment"
    }
   },
   "outputs": [
    {
     "name": "stdout",
     "output_type": "stream",
     "text": [
      "Current Letter : A\n",
      "Current Letter : I\n",
      "Current Letter : F\n",
      "Current Letter : I\n",
      "Current Letter :  \n",
      "Current Letter : B\n",
      "Current Letter : t\n",
      "Current Letter : c\n",
      "Current Letter : a\n",
      "Current Letter : p\n"
     ]
    }
   ],
   "source": [
    "# Prints all letters except 'o' and 'm'\n",
    "for letter in 'AIFI Bootcamp': \n",
    "    if letter == 'o' or letter == 'm':\n",
    "         continue\n",
    "    print ('Current Letter :', letter)\n",
    "    var = 10"
   ]
  },
  {
   "cell_type": "markdown",
   "id": "continuing-belize",
   "metadata": {
    "slideshow": {
     "slide_type": "slide"
    }
   },
   "source": [
    "### Pass"
   ]
  },
  {
   "cell_type": "code",
   "execution_count": 19,
   "id": "bridal-fifteen",
   "metadata": {
    "slideshow": {
     "slide_type": "fragment"
    }
   },
   "outputs": [
    {
     "name": "stdout",
     "output_type": "stream",
     "text": [
      "Last Letter : p\n"
     ]
    }
   ],
   "source": [
    "for letter in 'AIFI Bootcamp':\n",
    "    pass\n",
    "print ('Last Letter :', letter)"
   ]
  },
  {
   "cell_type": "markdown",
   "id": "exotic-istanbul",
   "metadata": {
    "slideshow": {
     "slide_type": "slide"
    }
   },
   "source": [
    "### Match Statement and Case Statements"
   ]
  },
  {
   "cell_type": "markdown",
   "id": "banned-google",
   "metadata": {
    "slideshow": {
     "slide_type": "skip"
    }
   },
   "source": [
    "In this example, the `predict_stock_price` function takes in a `stock_ticker` and `model_type` as input. The `model_type` input is first checked to ensure it is a valid option, otherwise a `ValueError` is raised. The function then retrieves the stock data for the given `stock_ticker` using the `fetch_stock_data` function (assumed to exist).\n",
    "\n",
    "Next, a `match statement` is used to determine which type of model to use for making the prediction. Based on the `model_type` input, the appropriate model is instantiated from a `scikit-learn` class (e.g. LinearRegression, DecisionTreeRegressor, etc. we just assuming, we have imported it). The model is then fit to the stock data and used to make a prediction. The prediction is returned as the result of the function."
   ]
  },
  {
   "cell_type": "code",
   "execution_count": 20,
   "id": "ideal-tennessee",
   "metadata": {
    "slideshow": {
     "slide_type": "fragment"
    }
   },
   "outputs": [],
   "source": [
    "def predict_stock_price(stock_ticker, model_type):\n",
    "    if model_type not in ['linear regression', 'decision tree', 'random forest', 'neural network']:\n",
    "        raise ValueError(\"Invalid model type\")\n",
    "\n",
    "    stock_data = fetch_stock_data(stock_ticker) # retrieve data for the given stock ticker\n",
    "\n",
    "    match model_type:\n",
    "        case 'linear regression':\n",
    "            model = LinearRegression()\n",
    "        case 'decision tree':\n",
    "            model = DecisionTreeRegressor()\n",
    "        case 'random forest':\n",
    "            model = RandomForestRegressor()\n",
    "        case 'neural network':\n",
    "            model = MLPRegressor()\n",
    "\n",
    "    model.fit(stock_data['features'], stock_data['labels'])\n",
    "    prediction = model.predict(stock_data['features'])\n",
    "    return prediction"
   ]
  },
  {
   "cell_type": "markdown",
   "id": "daily-marriage",
   "metadata": {
    "slideshow": {
     "slide_type": "slide"
    }
   },
   "source": [
    "## Zip and Enumerate"
   ]
  },
  {
   "cell_type": "code",
   "execution_count": 21,
   "id": "sonic-planet",
   "metadata": {
    "slideshow": {
     "slide_type": "fragment"
    }
   },
   "outputs": [
    {
     "name": "stdout",
     "output_type": "stream",
     "text": [
      "0 AAPL 148.47\n",
      "1 AMZN 110.63\n",
      "2 NVDA 153.72\n"
     ]
    }
   ],
   "source": [
    "# Enumerate() method adds a counter to an iterable and returns it in a form of an enumerating object.\n",
    "# The zip() function takes iterables, aggregates them in a tuple, and returns it.\n",
    "ticker = ['AAPL', 'AMZN', 'NVDA']\n",
    "value = [148.47, 110.63, 153.72]\n",
    "\n",
    "for i, (ticker, value) in enumerate(zip(ticker, value)):\n",
    "    print(i, ticker, value)"
   ]
  },
  {
   "cell_type": "markdown",
   "id": "favorite-enlargement",
   "metadata": {
    "slideshow": {
     "slide_type": "slide"
    }
   },
   "source": [
    "## Itertools"
   ]
  },
  {
   "cell_type": "code",
   "execution_count": 22,
   "id": "female-praise",
   "metadata": {
    "slideshow": {
     "slide_type": "fragment"
    }
   },
   "outputs": [
    {
     "name": "stdout",
     "output_type": "stream",
     "text": [
      "0 7 14 21 28 35 "
     ]
    }
   ],
   "source": [
    "# for in loop\n",
    "for i in itertools.count(0, 7):\n",
    "    if i == 42:\n",
    "        break\n",
    "    else:\n",
    "        print(i, end =\" \")"
   ]
  },
  {
   "cell_type": "code",
   "execution_count": 23,
   "id": "serious-locking",
   "metadata": {
    "slideshow": {
     "slide_type": "fragment"
    }
   },
   "outputs": [
    {
     "name": "stdout",
     "output_type": "stream",
     "text": [
      "The sum after each iteration is : [1, 5, 10, 17]\n",
      "The product after each iteration is : [1, 4, 20, 140]\n"
     ]
    }
   ],
   "source": [
    "# initializing list\n",
    "l = [1, 4, 5, 7]\n",
    "\n",
    "# using accumulate()\n",
    "# prints the successive summation of elements\n",
    "print (\"The sum after each iteration is : \", end =\"\")\n",
    "print (list(itertools.accumulate(l)))\n",
    "\n",
    "\n",
    "# using accumulate()\n",
    "# prints the successive multiplication of elements\n",
    "print (\"The product after each iteration is : \", end =\"\")\n",
    "print (list(itertools.accumulate(l, operator.mul)))"
   ]
  },
  {
   "cell_type": "markdown",
   "id": "intensive-addition",
   "metadata": {
    "slideshow": {
     "slide_type": "skip"
    }
   },
   "source": [
    "___"
   ]
  },
  {
   "cell_type": "markdown",
   "id": "gentle-notion",
   "metadata": {
    "slideshow": {
     "slide_type": "slide"
    }
   },
   "source": [
    "# String Manipulation and Printing"
   ]
  },
  {
   "cell_type": "markdown",
   "id": "affected-forestry",
   "metadata": {
    "slideshow": {
     "slide_type": "slide"
    }
   },
   "source": [
    "## Regex"
   ]
  },
  {
   "cell_type": "code",
   "execution_count": 24,
   "id": "external-speaker",
   "metadata": {
    "slideshow": {
     "slide_type": "fragment"
    }
   },
   "outputs": [],
   "source": [
    "data = \"\"\"\n",
    "'08/08/2022 08:00:00', 100, '1st';\n",
    "'08/08/2022 11:30:00', 110, '2nd';\n",
    "'08/08/2022 12:00:00', 120, '3rd'\n",
    "\"\"\""
   ]
  },
  {
   "cell_type": "code",
   "execution_count": 25,
   "id": "elegant-private",
   "metadata": {
    "slideshow": {
     "slide_type": "fragment"
    },
    "uuid": "b62df3db-51da-4bd5-8abe-f536296c756e"
   },
   "outputs": [],
   "source": [
    "dt = re.compile(\"'[0-9/:\\s]+'\")  # datetime"
   ]
  },
  {
   "cell_type": "code",
   "execution_count": 26,
   "id": "capital-precipitation",
   "metadata": {
    "slideshow": {
     "slide_type": "fragment"
    },
    "uuid": "02dd3264-3090-4607-a0d9-568d12093158"
   },
   "outputs": [
    {
     "data": {
      "text/plain": [
       "[\"'08/08/2022 08:00:00'\", \"'08/08/2022 11:30:00'\", \"'08/08/2022 12:00:00'\"]"
      ]
     },
     "execution_count": 26,
     "metadata": {},
     "output_type": "execute_result"
    }
   ],
   "source": [
    "result = dt.findall(data)\n",
    "result"
   ]
  },
  {
   "cell_type": "code",
   "execution_count": 27,
   "id": "earned-affect",
   "metadata": {
    "slideshow": {
     "slide_type": "fragment"
    },
    "uuid": "ec54f07e-c507-437e-b5ec-6bd4f6d1e9f8"
   },
   "outputs": [
    {
     "data": {
      "text/plain": [
       "datetime.datetime(2022, 8, 8, 8, 0)"
      ]
     },
     "execution_count": 27,
     "metadata": {},
     "output_type": "execute_result"
    }
   ],
   "source": [
    "pydt = datetime.strptime(result[0].replace(\"'\", \"\"),\n",
    "                         '%m/%d/%Y %H:%M:%S')\n",
    "pydt"
   ]
  },
  {
   "cell_type": "code",
   "execution_count": 28,
   "id": "exterior-persian",
   "metadata": {
    "slideshow": {
     "slide_type": "fragment"
    },
    "uuid": "28c72cd0-7efb-43b6-8dae-c48f034c154e"
   },
   "outputs": [
    {
     "name": "stdout",
     "output_type": "stream",
     "text": [
      "2022-08-08 08:00:00\n"
     ]
    }
   ],
   "source": [
    "print(pydt)"
   ]
  },
  {
   "cell_type": "code",
   "execution_count": 29,
   "id": "fixed-calibration",
   "metadata": {
    "slideshow": {
     "slide_type": "fragment"
    },
    "uuid": "d166e305-a9ab-4d28-ac04-ee6016035b88"
   },
   "outputs": [
    {
     "name": "stdout",
     "output_type": "stream",
     "text": [
      "<class 'datetime.datetime'>\n"
     ]
    }
   ],
   "source": [
    "print(type(pydt))"
   ]
  },
  {
   "cell_type": "markdown",
   "id": "military-algeria",
   "metadata": {
    "slideshow": {
     "slide_type": "slide"
    }
   },
   "source": [
    "## Printing Strings and Numbers"
   ]
  },
  {
   "cell_type": "code",
   "execution_count": 30,
   "id": "touched-contact",
   "metadata": {
    "slideshow": {
     "slide_type": "fragment"
    }
   },
   "outputs": [
    {
     "name": "stdout",
     "output_type": "stream",
     "text": [
      "This is an integer 42\n"
     ]
    }
   ],
   "source": [
    "print('This is an integer %d' % 42)"
   ]
  },
  {
   "cell_type": "code",
   "execution_count": 31,
   "id": "vulnerable-stone",
   "metadata": {
    "slideshow": {
     "slide_type": "fragment"
    }
   },
   "outputs": [
    {
     "name": "stdout",
     "output_type": "stream",
     "text": [
      "This is an integer   42\n"
     ]
    }
   ],
   "source": [
    "print('This is an integer %4d' % 42)  "
   ]
  },
  {
   "cell_type": "code",
   "execution_count": 32,
   "id": "loose-darkness",
   "metadata": {
    "slideshow": {
     "slide_type": "fragment"
    }
   },
   "outputs": [
    {
     "name": "stdout",
     "output_type": "stream",
     "text": [
      "This is an integer 0042\n"
     ]
    }
   ],
   "source": [
    "print('This is an integer %04d' % 42)  "
   ]
  },
  {
   "cell_type": "code",
   "execution_count": 33,
   "id": "complex-liberty",
   "metadata": {
    "slideshow": {
     "slide_type": "fragment"
    }
   },
   "outputs": [
    {
     "name": "stdout",
     "output_type": "stream",
     "text": [
      "This is a float 42.424200\n"
     ]
    }
   ],
   "source": [
    "print('This is a float %f' % 42.4242)  "
   ]
  },
  {
   "cell_type": "code",
   "execution_count": 34,
   "id": "human-point",
   "metadata": {},
   "outputs": [
    {
     "name": "stdout",
     "output_type": "stream",
     "text": [
      "This is a float 42.42\n"
     ]
    }
   ],
   "source": [
    "print('This is a float %.2f' % 42.4242)  "
   ]
  },
  {
   "cell_type": "code",
   "execution_count": 35,
   "id": "innovative-judges",
   "metadata": {},
   "outputs": [
    {
     "name": "stdout",
     "output_type": "stream",
     "text": [
      "This is a float 15.345600\n"
     ]
    }
   ],
   "source": [
    "print('This is a float %8f' % 15.3456)  "
   ]
  },
  {
   "cell_type": "code",
   "execution_count": 36,
   "id": "overhead-airline",
   "metadata": {},
   "outputs": [
    {
     "name": "stdout",
     "output_type": "stream",
     "text": [
      "This is a float    15.35\n"
     ]
    }
   ],
   "source": [
    "print('This is a float %8.2f' % 15.3456)  "
   ]
  },
  {
   "cell_type": "code",
   "execution_count": 37,
   "id": "agricultural-operation",
   "metadata": {},
   "outputs": [
    {
     "name": "stdout",
     "output_type": "stream",
     "text": [
      "This is a float 00015.35\n"
     ]
    }
   ],
   "source": [
    "print('This is a float %08.2f' % 15.3456)  "
   ]
  },
  {
   "cell_type": "code",
   "execution_count": 38,
   "id": "behavioral-controversy",
   "metadata": {},
   "outputs": [
    {
     "name": "stdout",
     "output_type": "stream",
     "text": [
      "This is a string Python\n"
     ]
    }
   ],
   "source": [
    "print('This is a string %s' % 'Python') "
   ]
  },
  {
   "cell_type": "code",
   "execution_count": 39,
   "id": "beneficial-louisville",
   "metadata": {},
   "outputs": [
    {
     "name": "stdout",
     "output_type": "stream",
     "text": [
      "This is a string     Python\n"
     ]
    }
   ],
   "source": [
    "print('This is a string %10s' % 'Python')  "
   ]
  },
  {
   "cell_type": "markdown",
   "id": "associate-earth",
   "metadata": {
    "slideshow": {
     "slide_type": "slide"
    }
   },
   "source": [
    "### .format"
   ]
  },
  {
   "cell_type": "code",
   "execution_count": 40,
   "id": "backed-young",
   "metadata": {
    "slideshow": {
     "slide_type": "fragment"
    }
   },
   "outputs": [
    {
     "name": "stdout",
     "output_type": "stream",
     "text": [
      "This is an integer 42\n"
     ]
    }
   ],
   "source": [
    "num = 42\n",
    "print('This is an integer {:d}'.format(num))"
   ]
  },
  {
   "cell_type": "code",
   "execution_count": 41,
   "id": "continuing-aggregate",
   "metadata": {
    "slideshow": {
     "slide_type": "fragment"
    }
   },
   "outputs": [
    {
     "name": "stdout",
     "output_type": "stream",
     "text": [
      "This is an integer   42\n"
     ]
    }
   ],
   "source": [
    "print('This is an integer {:4d}'.format(num))"
   ]
  },
  {
   "cell_type": "code",
   "execution_count": 42,
   "id": "chemical-surfing",
   "metadata": {
    "slideshow": {
     "slide_type": "fragment"
    }
   },
   "outputs": [
    {
     "name": "stdout",
     "output_type": "stream",
     "text": [
      "This is an integer 0042\n"
     ]
    }
   ],
   "source": [
    "print('This is an integer {:04d}'.format(num))"
   ]
  },
  {
   "cell_type": "code",
   "execution_count": 43,
   "id": "advance-chamber",
   "metadata": {
    "slideshow": {
     "slide_type": "fragment"
    }
   },
   "outputs": [
    {
     "name": "stdout",
     "output_type": "stream",
     "text": [
      "This is a float 42.424200\n"
     ]
    }
   ],
   "source": [
    "floating_num = 42.4242\n",
    "print('This is a float {:f}'.format(floating_num))"
   ]
  },
  {
   "cell_type": "code",
   "execution_count": 44,
   "id": "immediate-drunk",
   "metadata": {
    "slideshow": {
     "slide_type": "fragment"
    }
   },
   "outputs": [
    {
     "name": "stdout",
     "output_type": "stream",
     "text": [
      "This is a float 42.42\n"
     ]
    }
   ],
   "source": [
    "print('This is a float {:.2f}'.format(floating_num))"
   ]
  },
  {
   "cell_type": "code",
   "execution_count": 45,
   "id": "boxed-absorption",
   "metadata": {
    "slideshow": {
     "slide_type": "skip"
    }
   },
   "outputs": [
    {
     "name": "stdout",
     "output_type": "stream",
     "text": [
      "This is a float 42.424200\n"
     ]
    }
   ],
   "source": [
    "print('This is a float {:8f}'.format(floating_num))"
   ]
  },
  {
   "cell_type": "code",
   "execution_count": 46,
   "id": "alert-casino",
   "metadata": {
    "slideshow": {
     "slide_type": "skip"
    }
   },
   "outputs": [
    {
     "name": "stdout",
     "output_type": "stream",
     "text": [
      "This is a float    42.42\n"
     ]
    }
   ],
   "source": [
    "print('This is a float {:8.2f}'.format(floating_num))"
   ]
  },
  {
   "cell_type": "code",
   "execution_count": 47,
   "id": "guilty-scholarship",
   "metadata": {
    "slideshow": {
     "slide_type": "skip"
    }
   },
   "outputs": [
    {
     "name": "stdout",
     "output_type": "stream",
     "text": [
      "This is a float 00042.42\n"
     ]
    }
   ],
   "source": [
    "print('This is a float {:08.2f}'.format(floating_num))"
   ]
  },
  {
   "cell_type": "code",
   "execution_count": 48,
   "id": "portable-premiere",
   "metadata": {
    "slideshow": {
     "slide_type": "fragment"
    }
   },
   "outputs": [
    {
     "name": "stdout",
     "output_type": "stream",
     "text": [
      "This is an int: 42 and this is a float: 42.4242\n"
     ]
    }
   ],
   "source": [
    "# using several variables for printing\n",
    "print('This is an int: {} and this is a float: {}'.format(num,floating_num))"
   ]
  },
  {
   "cell_type": "code",
   "execution_count": 49,
   "id": "worth-hollywood",
   "metadata": {
    "slideshow": {
     "slide_type": "skip"
    }
   },
   "outputs": [
    {
     "data": {
      "text/plain": [
       "'This is a string Python'"
      ]
     },
     "execution_count": 49,
     "metadata": {},
     "output_type": "execute_result"
    }
   ],
   "source": [
    "'This is a string {:s}'.format('Python')"
   ]
  },
  {
   "cell_type": "code",
   "execution_count": 50,
   "id": "level-basket",
   "metadata": {
    "slideshow": {
     "slide_type": "skip"
    }
   },
   "outputs": [
    {
     "data": {
      "text/plain": [
       "'This is a string Python    '"
      ]
     },
     "execution_count": 50,
     "metadata": {},
     "output_type": "execute_result"
    }
   ],
   "source": [
    "# fill in some space at the end\n",
    "'This is a string {:10s}'.format('Python')"
   ]
  }
 ],
 "metadata": {
  "celltoolbar": "Slideshow",
  "kernelspec": {
   "display_name": "Python 3 (ipykernel)",
   "language": "python",
   "name": "python3"
  },
  "language_info": {
   "codemirror_mode": {
    "name": "ipython",
    "version": 3
   },
   "file_extension": ".py",
   "mimetype": "text/x-python",
   "name": "python",
   "nbconvert_exporter": "python",
   "pygments_lexer": "ipython3",
   "version": "3.10.8"
  },
  "toc": {
   "base_numbering": 1,
   "nav_menu": {},
   "number_sections": false,
   "sideBar": true,
   "skip_h1_title": false,
   "title_cell": "Table of Contents",
   "title_sidebar": "Contents",
   "toc_cell": false,
   "toc_position": {},
   "toc_section_display": true,
   "toc_window_display": false
  },
  "varInspector": {
   "cols": {
    "lenName": 16,
    "lenType": 16,
    "lenVar": 40
   },
   "kernels_config": {
    "python": {
     "delete_cmd_postfix": "",
     "delete_cmd_prefix": "del ",
     "library": "var_list.py",
     "varRefreshCmd": "print(var_dic_list())"
    },
    "r": {
     "delete_cmd_postfix": ") ",
     "delete_cmd_prefix": "rm(",
     "library": "var_list.r",
     "varRefreshCmd": "cat(var_dic_list()) "
    }
   },
   "types_to_exclude": [
    "module",
    "function",
    "builtin_function_or_method",
    "instance",
    "_Feature"
   ],
   "window_display": false
  }
 },
 "nbformat": 4,
 "nbformat_minor": 5
}
