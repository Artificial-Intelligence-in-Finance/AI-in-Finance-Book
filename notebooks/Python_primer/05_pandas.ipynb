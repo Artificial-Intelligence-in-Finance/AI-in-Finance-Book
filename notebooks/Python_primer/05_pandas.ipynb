{
 "cells": [
  {
   "attachments": {
    "AIFI_logo.jpg": {
     "image/jpeg": "[encoded data removed]"
    }
   },
   "cell_type": "markdown",
   "metadata": {
    "slideshow": {
     "slide_type": "slide"
    }
   },
   "source": [
    "![AIFI_logo.jpg](attachment:AIFI_logo.jpg)\n",
    "\n",
    "\n",
    "# Bootcamp - Python and Coding - Primer"
   ]
  },
  {
   "cell_type": "markdown",
   "metadata": {
    "slideshow": {
     "slide_type": "fragment"
    }
   },
   "source": [
    "# Data Analysis with pandas"
   ]
  },
  {
   "cell_type": "markdown",
   "metadata": {
    "slideshow": {
     "slide_type": "skip"
    }
   },
   "source": [
    "# About this Notebook"
   ]
  },
  {
   "cell_type": "markdown",
   "metadata": {
    "slideshow": {
     "slide_type": "skip"
    }
   },
   "source": [
    "pandas is a fast, powerful, flexible and easy-to-use open source tool for data analysis and manipulation,\n",
    "which is built on the Python programming language. This notebook provides a brief introduction to the most commonly used operations performed with pandas. pandas comes with a comprehensive [user guide](https://pandas.pydata.org/docs/user_guide/index.html) that contains numerous examples."
   ]
  },
  {
   "cell_type": "markdown",
   "metadata": {
    "slideshow": {
     "slide_type": "slide"
    }
   },
   "source": [
    "## pandas Basics"
   ]
  },
  {
   "cell_type": "markdown",
   "metadata": {
    "slideshow": {
     "slide_type": "fragment"
    }
   },
   "source": [
    "### First Steps with DataFrame Class"
   ]
  },
  {
   "cell_type": "markdown",
   "metadata": {
    "slideshow": {
     "slide_type": "skip"
    }
   },
   "source": [
    "# Imports"
   ]
  },
  {
   "cell_type": "code",
   "execution_count": 1,
   "metadata": {
    "slideshow": {
     "slide_type": "skip"
    },
    "uuid": "eda2a742-134d-4d47-8b30-557b846b9bb3"
   },
   "outputs": [],
   "source": [
    "# standard imports\n",
    "import pandas as pd \n",
    "import numpy as np\n",
    "\n",
    "# for downloading stocks\n",
    "import yfinance as yf\n",
    "\n",
    "# imports for plotting\n",
    "import seaborn as sns\n",
    "from pylab import plt, mpl \n",
    "\n",
    "#ignore warnings\n",
    "import warnings\n",
    "warnings.filterwarnings(action='ignore')"
   ]
  },
  {
   "cell_type": "code",
   "execution_count": 2,
   "metadata": {
    "slideshow": {
     "slide_type": "skip"
    }
   },
   "outputs": [],
   "source": [
    "# custom styled plotting settings\n",
    "\n",
    "%matplotlib inline\n",
    "#sns.set_style('whitegrid', {'axes.facecolor': '.95'})\n",
    "plt.style.use('../../custom_plot_style.mplstyle') # use the custom style sheet\n",
    "\n",
    "# use custom styed font and image settings \n",
    "mpl.rcParams['font.family'] = 'sans-serif' \n",
    "mpl.rcParams['font.sans-serif'] = ['Tahoma']\n",
    "%config InlineBackend.figure_format = 'svg'"
   ]
  },
  {
   "cell_type": "code",
   "execution_count": 3,
   "metadata": {
    "slideshow": {
     "slide_type": "slide"
    }
   },
   "outputs": [
    {
     "data": {
      "text/html": [
       "<div>\n",
       "<style scoped>\n",
       "    .dataframe tbody tr th:only-of-type {\n",
       "        vertical-align: middle;\n",
       "    }\n",
       "\n",
       "    .dataframe tbody tr th {\n",
       "        vertical-align: top;\n",
       "    }\n",
       "\n",
       "    .dataframe thead th {\n",
       "        text-align: right;\n",
       "    }\n",
       "</style>\n",
       "<table border=\"1\" class=\"dataframe\">\n",
       "  <thead>\n",
       "    <tr style=\"text-align: right;\">\n",
       "      <th></th>\n",
       "      <th>nums</th>\n",
       "    </tr>\n",
       "  </thead>\n",
       "  <tbody>\n",
       "    <tr>\n",
       "      <th>a</th>\n",
       "      <td>12</td>\n",
       "    </tr>\n",
       "    <tr>\n",
       "      <th>b</th>\n",
       "      <td>22</td>\n",
       "    </tr>\n",
       "    <tr>\n",
       "      <th>c</th>\n",
       "      <td>32</td>\n",
       "    </tr>\n",
       "    <tr>\n",
       "      <th>d</th>\n",
       "      <td>42</td>\n",
       "    </tr>\n",
       "  </tbody>\n",
       "</table>\n",
       "</div>"
      ],
      "text/plain": [
       "   nums\n",
       "a    12\n",
       "b    22\n",
       "c    32\n",
       "d    42"
      ]
     },
     "execution_count": 3,
     "metadata": {},
     "output_type": "execute_result"
    }
   ],
   "source": [
    "df = pd.DataFrame([12, 22, 32, 42],  \n",
    "                  columns=['nums'],  \n",
    "                  index=['a', 'b', 'c', 'd']) \n",
    "\n",
    "# display data frame\n",
    "df  "
   ]
  },
  {
   "cell_type": "code",
   "execution_count": 4,
   "metadata": {
    "slideshow": {
     "slide_type": "fragment"
    },
    "uuid": "47b70a7b-710f-4c40-9a70-b09db7af1a12"
   },
   "outputs": [
    {
     "data": {
      "text/plain": [
       "Index(['a', 'b', 'c', 'd'], dtype='object')"
      ]
     },
     "execution_count": 4,
     "metadata": {},
     "output_type": "execute_result"
    }
   ],
   "source": [
    "# get index\n",
    "df.index  "
   ]
  },
  {
   "cell_type": "code",
   "execution_count": 5,
   "metadata": {
    "slideshow": {
     "slide_type": "fragment"
    },
    "uuid": "a36c6695-520d-4df1-a6fa-5f8362af37a3"
   },
   "outputs": [
    {
     "data": {
      "text/plain": [
       "Index(['nums'], dtype='object')"
      ]
     },
     "execution_count": 5,
     "metadata": {},
     "output_type": "execute_result"
    }
   ],
   "source": [
    "# display colums in data frame\n",
    "df.columns  "
   ]
  },
  {
   "cell_type": "code",
   "execution_count": 6,
   "metadata": {
    "slideshow": {
     "slide_type": "slide"
    },
    "uuid": "c93aed37-21de-429d-86ed-9849e4c3e23c"
   },
   "outputs": [
    {
     "data": {
      "text/plain": [
       "nums    32\n",
       "Name: c, dtype: int64"
      ]
     },
     "execution_count": 6,
     "metadata": {},
     "output_type": "execute_result"
    }
   ],
   "source": [
    "# get entry on index c\n",
    "df.loc['c']  "
   ]
  },
  {
   "cell_type": "code",
   "execution_count": 7,
   "metadata": {
    "slideshow": {
     "slide_type": "fragment"
    },
    "uuid": "8c7c2f69-3673-40d9-a568-0471c629810d"
   },
   "outputs": [
    {
     "data": {
      "text/html": [
       "<div>\n",
       "<style scoped>\n",
       "    .dataframe tbody tr th:only-of-type {\n",
       "        vertical-align: middle;\n",
       "    }\n",
       "\n",
       "    .dataframe tbody tr th {\n",
       "        vertical-align: top;\n",
       "    }\n",
       "\n",
       "    .dataframe thead th {\n",
       "        text-align: right;\n",
       "    }\n",
       "</style>\n",
       "<table border=\"1\" class=\"dataframe\">\n",
       "  <thead>\n",
       "    <tr style=\"text-align: right;\">\n",
       "      <th></th>\n",
       "      <th>nums</th>\n",
       "    </tr>\n",
       "  </thead>\n",
       "  <tbody>\n",
       "    <tr>\n",
       "      <th>a</th>\n",
       "      <td>12</td>\n",
       "    </tr>\n",
       "    <tr>\n",
       "      <th>d</th>\n",
       "      <td>42</td>\n",
       "    </tr>\n",
       "  </tbody>\n",
       "</table>\n",
       "</div>"
      ],
      "text/plain": [
       "   nums\n",
       "a    12\n",
       "d    42"
      ]
     },
     "execution_count": 7,
     "metadata": {},
     "output_type": "execute_result"
    }
   ],
   "source": [
    "# get entry on index a and d\n",
    "df.loc[['a', 'd']]  "
   ]
  },
  {
   "cell_type": "code",
   "execution_count": 8,
   "metadata": {
    "slideshow": {
     "slide_type": "fragment"
    },
    "uuid": "c3ce0cc3-26e8-4256-ab8c-9a2d4b181633"
   },
   "outputs": [
    {
     "data": {
      "text/html": [
       "<div>\n",
       "<style scoped>\n",
       "    .dataframe tbody tr th:only-of-type {\n",
       "        vertical-align: middle;\n",
       "    }\n",
       "\n",
       "    .dataframe tbody tr th {\n",
       "        vertical-align: top;\n",
       "    }\n",
       "\n",
       "    .dataframe thead th {\n",
       "        text-align: right;\n",
       "    }\n",
       "</style>\n",
       "<table border=\"1\" class=\"dataframe\">\n",
       "  <thead>\n",
       "    <tr style=\"text-align: right;\">\n",
       "      <th></th>\n",
       "      <th>nums</th>\n",
       "    </tr>\n",
       "  </thead>\n",
       "  <tbody>\n",
       "    <tr>\n",
       "      <th>b</th>\n",
       "      <td>22</td>\n",
       "    </tr>\n",
       "    <tr>\n",
       "      <th>c</th>\n",
       "      <td>32</td>\n",
       "    </tr>\n",
       "  </tbody>\n",
       "</table>\n",
       "</div>"
      ],
      "text/plain": [
       "   nums\n",
       "b    22\n",
       "c    32"
      ]
     },
     "execution_count": 8,
     "metadata": {},
     "output_type": "execute_result"
    }
   ],
   "source": [
    "df.iloc[1:3]  "
   ]
  },
  {
   "cell_type": "code",
   "execution_count": 9,
   "metadata": {
    "slideshow": {
     "slide_type": "slide"
    },
    "uuid": "94b1d846-63df-49f4-8a7f-8fed03e5f4fa"
   },
   "outputs": [
    {
     "data": {
      "text/plain": [
       "108"
      ]
     },
     "execution_count": 9,
     "metadata": {},
     "output_type": "execute_result"
    }
   ],
   "source": [
    "# sum numbers up\n",
    "df['nums'].sum()  "
   ]
  },
  {
   "cell_type": "code",
   "execution_count": 10,
   "metadata": {
    "slideshow": {
     "slide_type": "fragment"
    },
    "uuid": "4e73eb4f-352d-4527-b0c5-4f3a6e7eb354"
   },
   "outputs": [
    {
     "data": {
      "text/html": [
       "<div>\n",
       "<style scoped>\n",
       "    .dataframe tbody tr th:only-of-type {\n",
       "        vertical-align: middle;\n",
       "    }\n",
       "\n",
       "    .dataframe tbody tr th {\n",
       "        vertical-align: top;\n",
       "    }\n",
       "\n",
       "    .dataframe thead th {\n",
       "        text-align: right;\n",
       "    }\n",
       "</style>\n",
       "<table border=\"1\" class=\"dataframe\">\n",
       "  <thead>\n",
       "    <tr style=\"text-align: right;\">\n",
       "      <th></th>\n",
       "      <th>nums</th>\n",
       "    </tr>\n",
       "  </thead>\n",
       "  <tbody>\n",
       "    <tr>\n",
       "      <th>a</th>\n",
       "      <td>144</td>\n",
       "    </tr>\n",
       "    <tr>\n",
       "      <th>b</th>\n",
       "      <td>484</td>\n",
       "    </tr>\n",
       "    <tr>\n",
       "      <th>c</th>\n",
       "      <td>1024</td>\n",
       "    </tr>\n",
       "    <tr>\n",
       "      <th>d</th>\n",
       "      <td>1764</td>\n",
       "    </tr>\n",
       "  </tbody>\n",
       "</table>\n",
       "</div>"
      ],
      "text/plain": [
       "   nums\n",
       "a   144\n",
       "b   484\n",
       "c  1024\n",
       "d  1764"
      ]
     },
     "execution_count": 10,
     "metadata": {},
     "output_type": "execute_result"
    }
   ],
   "source": [
    "# use an anonymus function to square the numbers\n",
    "df.apply(lambda x: x ** 2)  "
   ]
  },
  {
   "cell_type": "code",
   "execution_count": 11,
   "metadata": {
    "slideshow": {
     "slide_type": "fragment"
    },
    "uuid": "75206a83-0154-4be2-88d0-7a82a190fda1"
   },
   "outputs": [
    {
     "data": {
      "text/html": [
       "<div>\n",
       "<style scoped>\n",
       "    .dataframe tbody tr th:only-of-type {\n",
       "        vertical-align: middle;\n",
       "    }\n",
       "\n",
       "    .dataframe tbody tr th {\n",
       "        vertical-align: top;\n",
       "    }\n",
       "\n",
       "    .dataframe thead th {\n",
       "        text-align: right;\n",
       "    }\n",
       "</style>\n",
       "<table border=\"1\" class=\"dataframe\">\n",
       "  <thead>\n",
       "    <tr style=\"text-align: right;\">\n",
       "      <th></th>\n",
       "      <th>nums</th>\n",
       "    </tr>\n",
       "  </thead>\n",
       "  <tbody>\n",
       "    <tr>\n",
       "      <th>a</th>\n",
       "      <td>144</td>\n",
       "    </tr>\n",
       "    <tr>\n",
       "      <th>b</th>\n",
       "      <td>484</td>\n",
       "    </tr>\n",
       "    <tr>\n",
       "      <th>c</th>\n",
       "      <td>1024</td>\n",
       "    </tr>\n",
       "    <tr>\n",
       "      <th>d</th>\n",
       "      <td>1764</td>\n",
       "    </tr>\n",
       "  </tbody>\n",
       "</table>\n",
       "</div>"
      ],
      "text/plain": [
       "   nums\n",
       "a   144\n",
       "b   484\n",
       "c  1024\n",
       "d  1764"
      ]
     },
     "execution_count": 11,
     "metadata": {},
     "output_type": "execute_result"
    }
   ],
   "source": [
    "# square entries of dataframe\n",
    "df ** 2  "
   ]
  },
  {
   "cell_type": "code",
   "execution_count": 12,
   "metadata": {
    "slideshow": {
     "slide_type": "slide"
    }
   },
   "outputs": [
    {
     "data": {
      "text/html": [
       "<div>\n",
       "<style scoped>\n",
       "    .dataframe tbody tr th:only-of-type {\n",
       "        vertical-align: middle;\n",
       "    }\n",
       "\n",
       "    .dataframe tbody tr th {\n",
       "        vertical-align: top;\n",
       "    }\n",
       "\n",
       "    .dataframe thead th {\n",
       "        text-align: right;\n",
       "    }\n",
       "</style>\n",
       "<table border=\"1\" class=\"dataframe\">\n",
       "  <thead>\n",
       "    <tr style=\"text-align: right;\">\n",
       "      <th></th>\n",
       "      <th>nums</th>\n",
       "      <th>floats</th>\n",
       "    </tr>\n",
       "  </thead>\n",
       "  <tbody>\n",
       "    <tr>\n",
       "      <th>a</th>\n",
       "      <td>12</td>\n",
       "      <td>1.5</td>\n",
       "    </tr>\n",
       "    <tr>\n",
       "      <th>b</th>\n",
       "      <td>22</td>\n",
       "      <td>2.5</td>\n",
       "    </tr>\n",
       "    <tr>\n",
       "      <th>c</th>\n",
       "      <td>32</td>\n",
       "      <td>3.5</td>\n",
       "    </tr>\n",
       "    <tr>\n",
       "      <th>d</th>\n",
       "      <td>42</td>\n",
       "      <td>4.5</td>\n",
       "    </tr>\n",
       "  </tbody>\n",
       "</table>\n",
       "</div>"
      ],
      "text/plain": [
       "   nums  floats\n",
       "a    12     1.5\n",
       "b    22     2.5\n",
       "c    32     3.5\n",
       "d    42     4.5"
      ]
     },
     "execution_count": 12,
     "metadata": {},
     "output_type": "execute_result"
    }
   ],
   "source": [
    "# add a new column to the dataframe\n",
    "df['floats'] = (1.5, 2.5, 3.5, 4.5)  \n",
    "df"
   ]
  },
  {
   "cell_type": "code",
   "execution_count": 13,
   "metadata": {
    "slideshow": {
     "slide_type": "fragment"
    },
    "uuid": "c49b9aea-417a-4c2b-8e27-0e8771a77c87"
   },
   "outputs": [
    {
     "data": {
      "text/plain": [
       "a    1.5\n",
       "b    2.5\n",
       "c    3.5\n",
       "d    4.5\n",
       "Name: floats, dtype: float64"
      ]
     },
     "execution_count": 13,
     "metadata": {},
     "output_type": "execute_result"
    }
   ],
   "source": [
    "# display entires of new column \n",
    "df['floats']  "
   ]
  },
  {
   "cell_type": "code",
   "execution_count": 14,
   "metadata": {
    "slideshow": {
     "slide_type": "slide"
    }
   },
   "outputs": [
    {
     "data": {
      "text/html": [
       "<div>\n",
       "<style scoped>\n",
       "    .dataframe tbody tr th:only-of-type {\n",
       "        vertical-align: middle;\n",
       "    }\n",
       "\n",
       "    .dataframe tbody tr th {\n",
       "        vertical-align: top;\n",
       "    }\n",
       "\n",
       "    .dataframe thead th {\n",
       "        text-align: right;\n",
       "    }\n",
       "</style>\n",
       "<table border=\"1\" class=\"dataframe\">\n",
       "  <thead>\n",
       "    <tr style=\"text-align: right;\">\n",
       "      <th></th>\n",
       "      <th>nums</th>\n",
       "      <th>floats</th>\n",
       "      <th>stocks</th>\n",
       "    </tr>\n",
       "  </thead>\n",
       "  <tbody>\n",
       "    <tr>\n",
       "      <th>a</th>\n",
       "      <td>12</td>\n",
       "      <td>1.5</td>\n",
       "      <td>AMNZ</td>\n",
       "    </tr>\n",
       "    <tr>\n",
       "      <th>b</th>\n",
       "      <td>22</td>\n",
       "      <td>2.5</td>\n",
       "      <td>NVIDA</td>\n",
       "    </tr>\n",
       "    <tr>\n",
       "      <th>c</th>\n",
       "      <td>32</td>\n",
       "      <td>3.5</td>\n",
       "      <td>TSLA</td>\n",
       "    </tr>\n",
       "    <tr>\n",
       "      <th>d</th>\n",
       "      <td>42</td>\n",
       "      <td>4.5</td>\n",
       "      <td>AAPL</td>\n",
       "    </tr>\n",
       "  </tbody>\n",
       "</table>\n",
       "</div>"
      ],
      "text/plain": [
       "   nums  floats stocks\n",
       "a    12     1.5   AMNZ\n",
       "b    22     2.5  NVIDA\n",
       "c    32     3.5   TSLA\n",
       "d    42     4.5   AAPL"
      ]
     },
     "execution_count": 14,
     "metadata": {},
     "output_type": "execute_result"
    }
   ],
   "source": [
    "# add new column \"stocks\"\n",
    "df['stocks'] = pd.DataFrame(['AAPL', 'AMNZ', 'NVIDA', 'TSLA'],\n",
    "                           index=['d', 'a', 'b', 'c'])  \n",
    "df"
   ]
  },
  {
   "cell_type": "code",
   "execution_count": 15,
   "metadata": {
    "slideshow": {
     "slide_type": "slide"
    },
    "uuid": "584ac18c-161f-4c7b-8ff1-1cd406fb8437"
   },
   "outputs": [
    {
     "data": {
      "text/html": [
       "<div>\n",
       "<style scoped>\n",
       "    .dataframe tbody tr th:only-of-type {\n",
       "        vertical-align: middle;\n",
       "    }\n",
       "\n",
       "    .dataframe tbody tr th {\n",
       "        vertical-align: top;\n",
       "    }\n",
       "\n",
       "    .dataframe thead th {\n",
       "        text-align: right;\n",
       "    }\n",
       "</style>\n",
       "<table border=\"1\" class=\"dataframe\">\n",
       "  <thead>\n",
       "    <tr style=\"text-align: right;\">\n",
       "      <th></th>\n",
       "      <th>nums</th>\n",
       "      <th>floats</th>\n",
       "      <th>stocks</th>\n",
       "    </tr>\n",
       "  </thead>\n",
       "  <tbody>\n",
       "    <tr>\n",
       "      <th>0</th>\n",
       "      <td>12</td>\n",
       "      <td>1.50</td>\n",
       "      <td>AMNZ</td>\n",
       "    </tr>\n",
       "    <tr>\n",
       "      <th>1</th>\n",
       "      <td>22</td>\n",
       "      <td>2.50</td>\n",
       "      <td>NVIDA</td>\n",
       "    </tr>\n",
       "    <tr>\n",
       "      <th>2</th>\n",
       "      <td>32</td>\n",
       "      <td>3.50</td>\n",
       "      <td>TSLA</td>\n",
       "    </tr>\n",
       "    <tr>\n",
       "      <th>3</th>\n",
       "      <td>42</td>\n",
       "      <td>4.50</td>\n",
       "      <td>AAPL</td>\n",
       "    </tr>\n",
       "    <tr>\n",
       "      <th>4</th>\n",
       "      <td>52</td>\n",
       "      <td>5.75</td>\n",
       "      <td>JPM</td>\n",
       "    </tr>\n",
       "  </tbody>\n",
       "</table>\n",
       "</div>"
      ],
      "text/plain": [
       "   nums  floats stocks\n",
       "0    12    1.50   AMNZ\n",
       "1    22    2.50  NVIDA\n",
       "2    32    3.50   TSLA\n",
       "3    42    4.50   AAPL\n",
       "4    52    5.75    JPM"
      ]
     },
     "execution_count": 15,
     "metadata": {},
     "output_type": "execute_result"
    }
   ],
   "source": [
    "df.append({'nums': 52, 'floats': 5.75, 'stocks': 'JPM'},\n",
    "               ignore_index=True)  "
   ]
  },
  {
   "cell_type": "code",
   "execution_count": 16,
   "metadata": {
    "slideshow": {
     "slide_type": "fragment"
    }
   },
   "outputs": [
    {
     "data": {
      "text/html": [
       "<div>\n",
       "<style scoped>\n",
       "    .dataframe tbody tr th:only-of-type {\n",
       "        vertical-align: middle;\n",
       "    }\n",
       "\n",
       "    .dataframe tbody tr th {\n",
       "        vertical-align: top;\n",
       "    }\n",
       "\n",
       "    .dataframe thead th {\n",
       "        text-align: right;\n",
       "    }\n",
       "</style>\n",
       "<table border=\"1\" class=\"dataframe\">\n",
       "  <thead>\n",
       "    <tr style=\"text-align: right;\">\n",
       "      <th></th>\n",
       "      <th>nums</th>\n",
       "      <th>floats</th>\n",
       "      <th>stocks</th>\n",
       "    </tr>\n",
       "  </thead>\n",
       "  <tbody>\n",
       "    <tr>\n",
       "      <th>a</th>\n",
       "      <td>12</td>\n",
       "      <td>1.50</td>\n",
       "      <td>AMNZ</td>\n",
       "    </tr>\n",
       "    <tr>\n",
       "      <th>b</th>\n",
       "      <td>22</td>\n",
       "      <td>2.50</td>\n",
       "      <td>NVIDA</td>\n",
       "    </tr>\n",
       "    <tr>\n",
       "      <th>c</th>\n",
       "      <td>32</td>\n",
       "      <td>3.50</td>\n",
       "      <td>TSLA</td>\n",
       "    </tr>\n",
       "    <tr>\n",
       "      <th>d</th>\n",
       "      <td>42</td>\n",
       "      <td>4.50</td>\n",
       "      <td>AAPL</td>\n",
       "    </tr>\n",
       "    <tr>\n",
       "      <th>y</th>\n",
       "      <td>100</td>\n",
       "      <td>5.75</td>\n",
       "      <td>UAL</td>\n",
       "    </tr>\n",
       "  </tbody>\n",
       "</table>\n",
       "</div>"
      ],
      "text/plain": [
       "   nums  floats stocks\n",
       "a    12    1.50   AMNZ\n",
       "b    22    2.50  NVIDA\n",
       "c    32    3.50   TSLA\n",
       "d    42    4.50   AAPL\n",
       "y   100    5.75    UAL"
      ]
     },
     "execution_count": 16,
     "metadata": {},
     "output_type": "execute_result"
    }
   ],
   "source": [
    "df = df.append(pd.DataFrame({'nums': 100, 'floats': 5.75,\n",
    "                             'stocks': 'UAL'}, index=['y',]))  \n",
    "df"
   ]
  },
  {
   "cell_type": "code",
   "execution_count": 17,
   "metadata": {
    "slideshow": {
     "slide_type": "slide"
    }
   },
   "outputs": [
    {
     "data": {
      "text/html": [
       "<div>\n",
       "<style scoped>\n",
       "    .dataframe tbody tr th:only-of-type {\n",
       "        vertical-align: middle;\n",
       "    }\n",
       "\n",
       "    .dataframe tbody tr th {\n",
       "        vertical-align: top;\n",
       "    }\n",
       "\n",
       "    .dataframe thead th {\n",
       "        text-align: right;\n",
       "    }\n",
       "</style>\n",
       "<table border=\"1\" class=\"dataframe\">\n",
       "  <thead>\n",
       "    <tr style=\"text-align: right;\">\n",
       "      <th></th>\n",
       "      <th>nums</th>\n",
       "      <th>floats</th>\n",
       "      <th>stocks</th>\n",
       "    </tr>\n",
       "  </thead>\n",
       "  <tbody>\n",
       "    <tr>\n",
       "      <th>a</th>\n",
       "      <td>12.0</td>\n",
       "      <td>1.50</td>\n",
       "      <td>AMNZ</td>\n",
       "    </tr>\n",
       "    <tr>\n",
       "      <th>b</th>\n",
       "      <td>22.0</td>\n",
       "      <td>2.50</td>\n",
       "      <td>NVIDA</td>\n",
       "    </tr>\n",
       "    <tr>\n",
       "      <th>c</th>\n",
       "      <td>32.0</td>\n",
       "      <td>3.50</td>\n",
       "      <td>TSLA</td>\n",
       "    </tr>\n",
       "    <tr>\n",
       "      <th>d</th>\n",
       "      <td>42.0</td>\n",
       "      <td>4.50</td>\n",
       "      <td>AAPL</td>\n",
       "    </tr>\n",
       "    <tr>\n",
       "      <th>y</th>\n",
       "      <td>100.0</td>\n",
       "      <td>5.75</td>\n",
       "      <td>UAL</td>\n",
       "    </tr>\n",
       "  </tbody>\n",
       "</table>\n",
       "</div>"
      ],
      "text/plain": [
       "    nums  floats stocks\n",
       "a   12.0    1.50   AMNZ\n",
       "b   22.0    2.50  NVIDA\n",
       "c   32.0    3.50   TSLA\n",
       "d   42.0    4.50   AAPL\n",
       "y  100.0    5.75    UAL"
      ]
     },
     "execution_count": 17,
     "metadata": {},
     "output_type": "execute_result"
    }
   ],
   "source": [
    "df = df.append(pd.DataFrame({'stocks': 'BAC'}, index=['z',]), sort=False)  \n",
    "\n",
    "# show first five rows, can be altered as follows: df.head(num_rows_to_show)\n",
    "df.head()"
   ]
  },
  {
   "cell_type": "code",
   "execution_count": 18,
   "metadata": {
    "slideshow": {
     "slide_type": "fragment"
    }
   },
   "outputs": [
    {
     "name": "stdout",
     "output_type": "stream",
     "text": [
      "<class 'pandas.core.frame.DataFrame'>\n",
      "Index: 6 entries, a to z\n",
      "Data columns (total 3 columns):\n",
      " #   Column  Non-Null Count  Dtype  \n",
      "---  ------  --------------  -----  \n",
      " 0   nums    5 non-null      float64\n",
      " 1   floats  5 non-null      float64\n",
      " 2   stocks  6 non-null      object \n",
      "dtypes: float64(2), object(1)\n",
      "memory usage: 192.0+ bytes\n"
     ]
    }
   ],
   "source": [
    "# general data frame info\n",
    "df.info()"
   ]
  },
  {
   "cell_type": "code",
   "execution_count": 19,
   "metadata": {
    "slideshow": {
     "slide_type": "slide"
    }
   },
   "outputs": [
    {
     "data": {
      "text/plain": [
       "nums      float64\n",
       "floats    float64\n",
       "stocks     object\n",
       "dtype: object"
      ]
     },
     "execution_count": 19,
     "metadata": {},
     "output_type": "execute_result"
    }
   ],
   "source": [
    "# show datatypes\n",
    "df.dtypes  "
   ]
  },
  {
   "cell_type": "code",
   "execution_count": 20,
   "metadata": {
    "slideshow": {
     "slide_type": "fragment"
    },
    "uuid": "3e863c7f-7875-4911-997b-6e48123dc1e5"
   },
   "outputs": [
    {
     "data": {
      "text/plain": [
       "nums      41.60\n",
       "floats     3.55\n",
       "dtype: float64"
      ]
     },
     "execution_count": 20,
     "metadata": {},
     "output_type": "execute_result"
    }
   ],
   "source": [
    "# get mean\n",
    "df[['nums', 'floats']].mean()  "
   ]
  },
  {
   "cell_type": "code",
   "execution_count": 21,
   "metadata": {
    "slideshow": {
     "slide_type": "fragment"
    },
    "uuid": "c52173a0-485d-4eb2-b6b4-407d1ff2c30e"
   },
   "outputs": [
    {
     "data": {
      "text/plain": [
       "nums      34.507970\n",
       "floats     1.662077\n",
       "dtype: float64"
      ]
     },
     "execution_count": 21,
     "metadata": {},
     "output_type": "execute_result"
    }
   ],
   "source": [
    "# get standard \n",
    "df[['nums', 'floats']].std()  "
   ]
  },
  {
   "cell_type": "markdown",
   "metadata": {
    "slideshow": {
     "slide_type": "skip"
    }
   },
   "source": [
    "### Further Steps with DataFrame Class"
   ]
  },
  {
   "cell_type": "code",
   "execution_count": 22,
   "metadata": {
    "slideshow": {
     "slide_type": "skip"
    }
   },
   "outputs": [],
   "source": [
    "np.random.seed(42)"
   ]
  },
  {
   "cell_type": "code",
   "execution_count": 23,
   "metadata": {
    "slideshow": {
     "slide_type": "skip"
    }
   },
   "outputs": [
    {
     "data": {
      "text/plain": [
       "array([[ 0.49671415, -0.1382643 ,  0.64768854,  1.52302986],\n",
       "       [-0.23415337, -0.23413696,  1.57921282,  0.76743473],\n",
       "       [-0.46947439,  0.54256004, -0.46341769, -0.46572975],\n",
       "       [ 0.24196227, -1.91328024, -1.72491783, -0.56228753],\n",
       "       [-1.01283112,  0.31424733, -0.90802408, -1.4123037 ],\n",
       "       [ 1.46564877, -0.2257763 ,  0.0675282 , -1.42474819],\n",
       "       [-0.54438272,  0.11092259, -1.15099358,  0.37569802],\n",
       "       [-0.60063869, -0.29169375, -0.60170661,  1.85227818],\n",
       "       [-0.01349722, -1.05771093,  0.82254491, -1.22084365]])"
      ]
     },
     "execution_count": 23,
     "metadata": {},
     "output_type": "execute_result"
    }
   ],
   "source": [
    "# assign random numbers\n",
    "a = np.random.standard_normal((9, 4))\n",
    "a"
   ]
  },
  {
   "cell_type": "code",
   "execution_count": 24,
   "metadata": {
    "slideshow": {
     "slide_type": "skip"
    }
   },
   "outputs": [
    {
     "data": {
      "text/html": [
       "<div>\n",
       "<style scoped>\n",
       "    .dataframe tbody tr th:only-of-type {\n",
       "        vertical-align: middle;\n",
       "    }\n",
       "\n",
       "    .dataframe tbody tr th {\n",
       "        vertical-align: top;\n",
       "    }\n",
       "\n",
       "    .dataframe thead th {\n",
       "        text-align: right;\n",
       "    }\n",
       "</style>\n",
       "<table border=\"1\" class=\"dataframe\">\n",
       "  <thead>\n",
       "    <tr style=\"text-align: right;\">\n",
       "      <th></th>\n",
       "      <th>0</th>\n",
       "      <th>1</th>\n",
       "      <th>2</th>\n",
       "      <th>3</th>\n",
       "    </tr>\n",
       "  </thead>\n",
       "  <tbody>\n",
       "    <tr>\n",
       "      <th>0</th>\n",
       "      <td>0.496714</td>\n",
       "      <td>-0.138264</td>\n",
       "      <td>0.647689</td>\n",
       "      <td>1.523030</td>\n",
       "    </tr>\n",
       "    <tr>\n",
       "      <th>1</th>\n",
       "      <td>-0.234153</td>\n",
       "      <td>-0.234137</td>\n",
       "      <td>1.579213</td>\n",
       "      <td>0.767435</td>\n",
       "    </tr>\n",
       "    <tr>\n",
       "      <th>2</th>\n",
       "      <td>-0.469474</td>\n",
       "      <td>0.542560</td>\n",
       "      <td>-0.463418</td>\n",
       "      <td>-0.465730</td>\n",
       "    </tr>\n",
       "    <tr>\n",
       "      <th>3</th>\n",
       "      <td>0.241962</td>\n",
       "      <td>-1.913280</td>\n",
       "      <td>-1.724918</td>\n",
       "      <td>-0.562288</td>\n",
       "    </tr>\n",
       "    <tr>\n",
       "      <th>4</th>\n",
       "      <td>-1.012831</td>\n",
       "      <td>0.314247</td>\n",
       "      <td>-0.908024</td>\n",
       "      <td>-1.412304</td>\n",
       "    </tr>\n",
       "  </tbody>\n",
       "</table>\n",
       "</div>"
      ],
      "text/plain": [
       "          0         1         2         3\n",
       "0  0.496714 -0.138264  0.647689  1.523030\n",
       "1 -0.234153 -0.234137  1.579213  0.767435\n",
       "2 -0.469474  0.542560 -0.463418 -0.465730\n",
       "3  0.241962 -1.913280 -1.724918 -0.562288\n",
       "4 -1.012831  0.314247 -0.908024 -1.412304"
      ]
     },
     "execution_count": 24,
     "metadata": {},
     "output_type": "execute_result"
    }
   ],
   "source": [
    "# create dataframe\n",
    "df = pd.DataFrame(a)\n",
    "df.head()"
   ]
  },
  {
   "cell_type": "code",
   "execution_count": 25,
   "metadata": {
    "slideshow": {
     "slide_type": "skip"
    }
   },
   "outputs": [],
   "source": [
    "df.columns = ['No1', 'No2', 'No3', 'No4']  "
   ]
  },
  {
   "cell_type": "code",
   "execution_count": 26,
   "metadata": {
    "slideshow": {
     "slide_type": "skip"
    },
    "uuid": "968395a4-12bc-46d2-b486-6c767abce366"
   },
   "outputs": [
    {
     "data": {
      "text/html": [
       "<div>\n",
       "<style scoped>\n",
       "    .dataframe tbody tr th:only-of-type {\n",
       "        vertical-align: middle;\n",
       "    }\n",
       "\n",
       "    .dataframe tbody tr th {\n",
       "        vertical-align: top;\n",
       "    }\n",
       "\n",
       "    .dataframe thead th {\n",
       "        text-align: right;\n",
       "    }\n",
       "</style>\n",
       "<table border=\"1\" class=\"dataframe\">\n",
       "  <thead>\n",
       "    <tr style=\"text-align: right;\">\n",
       "      <th></th>\n",
       "      <th>No1</th>\n",
       "      <th>No2</th>\n",
       "      <th>No3</th>\n",
       "      <th>No4</th>\n",
       "    </tr>\n",
       "  </thead>\n",
       "  <tbody>\n",
       "    <tr>\n",
       "      <th>0</th>\n",
       "      <td>0.496714</td>\n",
       "      <td>-0.138264</td>\n",
       "      <td>0.647689</td>\n",
       "      <td>1.523030</td>\n",
       "    </tr>\n",
       "    <tr>\n",
       "      <th>1</th>\n",
       "      <td>-0.234153</td>\n",
       "      <td>-0.234137</td>\n",
       "      <td>1.579213</td>\n",
       "      <td>0.767435</td>\n",
       "    </tr>\n",
       "    <tr>\n",
       "      <th>2</th>\n",
       "      <td>-0.469474</td>\n",
       "      <td>0.542560</td>\n",
       "      <td>-0.463418</td>\n",
       "      <td>-0.465730</td>\n",
       "    </tr>\n",
       "    <tr>\n",
       "      <th>3</th>\n",
       "      <td>0.241962</td>\n",
       "      <td>-1.913280</td>\n",
       "      <td>-1.724918</td>\n",
       "      <td>-0.562288</td>\n",
       "    </tr>\n",
       "    <tr>\n",
       "      <th>4</th>\n",
       "      <td>-1.012831</td>\n",
       "      <td>0.314247</td>\n",
       "      <td>-0.908024</td>\n",
       "      <td>-1.412304</td>\n",
       "    </tr>\n",
       "    <tr>\n",
       "      <th>5</th>\n",
       "      <td>1.465649</td>\n",
       "      <td>-0.225776</td>\n",
       "      <td>0.067528</td>\n",
       "      <td>-1.424748</td>\n",
       "    </tr>\n",
       "    <tr>\n",
       "      <th>6</th>\n",
       "      <td>-0.544383</td>\n",
       "      <td>0.110923</td>\n",
       "      <td>-1.150994</td>\n",
       "      <td>0.375698</td>\n",
       "    </tr>\n",
       "    <tr>\n",
       "      <th>7</th>\n",
       "      <td>-0.600639</td>\n",
       "      <td>-0.291694</td>\n",
       "      <td>-0.601707</td>\n",
       "      <td>1.852278</td>\n",
       "    </tr>\n",
       "    <tr>\n",
       "      <th>8</th>\n",
       "      <td>-0.013497</td>\n",
       "      <td>-1.057711</td>\n",
       "      <td>0.822545</td>\n",
       "      <td>-1.220844</td>\n",
       "    </tr>\n",
       "  </tbody>\n",
       "</table>\n",
       "</div>"
      ],
      "text/plain": [
       "        No1       No2       No3       No4\n",
       "0  0.496714 -0.138264  0.647689  1.523030\n",
       "1 -0.234153 -0.234137  1.579213  0.767435\n",
       "2 -0.469474  0.542560 -0.463418 -0.465730\n",
       "3  0.241962 -1.913280 -1.724918 -0.562288\n",
       "4 -1.012831  0.314247 -0.908024 -1.412304\n",
       "5  1.465649 -0.225776  0.067528 -1.424748\n",
       "6 -0.544383  0.110923 -1.150994  0.375698\n",
       "7 -0.600639 -0.291694 -0.601707  1.852278\n",
       "8 -0.013497 -1.057711  0.822545 -1.220844"
      ]
     },
     "execution_count": 26,
     "metadata": {},
     "output_type": "execute_result"
    }
   ],
   "source": [
    "df"
   ]
  },
  {
   "cell_type": "code",
   "execution_count": 27,
   "metadata": {
    "slideshow": {
     "slide_type": "skip"
    },
    "uuid": "68e8d73f-93d3-47ac-a656-1edbdebcd1ff"
   },
   "outputs": [
    {
     "data": {
      "text/plain": [
       "-0.3214591684580857"
      ]
     },
     "execution_count": 27,
     "metadata": {},
     "output_type": "execute_result"
    }
   ],
   "source": [
    "df['No2'].mean()  "
   ]
  },
  {
   "cell_type": "code",
   "execution_count": 28,
   "metadata": {
    "slideshow": {
     "slide_type": "skip"
    }
   },
   "outputs": [],
   "source": [
    "dates = pd.date_range('2019-1-1', periods=9, freq='M')  "
   ]
  },
  {
   "cell_type": "code",
   "execution_count": 29,
   "metadata": {
    "slideshow": {
     "slide_type": "skip"
    },
    "uuid": "a80e1e88-d211-4ee4-a6d3-90403a7739a8"
   },
   "outputs": [
    {
     "data": {
      "text/plain": [
       "DatetimeIndex(['2019-01-31', '2019-02-28', '2019-03-31', '2019-04-30',\n",
       "               '2019-05-31', '2019-06-30', '2019-07-31', '2019-08-31',\n",
       "               '2019-09-30'],\n",
       "              dtype='datetime64[ns]', freq='M')"
      ]
     },
     "execution_count": 29,
     "metadata": {},
     "output_type": "execute_result"
    }
   ],
   "source": [
    "dates"
   ]
  },
  {
   "cell_type": "code",
   "execution_count": 30,
   "metadata": {
    "slideshow": {
     "slide_type": "skip"
    }
   },
   "outputs": [],
   "source": [
    "df.index = dates"
   ]
  },
  {
   "cell_type": "code",
   "execution_count": 31,
   "metadata": {
    "slideshow": {
     "slide_type": "skip"
    },
    "uuid": "d8fef9ed-25ca-4ae0-bd0c-026d340a903b"
   },
   "outputs": [
    {
     "data": {
      "text/html": [
       "<div>\n",
       "<style scoped>\n",
       "    .dataframe tbody tr th:only-of-type {\n",
       "        vertical-align: middle;\n",
       "    }\n",
       "\n",
       "    .dataframe tbody tr th {\n",
       "        vertical-align: top;\n",
       "    }\n",
       "\n",
       "    .dataframe thead th {\n",
       "        text-align: right;\n",
       "    }\n",
       "</style>\n",
       "<table border=\"1\" class=\"dataframe\">\n",
       "  <thead>\n",
       "    <tr style=\"text-align: right;\">\n",
       "      <th></th>\n",
       "      <th>No1</th>\n",
       "      <th>No2</th>\n",
       "      <th>No3</th>\n",
       "      <th>No4</th>\n",
       "    </tr>\n",
       "  </thead>\n",
       "  <tbody>\n",
       "    <tr>\n",
       "      <th>2019-01-31</th>\n",
       "      <td>0.496714</td>\n",
       "      <td>-0.138264</td>\n",
       "      <td>0.647689</td>\n",
       "      <td>1.523030</td>\n",
       "    </tr>\n",
       "    <tr>\n",
       "      <th>2019-02-28</th>\n",
       "      <td>-0.234153</td>\n",
       "      <td>-0.234137</td>\n",
       "      <td>1.579213</td>\n",
       "      <td>0.767435</td>\n",
       "    </tr>\n",
       "    <tr>\n",
       "      <th>2019-03-31</th>\n",
       "      <td>-0.469474</td>\n",
       "      <td>0.542560</td>\n",
       "      <td>-0.463418</td>\n",
       "      <td>-0.465730</td>\n",
       "    </tr>\n",
       "    <tr>\n",
       "      <th>2019-04-30</th>\n",
       "      <td>0.241962</td>\n",
       "      <td>-1.913280</td>\n",
       "      <td>-1.724918</td>\n",
       "      <td>-0.562288</td>\n",
       "    </tr>\n",
       "    <tr>\n",
       "      <th>2019-05-31</th>\n",
       "      <td>-1.012831</td>\n",
       "      <td>0.314247</td>\n",
       "      <td>-0.908024</td>\n",
       "      <td>-1.412304</td>\n",
       "    </tr>\n",
       "    <tr>\n",
       "      <th>2019-06-30</th>\n",
       "      <td>1.465649</td>\n",
       "      <td>-0.225776</td>\n",
       "      <td>0.067528</td>\n",
       "      <td>-1.424748</td>\n",
       "    </tr>\n",
       "    <tr>\n",
       "      <th>2019-07-31</th>\n",
       "      <td>-0.544383</td>\n",
       "      <td>0.110923</td>\n",
       "      <td>-1.150994</td>\n",
       "      <td>0.375698</td>\n",
       "    </tr>\n",
       "    <tr>\n",
       "      <th>2019-08-31</th>\n",
       "      <td>-0.600639</td>\n",
       "      <td>-0.291694</td>\n",
       "      <td>-0.601707</td>\n",
       "      <td>1.852278</td>\n",
       "    </tr>\n",
       "    <tr>\n",
       "      <th>2019-09-30</th>\n",
       "      <td>-0.013497</td>\n",
       "      <td>-1.057711</td>\n",
       "      <td>0.822545</td>\n",
       "      <td>-1.220844</td>\n",
       "    </tr>\n",
       "  </tbody>\n",
       "</table>\n",
       "</div>"
      ],
      "text/plain": [
       "                 No1       No2       No3       No4\n",
       "2019-01-31  0.496714 -0.138264  0.647689  1.523030\n",
       "2019-02-28 -0.234153 -0.234137  1.579213  0.767435\n",
       "2019-03-31 -0.469474  0.542560 -0.463418 -0.465730\n",
       "2019-04-30  0.241962 -1.913280 -1.724918 -0.562288\n",
       "2019-05-31 -1.012831  0.314247 -0.908024 -1.412304\n",
       "2019-06-30  1.465649 -0.225776  0.067528 -1.424748\n",
       "2019-07-31 -0.544383  0.110923 -1.150994  0.375698\n",
       "2019-08-31 -0.600639 -0.291694 -0.601707  1.852278\n",
       "2019-09-30 -0.013497 -1.057711  0.822545 -1.220844"
      ]
     },
     "execution_count": 31,
     "metadata": {},
     "output_type": "execute_result"
    }
   ],
   "source": [
    "df"
   ]
  },
  {
   "cell_type": "code",
   "execution_count": 32,
   "metadata": {
    "slideshow": {
     "slide_type": "skip"
    },
    "uuid": "bcc38d60-3e1c-49bb-b883-ea7564c136b4"
   },
   "outputs": [
    {
     "data": {
      "text/plain": [
       "array([[ 0.49671415, -0.1382643 ,  0.64768854,  1.52302986],\n",
       "       [-0.23415337, -0.23413696,  1.57921282,  0.76743473],\n",
       "       [-0.46947439,  0.54256004, -0.46341769, -0.46572975],\n",
       "       [ 0.24196227, -1.91328024, -1.72491783, -0.56228753],\n",
       "       [-1.01283112,  0.31424733, -0.90802408, -1.4123037 ],\n",
       "       [ 1.46564877, -0.2257763 ,  0.0675282 , -1.42474819],\n",
       "       [-0.54438272,  0.11092259, -1.15099358,  0.37569802],\n",
       "       [-0.60063869, -0.29169375, -0.60170661,  1.85227818],\n",
       "       [-0.01349722, -1.05771093,  0.82254491, -1.22084365]])"
      ]
     },
     "execution_count": 32,
     "metadata": {},
     "output_type": "execute_result"
    }
   ],
   "source": [
    "df.values"
   ]
  },
  {
   "cell_type": "code",
   "execution_count": 33,
   "metadata": {
    "slideshow": {
     "slide_type": "skip"
    },
    "uuid": "bcc38d60-3e1c-49bb-b883-ea7564c136b4"
   },
   "outputs": [
    {
     "data": {
      "text/plain": [
       "array([[ 0.49671415, -0.1382643 ,  0.64768854,  1.52302986],\n",
       "       [-0.23415337, -0.23413696,  1.57921282,  0.76743473],\n",
       "       [-0.46947439,  0.54256004, -0.46341769, -0.46572975],\n",
       "       [ 0.24196227, -1.91328024, -1.72491783, -0.56228753],\n",
       "       [-1.01283112,  0.31424733, -0.90802408, -1.4123037 ],\n",
       "       [ 1.46564877, -0.2257763 ,  0.0675282 , -1.42474819],\n",
       "       [-0.54438272,  0.11092259, -1.15099358,  0.37569802],\n",
       "       [-0.60063869, -0.29169375, -0.60170661,  1.85227818],\n",
       "       [-0.01349722, -1.05771093,  0.82254491, -1.22084365]])"
      ]
     },
     "execution_count": 33,
     "metadata": {},
     "output_type": "execute_result"
    }
   ],
   "source": [
    "np.array(df)"
   ]
  },
  {
   "cell_type": "markdown",
   "metadata": {
    "slideshow": {
     "slide_type": "slide"
    }
   },
   "source": [
    "## Basic Analytics"
   ]
  },
  {
   "cell_type": "code",
   "execution_count": 34,
   "metadata": {
    "slideshow": {
     "slide_type": "fragment"
    }
   },
   "outputs": [
    {
     "name": "stdout",
     "output_type": "stream",
     "text": [
      "<class 'pandas.core.frame.DataFrame'>\n",
      "DatetimeIndex: 9 entries, 2019-01-31 to 2019-09-30\n",
      "Freq: M\n",
      "Data columns (total 4 columns):\n",
      " #   Column  Non-Null Count  Dtype  \n",
      "---  ------  --------------  -----  \n",
      " 0   No1     9 non-null      float64\n",
      " 1   No2     9 non-null      float64\n",
      " 2   No3     9 non-null      float64\n",
      " 3   No4     9 non-null      float64\n",
      "dtypes: float64(4)\n",
      "memory usage: 360.0 bytes\n"
     ]
    }
   ],
   "source": [
    "df.info()  "
   ]
  },
  {
   "cell_type": "code",
   "execution_count": 35,
   "metadata": {
    "slideshow": {
     "slide_type": "slide"
    },
    "uuid": "125980cc-91ec-4ab4-9a4a-cfd772dd1254"
   },
   "outputs": [
    {
     "data": {
      "text/html": [
       "<div>\n",
       "<style scoped>\n",
       "    .dataframe tbody tr th:only-of-type {\n",
       "        vertical-align: middle;\n",
       "    }\n",
       "\n",
       "    .dataframe tbody tr th {\n",
       "        vertical-align: top;\n",
       "    }\n",
       "\n",
       "    .dataframe thead th {\n",
       "        text-align: right;\n",
       "    }\n",
       "</style>\n",
       "<table border=\"1\" class=\"dataframe\">\n",
       "  <thead>\n",
       "    <tr style=\"text-align: right;\">\n",
       "      <th></th>\n",
       "      <th>No1</th>\n",
       "      <th>No2</th>\n",
       "      <th>No3</th>\n",
       "      <th>No4</th>\n",
       "    </tr>\n",
       "  </thead>\n",
       "  <tbody>\n",
       "    <tr>\n",
       "      <th>count</th>\n",
       "      <td>9.000000</td>\n",
       "      <td>9.000000</td>\n",
       "      <td>9.000000</td>\n",
       "      <td>9.000000</td>\n",
       "    </tr>\n",
       "    <tr>\n",
       "      <th>mean</th>\n",
       "      <td>-0.074517</td>\n",
       "      <td>-0.321459</td>\n",
       "      <td>-0.192454</td>\n",
       "      <td>-0.063052</td>\n",
       "    </tr>\n",
       "    <tr>\n",
       "      <th>std</th>\n",
       "      <td>0.738392</td>\n",
       "      <td>0.747060</td>\n",
       "      <td>1.058457</td>\n",
       "      <td>1.249646</td>\n",
       "    </tr>\n",
       "    <tr>\n",
       "      <th>min</th>\n",
       "      <td>-1.012831</td>\n",
       "      <td>-1.913280</td>\n",
       "      <td>-1.724918</td>\n",
       "      <td>-1.424748</td>\n",
       "    </tr>\n",
       "    <tr>\n",
       "      <th>25%</th>\n",
       "      <td>-0.544383</td>\n",
       "      <td>-0.291694</td>\n",
       "      <td>-0.908024</td>\n",
       "      <td>-1.220844</td>\n",
       "    </tr>\n",
       "    <tr>\n",
       "      <th>50%</th>\n",
       "      <td>-0.234153</td>\n",
       "      <td>-0.225776</td>\n",
       "      <td>-0.463418</td>\n",
       "      <td>-0.465730</td>\n",
       "    </tr>\n",
       "    <tr>\n",
       "      <th>75%</th>\n",
       "      <td>0.241962</td>\n",
       "      <td>0.110923</td>\n",
       "      <td>0.647689</td>\n",
       "      <td>0.767435</td>\n",
       "    </tr>\n",
       "    <tr>\n",
       "      <th>max</th>\n",
       "      <td>1.465649</td>\n",
       "      <td>0.542560</td>\n",
       "      <td>1.579213</td>\n",
       "      <td>1.852278</td>\n",
       "    </tr>\n",
       "  </tbody>\n",
       "</table>\n",
       "</div>"
      ],
      "text/plain": [
       "            No1       No2       No3       No4\n",
       "count  9.000000  9.000000  9.000000  9.000000\n",
       "mean  -0.074517 -0.321459 -0.192454 -0.063052\n",
       "std    0.738392  0.747060  1.058457  1.249646\n",
       "min   -1.012831 -1.913280 -1.724918 -1.424748\n",
       "25%   -0.544383 -0.291694 -0.908024 -1.220844\n",
       "50%   -0.234153 -0.225776 -0.463418 -0.465730\n",
       "75%    0.241962  0.110923  0.647689  0.767435\n",
       "max    1.465649  0.542560  1.579213  1.852278"
      ]
     },
     "execution_count": 35,
     "metadata": {},
     "output_type": "execute_result"
    }
   ],
   "source": [
    "df.describe()  "
   ]
  },
  {
   "cell_type": "code",
   "execution_count": 36,
   "metadata": {
    "slideshow": {
     "slide_type": "slide"
    },
    "uuid": "f760ea25-c64c-4e70-9f91-b72701d919ce"
   },
   "outputs": [
    {
     "data": {
      "text/plain": [
       "No1   -0.670652\n",
       "No2   -2.893133\n",
       "No3   -1.732085\n",
       "No4   -0.567472\n",
       "dtype: float64"
      ]
     },
     "execution_count": 36,
     "metadata": {},
     "output_type": "execute_result"
    }
   ],
   "source": [
    "df.sum()  "
   ]
  },
  {
   "cell_type": "code",
   "execution_count": 37,
   "metadata": {
    "slideshow": {
     "slide_type": "fragment"
    },
    "uuid": "3dd9bd77-eb80-46cb-87f3-62c053a8e223"
   },
   "outputs": [
    {
     "data": {
      "text/plain": [
       "No1   -0.074517\n",
       "No2   -0.321459\n",
       "No3   -0.192454\n",
       "No4   -0.063052\n",
       "dtype: float64"
      ]
     },
     "execution_count": 37,
     "metadata": {},
     "output_type": "execute_result"
    }
   ],
   "source": [
    "df.mean()  "
   ]
  },
  {
   "cell_type": "code",
   "execution_count": 38,
   "metadata": {
    "slideshow": {
     "slide_type": "slide"
    },
    "uuid": "3dd9bd77-eb80-46cb-87f3-62c053a8e223"
   },
   "outputs": [
    {
     "data": {
      "text/plain": [
       "No1   -0.074517\n",
       "No2   -0.321459\n",
       "No3   -0.192454\n",
       "No4   -0.063052\n",
       "dtype: float64"
      ]
     },
     "execution_count": 38,
     "metadata": {},
     "output_type": "execute_result"
    }
   ],
   "source": [
    "# axis 0” represents rows  \n",
    "df.mean(axis=0)  "
   ]
  },
  {
   "cell_type": "code",
   "execution_count": 39,
   "metadata": {
    "slideshow": {
     "slide_type": "fragment"
    }
   },
   "outputs": [
    {
     "data": {
      "text/plain": [
       "2019-01-31    0.632292\n",
       "2019-02-28    0.469589\n",
       "2019-03-31   -0.214015\n",
       "2019-04-30   -0.989631\n",
       "2019-05-31   -0.754728\n",
       "2019-06-30   -0.029337\n",
       "2019-07-31   -0.302189\n",
       "2019-08-31    0.089560\n",
       "2019-09-30   -0.367377\n",
       "Freq: M, dtype: float64"
      ]
     },
     "execution_count": 39,
     "metadata": {},
     "output_type": "execute_result"
    }
   ],
   "source": [
    "# “axis 1” represents columns\n",
    "df.mean(axis=1)  "
   ]
  },
  {
   "cell_type": "code",
   "execution_count": 40,
   "metadata": {
    "slideshow": {
     "slide_type": "fragment"
    }
   },
   "outputs": [
    {
     "data": {
      "text/plain": [
       "No1   -0.074517\n",
       "No2   -0.321459\n",
       "No3   -0.192454\n",
       "No4   -0.063052\n",
       "dtype: float64"
      ]
     },
     "execution_count": 40,
     "metadata": {},
     "output_type": "execute_result"
    }
   ],
   "source": [
    "np.mean(df)  "
   ]
  },
  {
   "cell_type": "code",
   "execution_count": 41,
   "metadata": {
    "slideshow": {
     "slide_type": "slide"
    },
    "uuid": "8e167ea8-09b7-4585-8cac-28fe20eefe66"
   },
   "outputs": [
    {
     "data": {
      "text/html": [
       "<div>\n",
       "<style scoped>\n",
       "    .dataframe tbody tr th:only-of-type {\n",
       "        vertical-align: middle;\n",
       "    }\n",
       "\n",
       "    .dataframe tbody tr th {\n",
       "        vertical-align: top;\n",
       "    }\n",
       "\n",
       "    .dataframe thead th {\n",
       "        text-align: right;\n",
       "    }\n",
       "</style>\n",
       "<table border=\"1\" class=\"dataframe\">\n",
       "  <thead>\n",
       "    <tr style=\"text-align: right;\">\n",
       "      <th></th>\n",
       "      <th>No1</th>\n",
       "      <th>No2</th>\n",
       "      <th>No3</th>\n",
       "      <th>No4</th>\n",
       "    </tr>\n",
       "  </thead>\n",
       "  <tbody>\n",
       "    <tr>\n",
       "      <th>2019-01-31</th>\n",
       "      <td>0.496714</td>\n",
       "      <td>-0.138264</td>\n",
       "      <td>0.647689</td>\n",
       "      <td>1.523030</td>\n",
       "    </tr>\n",
       "    <tr>\n",
       "      <th>2019-02-28</th>\n",
       "      <td>0.262561</td>\n",
       "      <td>-0.372401</td>\n",
       "      <td>2.226901</td>\n",
       "      <td>2.290465</td>\n",
       "    </tr>\n",
       "    <tr>\n",
       "      <th>2019-03-31</th>\n",
       "      <td>-0.206914</td>\n",
       "      <td>0.170159</td>\n",
       "      <td>1.763484</td>\n",
       "      <td>1.824735</td>\n",
       "    </tr>\n",
       "    <tr>\n",
       "      <th>2019-04-30</th>\n",
       "      <td>0.035049</td>\n",
       "      <td>-1.743121</td>\n",
       "      <td>0.038566</td>\n",
       "      <td>1.262447</td>\n",
       "    </tr>\n",
       "    <tr>\n",
       "      <th>2019-05-31</th>\n",
       "      <td>-0.977782</td>\n",
       "      <td>-1.428874</td>\n",
       "      <td>-0.869458</td>\n",
       "      <td>-0.149856</td>\n",
       "    </tr>\n",
       "    <tr>\n",
       "      <th>2019-06-30</th>\n",
       "      <td>0.487866</td>\n",
       "      <td>-1.654650</td>\n",
       "      <td>-0.801930</td>\n",
       "      <td>-1.574605</td>\n",
       "    </tr>\n",
       "    <tr>\n",
       "      <th>2019-07-31</th>\n",
       "      <td>-0.056516</td>\n",
       "      <td>-1.543728</td>\n",
       "      <td>-1.952924</td>\n",
       "      <td>-1.198907</td>\n",
       "    </tr>\n",
       "    <tr>\n",
       "      <th>2019-08-31</th>\n",
       "      <td>-0.657155</td>\n",
       "      <td>-1.835422</td>\n",
       "      <td>-2.554630</td>\n",
       "      <td>0.653372</td>\n",
       "    </tr>\n",
       "    <tr>\n",
       "      <th>2019-09-30</th>\n",
       "      <td>-0.670652</td>\n",
       "      <td>-2.893133</td>\n",
       "      <td>-1.732085</td>\n",
       "      <td>-0.567472</td>\n",
       "    </tr>\n",
       "  </tbody>\n",
       "</table>\n",
       "</div>"
      ],
      "text/plain": [
       "                 No1       No2       No3       No4\n",
       "2019-01-31  0.496714 -0.138264  0.647689  1.523030\n",
       "2019-02-28  0.262561 -0.372401  2.226901  2.290465\n",
       "2019-03-31 -0.206914  0.170159  1.763484  1.824735\n",
       "2019-04-30  0.035049 -1.743121  0.038566  1.262447\n",
       "2019-05-31 -0.977782 -1.428874 -0.869458 -0.149856\n",
       "2019-06-30  0.487866 -1.654650 -0.801930 -1.574605\n",
       "2019-07-31 -0.056516 -1.543728 -1.952924 -1.198907\n",
       "2019-08-31 -0.657155 -1.835422 -2.554630  0.653372\n",
       "2019-09-30 -0.670652 -2.893133 -1.732085 -0.567472"
      ]
     },
     "execution_count": 41,
     "metadata": {},
     "output_type": "execute_result"
    }
   ],
   "source": [
    "df.cumsum()  "
   ]
  },
  {
   "cell_type": "code",
   "execution_count": 42,
   "metadata": {
    "slideshow": {
     "slide_type": "skip"
    }
   },
   "outputs": [
    {
     "data": {
      "text/html": [
       "<div>\n",
       "<style scoped>\n",
       "    .dataframe tbody tr th:only-of-type {\n",
       "        vertical-align: middle;\n",
       "    }\n",
       "\n",
       "    .dataframe tbody tr th {\n",
       "        vertical-align: top;\n",
       "    }\n",
       "\n",
       "    .dataframe thead th {\n",
       "        text-align: right;\n",
       "    }\n",
       "</style>\n",
       "<table border=\"1\" class=\"dataframe\">\n",
       "  <thead>\n",
       "    <tr style=\"text-align: right;\">\n",
       "      <th></th>\n",
       "      <th>No1</th>\n",
       "      <th>No2</th>\n",
       "      <th>No3</th>\n",
       "      <th>No4</th>\n",
       "    </tr>\n",
       "  </thead>\n",
       "  <tbody>\n",
       "    <tr>\n",
       "      <th>2019-01-31</th>\n",
       "      <td>-0.699741</td>\n",
       "      <td>NaN</td>\n",
       "      <td>-0.434345</td>\n",
       "      <td>0.420702</td>\n",
       "    </tr>\n",
       "    <tr>\n",
       "      <th>2019-02-28</th>\n",
       "      <td>NaN</td>\n",
       "      <td>NaN</td>\n",
       "      <td>0.456927</td>\n",
       "      <td>-0.264702</td>\n",
       "    </tr>\n",
       "    <tr>\n",
       "      <th>2019-03-31</th>\n",
       "      <td>NaN</td>\n",
       "      <td>-0.611457</td>\n",
       "      <td>NaN</td>\n",
       "      <td>NaN</td>\n",
       "    </tr>\n",
       "    <tr>\n",
       "      <th>2019-04-30</th>\n",
       "      <td>-1.418973</td>\n",
       "      <td>NaN</td>\n",
       "      <td>NaN</td>\n",
       "      <td>NaN</td>\n",
       "    </tr>\n",
       "    <tr>\n",
       "      <th>2019-05-31</th>\n",
       "      <td>NaN</td>\n",
       "      <td>-1.157575</td>\n",
       "      <td>NaN</td>\n",
       "      <td>NaN</td>\n",
       "    </tr>\n",
       "    <tr>\n",
       "      <th>2019-06-30</th>\n",
       "      <td>0.382298</td>\n",
       "      <td>NaN</td>\n",
       "      <td>-2.695210</td>\n",
       "      <td>NaN</td>\n",
       "    </tr>\n",
       "    <tr>\n",
       "      <th>2019-07-31</th>\n",
       "      <td>NaN</td>\n",
       "      <td>-2.198923</td>\n",
       "      <td>NaN</td>\n",
       "      <td>-0.978970</td>\n",
       "    </tr>\n",
       "    <tr>\n",
       "      <th>2019-08-31</th>\n",
       "      <td>NaN</td>\n",
       "      <td>NaN</td>\n",
       "      <td>NaN</td>\n",
       "      <td>0.616416</td>\n",
       "    </tr>\n",
       "    <tr>\n",
       "      <th>2019-09-30</th>\n",
       "      <td>NaN</td>\n",
       "      <td>NaN</td>\n",
       "      <td>-0.195352</td>\n",
       "      <td>NaN</td>\n",
       "    </tr>\n",
       "  </tbody>\n",
       "</table>\n",
       "</div>"
      ],
      "text/plain": [
       "                 No1       No2       No3       No4\n",
       "2019-01-31 -0.699741       NaN -0.434345  0.420702\n",
       "2019-02-28       NaN       NaN  0.456927 -0.264702\n",
       "2019-03-31       NaN -0.611457       NaN       NaN\n",
       "2019-04-30 -1.418973       NaN       NaN       NaN\n",
       "2019-05-31       NaN -1.157575       NaN       NaN\n",
       "2019-06-30  0.382298       NaN -2.695210       NaN\n",
       "2019-07-31       NaN -2.198923       NaN -0.978970\n",
       "2019-08-31       NaN       NaN       NaN  0.616416\n",
       "2019-09-30       NaN       NaN -0.195352       NaN"
      ]
     },
     "execution_count": 42,
     "metadata": {},
     "output_type": "execute_result"
    }
   ],
   "source": [
    "# raises warning\n",
    "np.log(df)  "
   ]
  },
  {
   "cell_type": "code",
   "execution_count": 43,
   "metadata": {
    "slideshow": {
     "slide_type": "skip"
    },
    "uuid": "9dfc1e40-c030-4a9c-9e3a-ff28c64a93df"
   },
   "outputs": [
    {
     "data": {
      "text/html": [
       "<div>\n",
       "<style scoped>\n",
       "    .dataframe tbody tr th:only-of-type {\n",
       "        vertical-align: middle;\n",
       "    }\n",
       "\n",
       "    .dataframe tbody tr th {\n",
       "        vertical-align: top;\n",
       "    }\n",
       "\n",
       "    .dataframe thead th {\n",
       "        text-align: right;\n",
       "    }\n",
       "</style>\n",
       "<table border=\"1\" class=\"dataframe\">\n",
       "  <thead>\n",
       "    <tr style=\"text-align: right;\">\n",
       "      <th></th>\n",
       "      <th>No1</th>\n",
       "      <th>No2</th>\n",
       "      <th>No3</th>\n",
       "      <th>No4</th>\n",
       "    </tr>\n",
       "  </thead>\n",
       "  <tbody>\n",
       "    <tr>\n",
       "      <th>2019-01-31</th>\n",
       "      <td>0.704780</td>\n",
       "      <td>0.371839</td>\n",
       "      <td>0.804791</td>\n",
       "      <td>1.234111</td>\n",
       "    </tr>\n",
       "    <tr>\n",
       "      <th>2019-02-28</th>\n",
       "      <td>0.483894</td>\n",
       "      <td>0.483877</td>\n",
       "      <td>1.256667</td>\n",
       "      <td>0.876034</td>\n",
       "    </tr>\n",
       "    <tr>\n",
       "      <th>2019-03-31</th>\n",
       "      <td>0.685182</td>\n",
       "      <td>0.736587</td>\n",
       "      <td>0.680748</td>\n",
       "      <td>0.682444</td>\n",
       "    </tr>\n",
       "    <tr>\n",
       "      <th>2019-04-30</th>\n",
       "      <td>0.491897</td>\n",
       "      <td>1.383214</td>\n",
       "      <td>1.313361</td>\n",
       "      <td>0.749858</td>\n",
       "    </tr>\n",
       "    <tr>\n",
       "      <th>2019-05-31</th>\n",
       "      <td>1.006395</td>\n",
       "      <td>0.560578</td>\n",
       "      <td>0.952903</td>\n",
       "      <td>1.188404</td>\n",
       "    </tr>\n",
       "    <tr>\n",
       "      <th>2019-06-30</th>\n",
       "      <td>1.210640</td>\n",
       "      <td>0.475159</td>\n",
       "      <td>0.259862</td>\n",
       "      <td>1.193628</td>\n",
       "    </tr>\n",
       "    <tr>\n",
       "      <th>2019-07-31</th>\n",
       "      <td>0.737823</td>\n",
       "      <td>0.333050</td>\n",
       "      <td>1.072844</td>\n",
       "      <td>0.612942</td>\n",
       "    </tr>\n",
       "    <tr>\n",
       "      <th>2019-08-31</th>\n",
       "      <td>0.775009</td>\n",
       "      <td>0.540087</td>\n",
       "      <td>0.775698</td>\n",
       "      <td>1.360984</td>\n",
       "    </tr>\n",
       "    <tr>\n",
       "      <th>2019-09-30</th>\n",
       "      <td>0.116178</td>\n",
       "      <td>1.028451</td>\n",
       "      <td>0.906943</td>\n",
       "      <td>1.104918</td>\n",
       "    </tr>\n",
       "  </tbody>\n",
       "</table>\n",
       "</div>"
      ],
      "text/plain": [
       "                 No1       No2       No3       No4\n",
       "2019-01-31  0.704780  0.371839  0.804791  1.234111\n",
       "2019-02-28  0.483894  0.483877  1.256667  0.876034\n",
       "2019-03-31  0.685182  0.736587  0.680748  0.682444\n",
       "2019-04-30  0.491897  1.383214  1.313361  0.749858\n",
       "2019-05-31  1.006395  0.560578  0.952903  1.188404\n",
       "2019-06-30  1.210640  0.475159  0.259862  1.193628\n",
       "2019-07-31  0.737823  0.333050  1.072844  0.612942\n",
       "2019-08-31  0.775009  0.540087  0.775698  1.360984\n",
       "2019-09-30  0.116178  1.028451  0.906943  1.104918"
      ]
     },
     "execution_count": 43,
     "metadata": {},
     "output_type": "execute_result"
    }
   ],
   "source": [
    "np.sqrt(abs(df))  "
   ]
  },
  {
   "cell_type": "code",
   "execution_count": 44,
   "metadata": {
    "slideshow": {
     "slide_type": "skip"
    },
    "uuid": "a540362b-50d7-4ef0-89ba-0b6ee38033f6"
   },
   "outputs": [
    {
     "data": {
      "text/plain": [
       "No1    6.211796\n",
       "No2    5.912841\n",
       "No3    8.023816\n",
       "No4    9.003323\n",
       "dtype: float64"
      ]
     },
     "execution_count": 44,
     "metadata": {},
     "output_type": "execute_result"
    }
   ],
   "source": [
    "np.sqrt(abs(df)).sum()  "
   ]
  },
  {
   "cell_type": "code",
   "execution_count": 45,
   "metadata": {
    "scrolled": true,
    "slideshow": {
     "slide_type": "skip"
    }
   },
   "outputs": [
    {
     "data": {
      "text/html": [
       "<div>\n",
       "<style scoped>\n",
       "    .dataframe tbody tr th:only-of-type {\n",
       "        vertical-align: middle;\n",
       "    }\n",
       "\n",
       "    .dataframe tbody tr th {\n",
       "        vertical-align: top;\n",
       "    }\n",
       "\n",
       "    .dataframe thead th {\n",
       "        text-align: right;\n",
       "    }\n",
       "</style>\n",
       "<table border=\"1\" class=\"dataframe\">\n",
       "  <thead>\n",
       "    <tr style=\"text-align: right;\">\n",
       "      <th></th>\n",
       "      <th>No1</th>\n",
       "      <th>No2</th>\n",
       "      <th>No3</th>\n",
       "      <th>No4</th>\n",
       "    </tr>\n",
       "  </thead>\n",
       "  <tbody>\n",
       "    <tr>\n",
       "      <th>2019-01-31</th>\n",
       "      <td>149.671415</td>\n",
       "      <td>86.173570</td>\n",
       "      <td>164.768854</td>\n",
       "      <td>252.302986</td>\n",
       "    </tr>\n",
       "    <tr>\n",
       "      <th>2019-02-28</th>\n",
       "      <td>76.584663</td>\n",
       "      <td>76.586304</td>\n",
       "      <td>257.921282</td>\n",
       "      <td>176.743473</td>\n",
       "    </tr>\n",
       "    <tr>\n",
       "      <th>2019-03-31</th>\n",
       "      <td>53.052561</td>\n",
       "      <td>154.256004</td>\n",
       "      <td>53.658231</td>\n",
       "      <td>53.427025</td>\n",
       "    </tr>\n",
       "    <tr>\n",
       "      <th>2019-04-30</th>\n",
       "      <td>124.196227</td>\n",
       "      <td>-91.328024</td>\n",
       "      <td>-72.491783</td>\n",
       "      <td>43.771247</td>\n",
       "    </tr>\n",
       "    <tr>\n",
       "      <th>2019-05-31</th>\n",
       "      <td>-1.283112</td>\n",
       "      <td>131.424733</td>\n",
       "      <td>9.197592</td>\n",
       "      <td>-41.230370</td>\n",
       "    </tr>\n",
       "    <tr>\n",
       "      <th>2019-06-30</th>\n",
       "      <td>246.564877</td>\n",
       "      <td>77.422370</td>\n",
       "      <td>106.752820</td>\n",
       "      <td>-42.474819</td>\n",
       "    </tr>\n",
       "    <tr>\n",
       "      <th>2019-07-31</th>\n",
       "      <td>45.561728</td>\n",
       "      <td>111.092259</td>\n",
       "      <td>-15.099358</td>\n",
       "      <td>137.569802</td>\n",
       "    </tr>\n",
       "    <tr>\n",
       "      <th>2019-08-31</th>\n",
       "      <td>39.936131</td>\n",
       "      <td>70.830625</td>\n",
       "      <td>39.829339</td>\n",
       "      <td>285.227818</td>\n",
       "    </tr>\n",
       "    <tr>\n",
       "      <th>2019-09-30</th>\n",
       "      <td>98.650278</td>\n",
       "      <td>-5.771093</td>\n",
       "      <td>182.254491</td>\n",
       "      <td>-22.084365</td>\n",
       "    </tr>\n",
       "  </tbody>\n",
       "</table>\n",
       "</div>"
      ],
      "text/plain": [
       "                   No1         No2         No3         No4\n",
       "2019-01-31  149.671415   86.173570  164.768854  252.302986\n",
       "2019-02-28   76.584663   76.586304  257.921282  176.743473\n",
       "2019-03-31   53.052561  154.256004   53.658231   53.427025\n",
       "2019-04-30  124.196227  -91.328024  -72.491783   43.771247\n",
       "2019-05-31   -1.283112  131.424733    9.197592  -41.230370\n",
       "2019-06-30  246.564877   77.422370  106.752820  -42.474819\n",
       "2019-07-31   45.561728  111.092259  -15.099358  137.569802\n",
       "2019-08-31   39.936131   70.830625   39.829339  285.227818\n",
       "2019-09-30   98.650278   -5.771093  182.254491  -22.084365"
      ]
     },
     "execution_count": 45,
     "metadata": {},
     "output_type": "execute_result"
    }
   ],
   "source": [
    "100 * df + 100  "
   ]
  },
  {
   "cell_type": "markdown",
   "metadata": {
    "slideshow": {
     "slide_type": "slide"
    }
   },
   "source": [
    "## Basic Visualization"
   ]
  },
  {
   "cell_type": "code",
   "execution_count": 46,
   "metadata": {
    "slideshow": {
     "slide_type": "fragment"
    },
    "uuid": "4b1834ec-9f9b-41d6-8d06-f2efc8433dc4"
   },
   "outputs": [
    {
     "data": {
      "image/svg+xml": [
       "<?xml version=\"1.0\" encoding=\"utf-8\" standalone=\"no\"?>\n",
       "<!DOCTYPE svg PUBLIC \"-//W3C//DTD SVG 1.1//EN\"\n",
       "  \"http://www.w3.org/Graphics/SVG/1.1/DTD/svg11.dtd\">\n",
       "<svg height=\"424.8pt\" version=\"1.1\" viewBox=\"0 0 712.8 424.8\" width=\"712.8pt\" xmlns=\"http://www.w3.org/2000/svg\" xmlns:xlink=\"http://www.w3.org/1999/xlink\">\n",
       " <metadata>\n",
       "  <rdf:RDF xmlns:cc=\"http://creativecommons.org/ns#\" xmlns:dc=\"http://purl.org/dc/elements/1.1/\" xmlns:rdf=\"http://www.w3.org/1999/02/22-rdf-syntax-ns#\">\n",
       "   <cc:Work>\n",
       "    <dc:type rdf:resource=\"http://purl.org/dc/dcmitype/StillImage\"/>\n",
       "    <dc:date>2023-02-13T12:09:47.462608</dc:date>\n",
       "    <dc:format>image/svg+xml</dc:format>\n",
       "    <dc:creator>\n",
       "     <cc:Agent>\n",
       "      <dc:title>Matplotlib v3.4.2, https://matplotlib.org/</dc:title>\n",
       "     </cc:Agent>\n",
       "    </dc:creator>\n",
       "   </cc:Work>\n",
       "  </rdf:RDF>\n",
       " </metadata>\n",
       " <defs>\n",
       "  <style type=\"text/css\">*{stroke-linecap:butt;stroke-linejoin:round;}</style>\n",
       " </defs>\n",
       " <g id=\"figure_1\">\n",
       "  <g id=\"patch_1\">\n",
       "   <path d=\"M 0 424.8 \n",
       "L 712.8 424.8 \n",
       "L 712.8 0 \n",
       "L 0 0 \n",
       "z\n",
       "\" style=\"fill:none;\"/>\n",
       "  </g>\n",
       "  <g id=\"axes_1\">\n",
       "   <g id=\"patch_2\">\n",
       "    <path d=\"M 23.434375 393.358437 \n",
       "L 697.405469 393.358437 \n",
       "L 697.405469 7.2 \n",
       "L 23.434375 7.2 \n",
       "z\n",
       "\" style=\"fill:#ffffff;\"/>\n",
       "   </g>\n",
       "   <g id=\"matplotlib.axis_1\">\n",
       "    <g id=\"xtick_1\">\n",
       "     <g id=\"line2d_1\">\n",
       "      <path clip-path=\"url(#p5ddcc2bb3b)\" d=\"M 23.434375 393.358437 \n",
       "L 23.434375 7.2 \n",
       "\" style=\"fill:none;stroke:#b0b0b0;\"/>\n",
       "     </g>\n",
       "     <g id=\"line2d_2\"/>\n",
       "     <g id=\"text_1\">\n",
       "      <!-- Jan -->\n",
       "      <g transform=\"translate(15.939062 404.456875)scale(0.1 -0.1)\">\n",
       "       <defs>\n",
       "        <path d=\"M 2225 1209 \n",
       "Q 2225 597 1851 265 \n",
       "Q 1478 -66 850 -66 \n",
       "Q 700 -66 448 -39 \n",
       "Q 197 -13 28 25 \n",
       "L 28 616 \n",
       "L 63 616 \n",
       "Q 191 572 380 519 \n",
       "Q 569 466 766 466 \n",
       "Q 1053 466 1223 531 \n",
       "Q 1394 597 1475 719 \n",
       "Q 1559 844 1582 1025 \n",
       "Q 1606 1206 1606 1444 \n",
       "L 1606 4159 \n",
       "L 622 4159 \n",
       "L 622 4653 \n",
       "L 2225 4653 \n",
       "L 2225 1209 \n",
       "z\n",
       "\" id=\"Tahoma-4a\" transform=\"scale(0.015625)\"/>\n",
       "        <path d=\"M 2375 859 \n",
       "L 2375 1828 \n",
       "Q 2166 1809 1845 1776 \n",
       "Q 1525 1744 1328 1684 \n",
       "Q 1094 1613 941 1464 \n",
       "Q 788 1316 788 1050 \n",
       "Q 788 750 956 597 \n",
       "Q 1125 444 1450 444 \n",
       "Q 1728 444 1953 564 \n",
       "Q 2178 684 2375 859 \n",
       "z\n",
       "M 2375 372 \n",
       "Q 2303 319 2183 223 \n",
       "Q 2063 128 1950 72 \n",
       "Q 1794 -9 1648 -53 \n",
       "Q 1503 -97 1241 -97 \n",
       "Q 1025 -97 831 -15 \n",
       "Q 638 66 491 213 \n",
       "Q 350 356 265 567 \n",
       "Q 181 778 181 1013 \n",
       "Q 181 1375 334 1629 \n",
       "Q 488 1884 819 2034 \n",
       "Q 1113 2169 1513 2220 \n",
       "Q 1913 2272 2375 2297 \n",
       "L 2375 2409 \n",
       "Q 2375 2616 2312 2742 \n",
       "Q 2250 2869 2138 2938 \n",
       "Q 2025 3009 1862 3032 \n",
       "Q 1700 3056 1528 3056 \n",
       "Q 1325 3056 1050 2995 \n",
       "Q 775 2934 500 2819 \n",
       "L 466 2819 \n",
       "L 466 3416 \n",
       "Q 628 3463 931 3519 \n",
       "Q 1234 3575 1531 3575 \n",
       "Q 1891 3575 2137 3519 \n",
       "Q 2384 3463 2581 3316 \n",
       "Q 2772 3172 2865 2944 \n",
       "Q 2959 2716 2959 2388 \n",
       "L 2959 0 \n",
       "L 2375 0 \n",
       "L 2375 372 \n",
       "z\n",
       "\" id=\"Tahoma-61\" transform=\"scale(0.015625)\"/>\n",
       "        <path d=\"M 3169 0 \n",
       "L 2581 0 \n",
       "L 2581 1988 \n",
       "Q 2581 2228 2557 2436 \n",
       "Q 2534 2644 2469 2769 \n",
       "Q 2397 2900 2269 2964 \n",
       "Q 2141 3028 1919 3028 \n",
       "Q 1700 3028 1467 2911 \n",
       "Q 1234 2794 1013 2606 \n",
       "L 1013 0 \n",
       "L 425 0 \n",
       "L 425 3491 \n",
       "L 1013 3491 \n",
       "L 1013 3103 \n",
       "Q 1275 3338 1531 3463 \n",
       "Q 1788 3588 2072 3588 \n",
       "Q 2588 3588 2878 3248 \n",
       "Q 3169 2909 3169 2266 \n",
       "L 3169 0 \n",
       "z\n",
       "\" id=\"Tahoma-6e\" transform=\"scale(0.015625)\"/>\n",
       "       </defs>\n",
       "       <use xlink:href=\"#Tahoma-4a\"/>\n",
       "       <use x=\"41.650391\" xlink:href=\"#Tahoma-61\"/>\n",
       "       <use x=\"94.140625\" xlink:href=\"#Tahoma-6e\"/>\n",
       "      </g>\n",
       "      <!-- 2019 -->\n",
       "      <g transform=\"translate(12.515625 415.5875)scale(0.1 -0.1)\">\n",
       "       <defs>\n",
       "        <path d=\"M 3213 0 \n",
       "L 341 0 \n",
       "L 341 653 \n",
       "Q 650 947 925 1215 \n",
       "Q 1200 1484 1463 1775 \n",
       "Q 1994 2359 2187 2711 \n",
       "Q 2381 3063 2381 3438 \n",
       "Q 2381 3631 2320 3778 \n",
       "Q 2259 3925 2153 4022 \n",
       "Q 2044 4116 1900 4162 \n",
       "Q 1756 4209 1584 4209 \n",
       "Q 1419 4209 1248 4167 \n",
       "Q 1078 4125 922 4063 \n",
       "Q 791 4009 669 3934 \n",
       "Q 547 3859 472 3806 \n",
       "L 438 3806 \n",
       "L 438 4469 \n",
       "Q 631 4566 976 4658 \n",
       "Q 1322 4750 1631 4750 \n",
       "Q 2281 4750 2650 4404 \n",
       "Q 3019 4059 3019 3469 \n",
       "Q 3019 3197 2955 2965 \n",
       "Q 2891 2734 2778 2538 \n",
       "Q 2663 2334 2500 2134 \n",
       "Q 2338 1934 2156 1741 \n",
       "Q 1863 1422 1502 1078 \n",
       "Q 1141 734 925 534 \n",
       "L 3213 534 \n",
       "L 3213 0 \n",
       "z\n",
       "\" id=\"Tahoma-32\" transform=\"scale(0.015625)\"/>\n",
       "        <path d=\"M 3234 2328 \n",
       "Q 3234 1075 2870 489 \n",
       "Q 2506 -97 1747 -97 \n",
       "Q 978 -97 618 500 \n",
       "Q 259 1097 259 2322 \n",
       "Q 259 3581 623 4164 \n",
       "Q 988 4747 1747 4747 \n",
       "Q 2516 4747 2875 4144 \n",
       "Q 3234 3541 3234 2328 \n",
       "z\n",
       "M 2434 909 \n",
       "Q 2525 1141 2562 1494 \n",
       "Q 2600 1847 2600 2328 \n",
       "Q 2600 2806 2562 3159 \n",
       "Q 2525 3513 2431 3747 \n",
       "Q 2338 3984 2173 4107 \n",
       "Q 2009 4231 1747 4231 \n",
       "Q 1488 4231 1320 4107 \n",
       "Q 1153 3984 1056 3741 \n",
       "Q 963 3503 928 3140 \n",
       "Q 894 2778 894 2322 \n",
       "Q 894 1834 923 1506 \n",
       "Q 953 1178 1053 919 \n",
       "Q 1144 678 1311 548 \n",
       "Q 1478 419 1747 419 \n",
       "Q 2006 419 2173 542 \n",
       "Q 2341 666 2434 909 \n",
       "z\n",
       "\" id=\"Tahoma-30\" transform=\"scale(0.015625)\"/>\n",
       "        <path d=\"M 2975 0 \n",
       "L 706 0 \n",
       "L 706 475 \n",
       "L 1550 475 \n",
       "L 1550 3594 \n",
       "L 706 3594 \n",
       "L 706 4019 \n",
       "Q 1184 4019 1411 4155 \n",
       "Q 1638 4291 1666 4669 \n",
       "L 2150 4669 \n",
       "L 2150 475 \n",
       "L 2975 475 \n",
       "L 2975 0 \n",
       "z\n",
       "\" id=\"Tahoma-31\" transform=\"scale(0.015625)\"/>\n",
       "        <path d=\"M 2600 2741 \n",
       "Q 2600 3216 2512 3514 \n",
       "Q 2425 3813 2272 3975 \n",
       "Q 2134 4125 1993 4181 \n",
       "Q 1853 4238 1684 4238 \n",
       "Q 1300 4238 1072 3963 \n",
       "Q 844 3688 844 3166 \n",
       "Q 844 2872 919 2681 \n",
       "Q 994 2491 1163 2353 \n",
       "Q 1281 2256 1431 2223 \n",
       "Q 1581 2191 1753 2191 \n",
       "Q 1953 2191 2184 2261 \n",
       "Q 2416 2331 2588 2447 \n",
       "Q 2591 2494 2595 2570 \n",
       "Q 2600 2647 2600 2741 \n",
       "z\n",
       "M 209 3141 \n",
       "Q 209 3500 326 3797 \n",
       "Q 444 4094 647 4309 \n",
       "Q 841 4516 1120 4631 \n",
       "Q 1400 4747 1688 4747 \n",
       "Q 2009 4747 2270 4639 \n",
       "Q 2531 4531 2722 4328 \n",
       "Q 2963 4072 3095 3656 \n",
       "Q 3228 3241 3228 2606 \n",
       "Q 3228 2028 3098 1511 \n",
       "Q 2969 994 2716 653 \n",
       "Q 2447 291 2070 100 \n",
       "Q 1694 -91 1141 -91 \n",
       "Q 1016 -91 875 -77 \n",
       "Q 734 -63 613 -25 \n",
       "L 613 572 \n",
       "L 644 572 \n",
       "Q 722 528 887 487 \n",
       "Q 1053 447 1225 447 \n",
       "Q 1838 447 2188 850 \n",
       "Q 2538 1253 2584 2003 \n",
       "Q 2334 1834 2107 1756 \n",
       "Q 1881 1678 1616 1678 \n",
       "Q 1356 1678 1143 1734 \n",
       "Q 931 1791 716 1953 \n",
       "Q 466 2144 337 2436 \n",
       "Q 209 2728 209 3141 \n",
       "z\n",
       "\" id=\"Tahoma-39\" transform=\"scale(0.015625)\"/>\n",
       "       </defs>\n",
       "       <use xlink:href=\"#Tahoma-32\"/>\n",
       "       <use x=\"54.589844\" xlink:href=\"#Tahoma-30\"/>\n",
       "       <use x=\"109.179688\" xlink:href=\"#Tahoma-31\"/>\n",
       "       <use x=\"163.769531\" xlink:href=\"#Tahoma-39\"/>\n",
       "      </g>\n",
       "     </g>\n",
       "    </g>\n",
       "    <g id=\"xtick_2\">\n",
       "     <g id=\"line2d_3\"/>\n",
       "     <g id=\"text_2\">\n",
       "      <!-- Feb -->\n",
       "      <g transform=\"translate(99.789355 404.356875)scale(0.1 -0.1)\">\n",
       "       <defs>\n",
       "        <path d=\"M 3256 4103 \n",
       "L 1091 4103 \n",
       "L 1091 2791 \n",
       "L 3166 2791 \n",
       "L 3166 2241 \n",
       "L 1091 2241 \n",
       "L 1091 0 \n",
       "L 472 0 \n",
       "L 472 4653 \n",
       "L 3256 4653 \n",
       "L 3256 4103 \n",
       "z\n",
       "\" id=\"Tahoma-46\" transform=\"scale(0.015625)\"/>\n",
       "        <path d=\"M 1941 -81 \n",
       "Q 1106 -81 645 389 \n",
       "Q 184 859 184 1725 \n",
       "Q 184 2578 631 3083 \n",
       "Q 1078 3588 1800 3588 \n",
       "Q 2125 3588 2375 3494 \n",
       "Q 2625 3400 2813 3200 \n",
       "Q 3000 3000 3100 2711 \n",
       "Q 3200 2422 3200 2003 \n",
       "L 3200 1684 \n",
       "L 781 1684 \n",
       "Q 781 1075 1087 753 \n",
       "Q 1394 431 1934 431 \n",
       "Q 2128 431 2314 475 \n",
       "Q 2500 519 2650 588 \n",
       "Q 2809 659 2918 726 \n",
       "Q 3028 794 3100 853 \n",
       "L 3134 853 \n",
       "L 3134 213 \n",
       "Q 3031 172 2878 111 \n",
       "Q 2725 50 2603 16 \n",
       "Q 2431 -31 2292 -56 \n",
       "Q 2153 -81 1941 -81 \n",
       "z\n",
       "M 2628 2134 \n",
       "Q 2622 2372 2572 2544 \n",
       "Q 2522 2716 2428 2834 \n",
       "Q 2325 2966 2164 3034 \n",
       "Q 2003 3103 1766 3103 \n",
       "Q 1531 3103 1367 3033 \n",
       "Q 1203 2963 1069 2828 \n",
       "Q 938 2691 869 2523 \n",
       "Q 800 2356 781 2134 \n",
       "L 2628 2134 \n",
       "z\n",
       "\" id=\"Tahoma-65\" transform=\"scale(0.015625)\"/>\n",
       "        <path d=\"M 2747 1756 \n",
       "Q 2747 2381 2556 2704 \n",
       "Q 2366 3028 1944 3028 \n",
       "Q 1703 3028 1458 2915 \n",
       "Q 1213 2803 1013 2631 \n",
       "L 1013 631 \n",
       "Q 1234 522 1406 476 \n",
       "Q 1578 431 1784 431 \n",
       "Q 2234 431 2490 750 \n",
       "Q 2747 1069 2747 1756 \n",
       "z\n",
       "M 3353 1803 \n",
       "Q 3353 947 2937 425 \n",
       "Q 2522 -97 1897 -97 \n",
       "Q 1613 -97 1411 -26 \n",
       "Q 1209 44 1013 163 \n",
       "L 975 0 \n",
       "L 425 0 \n",
       "L 425 4863 \n",
       "L 1013 4863 \n",
       "L 1013 3125 \n",
       "Q 1234 3325 1493 3456 \n",
       "Q 1753 3588 2081 3588 \n",
       "Q 2672 3588 3012 3114 \n",
       "Q 3353 2641 3353 1803 \n",
       "z\n",
       "\" id=\"Tahoma-62\" transform=\"scale(0.015625)\"/>\n",
       "       </defs>\n",
       "       <use xlink:href=\"#Tahoma-46\"/>\n",
       "       <use x=\"49.898438\" xlink:href=\"#Tahoma-65\"/>\n",
       "       <use x=\"102.535156\" xlink:href=\"#Tahoma-62\"/>\n",
       "      </g>\n",
       "     </g>\n",
       "    </g>\n",
       "    <g id=\"xtick_3\">\n",
       "     <g id=\"line2d_4\"/>\n",
       "     <g id=\"text_3\">\n",
       "      <!-- Mar -->\n",
       "      <g transform=\"translate(183.649023 404.356875)scale(0.1 -0.1)\">\n",
       "       <defs>\n",
       "        <path d=\"M 4459 0 \n",
       "L 3841 0 \n",
       "L 3841 4009 \n",
       "L 2628 1281 \n",
       "L 2253 1281 \n",
       "L 1050 4009 \n",
       "L 1050 0 \n",
       "L 472 0 \n",
       "L 472 4653 \n",
       "L 1316 4653 \n",
       "L 2478 2063 \n",
       "L 3600 4653 \n",
       "L 4459 4653 \n",
       "L 4459 0 \n",
       "z\n",
       "\" id=\"Tahoma-4d\" transform=\"scale(0.015625)\"/>\n",
       "        <path d=\"M 2275 2859 \n",
       "L 2244 2859 \n",
       "Q 2178 2878 2104 2883 \n",
       "Q 2031 2888 1928 2888 \n",
       "Q 1691 2888 1456 2784 \n",
       "Q 1222 2681 1013 2478 \n",
       "L 1013 0 \n",
       "L 425 0 \n",
       "L 425 3491 \n",
       "L 1013 3491 \n",
       "L 1013 2972 \n",
       "Q 1334 3256 1573 3373 \n",
       "Q 1813 3491 2038 3491 \n",
       "Q 2128 3491 2173 3486 \n",
       "Q 2219 3481 2275 3472 \n",
       "L 2275 2859 \n",
       "z\n",
       "\" id=\"Tahoma-72\" transform=\"scale(0.015625)\"/>\n",
       "       </defs>\n",
       "       <use xlink:href=\"#Tahoma-4d\"/>\n",
       "       <use x=\"77.050781\" xlink:href=\"#Tahoma-61\"/>\n",
       "       <use x=\"129.541016\" xlink:href=\"#Tahoma-72\"/>\n",
       "      </g>\n",
       "     </g>\n",
       "    </g>\n",
       "    <g id=\"xtick_4\">\n",
       "     <g id=\"line2d_5\"/>\n",
       "     <g id=\"text_4\">\n",
       "      <!-- Apr -->\n",
       "      <g transform=\"translate(268.609473 404.356875)scale(0.1 -0.1)\">\n",
       "       <defs>\n",
       "        <path d=\"M -31 0 \n",
       "L 1538 4653 \n",
       "L 2300 4653 \n",
       "L 3869 0 \n",
       "L 3216 0 \n",
       "L 2794 1300 \n",
       "L 1016 1300 \n",
       "L 594 0 \n",
       "L -31 0 \n",
       "z\n",
       "M 2622 1828 \n",
       "L 1903 4022 \n",
       "L 1188 1828 \n",
       "L 2622 1828 \n",
       "z\n",
       "\" id=\"Tahoma-41\" transform=\"scale(0.015625)\"/>\n",
       "        <path d=\"M 3353 1838 \n",
       "Q 3353 966 2936 448 \n",
       "Q 2519 -69 1881 -69 \n",
       "Q 1622 -69 1422 -9 \n",
       "Q 1222 50 1013 175 \n",
       "L 1013 -1288 \n",
       "L 425 -1288 \n",
       "L 425 3491 \n",
       "L 1013 3491 \n",
       "L 1013 3125 \n",
       "Q 1231 3322 1498 3455 \n",
       "Q 1766 3588 2081 3588 \n",
       "Q 2681 3588 3017 3113 \n",
       "Q 3353 2638 3353 1838 \n",
       "z\n",
       "M 2747 1772 \n",
       "Q 2747 2369 2556 2698 \n",
       "Q 2366 3028 1938 3028 \n",
       "Q 1688 3028 1455 2917 \n",
       "Q 1222 2806 1013 2631 \n",
       "L 1013 653 \n",
       "Q 1244 541 1408 500 \n",
       "Q 1572 459 1784 459 \n",
       "Q 2241 459 2494 793 \n",
       "Q 2747 1128 2747 1772 \n",
       "z\n",
       "\" id=\"Tahoma-70\" transform=\"scale(0.015625)\"/>\n",
       "       </defs>\n",
       "       <use xlink:href=\"#Tahoma-41\"/>\n",
       "       <use x=\"59.960938\" xlink:href=\"#Tahoma-70\"/>\n",
       "       <use x=\"115.234375\" xlink:href=\"#Tahoma-72\"/>\n",
       "      </g>\n",
       "     </g>\n",
       "    </g>\n",
       "    <g id=\"xtick_5\">\n",
       "     <g id=\"line2d_6\"/>\n",
       "     <g id=\"text_5\">\n",
       "      <!-- May -->\n",
       "      <g transform=\"translate(351.483984 404.356875)scale(0.1 -0.1)\">\n",
       "       <defs>\n",
       "        <path d=\"M 3169 3491 \n",
       "L 1291 -1288 \n",
       "L 663 -1288 \n",
       "L 1288 169 \n",
       "L 19 3491 \n",
       "L 653 3491 \n",
       "L 1606 906 \n",
       "L 2556 3491 \n",
       "L 3169 3491 \n",
       "z\n",
       "\" id=\"Tahoma-79\" transform=\"scale(0.015625)\"/>\n",
       "       </defs>\n",
       "       <use xlink:href=\"#Tahoma-4d\"/>\n",
       "       <use x=\"77.050781\" xlink:href=\"#Tahoma-61\"/>\n",
       "       <use x=\"128.916016\" xlink:href=\"#Tahoma-79\"/>\n",
       "      </g>\n",
       "     </g>\n",
       "    </g>\n",
       "    <g id=\"xtick_6\">\n",
       "     <g id=\"line2d_7\"/>\n",
       "     <g id=\"text_6\">\n",
       "      <!-- Jun -->\n",
       "      <g transform=\"translate(437.006934 404.356875)scale(0.1 -0.1)\">\n",
       "       <defs>\n",
       "        <path d=\"M 3144 0 \n",
       "L 2556 0 \n",
       "L 2556 388 \n",
       "Q 2284 150 2040 26 \n",
       "Q 1797 -97 1497 -97 \n",
       "Q 1269 -97 1067 -22 \n",
       "Q 866 53 716 216 \n",
       "Q 566 378 483 625 \n",
       "Q 400 872 400 1225 \n",
       "L 400 3491 \n",
       "L 988 3491 \n",
       "L 988 1503 \n",
       "Q 988 1225 1008 1042 \n",
       "Q 1028 859 1100 722 \n",
       "Q 1172 588 1295 525 \n",
       "Q 1419 463 1650 463 \n",
       "Q 1866 463 2109 584 \n",
       "Q 2353 706 2556 884 \n",
       "L 2556 3491 \n",
       "L 3144 3491 \n",
       "L 3144 0 \n",
       "z\n",
       "\" id=\"Tahoma-75\" transform=\"scale(0.015625)\"/>\n",
       "       </defs>\n",
       "       <use xlink:href=\"#Tahoma-4a\"/>\n",
       "       <use x=\"41.650391\" xlink:href=\"#Tahoma-75\"/>\n",
       "       <use x=\"97.412109\" xlink:href=\"#Tahoma-6e\"/>\n",
       "      </g>\n",
       "     </g>\n",
       "    </g>\n",
       "    <g id=\"xtick_7\">\n",
       "     <g id=\"line2d_8\"/>\n",
       "     <g id=\"text_7\">\n",
       "      <!-- Jul -->\n",
       "      <g transform=\"translate(522.898633 404.356875)scale(0.1 -0.1)\">\n",
       "       <defs>\n",
       "        <path d=\"M 1025 0 \n",
       "L 438 0 \n",
       "L 438 4863 \n",
       "L 1025 4863 \n",
       "L 1025 0 \n",
       "z\n",
       "\" id=\"Tahoma-6c\" transform=\"scale(0.015625)\"/>\n",
       "       </defs>\n",
       "       <use xlink:href=\"#Tahoma-4a\"/>\n",
       "       <use x=\"41.650391\" xlink:href=\"#Tahoma-75\"/>\n",
       "       <use x=\"97.412109\" xlink:href=\"#Tahoma-6c\"/>\n",
       "      </g>\n",
       "     </g>\n",
       "    </g>\n",
       "    <g id=\"xtick_8\">\n",
       "     <g id=\"line2d_9\"/>\n",
       "     <g id=\"text_8\">\n",
       "      <!-- Aug -->\n",
       "      <g transform=\"translate(604.633301 404.30375)scale(0.1 -0.1)\">\n",
       "       <defs>\n",
       "        <path d=\"M 2525 947 \n",
       "L 2525 2863 \n",
       "Q 2306 2969 2120 3014 \n",
       "Q 1934 3059 1750 3059 \n",
       "Q 1303 3059 1047 2731 \n",
       "Q 791 2403 791 1791 \n",
       "Q 791 1209 986 906 \n",
       "Q 1181 603 1619 603 \n",
       "Q 1847 603 2089 693 \n",
       "Q 2331 784 2525 947 \n",
       "z\n",
       "M 550 -559 \n",
       "Q 609 -584 725 -626 \n",
       "Q 841 -669 988 -706 \n",
       "Q 1150 -747 1287 -772 \n",
       "Q 1425 -797 1588 -797 \n",
       "Q 1859 -797 2048 -725 \n",
       "Q 2238 -653 2344 -525 \n",
       "Q 2444 -397 2484 -228 \n",
       "Q 2525 -59 2525 156 \n",
       "L 2525 463 \n",
       "Q 2288 256 2059 157 \n",
       "Q 1831 59 1488 59 \n",
       "Q 891 59 537 503 \n",
       "Q 184 947 184 1778 \n",
       "Q 184 2213 306 2548 \n",
       "Q 428 2884 634 3119 \n",
       "Q 831 3344 1100 3466 \n",
       "Q 1369 3588 1656 3588 \n",
       "Q 1928 3588 2126 3523 \n",
       "Q 2325 3459 2525 3341 \n",
       "L 2559 3491 \n",
       "L 3113 3491 \n",
       "L 3113 397 \n",
       "Q 3113 -491 2725 -906 \n",
       "Q 2338 -1322 1541 -1322 \n",
       "Q 1284 -1322 1017 -1281 \n",
       "Q 750 -1241 519 -1172 \n",
       "L 519 -559 \n",
       "L 550 -559 \n",
       "z\n",
       "\" id=\"Tahoma-67\" transform=\"scale(0.015625)\"/>\n",
       "       </defs>\n",
       "       <use xlink:href=\"#Tahoma-41\"/>\n",
       "       <use x=\"59.460938\" xlink:href=\"#Tahoma-75\"/>\n",
       "       <use x=\"115.222656\" xlink:href=\"#Tahoma-67\"/>\n",
       "      </g>\n",
       "     </g>\n",
       "    </g>\n",
       "    <g id=\"xtick_9\">\n",
       "     <g id=\"line2d_10\"/>\n",
       "     <g id=\"text_9\">\n",
       "      <!-- Sep -->\n",
       "      <g transform=\"translate(689.210938 404.356875)scale(0.1 -0.1)\">\n",
       "       <defs>\n",
       "        <path d=\"M 1769 -84 \n",
       "Q 1263 -84 908 20 \n",
       "Q 553 125 241 278 \n",
       "L 241 1053 \n",
       "L 284 1053 \n",
       "Q 591 766 978 608 \n",
       "Q 1366 450 1725 450 \n",
       "Q 2238 450 2500 664 \n",
       "Q 2763 878 2763 1228 \n",
       "Q 2763 1506 2625 1681 \n",
       "Q 2488 1856 2188 1941 \n",
       "Q 1972 2003 1794 2043 \n",
       "Q 1616 2084 1347 2153 \n",
       "Q 1106 2216 915 2312 \n",
       "Q 725 2409 578 2566 \n",
       "Q 434 2719 354 2926 \n",
       "Q 275 3134 275 3406 \n",
       "Q 275 3972 715 4355 \n",
       "Q 1156 4738 1841 4738 \n",
       "Q 2231 4738 2579 4659 \n",
       "Q 2928 4581 3225 4438 \n",
       "L 3225 3697 \n",
       "L 3178 3697 \n",
       "Q 2956 3900 2609 4051 \n",
       "Q 2263 4203 1881 4203 \n",
       "Q 1450 4203 1184 4001 \n",
       "Q 919 3800 919 3472 \n",
       "Q 919 3175 1075 3000 \n",
       "Q 1231 2825 1528 2744 \n",
       "Q 1725 2691 2009 2623 \n",
       "Q 2294 2556 2481 2500 \n",
       "Q 2963 2353 3184 2056 \n",
       "Q 3406 1759 3406 1325 \n",
       "Q 3406 1053 3295 787 \n",
       "Q 3184 522 2984 338 \n",
       "Q 2759 134 2476 25 \n",
       "Q 2194 -84 1769 -84 \n",
       "z\n",
       "\" id=\"Tahoma-53\" transform=\"scale(0.015625)\"/>\n",
       "       </defs>\n",
       "       <use xlink:href=\"#Tahoma-53\"/>\n",
       "       <use x=\"55.962891\" xlink:href=\"#Tahoma-65\"/>\n",
       "       <use x=\"108.599609\" xlink:href=\"#Tahoma-70\"/>\n",
       "      </g>\n",
       "     </g>\n",
       "    </g>\n",
       "   </g>\n",
       "   <g id=\"matplotlib.axis_2\">\n",
       "    <g id=\"ytick_1\">\n",
       "     <g id=\"line2d_11\">\n",
       "      <path clip-path=\"url(#p5ddcc2bb3b)\" d=\"M 23.434375 383.043258 \n",
       "L 697.405469 383.043258 \n",
       "\" style=\"fill:none;stroke:#b0b0b0;\"/>\n",
       "     </g>\n",
       "     <g id=\"line2d_12\"/>\n",
       "     <g id=\"text_10\">\n",
       "      <!-- −3 -->\n",
       "      <g transform=\"translate(7.2 386.842477)scale(0.1 -0.1)\">\n",
       "       <defs>\n",
       "        <path d=\"M 4088 1788 \n",
       "L 569 1788 \n",
       "L 569 2288 \n",
       "L 4088 2288 \n",
       "L 4088 1788 \n",
       "z\n",
       "\" id=\"Tahoma-2212\" transform=\"scale(0.015625)\"/>\n",
       "        <path d=\"M 1597 4209 \n",
       "Q 1428 4209 1259 4168 \n",
       "Q 1091 4128 928 4063 \n",
       "Q 778 4000 667 3931 \n",
       "Q 556 3863 469 3803 \n",
       "L 431 3803 \n",
       "L 431 4463 \n",
       "Q 634 4572 982 4661 \n",
       "Q 1331 4750 1647 4750 \n",
       "Q 1963 4750 2198 4686 \n",
       "Q 2434 4622 2625 4488 \n",
       "Q 2831 4338 2936 4125 \n",
       "Q 3041 3913 3041 3628 \n",
       "Q 3041 3244 2787 2953 \n",
       "Q 2534 2663 2181 2584 \n",
       "L 2181 2541 \n",
       "Q 2328 2513 2495 2444 \n",
       "Q 2663 2375 2806 2241 \n",
       "Q 2950 2106 3040 1895 \n",
       "Q 3131 1684 3131 1381 \n",
       "Q 3131 1066 3023 802 \n",
       "Q 2916 538 2719 334 \n",
       "Q 2516 122 2228 12 \n",
       "Q 1941 -97 1575 -97 \n",
       "Q 1225 -97 881 -12 \n",
       "Q 538 72 303 191 \n",
       "L 303 850 \n",
       "L 347 850 \n",
       "Q 544 706 875 575 \n",
       "Q 1206 444 1538 444 \n",
       "Q 1728 444 1920 505 \n",
       "Q 2113 566 2241 703 \n",
       "Q 2366 841 2431 1006 \n",
       "Q 2497 1172 2497 1425 \n",
       "Q 2497 1678 2423 1840 \n",
       "Q 2350 2003 2219 2097 \n",
       "Q 2088 2191 1908 2227 \n",
       "Q 1728 2263 1519 2263 \n",
       "L 1253 2263 \n",
       "L 1253 2781 \n",
       "L 1459 2781 \n",
       "Q 1881 2781 2145 2981 \n",
       "Q 2409 3181 2409 3563 \n",
       "Q 2409 3738 2340 3864 \n",
       "Q 2272 3991 2166 4066 \n",
       "Q 2047 4147 1903 4178 \n",
       "Q 1759 4209 1597 4209 \n",
       "z\n",
       "\" id=\"Tahoma-33\" transform=\"scale(0.015625)\"/>\n",
       "       </defs>\n",
       "       <use xlink:href=\"#Tahoma-2212\"/>\n",
       "       <use x=\"72.753906\" xlink:href=\"#Tahoma-33\"/>\n",
       "      </g>\n",
       "     </g>\n",
       "    </g>\n",
       "    <g id=\"ytick_2\">\n",
       "     <g id=\"line2d_13\">\n",
       "      <path clip-path=\"url(#p5ddcc2bb3b)\" d=\"M 23.434375 315.319413 \n",
       "L 697.405469 315.319413 \n",
       "\" style=\"fill:none;stroke:#b0b0b0;\"/>\n",
       "     </g>\n",
       "     <g id=\"line2d_14\"/>\n",
       "     <g id=\"text_11\">\n",
       "      <!-- −2 -->\n",
       "      <g transform=\"translate(7.2 319.118632)scale(0.1 -0.1)\">\n",
       "       <use xlink:href=\"#Tahoma-2212\"/>\n",
       "       <use x=\"72.753906\" xlink:href=\"#Tahoma-32\"/>\n",
       "      </g>\n",
       "     </g>\n",
       "    </g>\n",
       "    <g id=\"ytick_3\">\n",
       "     <g id=\"line2d_15\">\n",
       "      <path clip-path=\"url(#p5ddcc2bb3b)\" d=\"M 23.434375 247.595569 \n",
       "L 697.405469 247.595569 \n",
       "\" style=\"fill:none;stroke:#b0b0b0;\"/>\n",
       "     </g>\n",
       "     <g id=\"line2d_16\"/>\n",
       "     <g id=\"text_12\">\n",
       "      <!-- −1 -->\n",
       "      <g transform=\"translate(7.2 251.394788)scale(0.1 -0.1)\">\n",
       "       <use xlink:href=\"#Tahoma-2212\"/>\n",
       "       <use x=\"72.753906\" xlink:href=\"#Tahoma-31\"/>\n",
       "      </g>\n",
       "     </g>\n",
       "    </g>\n",
       "    <g id=\"ytick_4\">\n",
       "     <g id=\"line2d_17\">\n",
       "      <path clip-path=\"url(#p5ddcc2bb3b)\" d=\"M 23.434375 179.871724 \n",
       "L 697.405469 179.871724 \n",
       "\" style=\"fill:none;stroke:#b0b0b0;\"/>\n",
       "     </g>\n",
       "     <g id=\"line2d_18\"/>\n",
       "     <g id=\"text_13\">\n",
       "      <!-- 0 -->\n",
       "      <g transform=\"translate(14.475 183.670943)scale(0.1 -0.1)\">\n",
       "       <use xlink:href=\"#Tahoma-30\"/>\n",
       "      </g>\n",
       "     </g>\n",
       "    </g>\n",
       "    <g id=\"ytick_5\">\n",
       "     <g id=\"line2d_19\">\n",
       "      <path clip-path=\"url(#p5ddcc2bb3b)\" d=\"M 23.434375 112.147879 \n",
       "L 697.405469 112.147879 \n",
       "\" style=\"fill:none;stroke:#b0b0b0;\"/>\n",
       "     </g>\n",
       "     <g id=\"line2d_20\"/>\n",
       "     <g id=\"text_14\">\n",
       "      <!-- 1 -->\n",
       "      <g transform=\"translate(14.475 115.947098)scale(0.1 -0.1)\">\n",
       "       <use xlink:href=\"#Tahoma-31\"/>\n",
       "      </g>\n",
       "     </g>\n",
       "    </g>\n",
       "    <g id=\"ytick_6\">\n",
       "     <g id=\"line2d_21\">\n",
       "      <path clip-path=\"url(#p5ddcc2bb3b)\" d=\"M 23.434375 44.424035 \n",
       "L 697.405469 44.424035 \n",
       "\" style=\"fill:none;stroke:#b0b0b0;\"/>\n",
       "     </g>\n",
       "     <g id=\"line2d_22\"/>\n",
       "     <g id=\"text_15\">\n",
       "      <!-- 2 -->\n",
       "      <g transform=\"translate(14.475 48.223253)scale(0.1 -0.1)\">\n",
       "       <use xlink:href=\"#Tahoma-32\"/>\n",
       "      </g>\n",
       "     </g>\n",
       "    </g>\n",
       "   </g>\n",
       "   <g id=\"line2d_23\">\n",
       "    <path clip-path=\"url(#p5ddcc2bb3b)\" d=\"M 23.434375 146.232332 \n",
       "L 107.680762 162.090099 \n",
       "L 191.927148 193.884709 \n",
       "L 276.173535 177.498094 \n",
       "L 360.419922 246.090911 \n",
       "L 444.666309 146.831542 \n",
       "L 528.912695 183.699233 \n",
       "L 613.159082 224.376794 \n",
       "L 697.405469 225.290878 \n",
       "\" style=\"fill:none;stroke:#51a7f9;stroke-width:2;\"/>\n",
       "   </g>\n",
       "   <g id=\"line2d_24\">\n",
       "    <path clip-path=\"url(#p5ddcc2bb3b)\" d=\"M 23.434375 189.235514 \n",
       "L 107.680762 205.092169 \n",
       "L 191.927148 168.347917 \n",
       "L 276.173535 297.922611 \n",
       "L 360.419922 276.640574 \n",
       "L 444.666309 291.931013 \n",
       "L 528.912695 284.418908 \n",
       "L 613.159082 304.173531 \n",
       "L 697.405469 375.805781 \n",
       "\" style=\"fill:none;stroke:#cf51f9;stroke-width:2;\"/>\n",
       "   </g>\n",
       "   <g id=\"line2d_25\">\n",
       "    <path clip-path=\"url(#p5ddcc2bb3b)\" d=\"M 23.434375 136.007766 \n",
       "L 107.680762 29.057403 \n",
       "L 191.927148 60.441831 \n",
       "L 276.173535 177.259898 \n",
       "L 360.419922 238.754779 \n",
       "L 444.666309 234.18151 \n",
       "L 528.912695 312.13122 \n",
       "L 613.159082 352.881105 \n",
       "L 697.405469 297.175201 \n",
       "\" style=\"fill:none;stroke:#70bf41;stroke-width:2;\"/>\n",
       "   </g>\n",
       "   <g id=\"line2d_26\">\n",
       "    <path clip-path=\"url(#p5ddcc2bb3b)\" d=\"M 23.434375 76.726287 \n",
       "L 107.680762 24.752656 \n",
       "L 191.927148 56.293666 \n",
       "L 276.173535 94.373939 \n",
       "L 360.419922 190.020576 \n",
       "L 444.666309 286.51 \n",
       "L 528.912695 261.066286 \n",
       "L 613.159082 135.622886 \n",
       "L 697.405469 218.303112 \n",
       "\" style=\"fill:none;stroke:#f39019;stroke-width:2;\"/>\n",
       "   </g>\n",
       "   <g id=\"patch_3\">\n",
       "    <path d=\"M 23.434375 393.358437 \n",
       "L 23.434375 7.2 \n",
       "\" style=\"fill:none;stroke:#f0f0f0;stroke-linecap:square;stroke-linejoin:miter;stroke-width:3;\"/>\n",
       "   </g>\n",
       "   <g id=\"patch_4\">\n",
       "    <path d=\"M 697.405469 393.358437 \n",
       "L 697.405469 7.2 \n",
       "\" style=\"fill:none;stroke:#f0f0f0;stroke-linecap:square;stroke-linejoin:miter;stroke-width:3;\"/>\n",
       "   </g>\n",
       "   <g id=\"patch_5\">\n",
       "    <path d=\"M 23.434375 393.358437 \n",
       "L 697.405469 393.358437 \n",
       "\" style=\"fill:none;stroke:#f0f0f0;stroke-linecap:square;stroke-linejoin:miter;stroke-width:3;\"/>\n",
       "   </g>\n",
       "   <g id=\"patch_6\">\n",
       "    <path d=\"M 23.434375 7.2 \n",
       "L 697.405469 7.2 \n",
       "\" style=\"fill:none;stroke:#f0f0f0;stroke-linecap:square;stroke-linejoin:miter;stroke-width:3;\"/>\n",
       "   </g>\n",
       "   <g id=\"legend_1\">\n",
       "    <g id=\"patch_7\">\n",
       "     <path d=\"M 640.841406 73.64375 \n",
       "L 690.405469 73.64375 \n",
       "Q 692.405469 73.64375 692.405469 71.64375 \n",
       "L 692.405469 14.2 \n",
       "Q 692.405469 12.2 690.405469 12.2 \n",
       "L 640.841406 12.2 \n",
       "Q 638.841406 12.2 638.841406 14.2 \n",
       "L 638.841406 71.64375 \n",
       "Q 638.841406 73.64375 640.841406 73.64375 \n",
       "z\n",
       "\" style=\"fill:#ffffff;opacity:0.8;stroke:#cccccc;stroke-linejoin:miter;stroke-width:0.5;\"/>\n",
       "    </g>\n",
       "    <g id=\"line2d_27\">\n",
       "     <path d=\"M 642.841406 20.298437 \n",
       "L 662.841406 20.298437 \n",
       "\" style=\"fill:none;stroke:#51a7f9;stroke-width:2;\"/>\n",
       "    </g>\n",
       "    <g id=\"line2d_28\"/>\n",
       "    <g id=\"text_16\">\n",
       "     <!-- No1 -->\n",
       "     <g transform=\"translate(670.841406 23.798437)scale(0.1 -0.1)\">\n",
       "      <defs>\n",
       "       <path d=\"M 3800 0 \n",
       "L 3106 0 \n",
       "L 1050 4013 \n",
       "L 1050 0 \n",
       "L 472 0 \n",
       "L 472 4653 \n",
       "L 1350 4653 \n",
       "L 3222 969 \n",
       "L 3222 4653 \n",
       "L 3800 4653 \n",
       "L 3800 0 \n",
       "z\n",
       "\" id=\"Tahoma-4e\" transform=\"scale(0.015625)\"/>\n",
       "       <path d=\"M 3297 1744 \n",
       "Q 3297 863 2872 383 \n",
       "Q 2447 -97 1741 -97 \n",
       "Q 1013 -97 595 398 \n",
       "Q 178 894 178 1744 \n",
       "Q 178 2619 608 3103 \n",
       "Q 1038 3588 1741 3588 \n",
       "Q 2447 3588 2872 3105 \n",
       "Q 3297 2622 3297 1744 \n",
       "z\n",
       "M 2691 1744 \n",
       "Q 2691 2422 2444 2751 \n",
       "Q 2197 3081 1741 3081 \n",
       "Q 1281 3081 1032 2751 \n",
       "Q 784 2422 784 1744 \n",
       "Q 784 1088 1032 748 \n",
       "Q 1281 409 1741 409 \n",
       "Q 2194 409 2442 742 \n",
       "Q 2691 1075 2691 1744 \n",
       "z\n",
       "\" id=\"Tahoma-6f\" transform=\"scale(0.015625)\"/>\n",
       "      </defs>\n",
       "      <use xlink:href=\"#Tahoma-4e\"/>\n",
       "      <use x=\"66.748047\" xlink:href=\"#Tahoma-6f\"/>\n",
       "      <use x=\"121.044922\" xlink:href=\"#Tahoma-31\"/>\n",
       "     </g>\n",
       "    </g>\n",
       "    <g id=\"line2d_29\">\n",
       "     <path d=\"M 642.841406 34.909375 \n",
       "L 662.841406 34.909375 \n",
       "\" style=\"fill:none;stroke:#cf51f9;stroke-width:2;\"/>\n",
       "    </g>\n",
       "    <g id=\"line2d_30\"/>\n",
       "    <g id=\"text_17\">\n",
       "     <!-- No2 -->\n",
       "     <g transform=\"translate(670.841406 38.409375)scale(0.1 -0.1)\">\n",
       "      <use xlink:href=\"#Tahoma-4e\"/>\n",
       "      <use x=\"66.748047\" xlink:href=\"#Tahoma-6f\"/>\n",
       "      <use x=\"121.044922\" xlink:href=\"#Tahoma-32\"/>\n",
       "     </g>\n",
       "    </g>\n",
       "    <g id=\"line2d_31\">\n",
       "     <path d=\"M 642.841406 49.520312 \n",
       "L 662.841406 49.520312 \n",
       "\" style=\"fill:none;stroke:#70bf41;stroke-width:2;\"/>\n",
       "    </g>\n",
       "    <g id=\"line2d_32\"/>\n",
       "    <g id=\"text_18\">\n",
       "     <!-- No3 -->\n",
       "     <g transform=\"translate(670.841406 53.020312)scale(0.1 -0.1)\">\n",
       "      <use xlink:href=\"#Tahoma-4e\"/>\n",
       "      <use x=\"66.748047\" xlink:href=\"#Tahoma-6f\"/>\n",
       "      <use x=\"121.044922\" xlink:href=\"#Tahoma-33\"/>\n",
       "     </g>\n",
       "    </g>\n",
       "    <g id=\"line2d_33\">\n",
       "     <path d=\"M 642.841406 64.13125 \n",
       "L 662.841406 64.13125 \n",
       "\" style=\"fill:none;stroke:#f39019;stroke-width:2;\"/>\n",
       "    </g>\n",
       "    <g id=\"line2d_34\"/>\n",
       "    <g id=\"text_19\">\n",
       "     <!-- No4 -->\n",
       "     <g transform=\"translate(670.841406 67.63125)scale(0.1 -0.1)\">\n",
       "      <defs>\n",
       "       <path d=\"M 3334 1600 \n",
       "L 2781 1600 \n",
       "L 2781 0 \n",
       "L 2181 0 \n",
       "L 2181 1600 \n",
       "L 125 1600 \n",
       "L 125 2256 \n",
       "L 2206 4653 \n",
       "L 2781 4653 \n",
       "L 2781 2100 \n",
       "L 3334 2100 \n",
       "L 3334 1600 \n",
       "z\n",
       "M 2181 2100 \n",
       "L 2181 3919 \n",
       "L 613 2100 \n",
       "L 2181 2100 \n",
       "z\n",
       "\" id=\"Tahoma-34\" transform=\"scale(0.015625)\"/>\n",
       "      </defs>\n",
       "      <use xlink:href=\"#Tahoma-4e\"/>\n",
       "      <use x=\"66.748047\" xlink:href=\"#Tahoma-6f\"/>\n",
       "      <use x=\"121.044922\" xlink:href=\"#Tahoma-34\"/>\n",
       "     </g>\n",
       "    </g>\n",
       "   </g>\n",
       "  </g>\n",
       " </g>\n",
       " <defs>\n",
       "  <clipPath id=\"p5ddcc2bb3b\">\n",
       "   <rect height=\"386.158438\" width=\"673.971094\" x=\"23.434375\" y=\"7.2\"/>\n",
       "  </clipPath>\n",
       " </defs>\n",
       "</svg>\n"
      ],
      "text/plain": [
       "<Figure size 3000x1800 with 1 Axes>"
      ]
     },
     "metadata": {
      "needs_background": "light"
     },
     "output_type": "display_data"
    }
   ],
   "source": [
    "df.cumsum().plot(lw=2.0, figsize=(10, 6));  "
   ]
  },
  {
   "cell_type": "code",
   "execution_count": 47,
   "metadata": {
    "slideshow": {
     "slide_type": "slide"
    },
    "uuid": "4b1834ec-9f9b-41d6-8d06-f2efc8433dc4"
   },
   "outputs": [
    {
     "data": {
      "image/svg+xml": [
       "<?xml version=\"1.0\" encoding=\"utf-8\" standalone=\"no\"?>\n",
       "<!DOCTYPE svg PUBLIC \"-//W3C//DTD SVG 1.1//EN\"\n",
       "  \"http://www.w3.org/Graphics/SVG/1.1/DTD/svg11.dtd\">\n",
       "<svg height=\"424.556552pt\" version=\"1.1\" viewBox=\"0 0 707.043433 424.556552\" width=\"707.043433pt\" xmlns=\"http://www.w3.org/2000/svg\" xmlns:xlink=\"http://www.w3.org/1999/xlink\">\n",
       " <metadata>\n",
       "  <rdf:RDF xmlns:cc=\"http://creativecommons.org/ns#\" xmlns:dc=\"http://purl.org/dc/elements/1.1/\" xmlns:rdf=\"http://www.w3.org/1999/02/22-rdf-syntax-ns#\">\n",
       "   <cc:Work>\n",
       "    <dc:type rdf:resource=\"http://purl.org/dc/dcmitype/StillImage\"/>\n",
       "    <dc:date>2023-02-13T12:09:47.692938</dc:date>\n",
       "    <dc:format>image/svg+xml</dc:format>\n",
       "    <dc:creator>\n",
       "     <cc:Agent>\n",
       "      <dc:title>Matplotlib v3.4.2, https://matplotlib.org/</dc:title>\n",
       "     </cc:Agent>\n",
       "    </dc:creator>\n",
       "   </cc:Work>\n",
       "  </rdf:RDF>\n",
       " </metadata>\n",
       " <defs>\n",
       "  <style type=\"text/css\">*{stroke-linecap:butt;stroke-linejoin:round;}</style>\n",
       " </defs>\n",
       " <g id=\"figure_1\">\n",
       "  <g id=\"patch_1\">\n",
       "   <path d=\"M 0 424.556552 \n",
       "L 707.043433 424.556552 \n",
       "L 707.043433 0 \n",
       "L 0 0 \n",
       "z\n",
       "\" style=\"fill:none;\"/>\n",
       "  </g>\n",
       "  <g id=\"axes_1\">\n",
       "   <g id=\"patch_2\">\n",
       "    <path d=\"M 31.921875 358.586361 \n",
       "L 693.540079 358.586361 \n",
       "L 693.540079 7.562286 \n",
       "L 31.921875 7.562286 \n",
       "z\n",
       "\" style=\"fill:#ffffff;\"/>\n",
       "   </g>\n",
       "   <g id=\"matplotlib.axis_1\">\n",
       "    <g id=\"xtick_1\">\n",
       "     <g id=\"line2d_1\">\n",
       "      <path clip-path=\"url(#pe770d68d9f)\" d=\"M 68.678442 358.586361 \n",
       "L 68.678442 7.562286 \n",
       "\" style=\"fill:none;stroke:#b0b0b0;\"/>\n",
       "     </g>\n",
       "     <g id=\"line2d_2\"/>\n",
       "     <g id=\"text_1\">\n",
       "      <!-- 2019-01-31 00:00:00 -->\n",
       "      <g transform=\"translate(29.41774 415.613676)rotate(-30)scale(0.1 -0.1)\">\n",
       "       <defs>\n",
       "        <path d=\"M 3213 0 \n",
       "L 341 0 \n",
       "L 341 653 \n",
       "Q 650 947 925 1215 \n",
       "Q 1200 1484 1463 1775 \n",
       "Q 1994 2359 2187 2711 \n",
       "Q 2381 3063 2381 3438 \n",
       "Q 2381 3631 2320 3778 \n",
       "Q 2259 3925 2153 4022 \n",
       "Q 2044 4116 1900 4162 \n",
       "Q 1756 4209 1584 4209 \n",
       "Q 1419 4209 1248 4167 \n",
       "Q 1078 4125 922 4063 \n",
       "Q 791 4009 669 3934 \n",
       "Q 547 3859 472 3806 \n",
       "L 438 3806 \n",
       "L 438 4469 \n",
       "Q 631 4566 976 4658 \n",
       "Q 1322 4750 1631 4750 \n",
       "Q 2281 4750 2650 4404 \n",
       "Q 3019 4059 3019 3469 \n",
       "Q 3019 3197 2955 2965 \n",
       "Q 2891 2734 2778 2538 \n",
       "Q 2663 2334 2500 2134 \n",
       "Q 2338 1934 2156 1741 \n",
       "Q 1863 1422 1502 1078 \n",
       "Q 1141 734 925 534 \n",
       "L 3213 534 \n",
       "L 3213 0 \n",
       "z\n",
       "\" id=\"Tahoma-32\" transform=\"scale(0.015625)\"/>\n",
       "        <path d=\"M 3234 2328 \n",
       "Q 3234 1075 2870 489 \n",
       "Q 2506 -97 1747 -97 \n",
       "Q 978 -97 618 500 \n",
       "Q 259 1097 259 2322 \n",
       "Q 259 3581 623 4164 \n",
       "Q 988 4747 1747 4747 \n",
       "Q 2516 4747 2875 4144 \n",
       "Q 3234 3541 3234 2328 \n",
       "z\n",
       "M 2434 909 \n",
       "Q 2525 1141 2562 1494 \n",
       "Q 2600 1847 2600 2328 \n",
       "Q 2600 2806 2562 3159 \n",
       "Q 2525 3513 2431 3747 \n",
       "Q 2338 3984 2173 4107 \n",
       "Q 2009 4231 1747 4231 \n",
       "Q 1488 4231 1320 4107 \n",
       "Q 1153 3984 1056 3741 \n",
       "Q 963 3503 928 3140 \n",
       "Q 894 2778 894 2322 \n",
       "Q 894 1834 923 1506 \n",
       "Q 953 1178 1053 919 \n",
       "Q 1144 678 1311 548 \n",
       "Q 1478 419 1747 419 \n",
       "Q 2006 419 2173 542 \n",
       "Q 2341 666 2434 909 \n",
       "z\n",
       "\" id=\"Tahoma-30\" transform=\"scale(0.015625)\"/>\n",
       "        <path d=\"M 2975 0 \n",
       "L 706 0 \n",
       "L 706 475 \n",
       "L 1550 475 \n",
       "L 1550 3594 \n",
       "L 706 3594 \n",
       "L 706 4019 \n",
       "Q 1184 4019 1411 4155 \n",
       "Q 1638 4291 1666 4669 \n",
       "L 2150 4669 \n",
       "L 2150 475 \n",
       "L 2975 475 \n",
       "L 2975 0 \n",
       "z\n",
       "\" id=\"Tahoma-31\" transform=\"scale(0.015625)\"/>\n",
       "        <path d=\"M 2600 2741 \n",
       "Q 2600 3216 2512 3514 \n",
       "Q 2425 3813 2272 3975 \n",
       "Q 2134 4125 1993 4181 \n",
       "Q 1853 4238 1684 4238 \n",
       "Q 1300 4238 1072 3963 \n",
       "Q 844 3688 844 3166 \n",
       "Q 844 2872 919 2681 \n",
       "Q 994 2491 1163 2353 \n",
       "Q 1281 2256 1431 2223 \n",
       "Q 1581 2191 1753 2191 \n",
       "Q 1953 2191 2184 2261 \n",
       "Q 2416 2331 2588 2447 \n",
       "Q 2591 2494 2595 2570 \n",
       "Q 2600 2647 2600 2741 \n",
       "z\n",
       "M 209 3141 \n",
       "Q 209 3500 326 3797 \n",
       "Q 444 4094 647 4309 \n",
       "Q 841 4516 1120 4631 \n",
       "Q 1400 4747 1688 4747 \n",
       "Q 2009 4747 2270 4639 \n",
       "Q 2531 4531 2722 4328 \n",
       "Q 2963 4072 3095 3656 \n",
       "Q 3228 3241 3228 2606 \n",
       "Q 3228 2028 3098 1511 \n",
       "Q 2969 994 2716 653 \n",
       "Q 2447 291 2070 100 \n",
       "Q 1694 -91 1141 -91 \n",
       "Q 1016 -91 875 -77 \n",
       "Q 734 -63 613 -25 \n",
       "L 613 572 \n",
       "L 644 572 \n",
       "Q 722 528 887 487 \n",
       "Q 1053 447 1225 447 \n",
       "Q 1838 447 2188 850 \n",
       "Q 2538 1253 2584 2003 \n",
       "Q 2334 1834 2107 1756 \n",
       "Q 1881 1678 1616 1678 \n",
       "Q 1356 1678 1143 1734 \n",
       "Q 931 1791 716 1953 \n",
       "Q 466 2144 337 2436 \n",
       "Q 209 2728 209 3141 \n",
       "z\n",
       "\" id=\"Tahoma-39\" transform=\"scale(0.015625)\"/>\n",
       "        <path d=\"M 2044 1753 \n",
       "L 281 1753 \n",
       "L 281 2319 \n",
       "L 2044 2319 \n",
       "L 2044 1753 \n",
       "z\n",
       "\" id=\"Tahoma-2d\" transform=\"scale(0.015625)\"/>\n",
       "        <path d=\"M 1597 4209 \n",
       "Q 1428 4209 1259 4168 \n",
       "Q 1091 4128 928 4063 \n",
       "Q 778 4000 667 3931 \n",
       "Q 556 3863 469 3803 \n",
       "L 431 3803 \n",
       "L 431 4463 \n",
       "Q 634 4572 982 4661 \n",
       "Q 1331 4750 1647 4750 \n",
       "Q 1963 4750 2198 4686 \n",
       "Q 2434 4622 2625 4488 \n",
       "Q 2831 4338 2936 4125 \n",
       "Q 3041 3913 3041 3628 \n",
       "Q 3041 3244 2787 2953 \n",
       "Q 2534 2663 2181 2584 \n",
       "L 2181 2541 \n",
       "Q 2328 2513 2495 2444 \n",
       "Q 2663 2375 2806 2241 \n",
       "Q 2950 2106 3040 1895 \n",
       "Q 3131 1684 3131 1381 \n",
       "Q 3131 1066 3023 802 \n",
       "Q 2916 538 2719 334 \n",
       "Q 2516 122 2228 12 \n",
       "Q 1941 -97 1575 -97 \n",
       "Q 1225 -97 881 -12 \n",
       "Q 538 72 303 191 \n",
       "L 303 850 \n",
       "L 347 850 \n",
       "Q 544 706 875 575 \n",
       "Q 1206 444 1538 444 \n",
       "Q 1728 444 1920 505 \n",
       "Q 2113 566 2241 703 \n",
       "Q 2366 841 2431 1006 \n",
       "Q 2497 1172 2497 1425 \n",
       "Q 2497 1678 2423 1840 \n",
       "Q 2350 2003 2219 2097 \n",
       "Q 2088 2191 1908 2227 \n",
       "Q 1728 2263 1519 2263 \n",
       "L 1253 2263 \n",
       "L 1253 2781 \n",
       "L 1459 2781 \n",
       "Q 1881 2781 2145 2981 \n",
       "Q 2409 3181 2409 3563 \n",
       "Q 2409 3738 2340 3864 \n",
       "Q 2272 3991 2166 4066 \n",
       "Q 2047 4147 1903 4178 \n",
       "Q 1759 4209 1597 4209 \n",
       "z\n",
       "\" id=\"Tahoma-33\" transform=\"scale(0.015625)\"/>\n",
       "        <path id=\"Tahoma-20\" transform=\"scale(0.015625)\"/>\n",
       "        <path d=\"M 1506 2600 \n",
       "L 759 2600 \n",
       "L 759 3491 \n",
       "L 1506 3491 \n",
       "L 1506 2600 \n",
       "z\n",
       "M 1506 0 \n",
       "L 759 0 \n",
       "L 759 891 \n",
       "L 1506 891 \n",
       "L 1506 0 \n",
       "z\n",
       "\" id=\"Tahoma-3a\" transform=\"scale(0.015625)\"/>\n",
       "       </defs>\n",
       "       <use xlink:href=\"#Tahoma-32\"/>\n",
       "       <use x=\"54.589844\" xlink:href=\"#Tahoma-30\"/>\n",
       "       <use x=\"109.179688\" xlink:href=\"#Tahoma-31\"/>\n",
       "       <use x=\"163.769531\" xlink:href=\"#Tahoma-39\"/>\n",
       "       <use x=\"218.359375\" xlink:href=\"#Tahoma-2d\"/>\n",
       "       <use x=\"254.6875\" xlink:href=\"#Tahoma-30\"/>\n",
       "       <use x=\"309.277344\" xlink:href=\"#Tahoma-31\"/>\n",
       "       <use x=\"363.867188\" xlink:href=\"#Tahoma-2d\"/>\n",
       "       <use x=\"400.195312\" xlink:href=\"#Tahoma-33\"/>\n",
       "       <use x=\"454.785156\" xlink:href=\"#Tahoma-31\"/>\n",
       "       <use x=\"509.375\" xlink:href=\"#Tahoma-20\"/>\n",
       "       <use x=\"540.625\" xlink:href=\"#Tahoma-30\"/>\n",
       "       <use x=\"595.214844\" xlink:href=\"#Tahoma-30\"/>\n",
       "       <use x=\"649.804688\" xlink:href=\"#Tahoma-3a\"/>\n",
       "       <use x=\"685.15625\" xlink:href=\"#Tahoma-30\"/>\n",
       "       <use x=\"739.746094\" xlink:href=\"#Tahoma-30\"/>\n",
       "       <use x=\"794.335938\" xlink:href=\"#Tahoma-3a\"/>\n",
       "       <use x=\"829.6875\" xlink:href=\"#Tahoma-30\"/>\n",
       "       <use x=\"884.277344\" xlink:href=\"#Tahoma-30\"/>\n",
       "      </g>\n",
       "     </g>\n",
       "    </g>\n",
       "    <g id=\"xtick_2\">\n",
       "     <g id=\"line2d_3\">\n",
       "      <path clip-path=\"url(#pe770d68d9f)\" d=\"M 142.191576 358.586361 \n",
       "L 142.191576 7.562286 \n",
       "\" style=\"fill:none;stroke:#b0b0b0;\"/>\n",
       "     </g>\n",
       "     <g id=\"line2d_4\"/>\n",
       "     <g id=\"text_2\">\n",
       "      <!-- 2019-02-28 00:00:00 -->\n",
       "      <g transform=\"translate(102.930874 415.613676)rotate(-30)scale(0.1 -0.1)\">\n",
       "       <defs>\n",
       "        <path d=\"M 2534 3569 \n",
       "Q 2534 3881 2325 4090 \n",
       "Q 2116 4300 1744 4300 \n",
       "Q 1403 4300 1186 4112 \n",
       "Q 969 3925 969 3606 \n",
       "Q 969 3375 1080 3215 \n",
       "Q 1191 3056 1413 2928 \n",
       "Q 1509 2875 1707 2781 \n",
       "Q 1906 2688 2069 2634 \n",
       "Q 2341 2844 2437 3064 \n",
       "Q 2534 3284 2534 3569 \n",
       "z\n",
       "M 2622 1238 \n",
       "Q 2622 1525 2509 1694 \n",
       "Q 2397 1863 2075 2038 \n",
       "Q 1969 2097 1792 2165 \n",
       "Q 1616 2234 1394 2328 \n",
       "Q 1134 2156 996 1904 \n",
       "Q 859 1653 859 1331 \n",
       "Q 859 909 1114 634 \n",
       "Q 1369 359 1753 359 \n",
       "Q 2147 359 2384 595 \n",
       "Q 2622 831 2622 1238 \n",
       "z\n",
       "M 1747 -106 \n",
       "Q 1400 -106 1115 -3 \n",
       "Q 831 100 631 294 \n",
       "Q 434 481 332 739 \n",
       "Q 231 997 231 1284 \n",
       "Q 231 1663 432 1980 \n",
       "Q 634 2297 1019 2484 \n",
       "L 1019 2503 \n",
       "Q 675 2703 509 2940 \n",
       "Q 344 3178 344 3534 \n",
       "Q 344 4059 741 4409 \n",
       "Q 1138 4759 1747 4759 \n",
       "Q 2381 4759 2764 4426 \n",
       "Q 3147 4094 3147 3575 \n",
       "Q 3147 3263 2964 2956 \n",
       "Q 2781 2650 2438 2478 \n",
       "L 2438 2459 \n",
       "Q 2844 2269 3053 1997 \n",
       "Q 3263 1725 3263 1297 \n",
       "Q 3263 700 2830 297 \n",
       "Q 2397 -106 1747 -106 \n",
       "z\n",
       "\" id=\"Tahoma-38\" transform=\"scale(0.015625)\"/>\n",
       "       </defs>\n",
       "       <use xlink:href=\"#Tahoma-32\"/>\n",
       "       <use x=\"54.589844\" xlink:href=\"#Tahoma-30\"/>\n",
       "       <use x=\"109.179688\" xlink:href=\"#Tahoma-31\"/>\n",
       "       <use x=\"163.769531\" xlink:href=\"#Tahoma-39\"/>\n",
       "       <use x=\"218.359375\" xlink:href=\"#Tahoma-2d\"/>\n",
       "       <use x=\"254.6875\" xlink:href=\"#Tahoma-30\"/>\n",
       "       <use x=\"309.277344\" xlink:href=\"#Tahoma-32\"/>\n",
       "       <use x=\"363.867188\" xlink:href=\"#Tahoma-2d\"/>\n",
       "       <use x=\"400.195312\" xlink:href=\"#Tahoma-32\"/>\n",
       "       <use x=\"454.785156\" xlink:href=\"#Tahoma-38\"/>\n",
       "       <use x=\"509.375\" xlink:href=\"#Tahoma-20\"/>\n",
       "       <use x=\"540.625\" xlink:href=\"#Tahoma-30\"/>\n",
       "       <use x=\"595.214844\" xlink:href=\"#Tahoma-30\"/>\n",
       "       <use x=\"649.804688\" xlink:href=\"#Tahoma-3a\"/>\n",
       "       <use x=\"685.15625\" xlink:href=\"#Tahoma-30\"/>\n",
       "       <use x=\"739.746094\" xlink:href=\"#Tahoma-30\"/>\n",
       "       <use x=\"794.335938\" xlink:href=\"#Tahoma-3a\"/>\n",
       "       <use x=\"829.6875\" xlink:href=\"#Tahoma-30\"/>\n",
       "       <use x=\"884.277344\" xlink:href=\"#Tahoma-30\"/>\n",
       "      </g>\n",
       "     </g>\n",
       "    </g>\n",
       "    <g id=\"xtick_3\">\n",
       "     <g id=\"line2d_5\">\n",
       "      <path clip-path=\"url(#pe770d68d9f)\" d=\"M 215.70471 358.586361 \n",
       "L 215.70471 7.562286 \n",
       "\" style=\"fill:none;stroke:#b0b0b0;\"/>\n",
       "     </g>\n",
       "     <g id=\"line2d_6\"/>\n",
       "     <g id=\"text_3\">\n",
       "      <!-- 2019-03-31 00:00:00 -->\n",
       "      <g transform=\"translate(176.444008 415.613676)rotate(-30)scale(0.1 -0.1)\">\n",
       "       <use xlink:href=\"#Tahoma-32\"/>\n",
       "       <use x=\"54.589844\" xlink:href=\"#Tahoma-30\"/>\n",
       "       <use x=\"109.179688\" xlink:href=\"#Tahoma-31\"/>\n",
       "       <use x=\"163.769531\" xlink:href=\"#Tahoma-39\"/>\n",
       "       <use x=\"218.359375\" xlink:href=\"#Tahoma-2d\"/>\n",
       "       <use x=\"254.6875\" xlink:href=\"#Tahoma-30\"/>\n",
       "       <use x=\"309.277344\" xlink:href=\"#Tahoma-33\"/>\n",
       "       <use x=\"363.867188\" xlink:href=\"#Tahoma-2d\"/>\n",
       "       <use x=\"400.195312\" xlink:href=\"#Tahoma-33\"/>\n",
       "       <use x=\"454.785156\" xlink:href=\"#Tahoma-31\"/>\n",
       "       <use x=\"509.375\" xlink:href=\"#Tahoma-20\"/>\n",
       "       <use x=\"540.625\" xlink:href=\"#Tahoma-30\"/>\n",
       "       <use x=\"595.214844\" xlink:href=\"#Tahoma-30\"/>\n",
       "       <use x=\"649.804688\" xlink:href=\"#Tahoma-3a\"/>\n",
       "       <use x=\"685.15625\" xlink:href=\"#Tahoma-30\"/>\n",
       "       <use x=\"739.746094\" xlink:href=\"#Tahoma-30\"/>\n",
       "       <use x=\"794.335938\" xlink:href=\"#Tahoma-3a\"/>\n",
       "       <use x=\"829.6875\" xlink:href=\"#Tahoma-30\"/>\n",
       "       <use x=\"884.277344\" xlink:href=\"#Tahoma-30\"/>\n",
       "      </g>\n",
       "     </g>\n",
       "    </g>\n",
       "    <g id=\"xtick_4\">\n",
       "     <g id=\"line2d_7\">\n",
       "      <path clip-path=\"url(#pe770d68d9f)\" d=\"M 289.217843 358.586361 \n",
       "L 289.217843 7.562286 \n",
       "\" style=\"fill:none;stroke:#b0b0b0;\"/>\n",
       "     </g>\n",
       "     <g id=\"line2d_8\"/>\n",
       "     <g id=\"text_4\">\n",
       "      <!-- 2019-04-30 00:00:00 -->\n",
       "      <g transform=\"translate(249.957141 415.613676)rotate(-30)scale(0.1 -0.1)\">\n",
       "       <defs>\n",
       "        <path d=\"M 3334 1600 \n",
       "L 2781 1600 \n",
       "L 2781 0 \n",
       "L 2181 0 \n",
       "L 2181 1600 \n",
       "L 125 1600 \n",
       "L 125 2256 \n",
       "L 2206 4653 \n",
       "L 2781 4653 \n",
       "L 2781 2100 \n",
       "L 3334 2100 \n",
       "L 3334 1600 \n",
       "z\n",
       "M 2181 2100 \n",
       "L 2181 3919 \n",
       "L 613 2100 \n",
       "L 2181 2100 \n",
       "z\n",
       "\" id=\"Tahoma-34\" transform=\"scale(0.015625)\"/>\n",
       "       </defs>\n",
       "       <use xlink:href=\"#Tahoma-32\"/>\n",
       "       <use x=\"54.589844\" xlink:href=\"#Tahoma-30\"/>\n",
       "       <use x=\"109.179688\" xlink:href=\"#Tahoma-31\"/>\n",
       "       <use x=\"163.769531\" xlink:href=\"#Tahoma-39\"/>\n",
       "       <use x=\"218.359375\" xlink:href=\"#Tahoma-2d\"/>\n",
       "       <use x=\"254.6875\" xlink:href=\"#Tahoma-30\"/>\n",
       "       <use x=\"309.277344\" xlink:href=\"#Tahoma-34\"/>\n",
       "       <use x=\"363.867188\" xlink:href=\"#Tahoma-2d\"/>\n",
       "       <use x=\"400.195312\" xlink:href=\"#Tahoma-33\"/>\n",
       "       <use x=\"454.785156\" xlink:href=\"#Tahoma-30\"/>\n",
       "       <use x=\"509.375\" xlink:href=\"#Tahoma-20\"/>\n",
       "       <use x=\"540.625\" xlink:href=\"#Tahoma-30\"/>\n",
       "       <use x=\"595.214844\" xlink:href=\"#Tahoma-30\"/>\n",
       "       <use x=\"649.804688\" xlink:href=\"#Tahoma-3a\"/>\n",
       "       <use x=\"685.15625\" xlink:href=\"#Tahoma-30\"/>\n",
       "       <use x=\"739.746094\" xlink:href=\"#Tahoma-30\"/>\n",
       "       <use x=\"794.335938\" xlink:href=\"#Tahoma-3a\"/>\n",
       "       <use x=\"829.6875\" xlink:href=\"#Tahoma-30\"/>\n",
       "       <use x=\"884.277344\" xlink:href=\"#Tahoma-30\"/>\n",
       "      </g>\n",
       "     </g>\n",
       "    </g>\n",
       "    <g id=\"xtick_5\">\n",
       "     <g id=\"line2d_9\">\n",
       "      <path clip-path=\"url(#pe770d68d9f)\" d=\"M 362.730977 358.586361 \n",
       "L 362.730977 7.562286 \n",
       "\" style=\"fill:none;stroke:#b0b0b0;\"/>\n",
       "     </g>\n",
       "     <g id=\"line2d_10\"/>\n",
       "     <g id=\"text_5\">\n",
       "      <!-- 2019-05-31 00:00:00 -->\n",
       "      <g transform=\"translate(323.470275 415.613676)rotate(-30)scale(0.1 -0.1)\">\n",
       "       <defs>\n",
       "        <path d=\"M 3159 1481 \n",
       "Q 3159 1144 3051 856 \n",
       "Q 2944 569 2750 359 \n",
       "Q 2553 147 2261 25 \n",
       "Q 1969 -97 1606 -97 \n",
       "Q 1272 -97 948 -23 \n",
       "Q 625 50 388 169 \n",
       "L 388 828 \n",
       "L 431 828 \n",
       "Q 503 775 637 708 \n",
       "Q 772 641 934 581 \n",
       "Q 1119 516 1272 480 \n",
       "Q 1425 444 1616 444 \n",
       "Q 1803 444 1981 511 \n",
       "Q 2159 578 2288 728 \n",
       "Q 2403 866 2464 1050 \n",
       "Q 2525 1234 2525 1484 \n",
       "Q 2525 1731 2458 1890 \n",
       "Q 2391 2050 2263 2153 \n",
       "Q 2128 2272 1933 2320 \n",
       "Q 1738 2369 1497 2369 \n",
       "Q 1244 2369 987 2330 \n",
       "Q 731 2291 578 2256 \n",
       "L 578 4653 \n",
       "L 3131 4653 \n",
       "L 3131 4106 \n",
       "L 1181 4106 \n",
       "L 1181 2869 \n",
       "Q 1294 2881 1403 2887 \n",
       "Q 1513 2894 1603 2894 \n",
       "Q 1959 2894 2206 2834 \n",
       "Q 2453 2775 2681 2603 \n",
       "Q 2913 2428 3036 2165 \n",
       "Q 3159 1903 3159 1481 \n",
       "z\n",
       "\" id=\"Tahoma-35\" transform=\"scale(0.015625)\"/>\n",
       "       </defs>\n",
       "       <use xlink:href=\"#Tahoma-32\"/>\n",
       "       <use x=\"54.589844\" xlink:href=\"#Tahoma-30\"/>\n",
       "       <use x=\"109.179688\" xlink:href=\"#Tahoma-31\"/>\n",
       "       <use x=\"163.769531\" xlink:href=\"#Tahoma-39\"/>\n",
       "       <use x=\"218.359375\" xlink:href=\"#Tahoma-2d\"/>\n",
       "       <use x=\"254.6875\" xlink:href=\"#Tahoma-30\"/>\n",
       "       <use x=\"309.277344\" xlink:href=\"#Tahoma-35\"/>\n",
       "       <use x=\"363.867188\" xlink:href=\"#Tahoma-2d\"/>\n",
       "       <use x=\"400.195312\" xlink:href=\"#Tahoma-33\"/>\n",
       "       <use x=\"454.785156\" xlink:href=\"#Tahoma-31\"/>\n",
       "       <use x=\"509.375\" xlink:href=\"#Tahoma-20\"/>\n",
       "       <use x=\"540.625\" xlink:href=\"#Tahoma-30\"/>\n",
       "       <use x=\"595.214844\" xlink:href=\"#Tahoma-30\"/>\n",
       "       <use x=\"649.804688\" xlink:href=\"#Tahoma-3a\"/>\n",
       "       <use x=\"685.15625\" xlink:href=\"#Tahoma-30\"/>\n",
       "       <use x=\"739.746094\" xlink:href=\"#Tahoma-30\"/>\n",
       "       <use x=\"794.335938\" xlink:href=\"#Tahoma-3a\"/>\n",
       "       <use x=\"829.6875\" xlink:href=\"#Tahoma-30\"/>\n",
       "       <use x=\"884.277344\" xlink:href=\"#Tahoma-30\"/>\n",
       "      </g>\n",
       "     </g>\n",
       "    </g>\n",
       "    <g id=\"xtick_6\">\n",
       "     <g id=\"line2d_11\">\n",
       "      <path clip-path=\"url(#pe770d68d9f)\" d=\"M 436.244111 358.586361 \n",
       "L 436.244111 7.562286 \n",
       "\" style=\"fill:none;stroke:#b0b0b0;\"/>\n",
       "     </g>\n",
       "     <g id=\"line2d_12\"/>\n",
       "     <g id=\"text_6\">\n",
       "      <!-- 2019-06-30 00:00:00 -->\n",
       "      <g transform=\"translate(396.983409 415.613676)rotate(-30)scale(0.1 -0.1)\">\n",
       "       <defs>\n",
       "        <path d=\"M 3284 1509 \n",
       "Q 3284 1150 3165 847 \n",
       "Q 3047 544 2847 341 \n",
       "Q 2638 125 2378 14 \n",
       "Q 2119 -97 1806 -97 \n",
       "Q 1491 -97 1233 9 \n",
       "Q 975 116 778 325 \n",
       "Q 538 578 402 1001 \n",
       "Q 266 1425 266 2044 \n",
       "Q 266 2650 391 3139 \n",
       "Q 516 3628 775 3991 \n",
       "Q 1028 4344 1428 4542 \n",
       "Q 1828 4741 2353 4741 \n",
       "Q 2509 4741 2643 4725 \n",
       "Q 2778 4709 2881 4675 \n",
       "L 2881 4078 \n",
       "L 2853 4078 \n",
       "Q 2769 4125 2609 4164 \n",
       "Q 2450 4203 2269 4203 \n",
       "Q 1688 4203 1330 3811 \n",
       "Q 972 3419 906 2647 \n",
       "Q 1128 2803 1362 2887 \n",
       "Q 1597 2972 1875 2972 \n",
       "Q 2147 2972 2351 2917 \n",
       "Q 2556 2863 2778 2697 \n",
       "Q 3034 2503 3159 2206 \n",
       "Q 3284 1909 3284 1509 \n",
       "z\n",
       "M 2650 1484 \n",
       "Q 2650 1772 2575 1965 \n",
       "Q 2500 2159 2331 2297 \n",
       "Q 2209 2397 2054 2428 \n",
       "Q 1900 2459 1738 2459 \n",
       "Q 1519 2459 1312 2393 \n",
       "Q 1106 2328 906 2203 \n",
       "Q 900 2134 897 2070 \n",
       "Q 894 2006 894 1909 \n",
       "Q 894 1425 989 1128 \n",
       "Q 1084 831 1225 678 \n",
       "Q 1359 531 1501 472 \n",
       "Q 1644 413 1809 413 \n",
       "Q 2184 413 2417 681 \n",
       "Q 2650 950 2650 1484 \n",
       "z\n",
       "\" id=\"Tahoma-36\" transform=\"scale(0.015625)\"/>\n",
       "       </defs>\n",
       "       <use xlink:href=\"#Tahoma-32\"/>\n",
       "       <use x=\"54.589844\" xlink:href=\"#Tahoma-30\"/>\n",
       "       <use x=\"109.179688\" xlink:href=\"#Tahoma-31\"/>\n",
       "       <use x=\"163.769531\" xlink:href=\"#Tahoma-39\"/>\n",
       "       <use x=\"218.359375\" xlink:href=\"#Tahoma-2d\"/>\n",
       "       <use x=\"254.6875\" xlink:href=\"#Tahoma-30\"/>\n",
       "       <use x=\"309.277344\" xlink:href=\"#Tahoma-36\"/>\n",
       "       <use x=\"363.867188\" xlink:href=\"#Tahoma-2d\"/>\n",
       "       <use x=\"400.195312\" xlink:href=\"#Tahoma-33\"/>\n",
       "       <use x=\"454.785156\" xlink:href=\"#Tahoma-30\"/>\n",
       "       <use x=\"509.375\" xlink:href=\"#Tahoma-20\"/>\n",
       "       <use x=\"540.625\" xlink:href=\"#Tahoma-30\"/>\n",
       "       <use x=\"595.214844\" xlink:href=\"#Tahoma-30\"/>\n",
       "       <use x=\"649.804688\" xlink:href=\"#Tahoma-3a\"/>\n",
       "       <use x=\"685.15625\" xlink:href=\"#Tahoma-30\"/>\n",
       "       <use x=\"739.746094\" xlink:href=\"#Tahoma-30\"/>\n",
       "       <use x=\"794.335938\" xlink:href=\"#Tahoma-3a\"/>\n",
       "       <use x=\"829.6875\" xlink:href=\"#Tahoma-30\"/>\n",
       "       <use x=\"884.277344\" xlink:href=\"#Tahoma-30\"/>\n",
       "      </g>\n",
       "     </g>\n",
       "    </g>\n",
       "    <g id=\"xtick_7\">\n",
       "     <g id=\"line2d_13\">\n",
       "      <path clip-path=\"url(#pe770d68d9f)\" d=\"M 509.757245 358.586361 \n",
       "L 509.757245 7.562286 \n",
       "\" style=\"fill:none;stroke:#b0b0b0;\"/>\n",
       "     </g>\n",
       "     <g id=\"line2d_14\"/>\n",
       "     <g id=\"text_7\">\n",
       "      <!-- 2019-07-31 00:00:00 -->\n",
       "      <g transform=\"translate(470.496543 415.613676)rotate(-30)scale(0.1 -0.1)\">\n",
       "       <defs>\n",
       "        <path d=\"M 3263 3956 \n",
       "L 1250 0 \n",
       "L 584 0 \n",
       "L 2716 4106 \n",
       "L 309 4106 \n",
       "L 309 4653 \n",
       "L 3263 4653 \n",
       "L 3263 3956 \n",
       "z\n",
       "\" id=\"Tahoma-37\" transform=\"scale(0.015625)\"/>\n",
       "       </defs>\n",
       "       <use xlink:href=\"#Tahoma-32\"/>\n",
       "       <use x=\"54.589844\" xlink:href=\"#Tahoma-30\"/>\n",
       "       <use x=\"109.179688\" xlink:href=\"#Tahoma-31\"/>\n",
       "       <use x=\"163.769531\" xlink:href=\"#Tahoma-39\"/>\n",
       "       <use x=\"218.359375\" xlink:href=\"#Tahoma-2d\"/>\n",
       "       <use x=\"254.6875\" xlink:href=\"#Tahoma-30\"/>\n",
       "       <use x=\"309.277344\" xlink:href=\"#Tahoma-37\"/>\n",
       "       <use x=\"363.867188\" xlink:href=\"#Tahoma-2d\"/>\n",
       "       <use x=\"400.195312\" xlink:href=\"#Tahoma-33\"/>\n",
       "       <use x=\"454.785156\" xlink:href=\"#Tahoma-31\"/>\n",
       "       <use x=\"509.375\" xlink:href=\"#Tahoma-20\"/>\n",
       "       <use x=\"540.625\" xlink:href=\"#Tahoma-30\"/>\n",
       "       <use x=\"595.214844\" xlink:href=\"#Tahoma-30\"/>\n",
       "       <use x=\"649.804688\" xlink:href=\"#Tahoma-3a\"/>\n",
       "       <use x=\"685.15625\" xlink:href=\"#Tahoma-30\"/>\n",
       "       <use x=\"739.746094\" xlink:href=\"#Tahoma-30\"/>\n",
       "       <use x=\"794.335938\" xlink:href=\"#Tahoma-3a\"/>\n",
       "       <use x=\"829.6875\" xlink:href=\"#Tahoma-30\"/>\n",
       "       <use x=\"884.277344\" xlink:href=\"#Tahoma-30\"/>\n",
       "      </g>\n",
       "     </g>\n",
       "    </g>\n",
       "    <g id=\"xtick_8\">\n",
       "     <g id=\"line2d_15\">\n",
       "      <path clip-path=\"url(#pe770d68d9f)\" d=\"M 583.270379 358.586361 \n",
       "L 583.270379 7.562286 \n",
       "\" style=\"fill:none;stroke:#b0b0b0;\"/>\n",
       "     </g>\n",
       "     <g id=\"line2d_16\"/>\n",
       "     <g id=\"text_8\">\n",
       "      <!-- 2019-08-31 00:00:00 -->\n",
       "      <g transform=\"translate(544.009677 415.613676)rotate(-30)scale(0.1 -0.1)\">\n",
       "       <use xlink:href=\"#Tahoma-32\"/>\n",
       "       <use x=\"54.589844\" xlink:href=\"#Tahoma-30\"/>\n",
       "       <use x=\"109.179688\" xlink:href=\"#Tahoma-31\"/>\n",
       "       <use x=\"163.769531\" xlink:href=\"#Tahoma-39\"/>\n",
       "       <use x=\"218.359375\" xlink:href=\"#Tahoma-2d\"/>\n",
       "       <use x=\"254.6875\" xlink:href=\"#Tahoma-30\"/>\n",
       "       <use x=\"309.277344\" xlink:href=\"#Tahoma-38\"/>\n",
       "       <use x=\"363.867188\" xlink:href=\"#Tahoma-2d\"/>\n",
       "       <use x=\"400.195312\" xlink:href=\"#Tahoma-33\"/>\n",
       "       <use x=\"454.785156\" xlink:href=\"#Tahoma-31\"/>\n",
       "       <use x=\"509.375\" xlink:href=\"#Tahoma-20\"/>\n",
       "       <use x=\"540.625\" xlink:href=\"#Tahoma-30\"/>\n",
       "       <use x=\"595.214844\" xlink:href=\"#Tahoma-30\"/>\n",
       "       <use x=\"649.804688\" xlink:href=\"#Tahoma-3a\"/>\n",
       "       <use x=\"685.15625\" xlink:href=\"#Tahoma-30\"/>\n",
       "       <use x=\"739.746094\" xlink:href=\"#Tahoma-30\"/>\n",
       "       <use x=\"794.335938\" xlink:href=\"#Tahoma-3a\"/>\n",
       "       <use x=\"829.6875\" xlink:href=\"#Tahoma-30\"/>\n",
       "       <use x=\"884.277344\" xlink:href=\"#Tahoma-30\"/>\n",
       "      </g>\n",
       "     </g>\n",
       "    </g>\n",
       "    <g id=\"xtick_9\">\n",
       "     <g id=\"line2d_17\">\n",
       "      <path clip-path=\"url(#pe770d68d9f)\" d=\"M 656.783512 358.586361 \n",
       "L 656.783512 7.562286 \n",
       "\" style=\"fill:none;stroke:#b0b0b0;\"/>\n",
       "     </g>\n",
       "     <g id=\"line2d_18\"/>\n",
       "     <g id=\"text_9\">\n",
       "      <!-- 2019-09-30 00:00:00 -->\n",
       "      <g transform=\"translate(617.52281 415.613676)rotate(-30)scale(0.1 -0.1)\">\n",
       "       <use xlink:href=\"#Tahoma-32\"/>\n",
       "       <use x=\"54.589844\" xlink:href=\"#Tahoma-30\"/>\n",
       "       <use x=\"109.179688\" xlink:href=\"#Tahoma-31\"/>\n",
       "       <use x=\"163.769531\" xlink:href=\"#Tahoma-39\"/>\n",
       "       <use x=\"218.359375\" xlink:href=\"#Tahoma-2d\"/>\n",
       "       <use x=\"254.6875\" xlink:href=\"#Tahoma-30\"/>\n",
       "       <use x=\"309.277344\" xlink:href=\"#Tahoma-39\"/>\n",
       "       <use x=\"363.867188\" xlink:href=\"#Tahoma-2d\"/>\n",
       "       <use x=\"400.195312\" xlink:href=\"#Tahoma-33\"/>\n",
       "       <use x=\"454.785156\" xlink:href=\"#Tahoma-30\"/>\n",
       "       <use x=\"509.375\" xlink:href=\"#Tahoma-20\"/>\n",
       "       <use x=\"540.625\" xlink:href=\"#Tahoma-30\"/>\n",
       "       <use x=\"595.214844\" xlink:href=\"#Tahoma-30\"/>\n",
       "       <use x=\"649.804688\" xlink:href=\"#Tahoma-3a\"/>\n",
       "       <use x=\"685.15625\" xlink:href=\"#Tahoma-30\"/>\n",
       "       <use x=\"739.746094\" xlink:href=\"#Tahoma-30\"/>\n",
       "       <use x=\"794.335938\" xlink:href=\"#Tahoma-3a\"/>\n",
       "       <use x=\"829.6875\" xlink:href=\"#Tahoma-30\"/>\n",
       "       <use x=\"884.277344\" xlink:href=\"#Tahoma-30\"/>\n",
       "      </g>\n",
       "     </g>\n",
       "    </g>\n",
       "   </g>\n",
       "   <g id=\"matplotlib.axis_2\">\n",
       "    <g id=\"ytick_1\">\n",
       "     <g id=\"line2d_19\">\n",
       "      <path clip-path=\"url(#pe770d68d9f)\" d=\"M 31.921875 349.979799 \n",
       "L 693.540079 349.979799 \n",
       "\" style=\"fill:none;stroke:#b0b0b0;\"/>\n",
       "     </g>\n",
       "     <g id=\"line2d_20\"/>\n",
       "     <g id=\"text_10\">\n",
       "      <!-- −2.0 -->\n",
       "      <g transform=\"translate(7.2 353.779018)scale(0.1 -0.1)\">\n",
       "       <defs>\n",
       "        <path d=\"M 4088 1788 \n",
       "L 569 1788 \n",
       "L 569 2288 \n",
       "L 4088 2288 \n",
       "L 4088 1788 \n",
       "z\n",
       "\" id=\"Tahoma-2212\" transform=\"scale(0.015625)\"/>\n",
       "        <path d=\"M 1341 0 \n",
       "L 594 0 \n",
       "L 594 891 \n",
       "L 1341 891 \n",
       "L 1341 0 \n",
       "z\n",
       "\" id=\"Tahoma-2e\" transform=\"scale(0.015625)\"/>\n",
       "       </defs>\n",
       "       <use xlink:href=\"#Tahoma-2212\"/>\n",
       "       <use x=\"72.753906\" xlink:href=\"#Tahoma-32\"/>\n",
       "       <use x=\"127.34375\" xlink:href=\"#Tahoma-2e\"/>\n",
       "       <use x=\"157.617188\" xlink:href=\"#Tahoma-30\"/>\n",
       "      </g>\n",
       "     </g>\n",
       "    </g>\n",
       "    <g id=\"ytick_2\">\n",
       "     <g id=\"line2d_21\">\n",
       "      <path clip-path=\"url(#pe770d68d9f)\" d=\"M 31.921875 307.607227 \n",
       "L 693.540079 307.607227 \n",
       "\" style=\"fill:none;stroke:#b0b0b0;\"/>\n",
       "     </g>\n",
       "     <g id=\"line2d_22\"/>\n",
       "     <g id=\"text_11\">\n",
       "      <!-- −1.5 -->\n",
       "      <g transform=\"translate(7.2 311.406445)scale(0.1 -0.1)\">\n",
       "       <use xlink:href=\"#Tahoma-2212\"/>\n",
       "       <use x=\"72.753906\" xlink:href=\"#Tahoma-31\"/>\n",
       "       <use x=\"127.34375\" xlink:href=\"#Tahoma-2e\"/>\n",
       "       <use x=\"157.617188\" xlink:href=\"#Tahoma-35\"/>\n",
       "      </g>\n",
       "     </g>\n",
       "    </g>\n",
       "    <g id=\"ytick_3\">\n",
       "     <g id=\"line2d_23\">\n",
       "      <path clip-path=\"url(#pe770d68d9f)\" d=\"M 31.921875 265.234654 \n",
       "L 693.540079 265.234654 \n",
       "\" style=\"fill:none;stroke:#b0b0b0;\"/>\n",
       "     </g>\n",
       "     <g id=\"line2d_24\"/>\n",
       "     <g id=\"text_12\">\n",
       "      <!-- −1.0 -->\n",
       "      <g transform=\"translate(7.2 269.033873)scale(0.1 -0.1)\">\n",
       "       <use xlink:href=\"#Tahoma-2212\"/>\n",
       "       <use x=\"72.753906\" xlink:href=\"#Tahoma-31\"/>\n",
       "       <use x=\"127.34375\" xlink:href=\"#Tahoma-2e\"/>\n",
       "       <use x=\"157.617188\" xlink:href=\"#Tahoma-30\"/>\n",
       "      </g>\n",
       "     </g>\n",
       "    </g>\n",
       "    <g id=\"ytick_4\">\n",
       "     <g id=\"line2d_25\">\n",
       "      <path clip-path=\"url(#pe770d68d9f)\" d=\"M 31.921875 222.862082 \n",
       "L 693.540079 222.862082 \n",
       "\" style=\"fill:none;stroke:#b0b0b0;\"/>\n",
       "     </g>\n",
       "     <g id=\"line2d_26\"/>\n",
       "     <g id=\"text_13\">\n",
       "      <!-- −0.5 -->\n",
       "      <g transform=\"translate(7.2 226.6613)scale(0.1 -0.1)\">\n",
       "       <use xlink:href=\"#Tahoma-2212\"/>\n",
       "       <use x=\"72.753906\" xlink:href=\"#Tahoma-30\"/>\n",
       "       <use x=\"127.34375\" xlink:href=\"#Tahoma-2e\"/>\n",
       "       <use x=\"157.617188\" xlink:href=\"#Tahoma-35\"/>\n",
       "      </g>\n",
       "     </g>\n",
       "    </g>\n",
       "    <g id=\"ytick_5\">\n",
       "     <g id=\"line2d_27\">\n",
       "      <path clip-path=\"url(#pe770d68d9f)\" d=\"M 31.921875 180.489509 \n",
       "L 693.540079 180.489509 \n",
       "\" style=\"fill:none;stroke:#b0b0b0;\"/>\n",
       "     </g>\n",
       "     <g id=\"line2d_28\"/>\n",
       "     <g id=\"text_14\">\n",
       "      <!-- 0.0 -->\n",
       "      <g transform=\"translate(14.475 184.288728)scale(0.1 -0.1)\">\n",
       "       <use xlink:href=\"#Tahoma-30\"/>\n",
       "       <use x=\"54.589844\" xlink:href=\"#Tahoma-2e\"/>\n",
       "       <use x=\"84.863281\" xlink:href=\"#Tahoma-30\"/>\n",
       "      </g>\n",
       "     </g>\n",
       "    </g>\n",
       "    <g id=\"ytick_6\">\n",
       "     <g id=\"line2d_29\">\n",
       "      <path clip-path=\"url(#pe770d68d9f)\" d=\"M 31.921875 138.116936 \n",
       "L 693.540079 138.116936 \n",
       "\" style=\"fill:none;stroke:#b0b0b0;\"/>\n",
       "     </g>\n",
       "     <g id=\"line2d_30\"/>\n",
       "     <g id=\"text_15\">\n",
       "      <!-- 0.5 -->\n",
       "      <g transform=\"translate(14.475 141.916155)scale(0.1 -0.1)\">\n",
       "       <use xlink:href=\"#Tahoma-30\"/>\n",
       "       <use x=\"54.589844\" xlink:href=\"#Tahoma-2e\"/>\n",
       "       <use x=\"84.863281\" xlink:href=\"#Tahoma-35\"/>\n",
       "      </g>\n",
       "     </g>\n",
       "    </g>\n",
       "    <g id=\"ytick_7\">\n",
       "     <g id=\"line2d_31\">\n",
       "      <path clip-path=\"url(#pe770d68d9f)\" d=\"M 31.921875 95.744364 \n",
       "L 693.540079 95.744364 \n",
       "\" style=\"fill:none;stroke:#b0b0b0;\"/>\n",
       "     </g>\n",
       "     <g id=\"line2d_32\"/>\n",
       "     <g id=\"text_16\">\n",
       "      <!-- 1.0 -->\n",
       "      <g transform=\"translate(14.475 99.543583)scale(0.1 -0.1)\">\n",
       "       <use xlink:href=\"#Tahoma-31\"/>\n",
       "       <use x=\"54.589844\" xlink:href=\"#Tahoma-2e\"/>\n",
       "       <use x=\"84.863281\" xlink:href=\"#Tahoma-30\"/>\n",
       "      </g>\n",
       "     </g>\n",
       "    </g>\n",
       "    <g id=\"ytick_8\">\n",
       "     <g id=\"line2d_33\">\n",
       "      <path clip-path=\"url(#pe770d68d9f)\" d=\"M 31.921875 53.371791 \n",
       "L 693.540079 53.371791 \n",
       "\" style=\"fill:none;stroke:#b0b0b0;\"/>\n",
       "     </g>\n",
       "     <g id=\"line2d_34\"/>\n",
       "     <g id=\"text_17\">\n",
       "      <!-- 1.5 -->\n",
       "      <g transform=\"translate(14.475 57.17101)scale(0.1 -0.1)\">\n",
       "       <use xlink:href=\"#Tahoma-31\"/>\n",
       "       <use x=\"54.589844\" xlink:href=\"#Tahoma-2e\"/>\n",
       "       <use x=\"84.863281\" xlink:href=\"#Tahoma-35\"/>\n",
       "      </g>\n",
       "     </g>\n",
       "    </g>\n",
       "    <g id=\"ytick_9\">\n",
       "     <g id=\"line2d_35\">\n",
       "      <path clip-path=\"url(#pe770d68d9f)\" d=\"M 31.921875 10.999219 \n",
       "L 693.540079 10.999219 \n",
       "\" style=\"fill:none;stroke:#b0b0b0;\"/>\n",
       "     </g>\n",
       "     <g id=\"line2d_36\"/>\n",
       "     <g id=\"text_18\">\n",
       "      <!-- 2.0 -->\n",
       "      <g transform=\"translate(14.475 14.798438)scale(0.1 -0.1)\">\n",
       "       <use xlink:href=\"#Tahoma-32\"/>\n",
       "       <use x=\"54.589844\" xlink:href=\"#Tahoma-2e\"/>\n",
       "       <use x=\"84.863281\" xlink:href=\"#Tahoma-30\"/>\n",
       "      </g>\n",
       "     </g>\n",
       "    </g>\n",
       "   </g>\n",
       "   <g id=\"patch_3\">\n",
       "    <path clip-path=\"url(#pe770d68d9f)\" d=\"M 50.300158 180.489509 \n",
       "L 59.4893 180.489509 \n",
       "L 59.4893 138.395396 \n",
       "L 50.300158 138.395396 \n",
       "z\n",
       "\" style=\"fill:#51a7f9;\"/>\n",
       "   </g>\n",
       "   <g id=\"patch_4\">\n",
       "    <path clip-path=\"url(#pe770d68d9f)\" d=\"M 123.813292 180.489509 \n",
       "L 133.002434 180.489509 \n",
       "L 133.002434 200.332871 \n",
       "L 123.813292 200.332871 \n",
       "z\n",
       "\" style=\"fill:#51a7f9;\"/>\n",
       "   </g>\n",
       "   <g id=\"patch_5\">\n",
       "    <path clip-path=\"url(#pe770d68d9f)\" d=\"M 197.326426 180.489509 \n",
       "L 206.515568 180.489509 \n",
       "L 206.515568 220.275184 \n",
       "L 197.326426 220.275184 \n",
       "z\n",
       "\" style=\"fill:#51a7f9;\"/>\n",
       "   </g>\n",
       "   <g id=\"patch_6\">\n",
       "    <path clip-path=\"url(#pe770d68d9f)\" d=\"M 270.83956 180.489509 \n",
       "L 280.028702 180.489509 \n",
       "L 280.028702 159.984381 \n",
       "L 270.83956 159.984381 \n",
       "z\n",
       "\" style=\"fill:#51a7f9;\"/>\n",
       "   </g>\n",
       "   <g id=\"patch_7\">\n",
       "    <path clip-path=\"url(#pe770d68d9f)\" d=\"M 344.352694 180.489509 \n",
       "L 353.541835 180.489509 \n",
       "L 353.541835 266.322029 \n",
       "L 344.352694 266.322029 \n",
       "z\n",
       "\" style=\"fill:#51a7f9;\"/>\n",
       "   </g>\n",
       "   <g id=\"patch_8\">\n",
       "    <path clip-path=\"url(#pe770d68d9f)\" d=\"M 417.865827 180.489509 \n",
       "L 427.054969 180.489509 \n",
       "L 427.054969 56.282891 \n",
       "L 417.865827 56.282891 \n",
       "z\n",
       "\" style=\"fill:#51a7f9;\"/>\n",
       "   </g>\n",
       "   <g id=\"patch_9\">\n",
       "    <path clip-path=\"url(#pe770d68d9f)\" d=\"M 491.378961 180.489509 \n",
       "L 500.568103 180.489509 \n",
       "L 500.568103 226.623302 \n",
       "L 491.378961 226.623302 \n",
       "z\n",
       "\" style=\"fill:#51a7f9;\"/>\n",
       "   </g>\n",
       "   <g id=\"patch_10\">\n",
       "    <path clip-path=\"url(#pe770d68d9f)\" d=\"M 564.892095 180.489509 \n",
       "L 574.081237 180.489509 \n",
       "L 574.081237 231.390722 \n",
       "L 564.892095 231.390722 \n",
       "z\n",
       "\" style=\"fill:#51a7f9;\"/>\n",
       "   </g>\n",
       "   <g id=\"patch_11\">\n",
       "    <path clip-path=\"url(#pe770d68d9f)\" d=\"M 638.405229 180.489509 \n",
       "L 647.594371 180.489509 \n",
       "L 647.594371 181.633333 \n",
       "L 638.405229 181.633333 \n",
       "z\n",
       "\" style=\"fill:#51a7f9;\"/>\n",
       "   </g>\n",
       "   <g id=\"patch_12\">\n",
       "    <path clip-path=\"url(#pe770d68d9f)\" d=\"M 59.4893 180.489509 \n",
       "L 68.678442 180.489509 \n",
       "L 68.678442 192.206737 \n",
       "L 59.4893 192.206737 \n",
       "z\n",
       "\" style=\"fill:#cf51f9;\"/>\n",
       "   </g>\n",
       "   <g id=\"patch_13\">\n",
       "    <path clip-path=\"url(#pe770d68d9f)\" d=\"M 133.002434 180.489509 \n",
       "L 142.191576 180.489509 \n",
       "L 142.191576 200.331479 \n",
       "L 133.002434 200.331479 \n",
       "z\n",
       "\" style=\"fill:#cf51f9;\"/>\n",
       "   </g>\n",
       "   <g id=\"patch_14\">\n",
       "    <path clip-path=\"url(#pe770d68d9f)\" d=\"M 206.515568 180.489509 \n",
       "L 215.70471 180.489509 \n",
       "L 215.70471 134.510179 \n",
       "L 206.515568 134.510179 \n",
       "z\n",
       "\" style=\"fill:#cf51f9;\"/>\n",
       "   </g>\n",
       "   <g id=\"patch_15\">\n",
       "    <path clip-path=\"url(#pe770d68d9f)\" d=\"M 280.028702 180.489509 \n",
       "L 289.217843 180.489509 \n",
       "L 289.217843 342.630721 \n",
       "L 280.028702 342.630721 \n",
       "z\n",
       "\" style=\"fill:#cf51f9;\"/>\n",
       "   </g>\n",
       "   <g id=\"patch_16\">\n",
       "    <path clip-path=\"url(#pe770d68d9f)\" d=\"M 353.541835 180.489509 \n",
       "L 362.730977 180.489509 \n",
       "L 362.730977 153.858573 \n",
       "L 353.541835 153.858573 \n",
       "z\n",
       "\" style=\"fill:#cf51f9;\"/>\n",
       "   </g>\n",
       "   <g id=\"patch_17\">\n",
       "    <path clip-path=\"url(#pe770d68d9f)\" d=\"M 427.054969 180.489509 \n",
       "L 436.244111 180.489509 \n",
       "L 436.244111 199.622954 \n",
       "L 427.054969 199.622954 \n",
       "z\n",
       "\" style=\"fill:#cf51f9;\"/>\n",
       "   </g>\n",
       "   <g id=\"patch_18\">\n",
       "    <path clip-path=\"url(#pe770d68d9f)\" d=\"M 500.568103 180.489509 \n",
       "L 509.757245 180.489509 \n",
       "L 509.757245 171.089358 \n",
       "L 500.568103 171.089358 \n",
       "z\n",
       "\" style=\"fill:#cf51f9;\"/>\n",
       "   </g>\n",
       "   <g id=\"patch_19\">\n",
       "    <path clip-path=\"url(#pe770d68d9f)\" d=\"M 574.081237 180.489509 \n",
       "L 583.270379 180.489509 \n",
       "L 583.270379 205.209138 \n",
       "L 574.081237 205.209138 \n",
       "z\n",
       "\" style=\"fill:#cf51f9;\"/>\n",
       "   </g>\n",
       "   <g id=\"patch_20\">\n",
       "    <path clip-path=\"url(#pe770d68d9f)\" d=\"M 647.594371 180.489509 \n",
       "L 656.783512 180.489509 \n",
       "L 656.783512 270.125375 \n",
       "L 647.594371 270.125375 \n",
       "z\n",
       "\" style=\"fill:#cf51f9;\"/>\n",
       "   </g>\n",
       "   <g id=\"patch_21\">\n",
       "    <path clip-path=\"url(#pe770d68d9f)\" d=\"M 68.678442 180.489509 \n",
       "L 77.867584 180.489509 \n",
       "L 77.867584 125.60105 \n",
       "L 68.678442 125.60105 \n",
       "z\n",
       "\" style=\"fill:#70bf41;\"/>\n",
       "   </g>\n",
       "   <g id=\"patch_22\">\n",
       "    <path clip-path=\"url(#pe770d68d9f)\" d=\"M 142.191576 180.489509 \n",
       "L 151.380717 180.489509 \n",
       "L 151.380717 46.65889 \n",
       "L 142.191576 46.65889 \n",
       "z\n",
       "\" style=\"fill:#70bf41;\"/>\n",
       "   </g>\n",
       "   <g id=\"patch_23\">\n",
       "    <path clip-path=\"url(#pe770d68d9f)\" d=\"M 215.70471 180.489509 \n",
       "L 224.893851 180.489509 \n",
       "L 224.893851 219.761909 \n",
       "L 215.70471 219.761909 \n",
       "z\n",
       "\" style=\"fill:#70bf41;\"/>\n",
       "   </g>\n",
       "   <g id=\"patch_24\">\n",
       "    <path clip-path=\"url(#pe770d68d9f)\" d=\"M 289.217843 180.489509 \n",
       "L 298.406985 180.489509 \n",
       "L 298.406985 326.667921 \n",
       "L 289.217843 326.667921 \n",
       "z\n",
       "\" style=\"fill:#70bf41;\"/>\n",
       "   </g>\n",
       "   <g id=\"patch_25\">\n",
       "    <path clip-path=\"url(#pe770d68d9f)\" d=\"M 362.730977 180.489509 \n",
       "L 371.920119 180.489509 \n",
       "L 371.920119 257.440141 \n",
       "L 362.730977 257.440141 \n",
       "z\n",
       "\" style=\"fill:#70bf41;\"/>\n",
       "   </g>\n",
       "   <g id=\"patch_26\">\n",
       "    <path clip-path=\"url(#pe770d68d9f)\" d=\"M 436.244111 180.489509 \n",
       "L 445.433253 180.489509 \n",
       "L 445.433253 174.766822 \n",
       "L 436.244111 174.766822 \n",
       "z\n",
       "\" style=\"fill:#70bf41;\"/>\n",
       "   </g>\n",
       "   <g id=\"patch_27\">\n",
       "    <path clip-path=\"url(#pe770d68d9f)\" d=\"M 509.757245 180.489509 \n",
       "L 518.946386 180.489509 \n",
       "L 518.946386 278.030627 \n",
       "L 509.757245 278.030627 \n",
       "z\n",
       "\" style=\"fill:#70bf41;\"/>\n",
       "   </g>\n",
       "   <g id=\"patch_28\">\n",
       "    <path clip-path=\"url(#pe770d68d9f)\" d=\"M 583.270379 180.489509 \n",
       "L 592.45952 180.489509 \n",
       "L 592.45952 231.481223 \n",
       "L 583.270379 231.481223 \n",
       "z\n",
       "\" style=\"fill:#70bf41;\"/>\n",
       "   </g>\n",
       "   <g id=\"patch_29\">\n",
       "    <path clip-path=\"url(#pe770d68d9f)\" d=\"M 656.783512 180.489509 \n",
       "L 665.972654 180.489509 \n",
       "L 665.972654 110.782821 \n",
       "L 656.783512 110.782821 \n",
       "z\n",
       "\" style=\"fill:#70bf41;\"/>\n",
       "   </g>\n",
       "   <g id=\"patch_30\">\n",
       "    <path clip-path=\"url(#pe770d68d9f)\" d=\"M 77.867584 180.489509 \n",
       "L 87.056725 180.489509 \n",
       "L 87.056725 51.420123 \n",
       "L 77.867584 51.420123 \n",
       "z\n",
       "\" style=\"fill:#f39019;\"/>\n",
       "   </g>\n",
       "   <g id=\"patch_31\">\n",
       "    <path clip-path=\"url(#pe770d68d9f)\" d=\"M 151.380717 180.489509 \n",
       "L 160.569859 180.489509 \n",
       "L 160.569859 115.453142 \n",
       "L 151.380717 115.453142 \n",
       "z\n",
       "\" style=\"fill:#f39019;\"/>\n",
       "   </g>\n",
       "   <g id=\"patch_32\">\n",
       "    <path clip-path=\"url(#pe770d68d9f)\" d=\"M 224.893851 180.489509 \n",
       "L 234.082993 180.489509 \n",
       "L 234.082993 219.957845 \n",
       "L 224.893851 219.957845 \n",
       "z\n",
       "\" style=\"fill:#f39019;\"/>\n",
       "   </g>\n",
       "   <g id=\"patch_33\">\n",
       "    <path clip-path=\"url(#pe770d68d9f)\" d=\"M 298.406985 180.489509 \n",
       "L 307.596127 180.489509 \n",
       "L 307.596127 228.140647 \n",
       "L 298.406985 228.140647 \n",
       "z\n",
       "\" style=\"fill:#f39019;\"/>\n",
       "   </g>\n",
       "   <g id=\"patch_34\">\n",
       "    <path clip-path=\"url(#pe770d68d9f)\" d=\"M 371.920119 180.489509 \n",
       "L 381.109261 180.489509 \n",
       "L 381.109261 300.175391 \n",
       "L 371.920119 300.175391 \n",
       "z\n",
       "\" style=\"fill:#f39019;\"/>\n",
       "   </g>\n",
       "   <g id=\"patch_35\">\n",
       "    <path clip-path=\"url(#pe770d68d9f)\" d=\"M 445.433253 180.489509 \n",
       "L 454.622394 180.489509 \n",
       "L 454.622394 301.230001 \n",
       "L 445.433253 301.230001 \n",
       "z\n",
       "\" style=\"fill:#f39019;\"/>\n",
       "   </g>\n",
       "   <g id=\"patch_36\">\n",
       "    <path clip-path=\"url(#pe770d68d9f)\" d=\"M 518.946386 180.489509 \n",
       "L 528.135528 180.489509 \n",
       "L 528.135528 148.650926 \n",
       "L 518.946386 148.650926 \n",
       "z\n",
       "\" style=\"fill:#f39019;\"/>\n",
       "   </g>\n",
       "   <g id=\"patch_37\">\n",
       "    <path clip-path=\"url(#pe770d68d9f)\" d=\"M 592.45952 180.489509 \n",
       "L 601.648662 180.489509 \n",
       "L 601.648662 23.517925 \n",
       "L 592.45952 23.517925 \n",
       "z\n",
       "\" style=\"fill:#f39019;\"/>\n",
       "   </g>\n",
       "   <g id=\"patch_38\">\n",
       "    <path clip-path=\"url(#pe770d68d9f)\" d=\"M 665.972654 180.489509 \n",
       "L 675.161796 180.489509 \n",
       "L 675.161796 283.950081 \n",
       "L 665.972654 283.950081 \n",
       "z\n",
       "\" style=\"fill:#f39019;\"/>\n",
       "   </g>\n",
       "   <g id=\"patch_39\">\n",
       "    <path d=\"M 31.921875 358.586361 \n",
       "L 31.921875 7.562286 \n",
       "\" style=\"fill:none;stroke:#f0f0f0;stroke-linecap:square;stroke-linejoin:miter;stroke-width:3;\"/>\n",
       "   </g>\n",
       "   <g id=\"patch_40\">\n",
       "    <path d=\"M 693.540079 358.586361 \n",
       "L 693.540079 7.562286 \n",
       "\" style=\"fill:none;stroke:#f0f0f0;stroke-linecap:square;stroke-linejoin:miter;stroke-width:3;\"/>\n",
       "   </g>\n",
       "   <g id=\"patch_41\">\n",
       "    <path d=\"M 31.921875 358.586361 \n",
       "L 693.540079 358.586361 \n",
       "\" style=\"fill:none;stroke:#f0f0f0;stroke-linecap:square;stroke-linejoin:miter;stroke-width:3;\"/>\n",
       "   </g>\n",
       "   <g id=\"patch_42\">\n",
       "    <path d=\"M 31.921875 7.562286 \n",
       "L 693.540079 7.562286 \n",
       "\" style=\"fill:none;stroke:#f0f0f0;stroke-linecap:square;stroke-linejoin:miter;stroke-width:3;\"/>\n",
       "   </g>\n",
       "   <g id=\"legend_1\">\n",
       "    <g id=\"patch_43\">\n",
       "     <path d=\"M 636.976017 74.006036 \n",
       "L 686.540079 74.006036 \n",
       "Q 688.540079 74.006036 688.540079 72.006036 \n",
       "L 688.540079 14.562286 \n",
       "Q 688.540079 12.562286 686.540079 12.562286 \n",
       "L 636.976017 12.562286 \n",
       "Q 634.976017 12.562286 634.976017 14.562286 \n",
       "L 634.976017 72.006036 \n",
       "Q 634.976017 74.006036 636.976017 74.006036 \n",
       "z\n",
       "\" style=\"fill:#ffffff;opacity:0.8;stroke:#cccccc;stroke-linejoin:miter;stroke-width:0.5;\"/>\n",
       "    </g>\n",
       "    <g id=\"patch_44\">\n",
       "     <path d=\"M 638.976017 24.160723 \n",
       "L 658.976017 24.160723 \n",
       "L 658.976017 17.160723 \n",
       "L 638.976017 17.160723 \n",
       "z\n",
       "\" style=\"fill:#51a7f9;\"/>\n",
       "    </g>\n",
       "    <g id=\"text_19\">\n",
       "     <!-- No1 -->\n",
       "     <g transform=\"translate(666.976017 24.160723)scale(0.1 -0.1)\">\n",
       "      <defs>\n",
       "       <path d=\"M 3800 0 \n",
       "L 3106 0 \n",
       "L 1050 4013 \n",
       "L 1050 0 \n",
       "L 472 0 \n",
       "L 472 4653 \n",
       "L 1350 4653 \n",
       "L 3222 969 \n",
       "L 3222 4653 \n",
       "L 3800 4653 \n",
       "L 3800 0 \n",
       "z\n",
       "\" id=\"Tahoma-4e\" transform=\"scale(0.015625)\"/>\n",
       "       <path d=\"M 3297 1744 \n",
       "Q 3297 863 2872 383 \n",
       "Q 2447 -97 1741 -97 \n",
       "Q 1013 -97 595 398 \n",
       "Q 178 894 178 1744 \n",
       "Q 178 2619 608 3103 \n",
       "Q 1038 3588 1741 3588 \n",
       "Q 2447 3588 2872 3105 \n",
       "Q 3297 2622 3297 1744 \n",
       "z\n",
       "M 2691 1744 \n",
       "Q 2691 2422 2444 2751 \n",
       "Q 2197 3081 1741 3081 \n",
       "Q 1281 3081 1032 2751 \n",
       "Q 784 2422 784 1744 \n",
       "Q 784 1088 1032 748 \n",
       "Q 1281 409 1741 409 \n",
       "Q 2194 409 2442 742 \n",
       "Q 2691 1075 2691 1744 \n",
       "z\n",
       "\" id=\"Tahoma-6f\" transform=\"scale(0.015625)\"/>\n",
       "      </defs>\n",
       "      <use xlink:href=\"#Tahoma-4e\"/>\n",
       "      <use x=\"66.748047\" xlink:href=\"#Tahoma-6f\"/>\n",
       "      <use x=\"121.044922\" xlink:href=\"#Tahoma-31\"/>\n",
       "     </g>\n",
       "    </g>\n",
       "    <g id=\"patch_45\">\n",
       "     <path d=\"M 638.976017 38.771661 \n",
       "L 658.976017 38.771661 \n",
       "L 658.976017 31.771661 \n",
       "L 638.976017 31.771661 \n",
       "z\n",
       "\" style=\"fill:#cf51f9;\"/>\n",
       "    </g>\n",
       "    <g id=\"text_20\">\n",
       "     <!-- No2 -->\n",
       "     <g transform=\"translate(666.976017 38.771661)scale(0.1 -0.1)\">\n",
       "      <use xlink:href=\"#Tahoma-4e\"/>\n",
       "      <use x=\"66.748047\" xlink:href=\"#Tahoma-6f\"/>\n",
       "      <use x=\"121.044922\" xlink:href=\"#Tahoma-32\"/>\n",
       "     </g>\n",
       "    </g>\n",
       "    <g id=\"patch_46\">\n",
       "     <path d=\"M 638.976017 53.382598 \n",
       "L 658.976017 53.382598 \n",
       "L 658.976017 46.382598 \n",
       "L 638.976017 46.382598 \n",
       "z\n",
       "\" style=\"fill:#70bf41;\"/>\n",
       "    </g>\n",
       "    <g id=\"text_21\">\n",
       "     <!-- No3 -->\n",
       "     <g transform=\"translate(666.976017 53.382598)scale(0.1 -0.1)\">\n",
       "      <use xlink:href=\"#Tahoma-4e\"/>\n",
       "      <use x=\"66.748047\" xlink:href=\"#Tahoma-6f\"/>\n",
       "      <use x=\"121.044922\" xlink:href=\"#Tahoma-33\"/>\n",
       "     </g>\n",
       "    </g>\n",
       "    <g id=\"patch_47\">\n",
       "     <path d=\"M 638.976017 67.993536 \n",
       "L 658.976017 67.993536 \n",
       "L 658.976017 60.993536 \n",
       "L 638.976017 60.993536 \n",
       "z\n",
       "\" style=\"fill:#f39019;\"/>\n",
       "    </g>\n",
       "    <g id=\"text_22\">\n",
       "     <!-- No4 -->\n",
       "     <g transform=\"translate(666.976017 67.993536)scale(0.1 -0.1)\">\n",
       "      <use xlink:href=\"#Tahoma-4e\"/>\n",
       "      <use x=\"66.748047\" xlink:href=\"#Tahoma-6f\"/>\n",
       "      <use x=\"121.044922\" xlink:href=\"#Tahoma-34\"/>\n",
       "     </g>\n",
       "    </g>\n",
       "   </g>\n",
       "  </g>\n",
       " </g>\n",
       " <defs>\n",
       "  <clipPath id=\"pe770d68d9f\">\n",
       "   <rect height=\"351.024075\" width=\"661.618204\" x=\"31.921875\" y=\"7.562286\"/>\n",
       "  </clipPath>\n",
       " </defs>\n",
       "</svg>\n"
      ],
      "text/plain": [
       "<Figure size 3000x1800 with 1 Axes>"
      ]
     },
     "metadata": {
      "needs_background": "light"
     },
     "output_type": "display_data"
    }
   ],
   "source": [
    "df.plot.bar(figsize=(10, 6), rot=30);  "
   ]
  },
  {
   "cell_type": "markdown",
   "metadata": {
    "slideshow": {
     "slide_type": "slide"
    }
   },
   "source": [
    "## Series Class"
   ]
  },
  {
   "cell_type": "code",
   "execution_count": 48,
   "metadata": {
    "slideshow": {
     "slide_type": "skip"
    },
    "uuid": "e86f82d1-5934-42d3-a986-f01bc829adaa"
   },
   "outputs": [
    {
     "data": {
      "text/plain": [
       "pandas.core.frame.DataFrame"
      ]
     },
     "execution_count": 48,
     "metadata": {},
     "output_type": "execute_result"
    }
   ],
   "source": [
    "type(df)"
   ]
  },
  {
   "cell_type": "code",
   "execution_count": 49,
   "metadata": {
    "slideshow": {
     "slide_type": "fragment"
    }
   },
   "outputs": [],
   "source": [
    "S = pd.Series(np.linspace(0, 15, 7), name='series')"
   ]
  },
  {
   "cell_type": "code",
   "execution_count": 50,
   "metadata": {
    "slideshow": {
     "slide_type": "fragment"
    }
   },
   "outputs": [
    {
     "data": {
      "text/plain": [
       "0     0.0\n",
       "1     2.5\n",
       "2     5.0\n",
       "3     7.5\n",
       "4    10.0\n",
       "5    12.5\n",
       "6    15.0\n",
       "Name: series, dtype: float64"
      ]
     },
     "execution_count": 50,
     "metadata": {},
     "output_type": "execute_result"
    }
   ],
   "source": [
    "S"
   ]
  },
  {
   "cell_type": "code",
   "execution_count": 51,
   "metadata": {
    "slideshow": {
     "slide_type": "skip"
    }
   },
   "outputs": [
    {
     "data": {
      "text/plain": [
       "pandas.core.series.Series"
      ]
     },
     "execution_count": 51,
     "metadata": {},
     "output_type": "execute_result"
    }
   ],
   "source": [
    "type(S)"
   ]
  },
  {
   "cell_type": "code",
   "execution_count": 52,
   "metadata": {
    "slideshow": {
     "slide_type": "skip"
    }
   },
   "outputs": [],
   "source": [
    "s = df['No1']"
   ]
  },
  {
   "cell_type": "code",
   "execution_count": 53,
   "metadata": {
    "slideshow": {
     "slide_type": "skip"
    }
   },
   "outputs": [
    {
     "data": {
      "text/plain": [
       "2019-01-31    0.496714\n",
       "2019-02-28   -0.234153\n",
       "2019-03-31   -0.469474\n",
       "2019-04-30    0.241962\n",
       "2019-05-31   -1.012831\n",
       "2019-06-30    1.465649\n",
       "2019-07-31   -0.544383\n",
       "2019-08-31   -0.600639\n",
       "2019-09-30   -0.013497\n",
       "Freq: M, Name: No1, dtype: float64"
      ]
     },
     "execution_count": 53,
     "metadata": {},
     "output_type": "execute_result"
    }
   ],
   "source": [
    "s"
   ]
  },
  {
   "cell_type": "code",
   "execution_count": 54,
   "metadata": {
    "slideshow": {
     "slide_type": "skip"
    },
    "uuid": "ca241ef9-5359-4c89-bc92-be6346cb3959"
   },
   "outputs": [
    {
     "data": {
      "text/plain": [
       "pandas.core.series.Series"
      ]
     },
     "execution_count": 54,
     "metadata": {},
     "output_type": "execute_result"
    }
   ],
   "source": [
    "type(s)"
   ]
  },
  {
   "cell_type": "code",
   "execution_count": 55,
   "metadata": {
    "slideshow": {
     "slide_type": "skip"
    }
   },
   "outputs": [
    {
     "data": {
      "text/plain": [
       "-0.0745169251862014"
      ]
     },
     "execution_count": 55,
     "metadata": {},
     "output_type": "execute_result"
    }
   ],
   "source": [
    "s.mean()"
   ]
  },
  {
   "cell_type": "code",
   "execution_count": 56,
   "metadata": {
    "slideshow": {
     "slide_type": "skip"
    },
    "uuid": "b3d4cc90-e499-459c-88a5-011fde80d864"
   },
   "outputs": [
    {
     "data": {
      "image/svg+xml": [
       "<?xml version=\"1.0\" encoding=\"utf-8\" standalone=\"no\"?>\n",
       "<!DOCTYPE svg PUBLIC \"-//W3C//DTD SVG 1.1//EN\"\n",
       "  \"http://www.w3.org/Graphics/SVG/1.1/DTD/svg11.dtd\">\n",
       "<svg height=\"424.8pt\" version=\"1.1\" viewBox=\"0 0 712.8 424.8\" width=\"712.8pt\" xmlns=\"http://www.w3.org/2000/svg\" xmlns:xlink=\"http://www.w3.org/1999/xlink\">\n",
       " <metadata>\n",
       "  <rdf:RDF xmlns:cc=\"http://creativecommons.org/ns#\" xmlns:dc=\"http://purl.org/dc/elements/1.1/\" xmlns:rdf=\"http://www.w3.org/1999/02/22-rdf-syntax-ns#\">\n",
       "   <cc:Work>\n",
       "    <dc:type rdf:resource=\"http://purl.org/dc/dcmitype/StillImage\"/>\n",
       "    <dc:date>2023-02-13T12:09:47.900083</dc:date>\n",
       "    <dc:format>image/svg+xml</dc:format>\n",
       "    <dc:creator>\n",
       "     <cc:Agent>\n",
       "      <dc:title>Matplotlib v3.4.2, https://matplotlib.org/</dc:title>\n",
       "     </cc:Agent>\n",
       "    </dc:creator>\n",
       "   </cc:Work>\n",
       "  </rdf:RDF>\n",
       " </metadata>\n",
       " <defs>\n",
       "  <style type=\"text/css\">*{stroke-linecap:butt;stroke-linejoin:round;}</style>\n",
       " </defs>\n",
       " <g id=\"figure_1\">\n",
       "  <g id=\"patch_1\">\n",
       "   <path d=\"M 0 424.8 \n",
       "L 712.8 424.8 \n",
       "L 712.8 0 \n",
       "L 0 0 \n",
       "z\n",
       "\" style=\"fill:none;\"/>\n",
       "  </g>\n",
       "  <g id=\"axes_1\">\n",
       "   <g id=\"patch_2\">\n",
       "    <path d=\"M 31.921875 393.358438 \n",
       "L 697.405469 393.358438 \n",
       "L 697.405469 7.2 \n",
       "L 31.921875 7.2 \n",
       "z\n",
       "\" style=\"fill:#ffffff;\"/>\n",
       "   </g>\n",
       "   <g id=\"matplotlib.axis_1\">\n",
       "    <g id=\"xtick_1\">\n",
       "     <g id=\"line2d_1\">\n",
       "      <path clip-path=\"url(#paf23e9cd3e)\" d=\"M 31.921875 393.358438 \n",
       "L 31.921875 7.2 \n",
       "\" style=\"fill:none;stroke:#b0b0b0;\"/>\n",
       "     </g>\n",
       "     <g id=\"line2d_2\"/>\n",
       "     <g id=\"text_1\">\n",
       "      <!-- Jan -->\n",
       "      <g transform=\"translate(24.426562 404.456875)scale(0.1 -0.1)\">\n",
       "       <defs>\n",
       "        <path d=\"M 2225 1209 \n",
       "Q 2225 597 1851 265 \n",
       "Q 1478 -66 850 -66 \n",
       "Q 700 -66 448 -39 \n",
       "Q 197 -13 28 25 \n",
       "L 28 616 \n",
       "L 63 616 \n",
       "Q 191 572 380 519 \n",
       "Q 569 466 766 466 \n",
       "Q 1053 466 1223 531 \n",
       "Q 1394 597 1475 719 \n",
       "Q 1559 844 1582 1025 \n",
       "Q 1606 1206 1606 1444 \n",
       "L 1606 4159 \n",
       "L 622 4159 \n",
       "L 622 4653 \n",
       "L 2225 4653 \n",
       "L 2225 1209 \n",
       "z\n",
       "\" id=\"Tahoma-4a\" transform=\"scale(0.015625)\"/>\n",
       "        <path d=\"M 2375 859 \n",
       "L 2375 1828 \n",
       "Q 2166 1809 1845 1776 \n",
       "Q 1525 1744 1328 1684 \n",
       "Q 1094 1613 941 1464 \n",
       "Q 788 1316 788 1050 \n",
       "Q 788 750 956 597 \n",
       "Q 1125 444 1450 444 \n",
       "Q 1728 444 1953 564 \n",
       "Q 2178 684 2375 859 \n",
       "z\n",
       "M 2375 372 \n",
       "Q 2303 319 2183 223 \n",
       "Q 2063 128 1950 72 \n",
       "Q 1794 -9 1648 -53 \n",
       "Q 1503 -97 1241 -97 \n",
       "Q 1025 -97 831 -15 \n",
       "Q 638 66 491 213 \n",
       "Q 350 356 265 567 \n",
       "Q 181 778 181 1013 \n",
       "Q 181 1375 334 1629 \n",
       "Q 488 1884 819 2034 \n",
       "Q 1113 2169 1513 2220 \n",
       "Q 1913 2272 2375 2297 \n",
       "L 2375 2409 \n",
       "Q 2375 2616 2312 2742 \n",
       "Q 2250 2869 2138 2938 \n",
       "Q 2025 3009 1862 3032 \n",
       "Q 1700 3056 1528 3056 \n",
       "Q 1325 3056 1050 2995 \n",
       "Q 775 2934 500 2819 \n",
       "L 466 2819 \n",
       "L 466 3416 \n",
       "Q 628 3463 931 3519 \n",
       "Q 1234 3575 1531 3575 \n",
       "Q 1891 3575 2137 3519 \n",
       "Q 2384 3463 2581 3316 \n",
       "Q 2772 3172 2865 2944 \n",
       "Q 2959 2716 2959 2388 \n",
       "L 2959 0 \n",
       "L 2375 0 \n",
       "L 2375 372 \n",
       "z\n",
       "\" id=\"Tahoma-61\" transform=\"scale(0.015625)\"/>\n",
       "        <path d=\"M 3169 0 \n",
       "L 2581 0 \n",
       "L 2581 1988 \n",
       "Q 2581 2228 2557 2436 \n",
       "Q 2534 2644 2469 2769 \n",
       "Q 2397 2900 2269 2964 \n",
       "Q 2141 3028 1919 3028 \n",
       "Q 1700 3028 1467 2911 \n",
       "Q 1234 2794 1013 2606 \n",
       "L 1013 0 \n",
       "L 425 0 \n",
       "L 425 3491 \n",
       "L 1013 3491 \n",
       "L 1013 3103 \n",
       "Q 1275 3338 1531 3463 \n",
       "Q 1788 3588 2072 3588 \n",
       "Q 2588 3588 2878 3248 \n",
       "Q 3169 2909 3169 2266 \n",
       "L 3169 0 \n",
       "z\n",
       "\" id=\"Tahoma-6e\" transform=\"scale(0.015625)\"/>\n",
       "       </defs>\n",
       "       <use xlink:href=\"#Tahoma-4a\"/>\n",
       "       <use x=\"41.650391\" xlink:href=\"#Tahoma-61\"/>\n",
       "       <use x=\"94.140625\" xlink:href=\"#Tahoma-6e\"/>\n",
       "      </g>\n",
       "      <!-- 2019 -->\n",
       "      <g transform=\"translate(21.003125 415.5875)scale(0.1 -0.1)\">\n",
       "       <defs>\n",
       "        <path d=\"M 3213 0 \n",
       "L 341 0 \n",
       "L 341 653 \n",
       "Q 650 947 925 1215 \n",
       "Q 1200 1484 1463 1775 \n",
       "Q 1994 2359 2187 2711 \n",
       "Q 2381 3063 2381 3438 \n",
       "Q 2381 3631 2320 3778 \n",
       "Q 2259 3925 2153 4022 \n",
       "Q 2044 4116 1900 4162 \n",
       "Q 1756 4209 1584 4209 \n",
       "Q 1419 4209 1248 4167 \n",
       "Q 1078 4125 922 4063 \n",
       "Q 791 4009 669 3934 \n",
       "Q 547 3859 472 3806 \n",
       "L 438 3806 \n",
       "L 438 4469 \n",
       "Q 631 4566 976 4658 \n",
       "Q 1322 4750 1631 4750 \n",
       "Q 2281 4750 2650 4404 \n",
       "Q 3019 4059 3019 3469 \n",
       "Q 3019 3197 2955 2965 \n",
       "Q 2891 2734 2778 2538 \n",
       "Q 2663 2334 2500 2134 \n",
       "Q 2338 1934 2156 1741 \n",
       "Q 1863 1422 1502 1078 \n",
       "Q 1141 734 925 534 \n",
       "L 3213 534 \n",
       "L 3213 0 \n",
       "z\n",
       "\" id=\"Tahoma-32\" transform=\"scale(0.015625)\"/>\n",
       "        <path d=\"M 3234 2328 \n",
       "Q 3234 1075 2870 489 \n",
       "Q 2506 -97 1747 -97 \n",
       "Q 978 -97 618 500 \n",
       "Q 259 1097 259 2322 \n",
       "Q 259 3581 623 4164 \n",
       "Q 988 4747 1747 4747 \n",
       "Q 2516 4747 2875 4144 \n",
       "Q 3234 3541 3234 2328 \n",
       "z\n",
       "M 2434 909 \n",
       "Q 2525 1141 2562 1494 \n",
       "Q 2600 1847 2600 2328 \n",
       "Q 2600 2806 2562 3159 \n",
       "Q 2525 3513 2431 3747 \n",
       "Q 2338 3984 2173 4107 \n",
       "Q 2009 4231 1747 4231 \n",
       "Q 1488 4231 1320 4107 \n",
       "Q 1153 3984 1056 3741 \n",
       "Q 963 3503 928 3140 \n",
       "Q 894 2778 894 2322 \n",
       "Q 894 1834 923 1506 \n",
       "Q 953 1178 1053 919 \n",
       "Q 1144 678 1311 548 \n",
       "Q 1478 419 1747 419 \n",
       "Q 2006 419 2173 542 \n",
       "Q 2341 666 2434 909 \n",
       "z\n",
       "\" id=\"Tahoma-30\" transform=\"scale(0.015625)\"/>\n",
       "        <path d=\"M 2975 0 \n",
       "L 706 0 \n",
       "L 706 475 \n",
       "L 1550 475 \n",
       "L 1550 3594 \n",
       "L 706 3594 \n",
       "L 706 4019 \n",
       "Q 1184 4019 1411 4155 \n",
       "Q 1638 4291 1666 4669 \n",
       "L 2150 4669 \n",
       "L 2150 475 \n",
       "L 2975 475 \n",
       "L 2975 0 \n",
       "z\n",
       "\" id=\"Tahoma-31\" transform=\"scale(0.015625)\"/>\n",
       "        <path d=\"M 2600 2741 \n",
       "Q 2600 3216 2512 3514 \n",
       "Q 2425 3813 2272 3975 \n",
       "Q 2134 4125 1993 4181 \n",
       "Q 1853 4238 1684 4238 \n",
       "Q 1300 4238 1072 3963 \n",
       "Q 844 3688 844 3166 \n",
       "Q 844 2872 919 2681 \n",
       "Q 994 2491 1163 2353 \n",
       "Q 1281 2256 1431 2223 \n",
       "Q 1581 2191 1753 2191 \n",
       "Q 1953 2191 2184 2261 \n",
       "Q 2416 2331 2588 2447 \n",
       "Q 2591 2494 2595 2570 \n",
       "Q 2600 2647 2600 2741 \n",
       "z\n",
       "M 209 3141 \n",
       "Q 209 3500 326 3797 \n",
       "Q 444 4094 647 4309 \n",
       "Q 841 4516 1120 4631 \n",
       "Q 1400 4747 1688 4747 \n",
       "Q 2009 4747 2270 4639 \n",
       "Q 2531 4531 2722 4328 \n",
       "Q 2963 4072 3095 3656 \n",
       "Q 3228 3241 3228 2606 \n",
       "Q 3228 2028 3098 1511 \n",
       "Q 2969 994 2716 653 \n",
       "Q 2447 291 2070 100 \n",
       "Q 1694 -91 1141 -91 \n",
       "Q 1016 -91 875 -77 \n",
       "Q 734 -63 613 -25 \n",
       "L 613 572 \n",
       "L 644 572 \n",
       "Q 722 528 887 487 \n",
       "Q 1053 447 1225 447 \n",
       "Q 1838 447 2188 850 \n",
       "Q 2538 1253 2584 2003 \n",
       "Q 2334 1834 2107 1756 \n",
       "Q 1881 1678 1616 1678 \n",
       "Q 1356 1678 1143 1734 \n",
       "Q 931 1791 716 1953 \n",
       "Q 466 2144 337 2436 \n",
       "Q 209 2728 209 3141 \n",
       "z\n",
       "\" id=\"Tahoma-39\" transform=\"scale(0.015625)\"/>\n",
       "       </defs>\n",
       "       <use xlink:href=\"#Tahoma-32\"/>\n",
       "       <use x=\"54.589844\" xlink:href=\"#Tahoma-30\"/>\n",
       "       <use x=\"109.179688\" xlink:href=\"#Tahoma-31\"/>\n",
       "       <use x=\"163.769531\" xlink:href=\"#Tahoma-39\"/>\n",
       "      </g>\n",
       "     </g>\n",
       "    </g>\n",
       "    <g id=\"xtick_2\">\n",
       "     <g id=\"line2d_3\"/>\n",
       "     <g id=\"text_2\">\n",
       "      <!-- Feb -->\n",
       "      <g transform=\"translate(107.215918 404.356875)scale(0.1 -0.1)\">\n",
       "       <defs>\n",
       "        <path d=\"M 3256 4103 \n",
       "L 1091 4103 \n",
       "L 1091 2791 \n",
       "L 3166 2791 \n",
       "L 3166 2241 \n",
       "L 1091 2241 \n",
       "L 1091 0 \n",
       "L 472 0 \n",
       "L 472 4653 \n",
       "L 3256 4653 \n",
       "L 3256 4103 \n",
       "z\n",
       "\" id=\"Tahoma-46\" transform=\"scale(0.015625)\"/>\n",
       "        <path d=\"M 1941 -81 \n",
       "Q 1106 -81 645 389 \n",
       "Q 184 859 184 1725 \n",
       "Q 184 2578 631 3083 \n",
       "Q 1078 3588 1800 3588 \n",
       "Q 2125 3588 2375 3494 \n",
       "Q 2625 3400 2813 3200 \n",
       "Q 3000 3000 3100 2711 \n",
       "Q 3200 2422 3200 2003 \n",
       "L 3200 1684 \n",
       "L 781 1684 \n",
       "Q 781 1075 1087 753 \n",
       "Q 1394 431 1934 431 \n",
       "Q 2128 431 2314 475 \n",
       "Q 2500 519 2650 588 \n",
       "Q 2809 659 2918 726 \n",
       "Q 3028 794 3100 853 \n",
       "L 3134 853 \n",
       "L 3134 213 \n",
       "Q 3031 172 2878 111 \n",
       "Q 2725 50 2603 16 \n",
       "Q 2431 -31 2292 -56 \n",
       "Q 2153 -81 1941 -81 \n",
       "z\n",
       "M 2628 2134 \n",
       "Q 2622 2372 2572 2544 \n",
       "Q 2522 2716 2428 2834 \n",
       "Q 2325 2966 2164 3034 \n",
       "Q 2003 3103 1766 3103 \n",
       "Q 1531 3103 1367 3033 \n",
       "Q 1203 2963 1069 2828 \n",
       "Q 938 2691 869 2523 \n",
       "Q 800 2356 781 2134 \n",
       "L 2628 2134 \n",
       "z\n",
       "\" id=\"Tahoma-65\" transform=\"scale(0.015625)\"/>\n",
       "        <path d=\"M 2747 1756 \n",
       "Q 2747 2381 2556 2704 \n",
       "Q 2366 3028 1944 3028 \n",
       "Q 1703 3028 1458 2915 \n",
       "Q 1213 2803 1013 2631 \n",
       "L 1013 631 \n",
       "Q 1234 522 1406 476 \n",
       "Q 1578 431 1784 431 \n",
       "Q 2234 431 2490 750 \n",
       "Q 2747 1069 2747 1756 \n",
       "z\n",
       "M 3353 1803 \n",
       "Q 3353 947 2937 425 \n",
       "Q 2522 -97 1897 -97 \n",
       "Q 1613 -97 1411 -26 \n",
       "Q 1209 44 1013 163 \n",
       "L 975 0 \n",
       "L 425 0 \n",
       "L 425 4863 \n",
       "L 1013 4863 \n",
       "L 1013 3125 \n",
       "Q 1234 3325 1493 3456 \n",
       "Q 1753 3588 2081 3588 \n",
       "Q 2672 3588 3012 3114 \n",
       "Q 3353 2641 3353 1803 \n",
       "z\n",
       "\" id=\"Tahoma-62\" transform=\"scale(0.015625)\"/>\n",
       "       </defs>\n",
       "       <use xlink:href=\"#Tahoma-46\"/>\n",
       "       <use x=\"49.898438\" xlink:href=\"#Tahoma-65\"/>\n",
       "       <use x=\"102.535156\" xlink:href=\"#Tahoma-62\"/>\n",
       "      </g>\n",
       "     </g>\n",
       "    </g>\n",
       "    <g id=\"xtick_3\">\n",
       "     <g id=\"line2d_4\"/>\n",
       "     <g id=\"text_3\">\n",
       "      <!-- Mar -->\n",
       "      <g transform=\"translate(190.014648 404.356875)scale(0.1 -0.1)\">\n",
       "       <defs>\n",
       "        <path d=\"M 4459 0 \n",
       "L 3841 0 \n",
       "L 3841 4009 \n",
       "L 2628 1281 \n",
       "L 2253 1281 \n",
       "L 1050 4009 \n",
       "L 1050 0 \n",
       "L 472 0 \n",
       "L 472 4653 \n",
       "L 1316 4653 \n",
       "L 2478 2063 \n",
       "L 3600 4653 \n",
       "L 4459 4653 \n",
       "L 4459 0 \n",
       "z\n",
       "\" id=\"Tahoma-4d\" transform=\"scale(0.015625)\"/>\n",
       "        <path d=\"M 2275 2859 \n",
       "L 2244 2859 \n",
       "Q 2178 2878 2104 2883 \n",
       "Q 2031 2888 1928 2888 \n",
       "Q 1691 2888 1456 2784 \n",
       "Q 1222 2681 1013 2478 \n",
       "L 1013 0 \n",
       "L 425 0 \n",
       "L 425 3491 \n",
       "L 1013 3491 \n",
       "L 1013 2972 \n",
       "Q 1334 3256 1573 3373 \n",
       "Q 1813 3491 2038 3491 \n",
       "Q 2128 3491 2173 3486 \n",
       "Q 2219 3481 2275 3472 \n",
       "L 2275 2859 \n",
       "z\n",
       "\" id=\"Tahoma-72\" transform=\"scale(0.015625)\"/>\n",
       "       </defs>\n",
       "       <use xlink:href=\"#Tahoma-4d\"/>\n",
       "       <use x=\"77.050781\" xlink:href=\"#Tahoma-61\"/>\n",
       "       <use x=\"129.541016\" xlink:href=\"#Tahoma-72\"/>\n",
       "      </g>\n",
       "     </g>\n",
       "    </g>\n",
       "    <g id=\"xtick_4\">\n",
       "     <g id=\"line2d_5\"/>\n",
       "     <g id=\"text_4\">\n",
       "      <!-- Apr -->\n",
       "      <g transform=\"translate(273.91416 404.356875)scale(0.1 -0.1)\">\n",
       "       <defs>\n",
       "        <path d=\"M -31 0 \n",
       "L 1538 4653 \n",
       "L 2300 4653 \n",
       "L 3869 0 \n",
       "L 3216 0 \n",
       "L 2794 1300 \n",
       "L 1016 1300 \n",
       "L 594 0 \n",
       "L -31 0 \n",
       "z\n",
       "M 2622 1828 \n",
       "L 1903 4022 \n",
       "L 1188 1828 \n",
       "L 2622 1828 \n",
       "z\n",
       "\" id=\"Tahoma-41\" transform=\"scale(0.015625)\"/>\n",
       "        <path d=\"M 3353 1838 \n",
       "Q 3353 966 2936 448 \n",
       "Q 2519 -69 1881 -69 \n",
       "Q 1622 -69 1422 -9 \n",
       "Q 1222 50 1013 175 \n",
       "L 1013 -1288 \n",
       "L 425 -1288 \n",
       "L 425 3491 \n",
       "L 1013 3491 \n",
       "L 1013 3125 \n",
       "Q 1231 3322 1498 3455 \n",
       "Q 1766 3588 2081 3588 \n",
       "Q 2681 3588 3017 3113 \n",
       "Q 3353 2638 3353 1838 \n",
       "z\n",
       "M 2747 1772 \n",
       "Q 2747 2369 2556 2698 \n",
       "Q 2366 3028 1938 3028 \n",
       "Q 1688 3028 1455 2917 \n",
       "Q 1222 2806 1013 2631 \n",
       "L 1013 653 \n",
       "Q 1244 541 1408 500 \n",
       "Q 1572 459 1784 459 \n",
       "Q 2241 459 2494 793 \n",
       "Q 2747 1128 2747 1772 \n",
       "z\n",
       "\" id=\"Tahoma-70\" transform=\"scale(0.015625)\"/>\n",
       "       </defs>\n",
       "       <use xlink:href=\"#Tahoma-41\"/>\n",
       "       <use x=\"59.960938\" xlink:href=\"#Tahoma-70\"/>\n",
       "       <use x=\"115.234375\" xlink:href=\"#Tahoma-72\"/>\n",
       "      </g>\n",
       "     </g>\n",
       "    </g>\n",
       "    <g id=\"xtick_5\">\n",
       "     <g id=\"line2d_6\"/>\n",
       "     <g id=\"text_5\">\n",
       "      <!-- May -->\n",
       "      <g transform=\"translate(355.727734 404.356875)scale(0.1 -0.1)\">\n",
       "       <defs>\n",
       "        <path d=\"M 3169 3491 \n",
       "L 1291 -1288 \n",
       "L 663 -1288 \n",
       "L 1288 169 \n",
       "L 19 3491 \n",
       "L 653 3491 \n",
       "L 1606 906 \n",
       "L 2556 3491 \n",
       "L 3169 3491 \n",
       "z\n",
       "\" id=\"Tahoma-79\" transform=\"scale(0.015625)\"/>\n",
       "       </defs>\n",
       "       <use xlink:href=\"#Tahoma-4d\"/>\n",
       "       <use x=\"77.050781\" xlink:href=\"#Tahoma-61\"/>\n",
       "       <use x=\"128.916016\" xlink:href=\"#Tahoma-79\"/>\n",
       "      </g>\n",
       "     </g>\n",
       "    </g>\n",
       "    <g id=\"xtick_6\">\n",
       "     <g id=\"line2d_7\"/>\n",
       "     <g id=\"text_6\">\n",
       "      <!-- Jun -->\n",
       "      <g transform=\"translate(440.189746 404.356875)scale(0.1 -0.1)\">\n",
       "       <defs>\n",
       "        <path d=\"M 3144 0 \n",
       "L 2556 0 \n",
       "L 2556 388 \n",
       "Q 2284 150 2040 26 \n",
       "Q 1797 -97 1497 -97 \n",
       "Q 1269 -97 1067 -22 \n",
       "Q 866 53 716 216 \n",
       "Q 566 378 483 625 \n",
       "Q 400 872 400 1225 \n",
       "L 400 3491 \n",
       "L 988 3491 \n",
       "L 988 1503 \n",
       "Q 988 1225 1008 1042 \n",
       "Q 1028 859 1100 722 \n",
       "Q 1172 588 1295 525 \n",
       "Q 1419 463 1650 463 \n",
       "Q 1866 463 2109 584 \n",
       "Q 2353 706 2556 884 \n",
       "L 2556 3491 \n",
       "L 3144 3491 \n",
       "L 3144 0 \n",
       "z\n",
       "\" id=\"Tahoma-75\" transform=\"scale(0.015625)\"/>\n",
       "       </defs>\n",
       "       <use xlink:href=\"#Tahoma-4a\"/>\n",
       "       <use x=\"41.650391\" xlink:href=\"#Tahoma-75\"/>\n",
       "       <use x=\"97.412109\" xlink:href=\"#Tahoma-6e\"/>\n",
       "      </g>\n",
       "     </g>\n",
       "    </g>\n",
       "    <g id=\"xtick_7\">\n",
       "     <g id=\"line2d_8\"/>\n",
       "     <g id=\"text_7\">\n",
       "      <!-- Jul -->\n",
       "      <g transform=\"translate(525.020508 404.356875)scale(0.1 -0.1)\">\n",
       "       <defs>\n",
       "        <path d=\"M 1025 0 \n",
       "L 438 0 \n",
       "L 438 4863 \n",
       "L 1025 4863 \n",
       "L 1025 0 \n",
       "z\n",
       "\" id=\"Tahoma-6c\" transform=\"scale(0.015625)\"/>\n",
       "       </defs>\n",
       "       <use xlink:href=\"#Tahoma-4a\"/>\n",
       "       <use x=\"41.650391\" xlink:href=\"#Tahoma-75\"/>\n",
       "       <use x=\"97.412109\" xlink:href=\"#Tahoma-6c\"/>\n",
       "      </g>\n",
       "     </g>\n",
       "    </g>\n",
       "    <g id=\"xtick_8\">\n",
       "     <g id=\"line2d_9\"/>\n",
       "     <g id=\"text_8\">\n",
       "      <!-- Aug -->\n",
       "      <g transform=\"translate(605.694238 404.30375)scale(0.1 -0.1)\">\n",
       "       <defs>\n",
       "        <path d=\"M 2525 947 \n",
       "L 2525 2863 \n",
       "Q 2306 2969 2120 3014 \n",
       "Q 1934 3059 1750 3059 \n",
       "Q 1303 3059 1047 2731 \n",
       "Q 791 2403 791 1791 \n",
       "Q 791 1209 986 906 \n",
       "Q 1181 603 1619 603 \n",
       "Q 1847 603 2089 693 \n",
       "Q 2331 784 2525 947 \n",
       "z\n",
       "M 550 -559 \n",
       "Q 609 -584 725 -626 \n",
       "Q 841 -669 988 -706 \n",
       "Q 1150 -747 1287 -772 \n",
       "Q 1425 -797 1588 -797 \n",
       "Q 1859 -797 2048 -725 \n",
       "Q 2238 -653 2344 -525 \n",
       "Q 2444 -397 2484 -228 \n",
       "Q 2525 -59 2525 156 \n",
       "L 2525 463 \n",
       "Q 2288 256 2059 157 \n",
       "Q 1831 59 1488 59 \n",
       "Q 891 59 537 503 \n",
       "Q 184 947 184 1778 \n",
       "Q 184 2213 306 2548 \n",
       "Q 428 2884 634 3119 \n",
       "Q 831 3344 1100 3466 \n",
       "Q 1369 3588 1656 3588 \n",
       "Q 1928 3588 2126 3523 \n",
       "Q 2325 3459 2525 3341 \n",
       "L 2559 3491 \n",
       "L 3113 3491 \n",
       "L 3113 397 \n",
       "Q 3113 -491 2725 -906 \n",
       "Q 2338 -1322 1541 -1322 \n",
       "Q 1284 -1322 1017 -1281 \n",
       "Q 750 -1241 519 -1172 \n",
       "L 519 -559 \n",
       "L 550 -559 \n",
       "z\n",
       "\" id=\"Tahoma-67\" transform=\"scale(0.015625)\"/>\n",
       "       </defs>\n",
       "       <use xlink:href=\"#Tahoma-41\"/>\n",
       "       <use x=\"59.460938\" xlink:href=\"#Tahoma-75\"/>\n",
       "       <use x=\"115.222656\" xlink:href=\"#Tahoma-67\"/>\n",
       "      </g>\n",
       "     </g>\n",
       "    </g>\n",
       "    <g id=\"xtick_9\">\n",
       "     <g id=\"line2d_10\"/>\n",
       "     <g id=\"text_9\">\n",
       "      <!-- Sep -->\n",
       "      <g transform=\"translate(689.210938 404.356875)scale(0.1 -0.1)\">\n",
       "       <defs>\n",
       "        <path d=\"M 1769 -84 \n",
       "Q 1263 -84 908 20 \n",
       "Q 553 125 241 278 \n",
       "L 241 1053 \n",
       "L 284 1053 \n",
       "Q 591 766 978 608 \n",
       "Q 1366 450 1725 450 \n",
       "Q 2238 450 2500 664 \n",
       "Q 2763 878 2763 1228 \n",
       "Q 2763 1506 2625 1681 \n",
       "Q 2488 1856 2188 1941 \n",
       "Q 1972 2003 1794 2043 \n",
       "Q 1616 2084 1347 2153 \n",
       "Q 1106 2216 915 2312 \n",
       "Q 725 2409 578 2566 \n",
       "Q 434 2719 354 2926 \n",
       "Q 275 3134 275 3406 \n",
       "Q 275 3972 715 4355 \n",
       "Q 1156 4738 1841 4738 \n",
       "Q 2231 4738 2579 4659 \n",
       "Q 2928 4581 3225 4438 \n",
       "L 3225 3697 \n",
       "L 3178 3697 \n",
       "Q 2956 3900 2609 4051 \n",
       "Q 2263 4203 1881 4203 \n",
       "Q 1450 4203 1184 4001 \n",
       "Q 919 3800 919 3472 \n",
       "Q 919 3175 1075 3000 \n",
       "Q 1231 2825 1528 2744 \n",
       "Q 1725 2691 2009 2623 \n",
       "Q 2294 2556 2481 2500 \n",
       "Q 2963 2353 3184 2056 \n",
       "Q 3406 1759 3406 1325 \n",
       "Q 3406 1053 3295 787 \n",
       "Q 3184 522 2984 338 \n",
       "Q 2759 134 2476 25 \n",
       "Q 2194 -84 1769 -84 \n",
       "z\n",
       "\" id=\"Tahoma-53\" transform=\"scale(0.015625)\"/>\n",
       "       </defs>\n",
       "       <use xlink:href=\"#Tahoma-53\"/>\n",
       "       <use x=\"55.962891\" xlink:href=\"#Tahoma-65\"/>\n",
       "       <use x=\"108.599609\" xlink:href=\"#Tahoma-70\"/>\n",
       "      </g>\n",
       "     </g>\n",
       "    </g>\n",
       "   </g>\n",
       "   <g id=\"matplotlib.axis_2\">\n",
       "    <g id=\"ytick_1\">\n",
       "     <g id=\"line2d_11\">\n",
       "      <path clip-path=\"url(#paf23e9cd3e)\" d=\"M 31.921875 373.988375 \n",
       "L 697.405469 373.988375 \n",
       "\" style=\"fill:none;stroke:#b0b0b0;\"/>\n",
       "     </g>\n",
       "     <g id=\"line2d_12\"/>\n",
       "     <g id=\"text_10\">\n",
       "      <!-- −1.0 -->\n",
       "      <g transform=\"translate(7.2 377.787594)scale(0.1 -0.1)\">\n",
       "       <defs>\n",
       "        <path d=\"M 4088 1788 \n",
       "L 569 1788 \n",
       "L 569 2288 \n",
       "L 4088 2288 \n",
       "L 4088 1788 \n",
       "z\n",
       "\" id=\"Tahoma-2212\" transform=\"scale(0.015625)\"/>\n",
       "        <path d=\"M 1341 0 \n",
       "L 594 0 \n",
       "L 594 891 \n",
       "L 1341 891 \n",
       "L 1341 0 \n",
       "z\n",
       "\" id=\"Tahoma-2e\" transform=\"scale(0.015625)\"/>\n",
       "       </defs>\n",
       "       <use xlink:href=\"#Tahoma-2212\"/>\n",
       "       <use x=\"72.753906\" xlink:href=\"#Tahoma-31\"/>\n",
       "       <use x=\"127.34375\" xlink:href=\"#Tahoma-2e\"/>\n",
       "       <use x=\"157.617188\" xlink:href=\"#Tahoma-30\"/>\n",
       "      </g>\n",
       "     </g>\n",
       "    </g>\n",
       "    <g id=\"ytick_2\">\n",
       "     <g id=\"line2d_13\">\n",
       "      <path clip-path=\"url(#paf23e9cd3e)\" d=\"M 31.921875 303.168126 \n",
       "L 697.405469 303.168126 \n",
       "\" style=\"fill:none;stroke:#b0b0b0;\"/>\n",
       "     </g>\n",
       "     <g id=\"line2d_14\"/>\n",
       "     <g id=\"text_11\">\n",
       "      <!-- −0.5 -->\n",
       "      <g transform=\"translate(7.2 306.967345)scale(0.1 -0.1)\">\n",
       "       <defs>\n",
       "        <path d=\"M 3159 1481 \n",
       "Q 3159 1144 3051 856 \n",
       "Q 2944 569 2750 359 \n",
       "Q 2553 147 2261 25 \n",
       "Q 1969 -97 1606 -97 \n",
       "Q 1272 -97 948 -23 \n",
       "Q 625 50 388 169 \n",
       "L 388 828 \n",
       "L 431 828 \n",
       "Q 503 775 637 708 \n",
       "Q 772 641 934 581 \n",
       "Q 1119 516 1272 480 \n",
       "Q 1425 444 1616 444 \n",
       "Q 1803 444 1981 511 \n",
       "Q 2159 578 2288 728 \n",
       "Q 2403 866 2464 1050 \n",
       "Q 2525 1234 2525 1484 \n",
       "Q 2525 1731 2458 1890 \n",
       "Q 2391 2050 2263 2153 \n",
       "Q 2128 2272 1933 2320 \n",
       "Q 1738 2369 1497 2369 \n",
       "Q 1244 2369 987 2330 \n",
       "Q 731 2291 578 2256 \n",
       "L 578 4653 \n",
       "L 3131 4653 \n",
       "L 3131 4106 \n",
       "L 1181 4106 \n",
       "L 1181 2869 \n",
       "Q 1294 2881 1403 2887 \n",
       "Q 1513 2894 1603 2894 \n",
       "Q 1959 2894 2206 2834 \n",
       "Q 2453 2775 2681 2603 \n",
       "Q 2913 2428 3036 2165 \n",
       "Q 3159 1903 3159 1481 \n",
       "z\n",
       "\" id=\"Tahoma-35\" transform=\"scale(0.015625)\"/>\n",
       "       </defs>\n",
       "       <use xlink:href=\"#Tahoma-2212\"/>\n",
       "       <use x=\"72.753906\" xlink:href=\"#Tahoma-30\"/>\n",
       "       <use x=\"127.34375\" xlink:href=\"#Tahoma-2e\"/>\n",
       "       <use x=\"157.617188\" xlink:href=\"#Tahoma-35\"/>\n",
       "      </g>\n",
       "     </g>\n",
       "    </g>\n",
       "    <g id=\"ytick_3\">\n",
       "     <g id=\"line2d_15\">\n",
       "      <path clip-path=\"url(#paf23e9cd3e)\" d=\"M 31.921875 232.347877 \n",
       "L 697.405469 232.347877 \n",
       "\" style=\"fill:none;stroke:#b0b0b0;\"/>\n",
       "     </g>\n",
       "     <g id=\"line2d_16\"/>\n",
       "     <g id=\"text_12\">\n",
       "      <!-- 0.0 -->\n",
       "      <g transform=\"translate(14.475 236.147096)scale(0.1 -0.1)\">\n",
       "       <use xlink:href=\"#Tahoma-30\"/>\n",
       "       <use x=\"54.589844\" xlink:href=\"#Tahoma-2e\"/>\n",
       "       <use x=\"84.863281\" xlink:href=\"#Tahoma-30\"/>\n",
       "      </g>\n",
       "     </g>\n",
       "    </g>\n",
       "    <g id=\"ytick_4\">\n",
       "     <g id=\"line2d_17\">\n",
       "      <path clip-path=\"url(#paf23e9cd3e)\" d=\"M 31.921875 161.527628 \n",
       "L 697.405469 161.527628 \n",
       "\" style=\"fill:none;stroke:#b0b0b0;\"/>\n",
       "     </g>\n",
       "     <g id=\"line2d_18\"/>\n",
       "     <g id=\"text_13\">\n",
       "      <!-- 0.5 -->\n",
       "      <g transform=\"translate(14.475 165.326847)scale(0.1 -0.1)\">\n",
       "       <use xlink:href=\"#Tahoma-30\"/>\n",
       "       <use x=\"54.589844\" xlink:href=\"#Tahoma-2e\"/>\n",
       "       <use x=\"84.863281\" xlink:href=\"#Tahoma-35\"/>\n",
       "      </g>\n",
       "     </g>\n",
       "    </g>\n",
       "    <g id=\"ytick_5\">\n",
       "     <g id=\"line2d_19\">\n",
       "      <path clip-path=\"url(#paf23e9cd3e)\" d=\"M 31.921875 90.70738 \n",
       "L 697.405469 90.70738 \n",
       "\" style=\"fill:none;stroke:#b0b0b0;\"/>\n",
       "     </g>\n",
       "     <g id=\"line2d_20\"/>\n",
       "     <g id=\"text_14\">\n",
       "      <!-- 1.0 -->\n",
       "      <g transform=\"translate(14.475 94.506598)scale(0.1 -0.1)\">\n",
       "       <use xlink:href=\"#Tahoma-31\"/>\n",
       "       <use x=\"54.589844\" xlink:href=\"#Tahoma-2e\"/>\n",
       "       <use x=\"84.863281\" xlink:href=\"#Tahoma-30\"/>\n",
       "      </g>\n",
       "     </g>\n",
       "    </g>\n",
       "    <g id=\"ytick_6\">\n",
       "     <g id=\"line2d_21\">\n",
       "      <path clip-path=\"url(#paf23e9cd3e)\" d=\"M 31.921875 19.887131 \n",
       "L 697.405469 19.887131 \n",
       "\" style=\"fill:none;stroke:#b0b0b0;\"/>\n",
       "     </g>\n",
       "     <g id=\"line2d_22\"/>\n",
       "     <g id=\"text_15\">\n",
       "      <!-- 1.5 -->\n",
       "      <g transform=\"translate(14.475 23.68635)scale(0.1 -0.1)\">\n",
       "       <use xlink:href=\"#Tahoma-31\"/>\n",
       "       <use x=\"54.589844\" xlink:href=\"#Tahoma-2e\"/>\n",
       "       <use x=\"84.863281\" xlink:href=\"#Tahoma-35\"/>\n",
       "      </g>\n",
       "     </g>\n",
       "    </g>\n",
       "   </g>\n",
       "   <g id=\"line2d_23\">\n",
       "    <path clip-path=\"url(#paf23e9cd3e)\" d=\"M 31.921875 161.993037 \n",
       "L 115.107324 265.513478 \n",
       "L 198.292773 298.844463 \n",
       "L 281.478223 198.076221 \n",
       "L 364.663672 375.805781 \n",
       "L 447.849121 24.752656 \n",
       "L 531.03457 309.454517 \n",
       "L 614.22002 317.42264 \n",
       "L 697.405469 234.259631 \n",
       "\" style=\"fill:none;stroke:#51a7f9;stroke-width:2;\"/>\n",
       "   </g>\n",
       "   <g id=\"patch_3\">\n",
       "    <path d=\"M 31.921875 393.358437 \n",
       "L 31.921875 7.2 \n",
       "\" style=\"fill:none;stroke:#f0f0f0;stroke-linecap:square;stroke-linejoin:miter;stroke-width:3;\"/>\n",
       "   </g>\n",
       "   <g id=\"patch_4\">\n",
       "    <path d=\"M 697.405469 393.358437 \n",
       "L 697.405469 7.2 \n",
       "\" style=\"fill:none;stroke:#f0f0f0;stroke-linecap:square;stroke-linejoin:miter;stroke-width:3;\"/>\n",
       "   </g>\n",
       "   <g id=\"patch_5\">\n",
       "    <path d=\"M 31.921875 393.358438 \n",
       "L 697.405469 393.358438 \n",
       "\" style=\"fill:none;stroke:#f0f0f0;stroke-linecap:square;stroke-linejoin:miter;stroke-width:3;\"/>\n",
       "   </g>\n",
       "   <g id=\"patch_6\">\n",
       "    <path d=\"M 31.921875 7.2 \n",
       "L 697.405469 7.2 \n",
       "\" style=\"fill:none;stroke:#f0f0f0;stroke-linecap:square;stroke-linejoin:miter;stroke-width:3;\"/>\n",
       "   </g>\n",
       "  </g>\n",
       " </g>\n",
       " <defs>\n",
       "  <clipPath id=\"paf23e9cd3e\">\n",
       "   <rect height=\"386.158438\" width=\"665.483594\" x=\"31.921875\" y=\"7.2\"/>\n",
       "  </clipPath>\n",
       " </defs>\n",
       "</svg>\n"
      ],
      "text/plain": [
       "<Figure size 3000x1800 with 1 Axes>"
      ]
     },
     "metadata": {
      "needs_background": "light"
     },
     "output_type": "display_data"
    }
   ],
   "source": [
    "s.plot(lw=2.0, figsize=(10, 6));"
   ]
  },
  {
   "cell_type": "markdown",
   "metadata": {
    "slideshow": {
     "slide_type": "slide"
    }
   },
   "source": [
    "## GroupBy Operations"
   ]
  },
  {
   "cell_type": "code",
   "execution_count": 57,
   "metadata": {
    "scrolled": true,
    "slideshow": {
     "slide_type": "fragment"
    },
    "uuid": "4bc106dd-9590-4566-bc70-d410517c8223"
   },
   "outputs": [
    {
     "data": {
      "text/html": [
       "<div>\n",
       "<style scoped>\n",
       "    .dataframe tbody tr th:only-of-type {\n",
       "        vertical-align: middle;\n",
       "    }\n",
       "\n",
       "    .dataframe tbody tr th {\n",
       "        vertical-align: top;\n",
       "    }\n",
       "\n",
       "    .dataframe thead th {\n",
       "        text-align: right;\n",
       "    }\n",
       "</style>\n",
       "<table border=\"1\" class=\"dataframe\">\n",
       "  <thead>\n",
       "    <tr style=\"text-align: right;\">\n",
       "      <th></th>\n",
       "      <th>No1</th>\n",
       "      <th>No2</th>\n",
       "      <th>No3</th>\n",
       "      <th>No4</th>\n",
       "      <th>Quarter</th>\n",
       "    </tr>\n",
       "  </thead>\n",
       "  <tbody>\n",
       "    <tr>\n",
       "      <th>2019-01-31</th>\n",
       "      <td>0.496714</td>\n",
       "      <td>-0.138264</td>\n",
       "      <td>0.647689</td>\n",
       "      <td>1.523030</td>\n",
       "      <td>Q1</td>\n",
       "    </tr>\n",
       "    <tr>\n",
       "      <th>2019-02-28</th>\n",
       "      <td>-0.234153</td>\n",
       "      <td>-0.234137</td>\n",
       "      <td>1.579213</td>\n",
       "      <td>0.767435</td>\n",
       "      <td>Q1</td>\n",
       "    </tr>\n",
       "    <tr>\n",
       "      <th>2019-03-31</th>\n",
       "      <td>-0.469474</td>\n",
       "      <td>0.542560</td>\n",
       "      <td>-0.463418</td>\n",
       "      <td>-0.465730</td>\n",
       "      <td>Q1</td>\n",
       "    </tr>\n",
       "  </tbody>\n",
       "</table>\n",
       "</div>"
      ],
      "text/plain": [
       "                 No1       No2       No3       No4 Quarter\n",
       "2019-01-31  0.496714 -0.138264  0.647689  1.523030      Q1\n",
       "2019-02-28 -0.234153 -0.234137  1.579213  0.767435      Q1\n",
       "2019-03-31 -0.469474  0.542560 -0.463418 -0.465730      Q1"
      ]
     },
     "execution_count": 57,
     "metadata": {},
     "output_type": "execute_result"
    }
   ],
   "source": [
    "df['Quarter'] = ['Q1', 'Q1', 'Q1', 'Q2', 'Q2',\n",
    "                 'Q2', 'Q3', 'Q3', 'Q3']\n",
    "df.head(3)"
   ]
  },
  {
   "cell_type": "code",
   "execution_count": 58,
   "metadata": {
    "slideshow": {
     "slide_type": "fragment"
    }
   },
   "outputs": [],
   "source": [
    "groups = df.groupby('Quarter')  "
   ]
  },
  {
   "cell_type": "code",
   "execution_count": 59,
   "metadata": {
    "slideshow": {
     "slide_type": "fragment"
    },
    "uuid": "a871b95e-5946-4b09-b8dc-bc9503d2ff14"
   },
   "outputs": [
    {
     "data": {
      "text/plain": [
       "Quarter\n",
       "Q1    3\n",
       "Q2    3\n",
       "Q3    3\n",
       "dtype: int64"
      ]
     },
     "execution_count": 59,
     "metadata": {},
     "output_type": "execute_result"
    }
   ],
   "source": [
    "groups.size()  "
   ]
  },
  {
   "cell_type": "code",
   "execution_count": 60,
   "metadata": {
    "slideshow": {
     "slide_type": "slide"
    },
    "uuid": "804e567f-6b74-4405-a10e-d19d914655e7"
   },
   "outputs": [
    {
     "data": {
      "text/html": [
       "<div>\n",
       "<style scoped>\n",
       "    .dataframe tbody tr th:only-of-type {\n",
       "        vertical-align: middle;\n",
       "    }\n",
       "\n",
       "    .dataframe tbody tr th {\n",
       "        vertical-align: top;\n",
       "    }\n",
       "\n",
       "    .dataframe thead th {\n",
       "        text-align: right;\n",
       "    }\n",
       "</style>\n",
       "<table border=\"1\" class=\"dataframe\">\n",
       "  <thead>\n",
       "    <tr style=\"text-align: right;\">\n",
       "      <th></th>\n",
       "      <th>No1</th>\n",
       "      <th>No2</th>\n",
       "      <th>No3</th>\n",
       "      <th>No4</th>\n",
       "    </tr>\n",
       "    <tr>\n",
       "      <th>Quarter</th>\n",
       "      <th></th>\n",
       "      <th></th>\n",
       "      <th></th>\n",
       "      <th></th>\n",
       "    </tr>\n",
       "  </thead>\n",
       "  <tbody>\n",
       "    <tr>\n",
       "      <th>Q1</th>\n",
       "      <td>-0.068971</td>\n",
       "      <td>0.056720</td>\n",
       "      <td>0.587828</td>\n",
       "      <td>0.608245</td>\n",
       "    </tr>\n",
       "    <tr>\n",
       "      <th>Q2</th>\n",
       "      <td>0.231593</td>\n",
       "      <td>-0.608270</td>\n",
       "      <td>-0.855138</td>\n",
       "      <td>-1.133113</td>\n",
       "    </tr>\n",
       "    <tr>\n",
       "      <th>Q3</th>\n",
       "      <td>-0.386173</td>\n",
       "      <td>-0.412827</td>\n",
       "      <td>-0.310052</td>\n",
       "      <td>0.335711</td>\n",
       "    </tr>\n",
       "  </tbody>\n",
       "</table>\n",
       "</div>"
      ],
      "text/plain": [
       "              No1       No2       No3       No4\n",
       "Quarter                                        \n",
       "Q1      -0.068971  0.056720  0.587828  0.608245\n",
       "Q2       0.231593 -0.608270 -0.855138 -1.133113\n",
       "Q3      -0.386173 -0.412827 -0.310052  0.335711"
      ]
     },
     "execution_count": 60,
     "metadata": {},
     "output_type": "execute_result"
    }
   ],
   "source": [
    "groups.mean()  "
   ]
  },
  {
   "cell_type": "code",
   "execution_count": 61,
   "metadata": {
    "slideshow": {
     "slide_type": "fragment"
    },
    "uuid": "7eb45e5c-b86f-4464-afd9-d5a3665e0f8e"
   },
   "outputs": [
    {
     "data": {
      "text/html": [
       "<div>\n",
       "<style scoped>\n",
       "    .dataframe tbody tr th:only-of-type {\n",
       "        vertical-align: middle;\n",
       "    }\n",
       "\n",
       "    .dataframe tbody tr th {\n",
       "        vertical-align: top;\n",
       "    }\n",
       "\n",
       "    .dataframe thead th {\n",
       "        text-align: right;\n",
       "    }\n",
       "</style>\n",
       "<table border=\"1\" class=\"dataframe\">\n",
       "  <thead>\n",
       "    <tr style=\"text-align: right;\">\n",
       "      <th></th>\n",
       "      <th>No1</th>\n",
       "      <th>No2</th>\n",
       "      <th>No3</th>\n",
       "      <th>No4</th>\n",
       "    </tr>\n",
       "    <tr>\n",
       "      <th>Quarter</th>\n",
       "      <th></th>\n",
       "      <th></th>\n",
       "      <th></th>\n",
       "      <th></th>\n",
       "    </tr>\n",
       "  </thead>\n",
       "  <tbody>\n",
       "    <tr>\n",
       "      <th>Q1</th>\n",
       "      <td>0.496714</td>\n",
       "      <td>0.542560</td>\n",
       "      <td>1.579213</td>\n",
       "      <td>1.523030</td>\n",
       "    </tr>\n",
       "    <tr>\n",
       "      <th>Q2</th>\n",
       "      <td>1.465649</td>\n",
       "      <td>0.314247</td>\n",
       "      <td>0.067528</td>\n",
       "      <td>-0.562288</td>\n",
       "    </tr>\n",
       "    <tr>\n",
       "      <th>Q3</th>\n",
       "      <td>-0.013497</td>\n",
       "      <td>0.110923</td>\n",
       "      <td>0.822545</td>\n",
       "      <td>1.852278</td>\n",
       "    </tr>\n",
       "  </tbody>\n",
       "</table>\n",
       "</div>"
      ],
      "text/plain": [
       "              No1       No2       No3       No4\n",
       "Quarter                                        \n",
       "Q1       0.496714  0.542560  1.579213  1.523030\n",
       "Q2       1.465649  0.314247  0.067528 -0.562288\n",
       "Q3      -0.013497  0.110923  0.822545  1.852278"
      ]
     },
     "execution_count": 61,
     "metadata": {},
     "output_type": "execute_result"
    }
   ],
   "source": [
    "groups.max()  "
   ]
  },
  {
   "cell_type": "code",
   "execution_count": 62,
   "metadata": {
    "slideshow": {
     "slide_type": "slide"
    }
   },
   "outputs": [
    {
     "data": {
      "text/html": [
       "<div>\n",
       "<style scoped>\n",
       "    .dataframe tbody tr th:only-of-type {\n",
       "        vertical-align: middle;\n",
       "    }\n",
       "\n",
       "    .dataframe tbody tr th {\n",
       "        vertical-align: top;\n",
       "    }\n",
       "\n",
       "    .dataframe thead tr th {\n",
       "        text-align: left;\n",
       "    }\n",
       "\n",
       "    .dataframe thead tr:last-of-type th {\n",
       "        text-align: right;\n",
       "    }\n",
       "</style>\n",
       "<table border=\"1\" class=\"dataframe\">\n",
       "  <thead>\n",
       "    <tr>\n",
       "      <th></th>\n",
       "      <th colspan=\"2\" halign=\"left\">No1</th>\n",
       "      <th colspan=\"2\" halign=\"left\">No2</th>\n",
       "      <th colspan=\"2\" halign=\"left\">No3</th>\n",
       "      <th colspan=\"2\" halign=\"left\">No4</th>\n",
       "    </tr>\n",
       "    <tr>\n",
       "      <th></th>\n",
       "      <th>min</th>\n",
       "      <th>max</th>\n",
       "      <th>min</th>\n",
       "      <th>max</th>\n",
       "      <th>min</th>\n",
       "      <th>max</th>\n",
       "      <th>min</th>\n",
       "      <th>max</th>\n",
       "    </tr>\n",
       "    <tr>\n",
       "      <th>Quarter</th>\n",
       "      <th></th>\n",
       "      <th></th>\n",
       "      <th></th>\n",
       "      <th></th>\n",
       "      <th></th>\n",
       "      <th></th>\n",
       "      <th></th>\n",
       "      <th></th>\n",
       "    </tr>\n",
       "  </thead>\n",
       "  <tbody>\n",
       "    <tr>\n",
       "      <th>Q1</th>\n",
       "      <td>-0.47</td>\n",
       "      <td>0.50</td>\n",
       "      <td>-0.23</td>\n",
       "      <td>0.54</td>\n",
       "      <td>-0.46</td>\n",
       "      <td>1.58</td>\n",
       "      <td>-0.47</td>\n",
       "      <td>1.52</td>\n",
       "    </tr>\n",
       "    <tr>\n",
       "      <th>Q2</th>\n",
       "      <td>-1.01</td>\n",
       "      <td>1.47</td>\n",
       "      <td>-1.91</td>\n",
       "      <td>0.31</td>\n",
       "      <td>-1.72</td>\n",
       "      <td>0.07</td>\n",
       "      <td>-1.42</td>\n",
       "      <td>-0.56</td>\n",
       "    </tr>\n",
       "    <tr>\n",
       "      <th>Q3</th>\n",
       "      <td>-0.60</td>\n",
       "      <td>-0.01</td>\n",
       "      <td>-1.06</td>\n",
       "      <td>0.11</td>\n",
       "      <td>-1.15</td>\n",
       "      <td>0.82</td>\n",
       "      <td>-1.22</td>\n",
       "      <td>1.85</td>\n",
       "    </tr>\n",
       "  </tbody>\n",
       "</table>\n",
       "</div>"
      ],
      "text/plain": [
       "          No1         No2         No3         No4      \n",
       "          min   max   min   max   min   max   min   max\n",
       "Quarter                                                \n",
       "Q1      -0.47  0.50 -0.23  0.54 -0.46  1.58 -0.47  1.52\n",
       "Q2      -1.01  1.47 -1.91  0.31 -1.72  0.07 -1.42 -0.56\n",
       "Q3      -0.60 -0.01 -1.06  0.11 -1.15  0.82 -1.22  1.85"
      ]
     },
     "execution_count": 62,
     "metadata": {},
     "output_type": "execute_result"
    }
   ],
   "source": [
    "groups.aggregate([min, max]).round(2)  "
   ]
  },
  {
   "cell_type": "code",
   "execution_count": 63,
   "metadata": {
    "slideshow": {
     "slide_type": "skip"
    },
    "uuid": "542cf99a-bbf8-447e-9643-d6887ac74be7"
   },
   "outputs": [],
   "source": [
    "df['Odd_Even'] = ['Odd', 'Even', 'Odd', 'Even', 'Odd', 'Even',\n",
    "                  'Odd', 'Even', 'Odd']"
   ]
  },
  {
   "cell_type": "code",
   "execution_count": 64,
   "metadata": {
    "slideshow": {
     "slide_type": "skip"
    },
    "uuid": "f5144c9f-ff37-4e35-9417-e39debdcd45b"
   },
   "outputs": [],
   "source": [
    "groups = df.groupby(['Quarter', 'Odd_Even'])"
   ]
  },
  {
   "cell_type": "code",
   "execution_count": 65,
   "metadata": {
    "slideshow": {
     "slide_type": "skip"
    },
    "uuid": "06904508-dbf1-431f-a3a2-681f29f03c51"
   },
   "outputs": [
    {
     "data": {
      "text/plain": [
       "Quarter  Odd_Even\n",
       "Q1       Even        1\n",
       "         Odd         2\n",
       "Q2       Even        2\n",
       "         Odd         1\n",
       "Q3       Even        1\n",
       "         Odd         2\n",
       "dtype: int64"
      ]
     },
     "execution_count": 65,
     "metadata": {},
     "output_type": "execute_result"
    }
   ],
   "source": [
    "groups.size()"
   ]
  },
  {
   "cell_type": "code",
   "execution_count": 66,
   "metadata": {
    "slideshow": {
     "slide_type": "slide"
    },
    "uuid": "b8471956-40fc-4203-a54a-aaa45f5a3c00"
   },
   "outputs": [
    {
     "data": {
      "text/html": [
       "<div>\n",
       "<style scoped>\n",
       "    .dataframe tbody tr th:only-of-type {\n",
       "        vertical-align: middle;\n",
       "    }\n",
       "\n",
       "    .dataframe tbody tr th {\n",
       "        vertical-align: top;\n",
       "    }\n",
       "\n",
       "    .dataframe thead tr th {\n",
       "        text-align: left;\n",
       "    }\n",
       "\n",
       "    .dataframe thead tr:last-of-type th {\n",
       "        text-align: right;\n",
       "    }\n",
       "</style>\n",
       "<table border=\"1\" class=\"dataframe\">\n",
       "  <thead>\n",
       "    <tr>\n",
       "      <th></th>\n",
       "      <th></th>\n",
       "      <th colspan=\"2\" halign=\"left\">No1</th>\n",
       "      <th colspan=\"2\" halign=\"left\">No4</th>\n",
       "    </tr>\n",
       "    <tr>\n",
       "      <th></th>\n",
       "      <th></th>\n",
       "      <th>sum</th>\n",
       "      <th>mean</th>\n",
       "      <th>sum</th>\n",
       "      <th>mean</th>\n",
       "    </tr>\n",
       "    <tr>\n",
       "      <th>Quarter</th>\n",
       "      <th>Odd_Even</th>\n",
       "      <th></th>\n",
       "      <th></th>\n",
       "      <th></th>\n",
       "      <th></th>\n",
       "    </tr>\n",
       "  </thead>\n",
       "  <tbody>\n",
       "    <tr>\n",
       "      <th rowspan=\"2\" valign=\"top\">Q1</th>\n",
       "      <th>Even</th>\n",
       "      <td>-0.234153</td>\n",
       "      <td>-0.234153</td>\n",
       "      <td>0.767435</td>\n",
       "      <td>0.767435</td>\n",
       "    </tr>\n",
       "    <tr>\n",
       "      <th>Odd</th>\n",
       "      <td>0.027240</td>\n",
       "      <td>0.013620</td>\n",
       "      <td>1.057300</td>\n",
       "      <td>0.528650</td>\n",
       "    </tr>\n",
       "    <tr>\n",
       "      <th rowspan=\"2\" valign=\"top\">Q2</th>\n",
       "      <th>Even</th>\n",
       "      <td>1.707611</td>\n",
       "      <td>0.853806</td>\n",
       "      <td>-1.987036</td>\n",
       "      <td>-0.993518</td>\n",
       "    </tr>\n",
       "    <tr>\n",
       "      <th>Odd</th>\n",
       "      <td>-1.012831</td>\n",
       "      <td>-1.012831</td>\n",
       "      <td>-1.412304</td>\n",
       "      <td>-1.412304</td>\n",
       "    </tr>\n",
       "    <tr>\n",
       "      <th rowspan=\"2\" valign=\"top\">Q3</th>\n",
       "      <th>Even</th>\n",
       "      <td>-0.600639</td>\n",
       "      <td>-0.600639</td>\n",
       "      <td>1.852278</td>\n",
       "      <td>1.852278</td>\n",
       "    </tr>\n",
       "    <tr>\n",
       "      <th>Odd</th>\n",
       "      <td>-0.557880</td>\n",
       "      <td>-0.278940</td>\n",
       "      <td>-0.845146</td>\n",
       "      <td>-0.422573</td>\n",
       "    </tr>\n",
       "  </tbody>\n",
       "</table>\n",
       "</div>"
      ],
      "text/plain": [
       "                       No1                 No4          \n",
       "                       sum      mean       sum      mean\n",
       "Quarter Odd_Even                                        \n",
       "Q1      Even     -0.234153 -0.234153  0.767435  0.767435\n",
       "        Odd       0.027240  0.013620  1.057300  0.528650\n",
       "Q2      Even      1.707611  0.853806 -1.987036 -0.993518\n",
       "        Odd      -1.012831 -1.012831 -1.412304 -1.412304\n",
       "Q3      Even     -0.600639 -0.600639  1.852278  1.852278\n",
       "        Odd      -0.557880 -0.278940 -0.845146 -0.422573"
      ]
     },
     "execution_count": 66,
     "metadata": {},
     "output_type": "execute_result"
    }
   ],
   "source": [
    "groups[['No1', 'No4']].aggregate([sum, np.mean])"
   ]
  },
  {
   "cell_type": "markdown",
   "metadata": {
    "slideshow": {
     "slide_type": "slide"
    }
   },
   "source": [
    "## Complex Selection"
   ]
  },
  {
   "cell_type": "code",
   "execution_count": 67,
   "metadata": {
    "slideshow": {
     "slide_type": "fragment"
    }
   },
   "outputs": [],
   "source": [
    "data = np.random.standard_normal((10, 2))  "
   ]
  },
  {
   "cell_type": "code",
   "execution_count": 68,
   "metadata": {
    "slideshow": {
     "slide_type": "fragment"
    }
   },
   "outputs": [],
   "source": [
    "df = pd.DataFrame(data, columns=['x', 'y'])  "
   ]
  },
  {
   "cell_type": "code",
   "execution_count": 69,
   "metadata": {
    "slideshow": {
     "slide_type": "skip"
    }
   },
   "outputs": [
    {
     "name": "stdout",
     "output_type": "stream",
     "text": [
      "<class 'pandas.core.frame.DataFrame'>\n",
      "RangeIndex: 10 entries, 0 to 9\n",
      "Data columns (total 2 columns):\n",
      " #   Column  Non-Null Count  Dtype  \n",
      "---  ------  --------------  -----  \n",
      " 0   x       10 non-null     float64\n",
      " 1   y       10 non-null     float64\n",
      "dtypes: float64(2)\n",
      "memory usage: 288.0 bytes\n"
     ]
    }
   ],
   "source": [
    "df.info()  "
   ]
  },
  {
   "cell_type": "code",
   "execution_count": 70,
   "metadata": {
    "slideshow": {
     "slide_type": "slide"
    }
   },
   "outputs": [
    {
     "data": {
      "text/html": [
       "<div>\n",
       "<style scoped>\n",
       "    .dataframe tbody tr th:only-of-type {\n",
       "        vertical-align: middle;\n",
       "    }\n",
       "\n",
       "    .dataframe tbody tr th {\n",
       "        vertical-align: top;\n",
       "    }\n",
       "\n",
       "    .dataframe thead th {\n",
       "        text-align: right;\n",
       "    }\n",
       "</style>\n",
       "<table border=\"1\" class=\"dataframe\">\n",
       "  <thead>\n",
       "    <tr style=\"text-align: right;\">\n",
       "      <th></th>\n",
       "      <th>x</th>\n",
       "      <th>y</th>\n",
       "    </tr>\n",
       "  </thead>\n",
       "  <tbody>\n",
       "    <tr>\n",
       "      <th>0</th>\n",
       "      <td>0.208864</td>\n",
       "      <td>-1.959670</td>\n",
       "    </tr>\n",
       "    <tr>\n",
       "      <th>1</th>\n",
       "      <td>-1.328186</td>\n",
       "      <td>0.196861</td>\n",
       "    </tr>\n",
       "    <tr>\n",
       "      <th>2</th>\n",
       "      <td>0.738467</td>\n",
       "      <td>0.171368</td>\n",
       "    </tr>\n",
       "    <tr>\n",
       "      <th>3</th>\n",
       "      <td>-0.115648</td>\n",
       "      <td>-0.301104</td>\n",
       "    </tr>\n",
       "    <tr>\n",
       "      <th>4</th>\n",
       "      <td>-1.478522</td>\n",
       "      <td>-0.719844</td>\n",
       "    </tr>\n",
       "  </tbody>\n",
       "</table>\n",
       "</div>"
      ],
      "text/plain": [
       "          x         y\n",
       "0  0.208864 -1.959670\n",
       "1 -1.328186  0.196861\n",
       "2  0.738467  0.171368\n",
       "3 -0.115648 -0.301104\n",
       "4 -1.478522 -0.719844"
      ]
     },
     "execution_count": 70,
     "metadata": {},
     "output_type": "execute_result"
    }
   ],
   "source": [
    "df.head()  "
   ]
  },
  {
   "cell_type": "code",
   "execution_count": 71,
   "metadata": {
    "slideshow": {
     "slide_type": "fragment"
    }
   },
   "outputs": [
    {
     "data": {
      "text/html": [
       "<div>\n",
       "<style scoped>\n",
       "    .dataframe tbody tr th:only-of-type {\n",
       "        vertical-align: middle;\n",
       "    }\n",
       "\n",
       "    .dataframe tbody tr th {\n",
       "        vertical-align: top;\n",
       "    }\n",
       "\n",
       "    .dataframe thead th {\n",
       "        text-align: right;\n",
       "    }\n",
       "</style>\n",
       "<table border=\"1\" class=\"dataframe\">\n",
       "  <thead>\n",
       "    <tr style=\"text-align: right;\">\n",
       "      <th></th>\n",
       "      <th>x</th>\n",
       "      <th>y</th>\n",
       "    </tr>\n",
       "  </thead>\n",
       "  <tbody>\n",
       "    <tr>\n",
       "      <th>5</th>\n",
       "      <td>-0.460639</td>\n",
       "      <td>1.057122</td>\n",
       "    </tr>\n",
       "    <tr>\n",
       "      <th>6</th>\n",
       "      <td>0.343618</td>\n",
       "      <td>-1.763040</td>\n",
       "    </tr>\n",
       "    <tr>\n",
       "      <th>7</th>\n",
       "      <td>0.324084</td>\n",
       "      <td>-0.385082</td>\n",
       "    </tr>\n",
       "    <tr>\n",
       "      <th>8</th>\n",
       "      <td>-0.676922</td>\n",
       "      <td>0.611676</td>\n",
       "    </tr>\n",
       "    <tr>\n",
       "      <th>9</th>\n",
       "      <td>1.031000</td>\n",
       "      <td>0.931280</td>\n",
       "    </tr>\n",
       "  </tbody>\n",
       "</table>\n",
       "</div>"
      ],
      "text/plain": [
       "          x         y\n",
       "5 -0.460639  1.057122\n",
       "6  0.343618 -1.763040\n",
       "7  0.324084 -0.385082\n",
       "8 -0.676922  0.611676\n",
       "9  1.031000  0.931280"
      ]
     },
     "execution_count": 71,
     "metadata": {},
     "output_type": "execute_result"
    }
   ],
   "source": [
    "df.tail()  "
   ]
  },
  {
   "cell_type": "code",
   "execution_count": 72,
   "metadata": {
    "slideshow": {
     "slide_type": "skip"
    }
   },
   "outputs": [
    {
     "data": {
      "text/plain": [
       "0    False\n",
       "1    False\n",
       "2     True\n",
       "3    False\n",
       "4    False\n",
       "5    False\n",
       "6    False\n",
       "7    False\n",
       "8    False\n",
       "9     True\n",
       "Name: x, dtype: bool"
      ]
     },
     "execution_count": 72,
     "metadata": {},
     "output_type": "execute_result"
    }
   ],
   "source": [
    "df['x'] > 0.5  "
   ]
  },
  {
   "cell_type": "code",
   "execution_count": 73,
   "metadata": {
    "slideshow": {
     "slide_type": "slide"
    }
   },
   "outputs": [
    {
     "data": {
      "text/plain": [
       "0     True\n",
       "1    False\n",
       "2    False\n",
       "3    False\n",
       "4    False\n",
       "5    False\n",
       "6     True\n",
       "7     True\n",
       "8    False\n",
       "9    False\n",
       "dtype: bool"
      ]
     },
     "execution_count": 73,
     "metadata": {},
     "output_type": "execute_result"
    }
   ],
   "source": [
    "(df['x'] > 0) & (df['y'] < 0)  "
   ]
  },
  {
   "cell_type": "code",
   "execution_count": 74,
   "metadata": {
    "slideshow": {
     "slide_type": "skip"
    }
   },
   "outputs": [
    {
     "data": {
      "text/plain": [
       "0     True\n",
       "1    False\n",
       "2     True\n",
       "3     True\n",
       "4     True\n",
       "5    False\n",
       "6     True\n",
       "7     True\n",
       "8    False\n",
       "9     True\n",
       "dtype: bool"
      ]
     },
     "execution_count": 74,
     "metadata": {},
     "output_type": "execute_result"
    }
   ],
   "source": [
    "(df['x'] > 0) | (df['y'] < 0)  "
   ]
  },
  {
   "cell_type": "code",
   "execution_count": 75,
   "metadata": {
    "slideshow": {
     "slide_type": "skip"
    }
   },
   "outputs": [
    {
     "data": {
      "text/html": [
       "<div>\n",
       "<style scoped>\n",
       "    .dataframe tbody tr th:only-of-type {\n",
       "        vertical-align: middle;\n",
       "    }\n",
       "\n",
       "    .dataframe tbody tr th {\n",
       "        vertical-align: top;\n",
       "    }\n",
       "\n",
       "    .dataframe thead th {\n",
       "        text-align: right;\n",
       "    }\n",
       "</style>\n",
       "<table border=\"1\" class=\"dataframe\">\n",
       "  <thead>\n",
       "    <tr style=\"text-align: right;\">\n",
       "      <th></th>\n",
       "      <th>x</th>\n",
       "      <th>y</th>\n",
       "    </tr>\n",
       "  </thead>\n",
       "  <tbody>\n",
       "    <tr>\n",
       "      <th>0</th>\n",
       "      <td>0.208864</td>\n",
       "      <td>-1.959670</td>\n",
       "    </tr>\n",
       "    <tr>\n",
       "      <th>2</th>\n",
       "      <td>0.738467</td>\n",
       "      <td>0.171368</td>\n",
       "    </tr>\n",
       "    <tr>\n",
       "      <th>6</th>\n",
       "      <td>0.343618</td>\n",
       "      <td>-1.763040</td>\n",
       "    </tr>\n",
       "    <tr>\n",
       "      <th>7</th>\n",
       "      <td>0.324084</td>\n",
       "      <td>-0.385082</td>\n",
       "    </tr>\n",
       "    <tr>\n",
       "      <th>9</th>\n",
       "      <td>1.031000</td>\n",
       "      <td>0.931280</td>\n",
       "    </tr>\n",
       "  </tbody>\n",
       "</table>\n",
       "</div>"
      ],
      "text/plain": [
       "          x         y\n",
       "0  0.208864 -1.959670\n",
       "2  0.738467  0.171368\n",
       "6  0.343618 -1.763040\n",
       "7  0.324084 -0.385082\n",
       "9  1.031000  0.931280"
      ]
     },
     "execution_count": 75,
     "metadata": {},
     "output_type": "execute_result"
    }
   ],
   "source": [
    "df[df['x'] > 0]  "
   ]
  },
  {
   "cell_type": "code",
   "execution_count": 76,
   "metadata": {
    "slideshow": {
     "slide_type": "fragment"
    }
   },
   "outputs": [
    {
     "data": {
      "text/html": [
       "<div>\n",
       "<style scoped>\n",
       "    .dataframe tbody tr th:only-of-type {\n",
       "        vertical-align: middle;\n",
       "    }\n",
       "\n",
       "    .dataframe tbody tr th {\n",
       "        vertical-align: top;\n",
       "    }\n",
       "\n",
       "    .dataframe thead th {\n",
       "        text-align: right;\n",
       "    }\n",
       "</style>\n",
       "<table border=\"1\" class=\"dataframe\">\n",
       "  <thead>\n",
       "    <tr style=\"text-align: right;\">\n",
       "      <th></th>\n",
       "      <th>x</th>\n",
       "      <th>y</th>\n",
       "    </tr>\n",
       "  </thead>\n",
       "  <tbody>\n",
       "    <tr>\n",
       "      <th>0</th>\n",
       "      <td>0.208864</td>\n",
       "      <td>-1.959670</td>\n",
       "    </tr>\n",
       "    <tr>\n",
       "      <th>2</th>\n",
       "      <td>0.738467</td>\n",
       "      <td>0.171368</td>\n",
       "    </tr>\n",
       "    <tr>\n",
       "      <th>6</th>\n",
       "      <td>0.343618</td>\n",
       "      <td>-1.763040</td>\n",
       "    </tr>\n",
       "    <tr>\n",
       "      <th>7</th>\n",
       "      <td>0.324084</td>\n",
       "      <td>-0.385082</td>\n",
       "    </tr>\n",
       "    <tr>\n",
       "      <th>9</th>\n",
       "      <td>1.031000</td>\n",
       "      <td>0.931280</td>\n",
       "    </tr>\n",
       "  </tbody>\n",
       "</table>\n",
       "</div>"
      ],
      "text/plain": [
       "          x         y\n",
       "0  0.208864 -1.959670\n",
       "2  0.738467  0.171368\n",
       "6  0.343618 -1.763040\n",
       "7  0.324084 -0.385082\n",
       "9  1.031000  0.931280"
      ]
     },
     "execution_count": 76,
     "metadata": {},
     "output_type": "execute_result"
    }
   ],
   "source": [
    "df.query('x > 0')  "
   ]
  },
  {
   "cell_type": "code",
   "execution_count": 77,
   "metadata": {
    "slideshow": {
     "slide_type": "skip"
    }
   },
   "outputs": [
    {
     "data": {
      "text/html": [
       "<div>\n",
       "<style scoped>\n",
       "    .dataframe tbody tr th:only-of-type {\n",
       "        vertical-align: middle;\n",
       "    }\n",
       "\n",
       "    .dataframe tbody tr th {\n",
       "        vertical-align: top;\n",
       "    }\n",
       "\n",
       "    .dataframe thead th {\n",
       "        text-align: right;\n",
       "    }\n",
       "</style>\n",
       "<table border=\"1\" class=\"dataframe\">\n",
       "  <thead>\n",
       "    <tr style=\"text-align: right;\">\n",
       "      <th></th>\n",
       "      <th>x</th>\n",
       "      <th>y</th>\n",
       "    </tr>\n",
       "  </thead>\n",
       "  <tbody>\n",
       "    <tr>\n",
       "      <th>0</th>\n",
       "      <td>0.208864</td>\n",
       "      <td>-1.959670</td>\n",
       "    </tr>\n",
       "    <tr>\n",
       "      <th>6</th>\n",
       "      <td>0.343618</td>\n",
       "      <td>-1.763040</td>\n",
       "    </tr>\n",
       "    <tr>\n",
       "      <th>7</th>\n",
       "      <td>0.324084</td>\n",
       "      <td>-0.385082</td>\n",
       "    </tr>\n",
       "  </tbody>\n",
       "</table>\n",
       "</div>"
      ],
      "text/plain": [
       "          x         y\n",
       "0  0.208864 -1.959670\n",
       "6  0.343618 -1.763040\n",
       "7  0.324084 -0.385082"
      ]
     },
     "execution_count": 77,
     "metadata": {},
     "output_type": "execute_result"
    }
   ],
   "source": [
    "df[(df['x'] > 0) & (df['y'] < 0)]  "
   ]
  },
  {
   "cell_type": "code",
   "execution_count": 78,
   "metadata": {
    "slideshow": {
     "slide_type": "skip"
    }
   },
   "outputs": [
    {
     "data": {
      "text/html": [
       "<div>\n",
       "<style scoped>\n",
       "    .dataframe tbody tr th:only-of-type {\n",
       "        vertical-align: middle;\n",
       "    }\n",
       "\n",
       "    .dataframe tbody tr th {\n",
       "        vertical-align: top;\n",
       "    }\n",
       "\n",
       "    .dataframe thead th {\n",
       "        text-align: right;\n",
       "    }\n",
       "</style>\n",
       "<table border=\"1\" class=\"dataframe\">\n",
       "  <thead>\n",
       "    <tr style=\"text-align: right;\">\n",
       "      <th></th>\n",
       "      <th>x</th>\n",
       "      <th>y</th>\n",
       "    </tr>\n",
       "  </thead>\n",
       "  <tbody>\n",
       "    <tr>\n",
       "      <th>0</th>\n",
       "      <td>0.208864</td>\n",
       "      <td>-1.959670</td>\n",
       "    </tr>\n",
       "    <tr>\n",
       "      <th>6</th>\n",
       "      <td>0.343618</td>\n",
       "      <td>-1.763040</td>\n",
       "    </tr>\n",
       "    <tr>\n",
       "      <th>7</th>\n",
       "      <td>0.324084</td>\n",
       "      <td>-0.385082</td>\n",
       "    </tr>\n",
       "  </tbody>\n",
       "</table>\n",
       "</div>"
      ],
      "text/plain": [
       "          x         y\n",
       "0  0.208864 -1.959670\n",
       "6  0.343618 -1.763040\n",
       "7  0.324084 -0.385082"
      ]
     },
     "execution_count": 78,
     "metadata": {},
     "output_type": "execute_result"
    }
   ],
   "source": [
    "df.query('x > 0 & y < 0')  "
   ]
  },
  {
   "cell_type": "code",
   "execution_count": 79,
   "metadata": {
    "slideshow": {
     "slide_type": "skip"
    }
   },
   "outputs": [
    {
     "data": {
      "text/html": [
       "<div>\n",
       "<style scoped>\n",
       "    .dataframe tbody tr th:only-of-type {\n",
       "        vertical-align: middle;\n",
       "    }\n",
       "\n",
       "    .dataframe tbody tr th {\n",
       "        vertical-align: top;\n",
       "    }\n",
       "\n",
       "    .dataframe thead th {\n",
       "        text-align: right;\n",
       "    }\n",
       "</style>\n",
       "<table border=\"1\" class=\"dataframe\">\n",
       "  <thead>\n",
       "    <tr style=\"text-align: right;\">\n",
       "      <th></th>\n",
       "      <th>x</th>\n",
       "      <th>y</th>\n",
       "    </tr>\n",
       "  </thead>\n",
       "  <tbody>\n",
       "    <tr>\n",
       "      <th>0</th>\n",
       "      <td>0.208864</td>\n",
       "      <td>-1.959670</td>\n",
       "    </tr>\n",
       "    <tr>\n",
       "      <th>2</th>\n",
       "      <td>0.738467</td>\n",
       "      <td>0.171368</td>\n",
       "    </tr>\n",
       "    <tr>\n",
       "      <th>3</th>\n",
       "      <td>-0.115648</td>\n",
       "      <td>-0.301104</td>\n",
       "    </tr>\n",
       "    <tr>\n",
       "      <th>4</th>\n",
       "      <td>-1.478522</td>\n",
       "      <td>-0.719844</td>\n",
       "    </tr>\n",
       "    <tr>\n",
       "      <th>6</th>\n",
       "      <td>0.343618</td>\n",
       "      <td>-1.763040</td>\n",
       "    </tr>\n",
       "    <tr>\n",
       "      <th>7</th>\n",
       "      <td>0.324084</td>\n",
       "      <td>-0.385082</td>\n",
       "    </tr>\n",
       "    <tr>\n",
       "      <th>9</th>\n",
       "      <td>1.031000</td>\n",
       "      <td>0.931280</td>\n",
       "    </tr>\n",
       "  </tbody>\n",
       "</table>\n",
       "</div>"
      ],
      "text/plain": [
       "          x         y\n",
       "0  0.208864 -1.959670\n",
       "2  0.738467  0.171368\n",
       "3 -0.115648 -0.301104\n",
       "4 -1.478522 -0.719844\n",
       "6  0.343618 -1.763040\n",
       "7  0.324084 -0.385082\n",
       "9  1.031000  0.931280"
      ]
     },
     "execution_count": 79,
     "metadata": {},
     "output_type": "execute_result"
    }
   ],
   "source": [
    "df[(df.x > 0) | (df.y < 0)]  "
   ]
  },
  {
   "cell_type": "code",
   "execution_count": 80,
   "metadata": {
    "slideshow": {
     "slide_type": "skip"
    }
   },
   "outputs": [
    {
     "data": {
      "text/html": [
       "<div>\n",
       "<style scoped>\n",
       "    .dataframe tbody tr th:only-of-type {\n",
       "        vertical-align: middle;\n",
       "    }\n",
       "\n",
       "    .dataframe tbody tr th {\n",
       "        vertical-align: top;\n",
       "    }\n",
       "\n",
       "    .dataframe thead th {\n",
       "        text-align: right;\n",
       "    }\n",
       "</style>\n",
       "<table border=\"1\" class=\"dataframe\">\n",
       "  <thead>\n",
       "    <tr style=\"text-align: right;\">\n",
       "      <th></th>\n",
       "      <th>x</th>\n",
       "      <th>y</th>\n",
       "    </tr>\n",
       "  </thead>\n",
       "  <tbody>\n",
       "    <tr>\n",
       "      <th>0</th>\n",
       "      <td>True</td>\n",
       "      <td>False</td>\n",
       "    </tr>\n",
       "    <tr>\n",
       "      <th>1</th>\n",
       "      <td>False</td>\n",
       "      <td>True</td>\n",
       "    </tr>\n",
       "    <tr>\n",
       "      <th>2</th>\n",
       "      <td>True</td>\n",
       "      <td>True</td>\n",
       "    </tr>\n",
       "    <tr>\n",
       "      <th>3</th>\n",
       "      <td>False</td>\n",
       "      <td>False</td>\n",
       "    </tr>\n",
       "    <tr>\n",
       "      <th>4</th>\n",
       "      <td>False</td>\n",
       "      <td>False</td>\n",
       "    </tr>\n",
       "    <tr>\n",
       "      <th>5</th>\n",
       "      <td>False</td>\n",
       "      <td>True</td>\n",
       "    </tr>\n",
       "    <tr>\n",
       "      <th>6</th>\n",
       "      <td>True</td>\n",
       "      <td>False</td>\n",
       "    </tr>\n",
       "    <tr>\n",
       "      <th>7</th>\n",
       "      <td>True</td>\n",
       "      <td>False</td>\n",
       "    </tr>\n",
       "    <tr>\n",
       "      <th>8</th>\n",
       "      <td>False</td>\n",
       "      <td>True</td>\n",
       "    </tr>\n",
       "    <tr>\n",
       "      <th>9</th>\n",
       "      <td>True</td>\n",
       "      <td>True</td>\n",
       "    </tr>\n",
       "  </tbody>\n",
       "</table>\n",
       "</div>"
      ],
      "text/plain": [
       "       x      y\n",
       "0   True  False\n",
       "1  False   True\n",
       "2   True   True\n",
       "3  False  False\n",
       "4  False  False\n",
       "5  False   True\n",
       "6   True  False\n",
       "7   True  False\n",
       "8  False   True\n",
       "9   True   True"
      ]
     },
     "execution_count": 80,
     "metadata": {},
     "output_type": "execute_result"
    }
   ],
   "source": [
    "df > 0  "
   ]
  },
  {
   "cell_type": "code",
   "execution_count": 81,
   "metadata": {
    "slideshow": {
     "slide_type": "skip"
    }
   },
   "outputs": [
    {
     "data": {
      "text/html": [
       "<div>\n",
       "<style scoped>\n",
       "    .dataframe tbody tr th:only-of-type {\n",
       "        vertical-align: middle;\n",
       "    }\n",
       "\n",
       "    .dataframe tbody tr th {\n",
       "        vertical-align: top;\n",
       "    }\n",
       "\n",
       "    .dataframe thead th {\n",
       "        text-align: right;\n",
       "    }\n",
       "</style>\n",
       "<table border=\"1\" class=\"dataframe\">\n",
       "  <thead>\n",
       "    <tr style=\"text-align: right;\">\n",
       "      <th></th>\n",
       "      <th>x</th>\n",
       "      <th>y</th>\n",
       "    </tr>\n",
       "  </thead>\n",
       "  <tbody>\n",
       "    <tr>\n",
       "      <th>0</th>\n",
       "      <td>0.208864</td>\n",
       "      <td>NaN</td>\n",
       "    </tr>\n",
       "    <tr>\n",
       "      <th>1</th>\n",
       "      <td>NaN</td>\n",
       "      <td>0.196861</td>\n",
       "    </tr>\n",
       "    <tr>\n",
       "      <th>2</th>\n",
       "      <td>0.738467</td>\n",
       "      <td>0.171368</td>\n",
       "    </tr>\n",
       "    <tr>\n",
       "      <th>3</th>\n",
       "      <td>NaN</td>\n",
       "      <td>NaN</td>\n",
       "    </tr>\n",
       "    <tr>\n",
       "      <th>4</th>\n",
       "      <td>NaN</td>\n",
       "      <td>NaN</td>\n",
       "    </tr>\n",
       "    <tr>\n",
       "      <th>5</th>\n",
       "      <td>NaN</td>\n",
       "      <td>1.057122</td>\n",
       "    </tr>\n",
       "    <tr>\n",
       "      <th>6</th>\n",
       "      <td>0.343618</td>\n",
       "      <td>NaN</td>\n",
       "    </tr>\n",
       "    <tr>\n",
       "      <th>7</th>\n",
       "      <td>0.324084</td>\n",
       "      <td>NaN</td>\n",
       "    </tr>\n",
       "    <tr>\n",
       "      <th>8</th>\n",
       "      <td>NaN</td>\n",
       "      <td>0.611676</td>\n",
       "    </tr>\n",
       "    <tr>\n",
       "      <th>9</th>\n",
       "      <td>1.031000</td>\n",
       "      <td>0.931280</td>\n",
       "    </tr>\n",
       "  </tbody>\n",
       "</table>\n",
       "</div>"
      ],
      "text/plain": [
       "          x         y\n",
       "0  0.208864       NaN\n",
       "1       NaN  0.196861\n",
       "2  0.738467  0.171368\n",
       "3       NaN       NaN\n",
       "4       NaN       NaN\n",
       "5       NaN  1.057122\n",
       "6  0.343618       NaN\n",
       "7  0.324084       NaN\n",
       "8       NaN  0.611676\n",
       "9  1.031000  0.931280"
      ]
     },
     "execution_count": 81,
     "metadata": {},
     "output_type": "execute_result"
    }
   ],
   "source": [
    "df[df > 0]  "
   ]
  },
  {
   "cell_type": "markdown",
   "metadata": {
    "slideshow": {
     "slide_type": "slide"
    }
   },
   "source": [
    "## Concatenation, Joining and Merging"
   ]
  },
  {
   "cell_type": "code",
   "execution_count": 82,
   "metadata": {
    "slideshow": {
     "slide_type": "skip"
    }
   },
   "outputs": [],
   "source": [
    "df1 = pd.DataFrame(['100', '200', '300', '400'], \n",
    "                    index=['a', 'b', 'c', 'd'],\n",
    "                    columns=['A',])"
   ]
  },
  {
   "cell_type": "code",
   "execution_count": 83,
   "metadata": {
    "slideshow": {
     "slide_type": "fragment"
    }
   },
   "outputs": [
    {
     "data": {
      "text/html": [
       "<div>\n",
       "<style scoped>\n",
       "    .dataframe tbody tr th:only-of-type {\n",
       "        vertical-align: middle;\n",
       "    }\n",
       "\n",
       "    .dataframe tbody tr th {\n",
       "        vertical-align: top;\n",
       "    }\n",
       "\n",
       "    .dataframe thead th {\n",
       "        text-align: right;\n",
       "    }\n",
       "</style>\n",
       "<table border=\"1\" class=\"dataframe\">\n",
       "  <thead>\n",
       "    <tr style=\"text-align: right;\">\n",
       "      <th></th>\n",
       "      <th>A</th>\n",
       "    </tr>\n",
       "  </thead>\n",
       "  <tbody>\n",
       "    <tr>\n",
       "      <th>a</th>\n",
       "      <td>100</td>\n",
       "    </tr>\n",
       "    <tr>\n",
       "      <th>b</th>\n",
       "      <td>200</td>\n",
       "    </tr>\n",
       "    <tr>\n",
       "      <th>c</th>\n",
       "      <td>300</td>\n",
       "    </tr>\n",
       "    <tr>\n",
       "      <th>d</th>\n",
       "      <td>400</td>\n",
       "    </tr>\n",
       "  </tbody>\n",
       "</table>\n",
       "</div>"
      ],
      "text/plain": [
       "     A\n",
       "a  100\n",
       "b  200\n",
       "c  300\n",
       "d  400"
      ]
     },
     "execution_count": 83,
     "metadata": {},
     "output_type": "execute_result"
    }
   ],
   "source": [
    "df1"
   ]
  },
  {
   "cell_type": "code",
   "execution_count": 84,
   "metadata": {
    "slideshow": {
     "slide_type": "skip"
    }
   },
   "outputs": [],
   "source": [
    "df2 = pd.DataFrame(['200', '150', '50'], \n",
    "                    index=['f', 'b', 'd'],\n",
    "                    columns=['B',])"
   ]
  },
  {
   "cell_type": "code",
   "execution_count": 85,
   "metadata": {
    "slideshow": {
     "slide_type": "fragment"
    }
   },
   "outputs": [
    {
     "data": {
      "text/html": [
       "<div>\n",
       "<style scoped>\n",
       "    .dataframe tbody tr th:only-of-type {\n",
       "        vertical-align: middle;\n",
       "    }\n",
       "\n",
       "    .dataframe tbody tr th {\n",
       "        vertical-align: top;\n",
       "    }\n",
       "\n",
       "    .dataframe thead th {\n",
       "        text-align: right;\n",
       "    }\n",
       "</style>\n",
       "<table border=\"1\" class=\"dataframe\">\n",
       "  <thead>\n",
       "    <tr style=\"text-align: right;\">\n",
       "      <th></th>\n",
       "      <th>B</th>\n",
       "    </tr>\n",
       "  </thead>\n",
       "  <tbody>\n",
       "    <tr>\n",
       "      <th>f</th>\n",
       "      <td>200</td>\n",
       "    </tr>\n",
       "    <tr>\n",
       "      <th>b</th>\n",
       "      <td>150</td>\n",
       "    </tr>\n",
       "    <tr>\n",
       "      <th>d</th>\n",
       "      <td>50</td>\n",
       "    </tr>\n",
       "  </tbody>\n",
       "</table>\n",
       "</div>"
      ],
      "text/plain": [
       "     B\n",
       "f  200\n",
       "b  150\n",
       "d   50"
      ]
     },
     "execution_count": 85,
     "metadata": {},
     "output_type": "execute_result"
    }
   ],
   "source": [
    "df2"
   ]
  },
  {
   "cell_type": "markdown",
   "metadata": {
    "slideshow": {
     "slide_type": "slide"
    }
   },
   "source": [
    "#### Concatenation"
   ]
  },
  {
   "cell_type": "code",
   "execution_count": 86,
   "metadata": {
    "slideshow": {
     "slide_type": "fragment"
    }
   },
   "outputs": [
    {
     "data": {
      "text/html": [
       "<div>\n",
       "<style scoped>\n",
       "    .dataframe tbody tr th:only-of-type {\n",
       "        vertical-align: middle;\n",
       "    }\n",
       "\n",
       "    .dataframe tbody tr th {\n",
       "        vertical-align: top;\n",
       "    }\n",
       "\n",
       "    .dataframe thead th {\n",
       "        text-align: right;\n",
       "    }\n",
       "</style>\n",
       "<table border=\"1\" class=\"dataframe\">\n",
       "  <thead>\n",
       "    <tr style=\"text-align: right;\">\n",
       "      <th></th>\n",
       "      <th>A</th>\n",
       "      <th>B</th>\n",
       "    </tr>\n",
       "  </thead>\n",
       "  <tbody>\n",
       "    <tr>\n",
       "      <th>a</th>\n",
       "      <td>100</td>\n",
       "      <td>NaN</td>\n",
       "    </tr>\n",
       "    <tr>\n",
       "      <th>b</th>\n",
       "      <td>200</td>\n",
       "      <td>NaN</td>\n",
       "    </tr>\n",
       "    <tr>\n",
       "      <th>c</th>\n",
       "      <td>300</td>\n",
       "      <td>NaN</td>\n",
       "    </tr>\n",
       "    <tr>\n",
       "      <th>d</th>\n",
       "      <td>400</td>\n",
       "      <td>NaN</td>\n",
       "    </tr>\n",
       "    <tr>\n",
       "      <th>f</th>\n",
       "      <td>NaN</td>\n",
       "      <td>200</td>\n",
       "    </tr>\n",
       "    <tr>\n",
       "      <th>b</th>\n",
       "      <td>NaN</td>\n",
       "      <td>150</td>\n",
       "    </tr>\n",
       "    <tr>\n",
       "      <th>d</th>\n",
       "      <td>NaN</td>\n",
       "      <td>50</td>\n",
       "    </tr>\n",
       "  </tbody>\n",
       "</table>\n",
       "</div>"
      ],
      "text/plain": [
       "     A    B\n",
       "a  100  NaN\n",
       "b  200  NaN\n",
       "c  300  NaN\n",
       "d  400  NaN\n",
       "f  NaN  200\n",
       "b  NaN  150\n",
       "d  NaN   50"
      ]
     },
     "execution_count": 86,
     "metadata": {},
     "output_type": "execute_result"
    }
   ],
   "source": [
    "df1.append(df2, sort=False)  "
   ]
  },
  {
   "cell_type": "code",
   "execution_count": 87,
   "metadata": {
    "slideshow": {
     "slide_type": "slide"
    }
   },
   "outputs": [
    {
     "data": {
      "text/html": [
       "<div>\n",
       "<style scoped>\n",
       "    .dataframe tbody tr th:only-of-type {\n",
       "        vertical-align: middle;\n",
       "    }\n",
       "\n",
       "    .dataframe tbody tr th {\n",
       "        vertical-align: top;\n",
       "    }\n",
       "\n",
       "    .dataframe thead th {\n",
       "        text-align: right;\n",
       "    }\n",
       "</style>\n",
       "<table border=\"1\" class=\"dataframe\">\n",
       "  <thead>\n",
       "    <tr style=\"text-align: right;\">\n",
       "      <th></th>\n",
       "      <th>A</th>\n",
       "      <th>B</th>\n",
       "    </tr>\n",
       "  </thead>\n",
       "  <tbody>\n",
       "    <tr>\n",
       "      <th>0</th>\n",
       "      <td>100</td>\n",
       "      <td>NaN</td>\n",
       "    </tr>\n",
       "    <tr>\n",
       "      <th>1</th>\n",
       "      <td>200</td>\n",
       "      <td>NaN</td>\n",
       "    </tr>\n",
       "    <tr>\n",
       "      <th>2</th>\n",
       "      <td>300</td>\n",
       "      <td>NaN</td>\n",
       "    </tr>\n",
       "    <tr>\n",
       "      <th>3</th>\n",
       "      <td>400</td>\n",
       "      <td>NaN</td>\n",
       "    </tr>\n",
       "    <tr>\n",
       "      <th>4</th>\n",
       "      <td>NaN</td>\n",
       "      <td>200</td>\n",
       "    </tr>\n",
       "    <tr>\n",
       "      <th>5</th>\n",
       "      <td>NaN</td>\n",
       "      <td>150</td>\n",
       "    </tr>\n",
       "    <tr>\n",
       "      <th>6</th>\n",
       "      <td>NaN</td>\n",
       "      <td>50</td>\n",
       "    </tr>\n",
       "  </tbody>\n",
       "</table>\n",
       "</div>"
      ],
      "text/plain": [
       "     A    B\n",
       "0  100  NaN\n",
       "1  200  NaN\n",
       "2  300  NaN\n",
       "3  400  NaN\n",
       "4  NaN  200\n",
       "5  NaN  150\n",
       "6  NaN   50"
      ]
     },
     "execution_count": 87,
     "metadata": {},
     "output_type": "execute_result"
    }
   ],
   "source": [
    "df1.append(df2, ignore_index=True, sort=False)  "
   ]
  },
  {
   "cell_type": "code",
   "execution_count": 88,
   "metadata": {
    "slideshow": {
     "slide_type": "fragment"
    }
   },
   "outputs": [
    {
     "data": {
      "text/html": [
       "<div>\n",
       "<style scoped>\n",
       "    .dataframe tbody tr th:only-of-type {\n",
       "        vertical-align: middle;\n",
       "    }\n",
       "\n",
       "    .dataframe tbody tr th {\n",
       "        vertical-align: top;\n",
       "    }\n",
       "\n",
       "    .dataframe thead th {\n",
       "        text-align: right;\n",
       "    }\n",
       "</style>\n",
       "<table border=\"1\" class=\"dataframe\">\n",
       "  <thead>\n",
       "    <tr style=\"text-align: right;\">\n",
       "      <th></th>\n",
       "      <th>A</th>\n",
       "      <th>B</th>\n",
       "    </tr>\n",
       "  </thead>\n",
       "  <tbody>\n",
       "    <tr>\n",
       "      <th>a</th>\n",
       "      <td>100</td>\n",
       "      <td>NaN</td>\n",
       "    </tr>\n",
       "    <tr>\n",
       "      <th>b</th>\n",
       "      <td>200</td>\n",
       "      <td>NaN</td>\n",
       "    </tr>\n",
       "    <tr>\n",
       "      <th>c</th>\n",
       "      <td>300</td>\n",
       "      <td>NaN</td>\n",
       "    </tr>\n",
       "    <tr>\n",
       "      <th>d</th>\n",
       "      <td>400</td>\n",
       "      <td>NaN</td>\n",
       "    </tr>\n",
       "    <tr>\n",
       "      <th>f</th>\n",
       "      <td>NaN</td>\n",
       "      <td>200</td>\n",
       "    </tr>\n",
       "    <tr>\n",
       "      <th>b</th>\n",
       "      <td>NaN</td>\n",
       "      <td>150</td>\n",
       "    </tr>\n",
       "    <tr>\n",
       "      <th>d</th>\n",
       "      <td>NaN</td>\n",
       "      <td>50</td>\n",
       "    </tr>\n",
       "  </tbody>\n",
       "</table>\n",
       "</div>"
      ],
      "text/plain": [
       "     A    B\n",
       "a  100  NaN\n",
       "b  200  NaN\n",
       "c  300  NaN\n",
       "d  400  NaN\n",
       "f  NaN  200\n",
       "b  NaN  150\n",
       "d  NaN   50"
      ]
     },
     "execution_count": 88,
     "metadata": {},
     "output_type": "execute_result"
    }
   ],
   "source": [
    "# takes a list or dict of homogeneously-typed objects and concatenates them with some configurable handling of “what to do with the other axes”:\n",
    "\n",
    "pd.concat((df1, df2), sort=False)  "
   ]
  },
  {
   "cell_type": "code",
   "execution_count": 89,
   "metadata": {
    "slideshow": {
     "slide_type": "slide"
    }
   },
   "outputs": [
    {
     "data": {
      "text/html": [
       "<div>\n",
       "<style scoped>\n",
       "    .dataframe tbody tr th:only-of-type {\n",
       "        vertical-align: middle;\n",
       "    }\n",
       "\n",
       "    .dataframe tbody tr th {\n",
       "        vertical-align: top;\n",
       "    }\n",
       "\n",
       "    .dataframe thead th {\n",
       "        text-align: right;\n",
       "    }\n",
       "</style>\n",
       "<table border=\"1\" class=\"dataframe\">\n",
       "  <thead>\n",
       "    <tr style=\"text-align: right;\">\n",
       "      <th></th>\n",
       "      <th>A</th>\n",
       "      <th>B</th>\n",
       "    </tr>\n",
       "  </thead>\n",
       "  <tbody>\n",
       "    <tr>\n",
       "      <th>0</th>\n",
       "      <td>100</td>\n",
       "      <td>NaN</td>\n",
       "    </tr>\n",
       "    <tr>\n",
       "      <th>1</th>\n",
       "      <td>200</td>\n",
       "      <td>NaN</td>\n",
       "    </tr>\n",
       "    <tr>\n",
       "      <th>2</th>\n",
       "      <td>300</td>\n",
       "      <td>NaN</td>\n",
       "    </tr>\n",
       "    <tr>\n",
       "      <th>3</th>\n",
       "      <td>400</td>\n",
       "      <td>NaN</td>\n",
       "    </tr>\n",
       "    <tr>\n",
       "      <th>4</th>\n",
       "      <td>NaN</td>\n",
       "      <td>200</td>\n",
       "    </tr>\n",
       "    <tr>\n",
       "      <th>5</th>\n",
       "      <td>NaN</td>\n",
       "      <td>150</td>\n",
       "    </tr>\n",
       "    <tr>\n",
       "      <th>6</th>\n",
       "      <td>NaN</td>\n",
       "      <td>50</td>\n",
       "    </tr>\n",
       "  </tbody>\n",
       "</table>\n",
       "</div>"
      ],
      "text/plain": [
       "     A    B\n",
       "0  100  NaN\n",
       "1  200  NaN\n",
       "2  300  NaN\n",
       "3  400  NaN\n",
       "4  NaN  200\n",
       "5  NaN  150\n",
       "6  NaN   50"
      ]
     },
     "execution_count": 89,
     "metadata": {},
     "output_type": "execute_result"
    }
   ],
   "source": [
    "pd.concat((df1, df2), ignore_index=True, sort=False)  "
   ]
  },
  {
   "cell_type": "markdown",
   "metadata": {
    "slideshow": {
     "slide_type": "slide"
    }
   },
   "source": [
    "#### Joining"
   ]
  },
  {
   "cell_type": "code",
   "execution_count": 90,
   "metadata": {
    "slideshow": {
     "slide_type": "fragment"
    }
   },
   "outputs": [
    {
     "data": {
      "text/html": [
       "<div>\n",
       "<style scoped>\n",
       "    .dataframe tbody tr th:only-of-type {\n",
       "        vertical-align: middle;\n",
       "    }\n",
       "\n",
       "    .dataframe tbody tr th {\n",
       "        vertical-align: top;\n",
       "    }\n",
       "\n",
       "    .dataframe thead th {\n",
       "        text-align: right;\n",
       "    }\n",
       "</style>\n",
       "<table border=\"1\" class=\"dataframe\">\n",
       "  <thead>\n",
       "    <tr style=\"text-align: right;\">\n",
       "      <th></th>\n",
       "      <th>A</th>\n",
       "      <th>B</th>\n",
       "    </tr>\n",
       "  </thead>\n",
       "  <tbody>\n",
       "    <tr>\n",
       "      <th>a</th>\n",
       "      <td>100</td>\n",
       "      <td>NaN</td>\n",
       "    </tr>\n",
       "    <tr>\n",
       "      <th>b</th>\n",
       "      <td>200</td>\n",
       "      <td>150</td>\n",
       "    </tr>\n",
       "    <tr>\n",
       "      <th>c</th>\n",
       "      <td>300</td>\n",
       "      <td>NaN</td>\n",
       "    </tr>\n",
       "    <tr>\n",
       "      <th>d</th>\n",
       "      <td>400</td>\n",
       "      <td>50</td>\n",
       "    </tr>\n",
       "  </tbody>\n",
       "</table>\n",
       "</div>"
      ],
      "text/plain": [
       "     A    B\n",
       "a  100  NaN\n",
       "b  200  150\n",
       "c  300  NaN\n",
       "d  400   50"
      ]
     },
     "execution_count": 90,
     "metadata": {},
     "output_type": "execute_result"
    }
   ],
   "source": [
    "# pandas has full-featured, high performance in-memory join operations idiomatically \n",
    "# very similar to relational databases like SQL.\n",
    "df1.join(df2)  "
   ]
  },
  {
   "cell_type": "code",
   "execution_count": 91,
   "metadata": {
    "slideshow": {
     "slide_type": "fragment"
    }
   },
   "outputs": [
    {
     "data": {
      "text/html": [
       "<div>\n",
       "<style scoped>\n",
       "    .dataframe tbody tr th:only-of-type {\n",
       "        vertical-align: middle;\n",
       "    }\n",
       "\n",
       "    .dataframe tbody tr th {\n",
       "        vertical-align: top;\n",
       "    }\n",
       "\n",
       "    .dataframe thead th {\n",
       "        text-align: right;\n",
       "    }\n",
       "</style>\n",
       "<table border=\"1\" class=\"dataframe\">\n",
       "  <thead>\n",
       "    <tr style=\"text-align: right;\">\n",
       "      <th></th>\n",
       "      <th>B</th>\n",
       "      <th>A</th>\n",
       "    </tr>\n",
       "  </thead>\n",
       "  <tbody>\n",
       "    <tr>\n",
       "      <th>f</th>\n",
       "      <td>200</td>\n",
       "      <td>NaN</td>\n",
       "    </tr>\n",
       "    <tr>\n",
       "      <th>b</th>\n",
       "      <td>150</td>\n",
       "      <td>200</td>\n",
       "    </tr>\n",
       "    <tr>\n",
       "      <th>d</th>\n",
       "      <td>50</td>\n",
       "      <td>400</td>\n",
       "    </tr>\n",
       "  </tbody>\n",
       "</table>\n",
       "</div>"
      ],
      "text/plain": [
       "     B    A\n",
       "f  200  NaN\n",
       "b  150  200\n",
       "d   50  400"
      ]
     },
     "execution_count": 91,
     "metadata": {},
     "output_type": "execute_result"
    }
   ],
   "source": [
    "df2.join(df1)  "
   ]
  },
  {
   "cell_type": "code",
   "execution_count": 92,
   "metadata": {
    "slideshow": {
     "slide_type": "slide"
    }
   },
   "outputs": [
    {
     "data": {
      "text/html": [
       "<div>\n",
       "<style scoped>\n",
       "    .dataframe tbody tr th:only-of-type {\n",
       "        vertical-align: middle;\n",
       "    }\n",
       "\n",
       "    .dataframe tbody tr th {\n",
       "        vertical-align: top;\n",
       "    }\n",
       "\n",
       "    .dataframe thead th {\n",
       "        text-align: right;\n",
       "    }\n",
       "</style>\n",
       "<table border=\"1\" class=\"dataframe\">\n",
       "  <thead>\n",
       "    <tr style=\"text-align: right;\">\n",
       "      <th></th>\n",
       "      <th>A</th>\n",
       "      <th>B</th>\n",
       "    </tr>\n",
       "  </thead>\n",
       "  <tbody>\n",
       "    <tr>\n",
       "      <th>a</th>\n",
       "      <td>100</td>\n",
       "      <td>NaN</td>\n",
       "    </tr>\n",
       "    <tr>\n",
       "      <th>b</th>\n",
       "      <td>200</td>\n",
       "      <td>150</td>\n",
       "    </tr>\n",
       "    <tr>\n",
       "      <th>c</th>\n",
       "      <td>300</td>\n",
       "      <td>NaN</td>\n",
       "    </tr>\n",
       "    <tr>\n",
       "      <th>d</th>\n",
       "      <td>400</td>\n",
       "      <td>50</td>\n",
       "    </tr>\n",
       "  </tbody>\n",
       "</table>\n",
       "</div>"
      ],
      "text/plain": [
       "     A    B\n",
       "a  100  NaN\n",
       "b  200  150\n",
       "c  300  NaN\n",
       "d  400   50"
      ]
     },
     "execution_count": 92,
     "metadata": {},
     "output_type": "execute_result"
    }
   ],
   "source": [
    "df1.join(df2, how='left')  "
   ]
  },
  {
   "cell_type": "code",
   "execution_count": 93,
   "metadata": {
    "slideshow": {
     "slide_type": "fragment"
    }
   },
   "outputs": [
    {
     "data": {
      "text/html": [
       "<div>\n",
       "<style scoped>\n",
       "    .dataframe tbody tr th:only-of-type {\n",
       "        vertical-align: middle;\n",
       "    }\n",
       "\n",
       "    .dataframe tbody tr th {\n",
       "        vertical-align: top;\n",
       "    }\n",
       "\n",
       "    .dataframe thead th {\n",
       "        text-align: right;\n",
       "    }\n",
       "</style>\n",
       "<table border=\"1\" class=\"dataframe\">\n",
       "  <thead>\n",
       "    <tr style=\"text-align: right;\">\n",
       "      <th></th>\n",
       "      <th>A</th>\n",
       "      <th>B</th>\n",
       "    </tr>\n",
       "  </thead>\n",
       "  <tbody>\n",
       "    <tr>\n",
       "      <th>f</th>\n",
       "      <td>NaN</td>\n",
       "      <td>200</td>\n",
       "    </tr>\n",
       "    <tr>\n",
       "      <th>b</th>\n",
       "      <td>200</td>\n",
       "      <td>150</td>\n",
       "    </tr>\n",
       "    <tr>\n",
       "      <th>d</th>\n",
       "      <td>400</td>\n",
       "      <td>50</td>\n",
       "    </tr>\n",
       "  </tbody>\n",
       "</table>\n",
       "</div>"
      ],
      "text/plain": [
       "     A    B\n",
       "f  NaN  200\n",
       "b  200  150\n",
       "d  400   50"
      ]
     },
     "execution_count": 93,
     "metadata": {},
     "output_type": "execute_result"
    }
   ],
   "source": [
    "df1.join(df2, how='right')  "
   ]
  },
  {
   "cell_type": "code",
   "execution_count": 94,
   "metadata": {
    "slideshow": {
     "slide_type": "slide"
    }
   },
   "outputs": [
    {
     "data": {
      "text/html": [
       "<div>\n",
       "<style scoped>\n",
       "    .dataframe tbody tr th:only-of-type {\n",
       "        vertical-align: middle;\n",
       "    }\n",
       "\n",
       "    .dataframe tbody tr th {\n",
       "        vertical-align: top;\n",
       "    }\n",
       "\n",
       "    .dataframe thead th {\n",
       "        text-align: right;\n",
       "    }\n",
       "</style>\n",
       "<table border=\"1\" class=\"dataframe\">\n",
       "  <thead>\n",
       "    <tr style=\"text-align: right;\">\n",
       "      <th></th>\n",
       "      <th>A</th>\n",
       "      <th>B</th>\n",
       "    </tr>\n",
       "  </thead>\n",
       "  <tbody>\n",
       "    <tr>\n",
       "      <th>b</th>\n",
       "      <td>200</td>\n",
       "      <td>150</td>\n",
       "    </tr>\n",
       "    <tr>\n",
       "      <th>d</th>\n",
       "      <td>400</td>\n",
       "      <td>50</td>\n",
       "    </tr>\n",
       "  </tbody>\n",
       "</table>\n",
       "</div>"
      ],
      "text/plain": [
       "     A    B\n",
       "b  200  150\n",
       "d  400   50"
      ]
     },
     "execution_count": 94,
     "metadata": {},
     "output_type": "execute_result"
    }
   ],
   "source": [
    "df1.join(df2, how='inner')  "
   ]
  },
  {
   "cell_type": "code",
   "execution_count": 95,
   "metadata": {
    "slideshow": {
     "slide_type": "fragment"
    }
   },
   "outputs": [
    {
     "data": {
      "text/html": [
       "<div>\n",
       "<style scoped>\n",
       "    .dataframe tbody tr th:only-of-type {\n",
       "        vertical-align: middle;\n",
       "    }\n",
       "\n",
       "    .dataframe tbody tr th {\n",
       "        vertical-align: top;\n",
       "    }\n",
       "\n",
       "    .dataframe thead th {\n",
       "        text-align: right;\n",
       "    }\n",
       "</style>\n",
       "<table border=\"1\" class=\"dataframe\">\n",
       "  <thead>\n",
       "    <tr style=\"text-align: right;\">\n",
       "      <th></th>\n",
       "      <th>A</th>\n",
       "      <th>B</th>\n",
       "    </tr>\n",
       "  </thead>\n",
       "  <tbody>\n",
       "    <tr>\n",
       "      <th>a</th>\n",
       "      <td>100</td>\n",
       "      <td>NaN</td>\n",
       "    </tr>\n",
       "    <tr>\n",
       "      <th>b</th>\n",
       "      <td>200</td>\n",
       "      <td>150</td>\n",
       "    </tr>\n",
       "    <tr>\n",
       "      <th>c</th>\n",
       "      <td>300</td>\n",
       "      <td>NaN</td>\n",
       "    </tr>\n",
       "    <tr>\n",
       "      <th>d</th>\n",
       "      <td>400</td>\n",
       "      <td>50</td>\n",
       "    </tr>\n",
       "    <tr>\n",
       "      <th>f</th>\n",
       "      <td>NaN</td>\n",
       "      <td>200</td>\n",
       "    </tr>\n",
       "  </tbody>\n",
       "</table>\n",
       "</div>"
      ],
      "text/plain": [
       "     A    B\n",
       "a  100  NaN\n",
       "b  200  150\n",
       "c  300  NaN\n",
       "d  400   50\n",
       "f  NaN  200"
      ]
     },
     "execution_count": 95,
     "metadata": {},
     "output_type": "execute_result"
    }
   ],
   "source": [
    "df1.join(df2, how='outer')  "
   ]
  },
  {
   "cell_type": "code",
   "execution_count": 96,
   "metadata": {
    "slideshow": {
     "slide_type": "skip"
    }
   },
   "outputs": [],
   "source": [
    "df = pd.DataFrame()"
   ]
  },
  {
   "cell_type": "code",
   "execution_count": 97,
   "metadata": {
    "slideshow": {
     "slide_type": "skip"
    }
   },
   "outputs": [],
   "source": [
    "df['A'] = df1['A']  "
   ]
  },
  {
   "cell_type": "code",
   "execution_count": 98,
   "metadata": {
    "slideshow": {
     "slide_type": "skip"
    }
   },
   "outputs": [
    {
     "data": {
      "text/html": [
       "<div>\n",
       "<style scoped>\n",
       "    .dataframe tbody tr th:only-of-type {\n",
       "        vertical-align: middle;\n",
       "    }\n",
       "\n",
       "    .dataframe tbody tr th {\n",
       "        vertical-align: top;\n",
       "    }\n",
       "\n",
       "    .dataframe thead th {\n",
       "        text-align: right;\n",
       "    }\n",
       "</style>\n",
       "<table border=\"1\" class=\"dataframe\">\n",
       "  <thead>\n",
       "    <tr style=\"text-align: right;\">\n",
       "      <th></th>\n",
       "      <th>A</th>\n",
       "    </tr>\n",
       "  </thead>\n",
       "  <tbody>\n",
       "    <tr>\n",
       "      <th>a</th>\n",
       "      <td>100</td>\n",
       "    </tr>\n",
       "    <tr>\n",
       "      <th>b</th>\n",
       "      <td>200</td>\n",
       "    </tr>\n",
       "    <tr>\n",
       "      <th>c</th>\n",
       "      <td>300</td>\n",
       "    </tr>\n",
       "    <tr>\n",
       "      <th>d</th>\n",
       "      <td>400</td>\n",
       "    </tr>\n",
       "  </tbody>\n",
       "</table>\n",
       "</div>"
      ],
      "text/plain": [
       "     A\n",
       "a  100\n",
       "b  200\n",
       "c  300\n",
       "d  400"
      ]
     },
     "execution_count": 98,
     "metadata": {},
     "output_type": "execute_result"
    }
   ],
   "source": [
    "df"
   ]
  },
  {
   "cell_type": "code",
   "execution_count": 99,
   "metadata": {
    "slideshow": {
     "slide_type": "skip"
    }
   },
   "outputs": [],
   "source": [
    "df['B'] = df2  "
   ]
  },
  {
   "cell_type": "code",
   "execution_count": 100,
   "metadata": {
    "slideshow": {
     "slide_type": "skip"
    }
   },
   "outputs": [
    {
     "data": {
      "text/html": [
       "<div>\n",
       "<style scoped>\n",
       "    .dataframe tbody tr th:only-of-type {\n",
       "        vertical-align: middle;\n",
       "    }\n",
       "\n",
       "    .dataframe tbody tr th {\n",
       "        vertical-align: top;\n",
       "    }\n",
       "\n",
       "    .dataframe thead th {\n",
       "        text-align: right;\n",
       "    }\n",
       "</style>\n",
       "<table border=\"1\" class=\"dataframe\">\n",
       "  <thead>\n",
       "    <tr style=\"text-align: right;\">\n",
       "      <th></th>\n",
       "      <th>A</th>\n",
       "      <th>B</th>\n",
       "    </tr>\n",
       "  </thead>\n",
       "  <tbody>\n",
       "    <tr>\n",
       "      <th>a</th>\n",
       "      <td>100</td>\n",
       "      <td>NaN</td>\n",
       "    </tr>\n",
       "    <tr>\n",
       "      <th>b</th>\n",
       "      <td>200</td>\n",
       "      <td>150</td>\n",
       "    </tr>\n",
       "    <tr>\n",
       "      <th>c</th>\n",
       "      <td>300</td>\n",
       "      <td>NaN</td>\n",
       "    </tr>\n",
       "    <tr>\n",
       "      <th>d</th>\n",
       "      <td>400</td>\n",
       "      <td>50</td>\n",
       "    </tr>\n",
       "  </tbody>\n",
       "</table>\n",
       "</div>"
      ],
      "text/plain": [
       "     A    B\n",
       "a  100  NaN\n",
       "b  200  150\n",
       "c  300  NaN\n",
       "d  400   50"
      ]
     },
     "execution_count": 100,
     "metadata": {},
     "output_type": "execute_result"
    }
   ],
   "source": [
    "df"
   ]
  },
  {
   "cell_type": "code",
   "execution_count": 101,
   "metadata": {
    "slideshow": {
     "slide_type": "skip"
    }
   },
   "outputs": [],
   "source": [
    "df = pd.DataFrame({'A': df1['A'], 'B': df2['B']})  "
   ]
  },
  {
   "cell_type": "code",
   "execution_count": 102,
   "metadata": {
    "slideshow": {
     "slide_type": "skip"
    }
   },
   "outputs": [
    {
     "data": {
      "text/html": [
       "<div>\n",
       "<style scoped>\n",
       "    .dataframe tbody tr th:only-of-type {\n",
       "        vertical-align: middle;\n",
       "    }\n",
       "\n",
       "    .dataframe tbody tr th {\n",
       "        vertical-align: top;\n",
       "    }\n",
       "\n",
       "    .dataframe thead th {\n",
       "        text-align: right;\n",
       "    }\n",
       "</style>\n",
       "<table border=\"1\" class=\"dataframe\">\n",
       "  <thead>\n",
       "    <tr style=\"text-align: right;\">\n",
       "      <th></th>\n",
       "      <th>A</th>\n",
       "      <th>B</th>\n",
       "    </tr>\n",
       "  </thead>\n",
       "  <tbody>\n",
       "    <tr>\n",
       "      <th>a</th>\n",
       "      <td>100</td>\n",
       "      <td>NaN</td>\n",
       "    </tr>\n",
       "    <tr>\n",
       "      <th>b</th>\n",
       "      <td>200</td>\n",
       "      <td>150</td>\n",
       "    </tr>\n",
       "    <tr>\n",
       "      <th>c</th>\n",
       "      <td>300</td>\n",
       "      <td>NaN</td>\n",
       "    </tr>\n",
       "    <tr>\n",
       "      <th>d</th>\n",
       "      <td>400</td>\n",
       "      <td>50</td>\n",
       "    </tr>\n",
       "    <tr>\n",
       "      <th>f</th>\n",
       "      <td>NaN</td>\n",
       "      <td>200</td>\n",
       "    </tr>\n",
       "  </tbody>\n",
       "</table>\n",
       "</div>"
      ],
      "text/plain": [
       "     A    B\n",
       "a  100  NaN\n",
       "b  200  150\n",
       "c  300  NaN\n",
       "d  400   50\n",
       "f  NaN  200"
      ]
     },
     "execution_count": 102,
     "metadata": {},
     "output_type": "execute_result"
    }
   ],
   "source": [
    "df"
   ]
  },
  {
   "cell_type": "markdown",
   "metadata": {
    "slideshow": {
     "slide_type": "slide"
    }
   },
   "source": [
    "#### Merging"
   ]
  },
  {
   "cell_type": "code",
   "execution_count": 103,
   "metadata": {
    "slideshow": {
     "slide_type": "fragment"
    }
   },
   "outputs": [],
   "source": [
    "c = pd.Series([250, 150, 50], index=['b', 'd', 'c'])\n",
    "df1['C'] = c\n",
    "df2['C'] = c"
   ]
  },
  {
   "cell_type": "code",
   "execution_count": 104,
   "metadata": {
    "slideshow": {
     "slide_type": "fragment"
    }
   },
   "outputs": [
    {
     "data": {
      "text/html": [
       "<div>\n",
       "<style scoped>\n",
       "    .dataframe tbody tr th:only-of-type {\n",
       "        vertical-align: middle;\n",
       "    }\n",
       "\n",
       "    .dataframe tbody tr th {\n",
       "        vertical-align: top;\n",
       "    }\n",
       "\n",
       "    .dataframe thead th {\n",
       "        text-align: right;\n",
       "    }\n",
       "</style>\n",
       "<table border=\"1\" class=\"dataframe\">\n",
       "  <thead>\n",
       "    <tr style=\"text-align: right;\">\n",
       "      <th></th>\n",
       "      <th>A</th>\n",
       "      <th>C</th>\n",
       "    </tr>\n",
       "  </thead>\n",
       "  <tbody>\n",
       "    <tr>\n",
       "      <th>a</th>\n",
       "      <td>100</td>\n",
       "      <td>NaN</td>\n",
       "    </tr>\n",
       "    <tr>\n",
       "      <th>b</th>\n",
       "      <td>200</td>\n",
       "      <td>250.0</td>\n",
       "    </tr>\n",
       "    <tr>\n",
       "      <th>c</th>\n",
       "      <td>300</td>\n",
       "      <td>50.0</td>\n",
       "    </tr>\n",
       "    <tr>\n",
       "      <th>d</th>\n",
       "      <td>400</td>\n",
       "      <td>150.0</td>\n",
       "    </tr>\n",
       "  </tbody>\n",
       "</table>\n",
       "</div>"
      ],
      "text/plain": [
       "     A      C\n",
       "a  100    NaN\n",
       "b  200  250.0\n",
       "c  300   50.0\n",
       "d  400  150.0"
      ]
     },
     "execution_count": 104,
     "metadata": {},
     "output_type": "execute_result"
    }
   ],
   "source": [
    "df1"
   ]
  },
  {
   "cell_type": "code",
   "execution_count": 105,
   "metadata": {
    "slideshow": {
     "slide_type": "fragment"
    }
   },
   "outputs": [
    {
     "data": {
      "text/html": [
       "<div>\n",
       "<style scoped>\n",
       "    .dataframe tbody tr th:only-of-type {\n",
       "        vertical-align: middle;\n",
       "    }\n",
       "\n",
       "    .dataframe tbody tr th {\n",
       "        vertical-align: top;\n",
       "    }\n",
       "\n",
       "    .dataframe thead th {\n",
       "        text-align: right;\n",
       "    }\n",
       "</style>\n",
       "<table border=\"1\" class=\"dataframe\">\n",
       "  <thead>\n",
       "    <tr style=\"text-align: right;\">\n",
       "      <th></th>\n",
       "      <th>B</th>\n",
       "      <th>C</th>\n",
       "    </tr>\n",
       "  </thead>\n",
       "  <tbody>\n",
       "    <tr>\n",
       "      <th>f</th>\n",
       "      <td>200</td>\n",
       "      <td>NaN</td>\n",
       "    </tr>\n",
       "    <tr>\n",
       "      <th>b</th>\n",
       "      <td>150</td>\n",
       "      <td>250.0</td>\n",
       "    </tr>\n",
       "    <tr>\n",
       "      <th>d</th>\n",
       "      <td>50</td>\n",
       "      <td>150.0</td>\n",
       "    </tr>\n",
       "  </tbody>\n",
       "</table>\n",
       "</div>"
      ],
      "text/plain": [
       "     B      C\n",
       "f  200    NaN\n",
       "b  150  250.0\n",
       "d   50  150.0"
      ]
     },
     "execution_count": 105,
     "metadata": {},
     "output_type": "execute_result"
    }
   ],
   "source": [
    "df2"
   ]
  },
  {
   "cell_type": "code",
   "execution_count": 106,
   "metadata": {
    "slideshow": {
     "slide_type": "slide"
    }
   },
   "outputs": [
    {
     "data": {
      "text/html": [
       "<div>\n",
       "<style scoped>\n",
       "    .dataframe tbody tr th:only-of-type {\n",
       "        vertical-align: middle;\n",
       "    }\n",
       "\n",
       "    .dataframe tbody tr th {\n",
       "        vertical-align: top;\n",
       "    }\n",
       "\n",
       "    .dataframe thead th {\n",
       "        text-align: right;\n",
       "    }\n",
       "</style>\n",
       "<table border=\"1\" class=\"dataframe\">\n",
       "  <thead>\n",
       "    <tr style=\"text-align: right;\">\n",
       "      <th></th>\n",
       "      <th>A</th>\n",
       "      <th>C</th>\n",
       "      <th>B</th>\n",
       "    </tr>\n",
       "  </thead>\n",
       "  <tbody>\n",
       "    <tr>\n",
       "      <th>0</th>\n",
       "      <td>100</td>\n",
       "      <td>NaN</td>\n",
       "      <td>200</td>\n",
       "    </tr>\n",
       "    <tr>\n",
       "      <th>1</th>\n",
       "      <td>200</td>\n",
       "      <td>250.0</td>\n",
       "      <td>150</td>\n",
       "    </tr>\n",
       "    <tr>\n",
       "      <th>2</th>\n",
       "      <td>400</td>\n",
       "      <td>150.0</td>\n",
       "      <td>50</td>\n",
       "    </tr>\n",
       "  </tbody>\n",
       "</table>\n",
       "</div>"
      ],
      "text/plain": [
       "     A      C    B\n",
       "0  100    NaN  200\n",
       "1  200  250.0  150\n",
       "2  400  150.0   50"
      ]
     },
     "execution_count": 106,
     "metadata": {},
     "output_type": "execute_result"
    }
   ],
   "source": [
    "# difference merge/ join:\n",
    "# join() is used to combine two DataFrames on the index but not on columns \n",
    "# whereas merge() is primarily used to specify the columns you wanted to join on\n",
    "\n",
    "pd.merge(df1, df2)  "
   ]
  },
  {
   "cell_type": "code",
   "execution_count": 107,
   "metadata": {
    "slideshow": {
     "slide_type": "fragment"
    }
   },
   "outputs": [
    {
     "data": {
      "text/html": [
       "<div>\n",
       "<style scoped>\n",
       "    .dataframe tbody tr th:only-of-type {\n",
       "        vertical-align: middle;\n",
       "    }\n",
       "\n",
       "    .dataframe tbody tr th {\n",
       "        vertical-align: top;\n",
       "    }\n",
       "\n",
       "    .dataframe thead th {\n",
       "        text-align: right;\n",
       "    }\n",
       "</style>\n",
       "<table border=\"1\" class=\"dataframe\">\n",
       "  <thead>\n",
       "    <tr style=\"text-align: right;\">\n",
       "      <th></th>\n",
       "      <th>A</th>\n",
       "      <th>C</th>\n",
       "      <th>B</th>\n",
       "    </tr>\n",
       "  </thead>\n",
       "  <tbody>\n",
       "    <tr>\n",
       "      <th>0</th>\n",
       "      <td>100</td>\n",
       "      <td>NaN</td>\n",
       "      <td>200</td>\n",
       "    </tr>\n",
       "    <tr>\n",
       "      <th>1</th>\n",
       "      <td>200</td>\n",
       "      <td>250.0</td>\n",
       "      <td>150</td>\n",
       "    </tr>\n",
       "    <tr>\n",
       "      <th>2</th>\n",
       "      <td>400</td>\n",
       "      <td>150.0</td>\n",
       "      <td>50</td>\n",
       "    </tr>\n",
       "  </tbody>\n",
       "</table>\n",
       "</div>"
      ],
      "text/plain": [
       "     A      C    B\n",
       "0  100    NaN  200\n",
       "1  200  250.0  150\n",
       "2  400  150.0   50"
      ]
     },
     "execution_count": 107,
     "metadata": {},
     "output_type": "execute_result"
    }
   ],
   "source": [
    "pd.merge(df1, df2, on='C')  "
   ]
  },
  {
   "cell_type": "code",
   "execution_count": 108,
   "metadata": {
    "slideshow": {
     "slide_type": "slide"
    }
   },
   "outputs": [
    {
     "data": {
      "text/html": [
       "<div>\n",
       "<style scoped>\n",
       "    .dataframe tbody tr th:only-of-type {\n",
       "        vertical-align: middle;\n",
       "    }\n",
       "\n",
       "    .dataframe tbody tr th {\n",
       "        vertical-align: top;\n",
       "    }\n",
       "\n",
       "    .dataframe thead th {\n",
       "        text-align: right;\n",
       "    }\n",
       "</style>\n",
       "<table border=\"1\" class=\"dataframe\">\n",
       "  <thead>\n",
       "    <tr style=\"text-align: right;\">\n",
       "      <th></th>\n",
       "      <th>A</th>\n",
       "      <th>C</th>\n",
       "      <th>B</th>\n",
       "    </tr>\n",
       "  </thead>\n",
       "  <tbody>\n",
       "    <tr>\n",
       "      <th>0</th>\n",
       "      <td>100</td>\n",
       "      <td>NaN</td>\n",
       "      <td>200</td>\n",
       "    </tr>\n",
       "    <tr>\n",
       "      <th>1</th>\n",
       "      <td>200</td>\n",
       "      <td>250.0</td>\n",
       "      <td>150</td>\n",
       "    </tr>\n",
       "    <tr>\n",
       "      <th>2</th>\n",
       "      <td>300</td>\n",
       "      <td>50.0</td>\n",
       "      <td>NaN</td>\n",
       "    </tr>\n",
       "    <tr>\n",
       "      <th>3</th>\n",
       "      <td>400</td>\n",
       "      <td>150.0</td>\n",
       "      <td>50</td>\n",
       "    </tr>\n",
       "  </tbody>\n",
       "</table>\n",
       "</div>"
      ],
      "text/plain": [
       "     A      C    B\n",
       "0  100    NaN  200\n",
       "1  200  250.0  150\n",
       "2  300   50.0  NaN\n",
       "3  400  150.0   50"
      ]
     },
     "execution_count": 108,
     "metadata": {},
     "output_type": "execute_result"
    }
   ],
   "source": [
    "pd.merge(df1, df2, how='outer')  "
   ]
  },
  {
   "cell_type": "code",
   "execution_count": 109,
   "metadata": {
    "slideshow": {
     "slide_type": "fragment"
    }
   },
   "outputs": [
    {
     "data": {
      "text/html": [
       "<div>\n",
       "<style scoped>\n",
       "    .dataframe tbody tr th:only-of-type {\n",
       "        vertical-align: middle;\n",
       "    }\n",
       "\n",
       "    .dataframe tbody tr th {\n",
       "        vertical-align: top;\n",
       "    }\n",
       "\n",
       "    .dataframe thead th {\n",
       "        text-align: right;\n",
       "    }\n",
       "</style>\n",
       "<table border=\"1\" class=\"dataframe\">\n",
       "  <thead>\n",
       "    <tr style=\"text-align: right;\">\n",
       "      <th></th>\n",
       "      <th>A</th>\n",
       "      <th>C_x</th>\n",
       "      <th>B</th>\n",
       "      <th>C_y</th>\n",
       "    </tr>\n",
       "  </thead>\n",
       "  <tbody>\n",
       "    <tr>\n",
       "      <th>0</th>\n",
       "      <td>200</td>\n",
       "      <td>250.0</td>\n",
       "      <td>200</td>\n",
       "      <td>NaN</td>\n",
       "    </tr>\n",
       "  </tbody>\n",
       "</table>\n",
       "</div>"
      ],
      "text/plain": [
       "     A    C_x    B  C_y\n",
       "0  200  250.0  200  NaN"
      ]
     },
     "execution_count": 109,
     "metadata": {},
     "output_type": "execute_result"
    }
   ],
   "source": [
    "pd.merge(df1, df2, left_on='A', right_on='B')"
   ]
  },
  {
   "cell_type": "code",
   "execution_count": 110,
   "metadata": {
    "slideshow": {
     "slide_type": "slide"
    }
   },
   "outputs": [
    {
     "data": {
      "text/html": [
       "<div>\n",
       "<style scoped>\n",
       "    .dataframe tbody tr th:only-of-type {\n",
       "        vertical-align: middle;\n",
       "    }\n",
       "\n",
       "    .dataframe tbody tr th {\n",
       "        vertical-align: top;\n",
       "    }\n",
       "\n",
       "    .dataframe thead th {\n",
       "        text-align: right;\n",
       "    }\n",
       "</style>\n",
       "<table border=\"1\" class=\"dataframe\">\n",
       "  <thead>\n",
       "    <tr style=\"text-align: right;\">\n",
       "      <th></th>\n",
       "      <th>A</th>\n",
       "      <th>C_x</th>\n",
       "      <th>B</th>\n",
       "      <th>C_y</th>\n",
       "    </tr>\n",
       "  </thead>\n",
       "  <tbody>\n",
       "    <tr>\n",
       "      <th>0</th>\n",
       "      <td>100</td>\n",
       "      <td>NaN</td>\n",
       "      <td>NaN</td>\n",
       "      <td>NaN</td>\n",
       "    </tr>\n",
       "    <tr>\n",
       "      <th>1</th>\n",
       "      <td>200</td>\n",
       "      <td>250.0</td>\n",
       "      <td>200</td>\n",
       "      <td>NaN</td>\n",
       "    </tr>\n",
       "    <tr>\n",
       "      <th>2</th>\n",
       "      <td>300</td>\n",
       "      <td>50.0</td>\n",
       "      <td>NaN</td>\n",
       "      <td>NaN</td>\n",
       "    </tr>\n",
       "    <tr>\n",
       "      <th>3</th>\n",
       "      <td>400</td>\n",
       "      <td>150.0</td>\n",
       "      <td>NaN</td>\n",
       "      <td>NaN</td>\n",
       "    </tr>\n",
       "    <tr>\n",
       "      <th>4</th>\n",
       "      <td>NaN</td>\n",
       "      <td>NaN</td>\n",
       "      <td>150</td>\n",
       "      <td>250.0</td>\n",
       "    </tr>\n",
       "    <tr>\n",
       "      <th>5</th>\n",
       "      <td>NaN</td>\n",
       "      <td>NaN</td>\n",
       "      <td>50</td>\n",
       "      <td>150.0</td>\n",
       "    </tr>\n",
       "  </tbody>\n",
       "</table>\n",
       "</div>"
      ],
      "text/plain": [
       "     A    C_x    B    C_y\n",
       "0  100    NaN  NaN    NaN\n",
       "1  200  250.0  200    NaN\n",
       "2  300   50.0  NaN    NaN\n",
       "3  400  150.0  NaN    NaN\n",
       "4  NaN    NaN  150  250.0\n",
       "5  NaN    NaN   50  150.0"
      ]
     },
     "execution_count": 110,
     "metadata": {},
     "output_type": "execute_result"
    }
   ],
   "source": [
    "pd.merge(df1, df2, left_on='A', right_on='B', how='outer')  "
   ]
  },
  {
   "cell_type": "code",
   "execution_count": 111,
   "metadata": {
    "slideshow": {
     "slide_type": "slide"
    }
   },
   "outputs": [
    {
     "data": {
      "text/html": [
       "<div>\n",
       "<style scoped>\n",
       "    .dataframe tbody tr th:only-of-type {\n",
       "        vertical-align: middle;\n",
       "    }\n",
       "\n",
       "    .dataframe tbody tr th {\n",
       "        vertical-align: top;\n",
       "    }\n",
       "\n",
       "    .dataframe thead th {\n",
       "        text-align: right;\n",
       "    }\n",
       "</style>\n",
       "<table border=\"1\" class=\"dataframe\">\n",
       "  <thead>\n",
       "    <tr style=\"text-align: right;\">\n",
       "      <th></th>\n",
       "      <th>A</th>\n",
       "      <th>C_x</th>\n",
       "      <th>B</th>\n",
       "      <th>C_y</th>\n",
       "    </tr>\n",
       "  </thead>\n",
       "  <tbody>\n",
       "    <tr>\n",
       "      <th>b</th>\n",
       "      <td>200</td>\n",
       "      <td>250.0</td>\n",
       "      <td>150</td>\n",
       "      <td>250.0</td>\n",
       "    </tr>\n",
       "    <tr>\n",
       "      <th>d</th>\n",
       "      <td>400</td>\n",
       "      <td>150.0</td>\n",
       "      <td>50</td>\n",
       "      <td>150.0</td>\n",
       "    </tr>\n",
       "  </tbody>\n",
       "</table>\n",
       "</div>"
      ],
      "text/plain": [
       "     A    C_x    B    C_y\n",
       "b  200  250.0  150  250.0\n",
       "d  400  150.0   50  150.0"
      ]
     },
     "execution_count": 111,
     "metadata": {},
     "output_type": "execute_result"
    }
   ],
   "source": [
    "pd.merge(df1, df2, left_index=True, right_index=True)"
   ]
  },
  {
   "cell_type": "code",
   "execution_count": 112,
   "metadata": {
    "slideshow": {
     "slide_type": "fragment"
    }
   },
   "outputs": [
    {
     "data": {
      "text/html": [
       "<div>\n",
       "<style scoped>\n",
       "    .dataframe tbody tr th:only-of-type {\n",
       "        vertical-align: middle;\n",
       "    }\n",
       "\n",
       "    .dataframe tbody tr th {\n",
       "        vertical-align: top;\n",
       "    }\n",
       "\n",
       "    .dataframe thead th {\n",
       "        text-align: right;\n",
       "    }\n",
       "</style>\n",
       "<table border=\"1\" class=\"dataframe\">\n",
       "  <thead>\n",
       "    <tr style=\"text-align: right;\">\n",
       "      <th></th>\n",
       "      <th>A</th>\n",
       "      <th>C</th>\n",
       "      <th>B</th>\n",
       "    </tr>\n",
       "  </thead>\n",
       "  <tbody>\n",
       "    <tr>\n",
       "      <th>0</th>\n",
       "      <td>100</td>\n",
       "      <td>NaN</td>\n",
       "      <td>200</td>\n",
       "    </tr>\n",
       "    <tr>\n",
       "      <th>1</th>\n",
       "      <td>200</td>\n",
       "      <td>250.0</td>\n",
       "      <td>150</td>\n",
       "    </tr>\n",
       "    <tr>\n",
       "      <th>2</th>\n",
       "      <td>400</td>\n",
       "      <td>150.0</td>\n",
       "      <td>50</td>\n",
       "    </tr>\n",
       "  </tbody>\n",
       "</table>\n",
       "</div>"
      ],
      "text/plain": [
       "     A      C    B\n",
       "0  100    NaN  200\n",
       "1  200  250.0  150\n",
       "2  400  150.0   50"
      ]
     },
     "execution_count": 112,
     "metadata": {},
     "output_type": "execute_result"
    }
   ],
   "source": [
    "pd.merge(df1, df2, on='C')"
   ]
  },
  {
   "cell_type": "code",
   "execution_count": 113,
   "metadata": {
    "slideshow": {
     "slide_type": "slide"
    }
   },
   "outputs": [
    {
     "data": {
      "text/html": [
       "<div>\n",
       "<style scoped>\n",
       "    .dataframe tbody tr th:only-of-type {\n",
       "        vertical-align: middle;\n",
       "    }\n",
       "\n",
       "    .dataframe tbody tr th {\n",
       "        vertical-align: top;\n",
       "    }\n",
       "\n",
       "    .dataframe thead th {\n",
       "        text-align: right;\n",
       "    }\n",
       "</style>\n",
       "<table border=\"1\" class=\"dataframe\">\n",
       "  <thead>\n",
       "    <tr style=\"text-align: right;\">\n",
       "      <th></th>\n",
       "      <th>A</th>\n",
       "      <th>C</th>\n",
       "      <th>B</th>\n",
       "    </tr>\n",
       "  </thead>\n",
       "  <tbody>\n",
       "    <tr>\n",
       "      <th>0</th>\n",
       "      <td>100</td>\n",
       "      <td>NaN</td>\n",
       "      <td>200</td>\n",
       "    </tr>\n",
       "    <tr>\n",
       "      <th>1</th>\n",
       "      <td>200</td>\n",
       "      <td>250.0</td>\n",
       "      <td>150</td>\n",
       "    </tr>\n",
       "    <tr>\n",
       "      <th>2</th>\n",
       "      <td>300</td>\n",
       "      <td>50.0</td>\n",
       "      <td>NaN</td>\n",
       "    </tr>\n",
       "    <tr>\n",
       "      <th>3</th>\n",
       "      <td>400</td>\n",
       "      <td>150.0</td>\n",
       "      <td>50</td>\n",
       "    </tr>\n",
       "  </tbody>\n",
       "</table>\n",
       "</div>"
      ],
      "text/plain": [
       "     A      C    B\n",
       "0  100    NaN  200\n",
       "1  200  250.0  150\n",
       "2  300   50.0  NaN\n",
       "3  400  150.0   50"
      ]
     },
     "execution_count": 113,
     "metadata": {},
     "output_type": "execute_result"
    }
   ],
   "source": [
    "pd.merge(df1, df2, on='C', how='outer')"
   ]
  },
  {
   "cell_type": "code",
   "execution_count": 114,
   "metadata": {
    "slideshow": {
     "slide_type": "fragment"
    }
   },
   "outputs": [
    {
     "data": {
      "text/html": [
       "<div>\n",
       "<style scoped>\n",
       "    .dataframe tbody tr th:only-of-type {\n",
       "        vertical-align: middle;\n",
       "    }\n",
       "\n",
       "    .dataframe tbody tr th {\n",
       "        vertical-align: top;\n",
       "    }\n",
       "\n",
       "    .dataframe thead th {\n",
       "        text-align: right;\n",
       "    }\n",
       "</style>\n",
       "<table border=\"1\" class=\"dataframe\">\n",
       "  <thead>\n",
       "    <tr style=\"text-align: right;\">\n",
       "      <th></th>\n",
       "      <th>A</th>\n",
       "      <th>C_x</th>\n",
       "      <th>B</th>\n",
       "      <th>C_y</th>\n",
       "    </tr>\n",
       "  </thead>\n",
       "  <tbody>\n",
       "    <tr>\n",
       "      <th>0</th>\n",
       "      <td>200</td>\n",
       "      <td>250.0</td>\n",
       "      <td>200</td>\n",
       "      <td>NaN</td>\n",
       "    </tr>\n",
       "  </tbody>\n",
       "</table>\n",
       "</div>"
      ],
      "text/plain": [
       "     A    C_x    B  C_y\n",
       "0  200  250.0  200  NaN"
      ]
     },
     "execution_count": 114,
     "metadata": {},
     "output_type": "execute_result"
    }
   ],
   "source": [
    "pd.merge(df1, df2, left_on='A', right_on='B')"
   ]
  },
  {
   "cell_type": "markdown",
   "metadata": {
    "slideshow": {
     "slide_type": "slide"
    }
   },
   "source": [
    "### Dynamic Variable Creation"
   ]
  },
  {
   "cell_type": "markdown",
   "metadata": {
    "slideshow": {
     "slide_type": "skip"
    }
   },
   "source": [
    "\n",
    "The `globals()` function in Python is a built-in function that returns a dictionary of the current global symbol table. This function can be useful for creating variables dynamically because it allows you to dynamically add new variables to the global symbol table at runtime. This can be helpful in cases where you need to dynamically create a large number of variables with different names, or when you need to dynamically set the values of variables based on some programmatic logic.\n",
    "\n",
    "By using the `globals()` function, you can add new variables to the global symbol table without having to specify their names beforehand. This can make your code more flexible and adaptable, as you can change the names of variables or the values they hold without having to modify the code that creates them.\n",
    "\n",
    "In addition, creating variables dynamically can be useful in finance and economics when you need to process large amounts of financial data. For example, you might use the globals() function to dynamically create variables for each stock in a portfolio, where the names of the variables are based on the stock symbols. This can allow you to easily access and manipulate the data for each stock in your portfolio, without having to hard-code the names of the variables.\n",
    "\n",
    "Overall, the `globals()` function provides a powerful tool for creating variables dynamically in Python, and can be a valuable resource for anyone who needs to process and analyze large amounts of data."
   ]
  },
  {
   "cell_type": "code",
   "execution_count": 115,
   "metadata": {
    "scrolled": true,
    "slideshow": {
     "slide_type": "slide"
    }
   },
   "outputs": [
    {
     "name": "stdout",
     "output_type": "stream",
     "text": [
      "[*********************100%***********************]  3 of 3 completed\n",
      "Date\n",
      "2009-12-31    6.405578\n",
      "2010-01-04    6.505280\n",
      "2010-01-05    6.516527\n",
      "2010-01-06    6.412873\n",
      "2010-01-07    6.401019\n",
      "Name: AAPL, dtype: float64\n",
      "Date\n",
      "2009-12-31    23.323427\n",
      "2010-01-04    23.683065\n",
      "2010-01-05    23.690720\n",
      "2010-01-06    23.545336\n",
      "2010-01-07    23.300472\n",
      "Name: MSFT, dtype: float64\n",
      "Date\n",
      "2009-12-31    15.441621\n",
      "2010-01-04    15.610239\n",
      "2010-01-05    15.541497\n",
      "2010-01-06    15.149715\n",
      "2010-01-07    14.797037\n",
      "Name: GOOG, dtype: float64\n"
     ]
    }
   ],
   "source": [
    "# List of ticker symbols for Apple, Microsoft, and Google\n",
    "tickers = ['AAPL', 'MSFT', 'GOOG']\n",
    "\n",
    "# Download the stock data for the tickers using yfinance\n",
    "df = yf.download(tickers, start=\"2010-01-01\", end=\"2020-12-31\")\n",
    "\n",
    "# Save the data for each stock in a separate dataframe\n",
    "df_AAPL = df['Adj Close']['AAPL']\n",
    "df_MSFT = df['Adj Close']['MSFT']\n",
    "df_GOOG = df['Adj Close']['GOOG']\n",
    "\n",
    "# Create a dictionary to store the dataframes\n",
    "df_dict = {'AAPL': df_AAPL, 'MSFT': df_MSFT, 'GOOG': df_GOOG}\n",
    "\n",
    "# Iterate through the dictionary to create variables dynamically using globals()\n",
    "for ticker, data in df_dict.items():\n",
    "    globals()[f'df_{ticker}'] = data\n",
    "\n",
    "# Use the created variables to access the stock data\n",
    "print(df_AAPL.head())\n",
    "print(df_MSFT.head())\n",
    "print(df_GOOG.head())"
   ]
  }
 ],
 "metadata": {
  "anaconda-cloud": {},
  "celltoolbar": "Slideshow",
  "kernelspec": {
   "display_name": "Python 3 (ipykernel)",
   "language": "python",
   "name": "python3"
  },
  "language_info": {
   "codemirror_mode": {
    "name": "ipython",
    "version": 3
   },
   "file_extension": ".py",
   "mimetype": "text/x-python",
   "name": "python",
   "nbconvert_exporter": "python",
   "pygments_lexer": "ipython3",
   "version": "3.10.8"
  },
  "toc": {
   "base_numbering": 1,
   "nav_menu": {},
   "number_sections": false,
   "sideBar": true,
   "skip_h1_title": false,
   "title_cell": "Table of Contents",
   "title_sidebar": "Contents",
   "toc_cell": false,
   "toc_position": {
    "height": "calc(100% - 180px)",
    "left": "10px",
    "top": "150px",
    "width": "349px"
   },
   "toc_section_display": true,
   "toc_window_display": false
  },
  "varInspector": {
   "cols": {
    "lenName": 16,
    "lenType": 16,
    "lenVar": 40
   },
   "kernels_config": {
    "python": {
     "delete_cmd_postfix": "",
     "delete_cmd_prefix": "del ",
     "library": "var_list.py",
     "varRefreshCmd": "print(var_dic_list())"
    },
    "r": {
     "delete_cmd_postfix": ") ",
     "delete_cmd_prefix": "rm(",
     "library": "var_list.r",
     "varRefreshCmd": "cat(var_dic_list()) "
    }
   },
   "types_to_exclude": [
    "module",
    "function",
    "builtin_function_or_method",
    "instance",
    "_Feature"
   ],
   "window_display": false
  }
 },
 "nbformat": 4,
 "nbformat_minor": 4
}
