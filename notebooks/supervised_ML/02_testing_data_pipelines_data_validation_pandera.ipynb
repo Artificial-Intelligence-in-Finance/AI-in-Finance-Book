{
 "cells": [
  {
   "attachments": {
    "AIFI_logo.jpg": {
     "image/jpeg": "[encoded data removed]"
    }
   },
   "cell_type": "markdown",
   "id": "bronze-bowling",
   "metadata": {
    "slideshow": {
     "slide_type": "slide"
    }
   },
   "source": [
    "![AIFI_logo.jpg](attachment:AIFI_logo.jpg)\n",
    "\n",
    "\n",
    "# Bootcamp - Supervised Machine Learning"
   ]
  },
  {
   "cell_type": "markdown",
   "id": "liable-precipitation",
   "metadata": {
    "slideshow": {
     "slide_type": "fragment"
    }
   },
   "source": [
    "## Testing data pipelines / data validation with Pandera"
   ]
  },
  {
   "cell_type": "markdown",
   "id": "casual-accountability",
   "metadata": {
    "slideshow": {
     "slide_type": "skip"
    }
   },
   "source": [
    "# About this Notebook"
   ]
  },
  {
   "cell_type": "markdown",
   "id": "e37e9d15",
   "metadata": {
    "slideshow": {
     "slide_type": "skip"
    }
   },
   "source": [
    "In this notebook, we will validate and test multiple columns of financial data using Pandera, a flexible and expressive data validation library for Python.\n",
    "\n",
    "The first section of the notebook is dedicated to validating multiple columns. In this scenario, we are using Yahoo Finance to fetch data for the AAPL (Apple Inc.) stock. We create a `DataFrameSchema` from Pandera and define the schema for the data frame that we will receive. This schema enforces that each column in the data frame is of a certain type, and it runs checks to validate that each column's data satisfies certain conditions. For instance, we are checking that the 'Open', 'High', 'Low', 'Close', 'Adj Close' columns are of the type Float and that their values are greater than or equal to 0. We also define the schema for 'Volume' column to be of type integer and its value to be greater than or equal to 0. Finally, we validate the data using the defined schema.\n",
    "\n",
    "In the second section, we apply a custom check using a lambda function to validate data across columns. Here, we're checking that the \"High\" column in each row is greater than or equal to the maximum of the \"Open\", \"Close\", and \"Low\" columns in the same row. This demonstrates the ability of Pandera to execute complex, cross-column comparisons.\n",
    "\n",
    "The third section of the notebook demonstrates the concept of lazy validation, where we delay the execution of checks until calling the `validate()` method. This enables us to gather all the errors that may occur during the validation process, rather than throwing the first error encountered.\n",
    "\n",
    "Next, we implement custom validators using lambda functions. These custom validators are used to check certain conditions in the 'Open', 'Close', and 'Volume' columns. For instance, we ensure that the mean opening price is less than 200, the closing price is above 0, and the volume is non-negative.\n",
    "\n",
    "The last section of the notebook implements a machine learning workflow. We first fetch the data for the AAPL stock, preprocess it to create lag features, and then split it into training and testing sets. We train a Linear Regression model on the training set and make predictions on the testing set. After generating the predictions, we compute the residuals and perform a normality test on them. We then use Pandera to validate the residuals.\n",
    "\n",
    "In summary, this notebook provides a comprehensive overview of data validation using Pandera, from simple column checks to cross-column checks and more complex, custom validation scenarios. It demonstrates how data validation is a crucial step in any data analysis or machine learning workflow, ensuring the integrity and reliability of the results."
   ]
  },
  {
   "cell_type": "markdown",
   "id": "greenhouse-stopping",
   "metadata": {
    "slideshow": {
     "slide_type": "slide"
    }
   },
   "source": [
    "### What is Pandera?\n",
    "\n",
    "Pandera is a validation framework for `pandas` DataFrames during runtime to make data pipelines more readable and robust. Pandera's design philosophy is tied to pandas. \n",
    "\n",
    "Features at a glance:\n",
    "\n",
    "1. Check the data types and data in columns of a DataFrame\n",
    "2. Statistical validation like hypothesis testing\n",
    "3. Non-invasive additions to codebase"
   ]
  },
  {
   "cell_type": "markdown",
   "id": "manufactured-market",
   "metadata": {
    "slideshow": {
     "slide_type": "skip"
    }
   },
   "source": [
    "# Imports"
   ]
  },
  {
   "cell_type": "code",
   "execution_count": 1,
   "id": "c9e99e4e",
   "metadata": {
    "slideshow": {
     "slide_type": "skip"
    }
   },
   "outputs": [],
   "source": [
    "%%capture\n",
    "!pip install pandera"
   ]
  },
  {
   "cell_type": "code",
   "execution_count": null,
   "id": "15b73fc6",
   "metadata": {
    "slideshow": {
     "slide_type": "skip"
    }
   },
   "outputs": [],
   "source": [
    "import yfinance as yf\n",
    "import pandera as pa\n",
    "import traceback\n",
    "import pandas as pd\n",
    "from pandera import Check\n",
    "from sklearn.model_selection import train_test_split\n",
    "from sklearn.linear_model import LinearRegression\n",
    "from scipy.stats import normaltest"
   ]
  },
  {
   "cell_type": "markdown",
   "id": "43805625",
   "metadata": {
    "slideshow": {
     "slide_type": "slide"
    }
   },
   "source": [
    "## Validating a Single Column\n",
    "\n",
    "\n",
    "We do single column validation using the `pandara.Column` class. This takes in a `pandas.Series` object and applies `checks` on them. Pandera has some built in checks attached to the `pa.Check` class. To give a clue what is available, we list some of them here:"
   ]
  },
  {
   "cell_type": "markdown",
   "id": "f8540183",
   "metadata": {
    "slideshow": {
     "slide_type": "slide"
    }
   },
   "source": [
    "\n",
    "| Check | Description |\n",
    "| --- | ----------- |\n",
    "| eq | Ensure all elements of a series equal a certain value. |\n",
    "| equal_to | Ensure all elements of a series equal a certain value. |\n",
    "| ge | Ensure all values are greater or equal a certain value. |\n",
    "| in_range | Ensure all values of a series are within an interval. |\n",
    "| isin | Ensure only allowed values occur within a series. |\n",
    "| str_contains | Ensure that a pattern can be found within each row. |\n",
    "| str_length | Ensure that the length of strings is within a specified range. |\n",
    "\n",
    "For a full list. See the [Pandera Check API](https://pandera.readthedocs.io/en/stable/reference/generated/pandera.checks.Check.html#pandera-checks-check)\n",
    "\n",
    "The following cell shows the syntax for Column validation."
   ]
  },
  {
   "cell_type": "code",
   "execution_count": 27,
   "id": "cad25112",
   "metadata": {
    "slideshow": {
     "slide_type": "slide"
    }
   },
   "outputs": [
    {
     "name": "stdout",
     "output_type": "stream",
     "text": [
      "[*********************100%***********************]  1 of 1 completed\n",
      "                 Open\n",
      "Date                 \n",
      "2020-01-02  74.059998\n",
      "2020-01-03  74.287498\n",
      "2020-01-06  73.447502\n",
      "2020-01-07  74.959999\n",
      "2020-01-08  74.290001\n",
      "                Close\n",
      "Date                 \n",
      "2020-01-02  75.087502\n",
      "2020-01-03  74.357498\n",
      "2020-01-06  74.949997\n",
      "2020-01-07  74.597504\n",
      "2020-01-08  75.797501\n"
     ]
    }
   ],
   "source": [
    "# Fetch data\n",
    "data = yf.download('AAPL', start='2020-01-01', end='2023-12-31')\n",
    "\n",
    "# Define checks\n",
    "open_check = pa.Column(float, checks=pa.Check.greater_than(0), name=\"Open\")\n",
    "close_check = pa.Column(float, checks=pa.Check.greater_than(0), name=\"Close\")\n",
    "\n",
    "# Validate individual columns - note that we convert Series to DataFrame\n",
    "validated_open = open_check.validate(data[['Open']])\n",
    "validated_close = close_check.validate(data[['Close']])\n",
    "\n",
    "print(validated_open.head())\n",
    "print(validated_close.head())\n"
   ]
  },
  {
   "cell_type": "code",
   "execution_count": 26,
   "id": "bb4ecc0f",
   "metadata": {
    "slideshow": {
     "slide_type": "skip"
    }
   },
   "outputs": [
    {
     "data": {
      "text/plain": [
       "Date\n",
       "2020-01-02     74.059998\n",
       "2020-01-03     74.287498\n",
       "2020-01-06     73.447502\n",
       "2020-01-07     74.959999\n",
       "2020-01-08     74.290001\n",
       "                 ...    \n",
       "2023-07-17    191.899994\n",
       "2023-07-18    193.350006\n",
       "2023-07-19    193.100006\n",
       "2023-07-20    195.089996\n",
       "2023-07-21    194.100006\n",
       "Name: Open, Length: 894, dtype: float64"
      ]
     },
     "execution_count": 26,
     "metadata": {},
     "output_type": "execute_result"
    }
   ],
   "source": [
    "data[\"Open\"]"
   ]
  },
  {
   "cell_type": "markdown",
   "id": "6e73818d",
   "metadata": {
    "slideshow": {
     "slide_type": "slide"
    }
   },
   "source": [
    "## Validating Multiple Columns\n",
    "\n",
    "To group `pandera.Column` objects together, `pandera` offers the `pandera.DataFrameSchema`. With this, we can specify the whole validation schema, and then use the `validate()` method too call everything at once. \n",
    "\n",
    "Otherwise, we would have to use the `pandera.Column` syntax and the `validate()` method. But in reality, this means we would need to call `validate()` for each of our `pandera.Column` objects. That would be a lot of boilerplate code. \n",
    "\n",
    "In the example below, we use a validator:\n"
   ]
  },
  {
   "cell_type": "code",
   "execution_count": 2,
   "id": "432d7f76",
   "metadata": {
    "slideshow": {
     "slide_type": "slide"
    }
   },
   "outputs": [
    {
     "name": "stdout",
     "output_type": "stream",
     "text": [
      "[*********************100%***********************]  1 of 1 completed\n"
     ]
    }
   ],
   "source": [
    "# Fetch data\n",
    "data = yf.download('AAPL', start='2020-01-01', end='2022-12-31')\n",
    "\n",
    "# Define schema\n",
    "schema = pa.DataFrameSchema(\n",
    "    {\n",
    "        \"Open\": pa.Column(pa.Float, checks=pa.Check.greater_than_or_equal_to(0)),\n",
    "        \"High\": pa.Column(pa.Float, checks=pa.Check.greater_than_or_equal_to(0)),\n",
    "        \"Low\": pa.Column(pa.Float, checks=pa.Check.greater_than_or_equal_to(0)),\n",
    "        \"Close\": pa.Column(pa.Float, checks=pa.Check.greater_than_or_equal_to(0)),\n",
    "        \"Adj Close\": pa.Column(pa.Float, checks=pa.Check.greater_than_or_equal_to(0)),\n",
    "        \"Volume\": pa.Column(pa.Int, checks=pa.Check.greater_than_or_equal_to(0)),\n",
    "    },\n",
    "    index=pa.Index(pa.DateTime),\n",
    ")\n",
    "\n",
    "# Validate data\n",
    "try:\n",
    "    validated_data = schema(data)\n",
    "    print(\"Schema validation successful.\")\n",
    "except Exception as e:\n",
    "    traceback.print_exc()\n"
   ]
  },
  {
   "cell_type": "code",
   "execution_count": 3,
   "id": "07566bdc",
   "metadata": {
    "slideshow": {
     "slide_type": "skip"
    }
   },
   "outputs": [],
   "source": [
    "# Validate data\n",
    "validated_data = schema(data)"
   ]
  },
  {
   "cell_type": "markdown",
   "id": "b4899b78",
   "metadata": {
    "slideshow": {
     "slide_type": "slide"
    }
   },
   "source": [
    "## Validation Across Columns\n",
    "\n",
    "So far, all the validation we have done was through the `pandera.Column` object. What happens when we need to compare values across columns? This requires a DataFrame-wide check.\n",
    "                     \n",
    "In `pandera` this can be done with a custom check using a lambda. The syntax for this is below."
   ]
  },
  {
   "cell_type": "code",
   "execution_count": 21,
   "id": "30d9be3d",
   "metadata": {
    "slideshow": {
     "slide_type": "slide"
    }
   },
   "outputs": [
    {
     "name": "stdout",
     "output_type": "stream",
     "text": [
      "[*********************100%***********************]  1 of 1 completed\n"
     ]
    }
   ],
   "source": [
    "# Fetch data\n",
    "data = yf.download('AAPL', start='2020-01-01', end='2022-12-31')\n",
    "\n",
    "# Define schema\n",
    "schema = pa.DataFrameSchema(\n",
    "    {\n",
    "        \"Open\": pa.Column(pa.Float, checks=pa.Check.greater_than_or_equal_to(0)),\n",
    "        \"High\": pa.Column(pa.Float, checks=[\n",
    "            pa.Check.greater_than_or_equal_to(0),\n",
    "            pa.Check(lambda s: s >= data.loc[s.index, [\"Open\", \"Close\", \"Low\"]].max(axis=1))]),\n",
    "        \"Low\": pa.Column(pa.Float, checks=pa.Check.greater_than_or_equal_to(0)),\n",
    "        \"Close\": pa.Column(pa.Float, checks=pa.Check.greater_than_or_equal_to(0)),\n",
    "        \"Adj Close\": pa.Column(pa.Float, checks=pa.Check.greater_than_or_equal_to(0)),\n",
    "        \"Volume\": pa.Column(pa.Int, checks=pa.Check.greater_than_or_equal_to(0)),\n",
    "    },\n",
    "    index=pa.Index(pa.DateTime),\n",
    ")\n",
    "\n",
    "# Validate data\n",
    "try:\n",
    "    validated_data = schema.validate(data)\n",
    "    print(\"Schema validation successful.\")\n",
    "except Exception as e:\n",
    "    traceback.print_exc()\n"
   ]
  },
  {
   "cell_type": "markdown",
   "id": "7f27ec2b",
   "metadata": {
    "slideshow": {
     "slide_type": "slide"
    }
   },
   "source": [
    "In this code, we're checking that the \"High\" column in each row is greater than or equal to the maximum of the \"Open\", \"Close\", and \"Low\" columns in the same row. This is performed by the lambda function inside the pa.Check() call. Please note that when we are doing these cross-column comparisons, we're essentially running a check on each individual row, rather than on the entire DataFrame."
   ]
  },
  {
   "cell_type": "markdown",
   "id": "0e6eed9b",
   "metadata": {
    "slideshow": {
     "slide_type": "slide"
    }
   },
   "source": [
    "### Lazy Validation\n",
    "\n",
    "The `validate()` method takes in a `lazy` keyword. This can be used to run all of the validations before raising an error that we can get all of failed validations and the values that caused them.\n",
    "\n",
    "We can extract the failure cases from the error with `err.failure_cases`. `err_data` gives us the original DataFrame that was validated on.\n"
   ]
  },
  {
   "cell_type": "markdown",
   "id": "8b613411",
   "metadata": {
    "slideshow": {
     "slide_type": "slide"
    }
   },
   "source": [
    "- The code block first uses the `yfinance` library to download historical stock price data for two companies - Apple (AAPL) and Microsoft (MSFT) - for the specified date range (from January 1, 2020, to December 31, 2023).\n",
    "\n",
    "- Next, the data for the two companies is concatenated into one DataFrame using `pd.concat()`. The `keys` argument is used to distinguish the rows that belong to each company. The `reset_index()` and `rename()` functions are used to transform the multi-indexed DataFrame into a single-indexed DataFrame where the company ticker (AAPL or MSFT) is a column rather than an index."
   ]
  },
  {
   "cell_type": "markdown",
   "id": "8d7ccbdf",
   "metadata": {
    "slideshow": {
     "slide_type": "slide"
    }
   },
   "source": [
    "- Then, a `DataFrameSchema` is created using the `pandera` library. This schema specifies the expected data types of each column in the DataFrame (string for the company ticker, datetime for the date, float for the open, high, low, close and adjusted close prices, and integer for the volume).\n",
    "\n",
    "- Finally, the code block uses a `try/except` block to validate the data against the schema in a \"lazy\" mode, meaning that it collects all errors before raising an exception rather than stopping at the first error. If the data pass the validation, a success message is printed. If any errors are found, they are printed along with the portion of the DataFrame that failed validation. This helps to identify and fix any issues with the data."
   ]
  },
  {
   "cell_type": "code",
   "execution_count": 28,
   "id": "f57c2833",
   "metadata": {
    "slideshow": {
     "slide_type": "slide"
    }
   },
   "outputs": [
    {
     "name": "stdout",
     "output_type": "stream",
     "text": [
      "[*********************100%***********************]  1 of 1 completed\n",
      "[*********************100%***********************]  1 of 1 completed\n",
      "Schema validation successful.\n"
     ]
    }
   ],
   "source": [
    "# Download stock price data\n",
    "data_aapl = yf.download('AAPL', start='2020-01-01', end='2023-12-31')\n",
    "data_msft = yf.download('MSFT', start='2020-01-01', end='2023-12-31')\n",
    "\n",
    "# Concatenate the data\n",
    "data = pd.concat([data_aapl, data_msft], keys=['AAPL', 'MSFT']).reset_index().rename(columns={'level_0': 'ticker'})\n",
    "\n",
    "# Lazy Validation\n",
    "schema = pa.DataFrameSchema({\n",
    "    \"ticker\": pa.Column(str),\n",
    "    \"Date\": pa.Column(pa.DateTime),\n",
    "    \"Open\": pa.Column(float),\n",
    "    \"High\": pa.Column(float),\n",
    "    \"Low\": pa.Column(float),\n",
    "    \"Close\": pa.Column(float),\n",
    "    \"Adj Close\": pa.Column(float),\n",
    "    \"Volume\": pa.Column(int)\n",
    "})\n",
    "\n",
    "try:\n",
    "    schema.validate(data, lazy=True)\n",
    "    print(\"Schema validation successful.\")\n",
    "except pa.errors.SchemaErrors as err:\n",
    "    print(\"Schema errors and failure cases:\")\n",
    "    print(err.failure_cases)\n",
    "    print(\"\\nDataFrame object that failed validation:\")\n",
    "    print(err.data)\n"
   ]
  },
  {
   "cell_type": "markdown",
   "id": "0f48fdd1",
   "metadata": {
    "slideshow": {
     "slide_type": "slide"
    }
   },
   "source": [
    "## Custom Validator\n",
    "\n",
    "We created a custom `pandera.Check` object with a lambda earlier for the DataFrame-wide check. But the `pandera.Check` is not limited to DataFrame-wide checks. In fact, it does have an interesting behavior in that it can operate different based on the input function and `element_wise` flag.\n",
    "\n",
    "Here we show the three different behaviors:\n",
    "\n",
    "1. Column aggregate. Returns a single bool\n",
    "2. Vectorized check. Returns a boolean Series\n",
    "3. Element-wise check. Returns a bool for each element"
   ]
  },
  {
   "cell_type": "code",
   "execution_count": 29,
   "id": "ef5696fd",
   "metadata": {
    "slideshow": {
     "slide_type": "slide"
    }
   },
   "outputs": [
    {
     "name": "stdout",
     "output_type": "stream",
     "text": [
      "Schema validation successful.\n"
     ]
    }
   ],
   "source": [
    "# Custom Validator\n",
    "schema = pa.DataFrameSchema({\n",
    "    # a vectorized check that returns a bool, checks if the mean opening price is less than 200\n",
    "    \"Open\": pa.Column(float, pa.Check(lambda s: s.mean() < 200, element_wise=False)),\n",
    "    # a vectorized check that returns a boolean Series, checks if closing price is above 0\n",
    "    \"Close\": pa.Column(float, pa.Check(lambda s: s > 0, element_wise=False)),\n",
    "    # an element-wise check that returns a bool, checks if volume is non-negative\n",
    "    \"Volume\": pa.Column(int, pa.Check(lambda x: x >= 0, element_wise=True)),\n",
    "})\n",
    "\n",
    "\n",
    "try:\n",
    "    schema.validate(data, lazy=True)\n",
    "    print(\"Schema validation successful.\")\n",
    "except pa.errors.SchemaErrors as err:\n",
    "    print(err.failure_cases)\n"
   ]
  },
  {
   "cell_type": "markdown",
   "id": "0314bbaf",
   "metadata": {
    "slideshow": {
     "slide_type": "skip"
    }
   },
   "source": [
    "__Brief code explanation__:\n",
    "\n",
    "- A custom DataFrameSchema is defined using the pandera library. This schema validates specific conditions on certain columns.\n",
    "\n",
    "- For the \"Open\" column, which represents the opening price, the lambda function checks whether the mean opening price is less than 200. element_wise=False means that the check function is applied to the whole series.\n",
    "\n",
    "- For the \"Close\" column, which represents the closing price, the lambda function checks if all closing prices are above 0. Here, element_wise=False means that the check function is applied to the whole series. If all elements in the series meet the condition, it returns True.\n",
    "\n",
    "- For the \"Volume\" column, the lambda function checks if the volume is non-negative (greater than or equal to zero). The element_wise=True argument means that the check function is applied to each individual element in the series.\n",
    "\n",
    "- The try/except block is used to validate the DataFrame. If the DataFrame passes all the checks, a success message is printed. If any errors are found, the except block catches the exception and prints out the details of all failures. lazy=True is passed to schema.validate() so that all checks are run before any errors are raised, allowing you to see all the issues at once.\n",
    "\n",
    "Please note that this is just an illustrative example. The specific checks and conditions you would apply in practice would depend on the nature and requirements of your data analysis task."
   ]
  },
  {
   "cell_type": "markdown",
   "id": "3b89f15f",
   "metadata": {
    "slideshow": {
     "slide_type": "slide"
    }
   },
   "source": [
    "## Hypothesis Testing\n",
    "\n",
    "One of the strengths of Pandera is the support for statistical tests using the `pandera.Hypothesis` interface that can use tests from the `scipy` library. For example, the following code is taken from the `pandera` docs as a way to test for normality.\n",
    "\n",
    "### Raise Warning\n",
    "\n",
    "As a side note, if a `pandera.Check` or `pandera.Hypothesis` is not core to your use case, you can use the `raise_warning` flag to raise a `UserWarning` instead of a `SchemaError`. This will not interrupt the program from running."
   ]
  },
  {
   "cell_type": "code",
   "execution_count": 17,
   "id": "2593624f",
   "metadata": {
    "slideshow": {
     "slide_type": "slide"
    }
   },
   "outputs": [
    {
     "name": "stdout",
     "output_type": "stream",
     "text": [
      "[*********************100%***********************]  1 of 1 completed\n"
     ]
    }
   ],
   "source": [
    "# Fetch data\n",
    "data = yf.download('AAPL', start='2020-01-01', end='2023-12-31')\n",
    "\n",
    "# Preprocess data: Use the previous day's opening, high, low, closing prices and volume as features to predict the next day's closing price\n",
    "data['Open_lag1'] = data['Open'].shift(1)\n",
    "data['High_lag1'] = data['High'].shift(1)\n",
    "data['Low_lag1'] = data['Low'].shift(1)\n",
    "data['Close_lag1'] = data['Close'].shift(1)\n",
    "data['Volume_lag1'] = data['Volume'].shift(1)\n",
    "data.dropna(inplace=True)\n",
    "\n",
    "features = ['Open_lag1', 'High_lag1', 'Low_lag1', 'Close_lag1', 'Volume_lag1']\n",
    "target = 'Close'\n",
    "\n",
    "# Split data into training and testing sets\n",
    "X_train, X_test, y_train, y_test = train_test_split(data[features], data[target], test_size=0.2, random_state=42)\n",
    "\n",
    "# Train a Linear Regression model\n",
    "lr = LinearRegression()\n",
    "lr.fit(X_train, y_train)\n",
    "\n",
    "# Make predictions on the testing set\n",
    "predictions = lr.predict(X_test)\n",
    "\n",
    "# Compute residuals\n",
    "residuals = y_test - predictions\n",
    "\n",
    "# Perform a normality test on the residuals\n",
    "stat, p = normaltest(residuals)\n"
   ]
  },
  {
   "cell_type": "code",
   "execution_count": null,
   "id": "a7846cc7",
   "metadata": {
    "slideshow": {
     "slide_type": "slide"
    }
   },
   "outputs": [],
   "source": [
    "def check_normality(p_value):\n",
    "    alpha = 1e-3\n",
    "    if p_value < alpha:  # null hypothesis: x comes from a normal distribution\n",
    "        return False\n",
    "    return True\n",
    "\n",
    "df_residuals = pd.DataFrame({'residuals': residuals})\n",
    "\n",
    "schema = pa.DataFrameSchema({\n",
    "    'residuals': pa.Column(pa.Float, [\n",
    "        Check(lambda s: len(s) >= 8, element_wise=False),\n",
    "        Check(lambda s: check_normality(normaltest(s.dropna())[1]), element_wise=False)\n",
    "    ])\n",
    "})\n"
   ]
  },
  {
   "cell_type": "code",
   "execution_count": 18,
   "id": "e5fc15e8",
   "metadata": {
    "slideshow": {
     "slide_type": "slide"
    }
   },
   "outputs": [],
   "source": [
    "try:\n",
    "    validated_df = schema.validate(df_residuals)\n",
    "    print(\"Schema validation successful.\")\n",
    "except pa.errors.SchemaError as e:\n",
    "    print(\"Data validation failed:\", e)\n",
    "except Exception as e:\n",
    "    print(\"An unexpected error occurred during validation:\", e)\n"
   ]
  },
  {
   "cell_type": "markdown",
   "id": "c063a57e",
   "metadata": {
    "slideshow": {
     "slide_type": "skip"
    }
   },
   "source": [
    "__Short explanation for the above code:__\n",
    "\n",
    "- First, historical data is downloaded for the Apple Inc. (AAPL) stock from Yahoo Finance, from January 1, 2020 to December 31, 2023.\n",
    "\n",
    "- The code then prepares the data for use in a machine learning model by adding lagged features to the data. The `shift()` function is used to shift the 'Open', 'High', 'Low', 'Close', and 'Volume' columns back by one day. This creates new features that represent the previous day's values for these columns. Any rows with missing values (NaN) resulting from the shifting process are dropped.\n",
    "\n",
    "- The 'Open_lag1', 'High_lag1', 'Low_lag1', 'Close_lag1', and 'Volume_lag1' columns are designated as features (`X`), and the 'Close' column is designated as the target (`y`). The data is then split into training and testing sets, with 20% of the data reserved for testing.\n",
    "\n",
    "- A Linear Regression model is trained on the training data.\n",
    "\n",
    "- The trained model is used to make predictions on the testing set, and residuals (the differences between the observed and predicted closing prices) are computed.\n",
    "\n",
    "- A normality test (`normaltest()`) is performed on the residuals to check if they are normally distributed. The function check_normality() compares the p-value from the normality test against a threshold (alpha). If the p-value is less than alpha, the null hypothesis that the residuals come from a normal distribution is rejected, and `False` is returned; otherwise, `True` is returned.\n",
    "\n",
    "- A DataFrame containing the residuals is created, and a pandera schema is defined to validate it. The schema includes two checks: one to ensure there are at least 8 samples (as required for the skewness test in `normaltest()`), and the other to verify the normality of the residuals using the `check_normality()` function.\n",
    "\n",
    "\n",
    "The last part of the code attempts to validate the DataFrame containing the residuals (`df_residuals`) against the schema defined in the previous part. If the data validation is successful, it prints \"Schema validation successful.\"\n",
    "\n",
    "However, if a `SchemaError` is encountered during validation (for example, if the residuals do not pass the checks defined in the schema), it will catch this exception and print \"Data validation failed\" along with information about the error.\n",
    "\n",
    "In addition to this, it also includes a more general exception handler for other types of errors that may occur during validation. If such an exception is encountered, it will catch this exception and print \"An unexpected error occurred during validation\" along with the details about the error.\n",
    "\n",
    "This type of error handling in the code is very beneficial because it can help to identify and troubleshoot issues more easily and makes the code more robust to potential errors or edge cases.\n",
    "\n",
    "__This code represents a complete data analysis workflow, from data preparation and machine learning model training, to making predictions and validating the results using statistical tests and schema validation.__"
   ]
  }
 ],
 "metadata": {
  "celltoolbar": "Slideshow",
  "kernelspec": {
   "display_name": "Python 3 (ipykernel)",
   "language": "python",
   "name": "python3"
  },
  "language_info": {
   "codemirror_mode": {
    "name": "ipython",
    "version": 3
   },
   "file_extension": ".py",
   "mimetype": "text/x-python",
   "name": "python",
   "nbconvert_exporter": "python",
   "pygments_lexer": "ipython3",
   "version": "3.10.8"
  },
  "toc": {
   "base_numbering": 1,
   "nav_menu": {},
   "number_sections": false,
   "sideBar": true,
   "skip_h1_title": false,
   "title_cell": "Table of Contents",
   "title_sidebar": "Contents",
   "toc_cell": false,
   "toc_position": {
    "height": "calc(100% - 180px)",
    "left": "10px",
    "top": "150px",
    "width": "405.391px"
   },
   "toc_section_display": true,
   "toc_window_display": false
  },
  "varInspector": {
   "cols": {
    "lenName": 16,
    "lenType": 16,
    "lenVar": 40
   },
   "kernels_config": {
    "python": {
     "delete_cmd_postfix": "",
     "delete_cmd_prefix": "del ",
     "library": "var_list.py",
     "varRefreshCmd": "print(var_dic_list())"
    },
    "r": {
     "delete_cmd_postfix": ") ",
     "delete_cmd_prefix": "rm(",
     "library": "var_list.r",
     "varRefreshCmd": "cat(var_dic_list()) "
    }
   },
   "types_to_exclude": [
    "module",
    "function",
    "builtin_function_or_method",
    "instance",
    "_Feature"
   ],
   "window_display": false
  }
 },
 "nbformat": 4,
 "nbformat_minor": 5
}
