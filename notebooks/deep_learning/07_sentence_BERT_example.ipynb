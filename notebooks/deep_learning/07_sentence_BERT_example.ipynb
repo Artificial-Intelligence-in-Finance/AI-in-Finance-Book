{
 "cells": [
  {
   "attachments": {
    "AIFI_logo.jpg": {
     "image/jpeg": "[encoded data removed]"
    }
   },
   "cell_type": "markdown",
   "id": "proved-valuable",
   "metadata": {
    "slideshow": {
     "slide_type": "slide"
    }
   },
   "source": [
    "![AIFI_logo.jpg](attachment:AIFI_logo.jpg)\n",
    "\n",
    "\n",
    "# Bootcamp - Python and Coding - Deep Learning"
   ]
  },
  {
   "cell_type": "markdown",
   "id": "duplicate-strategy",
   "metadata": {
    "slideshow": {
     "slide_type": "fragment"
    }
   },
   "source": [
    "# Transformer Model"
   ]
  },
  {
   "cell_type": "markdown",
   "id": "joint-narrow",
   "metadata": {
    "slideshow": {
     "slide_type": "slide"
    }
   },
   "source": [
    "# About this Notebook"
   ]
  },
  {
   "cell_type": "markdown",
   "id": "plain-bargain",
   "metadata": {
    "slideshow": {
     "slide_type": "fragment"
    }
   },
   "source": [
    "This is just one example of using sentences from SDG criteria and extracted sentences from sustainability reports of listed companies to find and classify similarity with a deep learning network. \n",
    "\n",
    "To do this, we use a transformer model from SBERT.net, a Python framework for modern sentence, text, and image embedding. The initial work is described in the [paper](https://arxiv.org/abs/1908.10084). We can then use these embeddings to compare these sentences with cosine similarity computation to find sentences with similar meaning, since this library already provides a ready-to-use function util.pytorch_cos_sim.\n",
    "\n",
    "The framework is based on PyTorch and Transformers and provides a large collection of pre-trained models tuned for different tasks. In addition, it is easy to fine-tune your own models. See the [documentation](https://www.sbert.net/) for more information on using this library."
   ]
  },
  {
   "cell_type": "markdown",
   "id": "frozen-vietnam",
   "metadata": {
    "slideshow": {
     "slide_type": "skip"
    }
   },
   "source": [
    "# Imports"
   ]
  },
  {
   "cell_type": "code",
   "execution_count": 1,
   "id": "classified-border",
   "metadata": {
    "slideshow": {
     "slide_type": "skip"
    }
   },
   "outputs": [],
   "source": [
    "# standard imports\n",
    "import numpy as np\n",
    "import pandas as pd\n",
    "import os\n",
    "\n",
    "# text processing\n",
    "from nltk.corpus import stopwords\n",
    "from nltk.tokenize import sent_tokenize\n",
    "import re, string\n",
    "import fitz\n",
    "from sentence_transformers import SentenceTransformer, util\n",
    "\n",
    "# other useful imports\n",
    "from importlib import reload\n",
    "from time import time\n",
    "from pathlib import Path\n",
    "from tqdm.notebook import tqdm\n",
    "\n",
    "# plotting\n",
    "from pylab import plt, mpl\n",
    "\n",
    "#ignore warnings\n",
    "import warnings\n",
    "warnings.filterwarnings(action='ignore')"
   ]
  },
  {
   "cell_type": "markdown",
   "id": "eight-scott",
   "metadata": {
    "slideshow": {
     "slide_type": "skip"
    }
   },
   "source": [
    "# File Paths"
   ]
  },
  {
   "cell_type": "code",
   "execution_count": 2,
   "id": "determined-title",
   "metadata": {
    "slideshow": {
     "slide_type": "skip"
    }
   },
   "outputs": [],
   "source": [
    "DATA_PATH = '../../data/reports'\n",
    "SDG_PATH = '../../data/sdg.xlsx'\n",
    "FILE_NAME_SENT = '../../data/sentences.csv'"
   ]
  },
  {
   "cell_type": "markdown",
   "id": "religious-protection",
   "metadata": {
    "slideshow": {
     "slide_type": "slide"
    }
   },
   "source": [
    "# Helper Functions"
   ]
  },
  {
   "cell_type": "markdown",
   "id": "wrapped-trigger",
   "metadata": {
    "slideshow": {
     "slide_type": "fragment"
    }
   },
   "source": [
    "### Get Count of Words"
   ]
  },
  {
   "cell_type": "code",
   "execution_count": 3,
   "id": "residential-findings",
   "metadata": {
    "slideshow": {
     "slide_type": "fragment"
    }
   },
   "outputs": [],
   "source": [
    "def word_count(text):\n",
    "    cnt = 0\n",
    "    for word in text.split():\n",
    "        if word.isalpha():\n",
    "            cnt += 1\n",
    "    return cnt"
   ]
  },
  {
   "cell_type": "markdown",
   "id": "confident-sleeping",
   "metadata": {
    "slideshow": {
     "slide_type": "slide"
    }
   },
   "source": [
    "### Extract Text  from PDF"
   ]
  },
  {
   "cell_type": "code",
   "execution_count": 4,
   "id": "vietnamese-article",
   "metadata": {
    "slideshow": {
     "slide_type": "fragment"
    }
   },
   "outputs": [],
   "source": [
    "def generate_text_blocks(block_list, min_word_count=15):\n",
    "    text_list = []\n",
    "    for block in block_list:\n",
    "        # block type -> 0 = text\n",
    "        if block[6] != 0:\n",
    "            continue\n",
    "\n",
    "        text = block[4]\n",
    "\n",
    "        text = text.replace('Johnson', '')\n",
    "        text = text.replace('Amazon', '')\n",
    "\n",
    "        # only extract sentences with more than min_word_count\n",
    "        if word_count(text) < min_word_count:\n",
    "            continue\n",
    "\n",
    "        text_list.append(text.replace('-\\n', ''))\n",
    "\n",
    "    return ('\\n'.join(text_list))"
   ]
  },
  {
   "cell_type": "code",
   "execution_count": null,
   "id": "devoted-newcastle",
   "metadata": {
    "slideshow": {
     "slide_type": "slide"
    }
   },
   "outputs": [],
   "source": [
    "def create_sentence_list(file_name, skip_page=(0,)):\n",
    "\n",
    "    doc = fitz.open(file_name)\n",
    "\n",
    "    sent_list = []\n",
    "    for page_no, page in enumerate(doc):\n",
    "\n",
    "        # skip page(s) if set\n",
    "        if page_no+1 in skip_page:\n",
    "            continue\n",
    "\n",
    "        # extract text blocks and process them, docu:\n",
    "        # https://pymupdf.readthedocs.io/en/latest/app1.html?highlight=page.get_text#plain-text\n",
    "        block_list = page.get_text('blocks', sort=False)\n",
    "        text = generate_text_blocks(block_list)\n",
    "\n",
    "        # tokenize sentences: https://www.nltk.org/api/nltk.tokenize.html\n",
    "        for i, sentence in enumerate(sent_tokenize(text)):\n",
    "            # remove '\\n', '\\t'\n",
    "            sent = ' '.join(sentence.split())\n",
    "            sent_list.append(sent)\n",
    "\n",
    "    doc.close()\n",
    "\n",
    "    return sent_list"
   ]
  },
  {
   "cell_type": "markdown",
   "id": "configured-advocate",
   "metadata": {
    "slideshow": {
     "slide_type": "slide"
    }
   },
   "source": [
    "### Create Data Frame"
   ]
  },
  {
   "cell_type": "code",
   "execution_count": 5,
   "id": "sexual-money",
   "metadata": {
    "slideshow": {
     "slide_type": "fragment"
    }
   },
   "outputs": [],
   "source": [
    "def create_df(doc_id, file_name, sent_list):\n",
    "\n",
    "    df = pd.DataFrame(\n",
    "        {'doc_id': doc_id,\n",
    "         'file_name': file_name,\n",
    "         'sentence': sent_list\n",
    "         })\n",
    "\n",
    "    return df"
   ]
  },
  {
   "cell_type": "markdown",
   "id": "detected-relay",
   "metadata": {
    "slideshow": {
     "slide_type": "slide"
    }
   },
   "source": [
    "### Define Function: Read PDF file list"
   ]
  },
  {
   "cell_type": "code",
   "execution_count": 6,
   "id": "consecutive-communication",
   "metadata": {
    "slideshow": {
     "slide_type": "fragment"
    }
   },
   "outputs": [],
   "source": [
    "def read_files(path):\n",
    "    # Create empty DataFrame\n",
    "    df = pd.DataFrame()\n",
    "    # create doc_id\n",
    "    doc_id = 0\n",
    "\n",
    "    # read all files from directory\n",
    "    for idx, file_name in tqdm(enumerate(os.listdir(path))):\n",
    "        p_file_name = os.path.join(path, file_name)\n",
    "\n",
    "        if p_file_name.split('.')[-1] != 'pdf':\n",
    "            continue\n",
    "        print('Processing: ', file_name)\n",
    "\n",
    "        doc_id += 1\n",
    "\n",
    "        print('Assigning document id: {} '.format(doc_id))\n",
    "        print('')\n",
    "\n",
    "        sent_list = create_sentence_list(p_file_name)\n",
    "        df_doc = create_df(doc_id, file_name, sent_list)\n",
    "\n",
    "        df = pd.concat([df, df_doc])\n",
    "\n",
    "    return df"
   ]
  },
  {
   "cell_type": "markdown",
   "id": "refined-mortgage",
   "metadata": {
    "slideshow": {
     "slide_type": "skip"
    }
   },
   "source": [
    "## Plotting"
   ]
  },
  {
   "cell_type": "code",
   "execution_count": 7,
   "id": "aware-parent",
   "metadata": {
    "slideshow": {
     "slide_type": "skip"
    }
   },
   "outputs": [],
   "source": [
    "def ordered_compare_plot(data):\n",
    "    # plot data in stack manner of bar type\n",
    "    data.plot(x='SDG goal', kind='bar',\n",
    "              edgecolor=\"black\", linewidth=0.2, figsize=(15, 8))\n",
    "    \n",
    "    \n",
    "    plt.ylabel('Score in %')\n",
    "    plt.xlabel('')\n",
    "    plt.xticks(rotation=45)\n",
    "    plt.ylim(0, 0.25)\n",
    "    plt.legend(loc='upper center', bbox_to_anchor=(0.5, -0.13),\n",
    "               fancybox=True, shadow=True, ncol=7)\n",
    "\n",
    "    plt.grid()"
   ]
  },
  {
   "cell_type": "code",
   "execution_count": 8,
   "id": "editorial-lawsuit",
   "metadata": {
    "slideshow": {
     "slide_type": "skip"
    }
   },
   "outputs": [],
   "source": [
    "# generate list of companies from path\n",
    "name_list = []\n",
    "for idx, file_name in enumerate(os.listdir(DATA_PATH)):\n",
    "    name_list.append(Path(file_name).stem)"
   ]
  },
  {
   "cell_type": "code",
   "execution_count": 9,
   "id": "black-crash",
   "metadata": {
    "slideshow": {
     "slide_type": "skip"
    }
   },
   "outputs": [
    {
     "name": "stdout",
     "output_type": "stream",
     "text": [
      "Removed .DS_Store from company list\n"
     ]
    },
    {
     "data": {
      "text/plain": [
       "['United Health Group',\n",
       " 'JPmorgan',\n",
       " 'P & G',\n",
       " 'Johnson-Johnson',\n",
       " 'NVDIA',\n",
       " 'Broadcom',\n",
       " 'Meta',\n",
       " 'Tesla',\n",
       " 'Microsoft',\n",
       " 'Apple',\n",
       " 'Coca-Cola',\n",
       " 'Google',\n",
       " 'Exxon',\n",
       " 'Amazon']"
      ]
     },
     "execution_count": 9,
     "metadata": {},
     "output_type": "execute_result"
    }
   ],
   "source": [
    "# remove hidden file frm list\n",
    "try: \n",
    "    name_list.remove('.DS_Store')\n",
    "except:\n",
    "    print(\"Not on a Mac, can't remove .DS_Store!\")\n",
    "else:\n",
    "    print(\"Removed .DS_Store from company list\")\n",
    "    \n",
    "name_list"
   ]
  },
  {
   "cell_type": "code",
   "execution_count": 10,
   "id": "talented-france",
   "metadata": {
    "scrolled": true,
    "slideshow": {
     "slide_type": "slide"
    }
   },
   "outputs": [
    {
     "data": {
      "application/vnd.jupyter.widget-view+json": {
       "model_id": "bea17681b2ea45bdba429780975b7a0c",
       "version_major": 2,
       "version_minor": 0
      },
      "text/plain": [
       "0it [00:00, ?it/s]"
      ]
     },
     "metadata": {},
     "output_type": "display_data"
    },
    {
     "name": "stdout",
     "output_type": "stream",
     "text": [
      "Processing:  United Health Group.pdf\n",
      "Assigning document id: 1 \n",
      "\n",
      "Processing:  JPmorgan.pdf\n",
      "Assigning document id: 2 \n",
      "\n",
      "Processing:  P & G.pdf\n",
      "Assigning document id: 3 \n",
      "\n",
      "Processing:  Johnson-Johnson.pdf\n",
      "Assigning document id: 4 \n",
      "\n",
      "Processing:  NVDIA.pdf\n",
      "Assigning document id: 5 \n",
      "\n",
      "Processing:  Broadcom.pdf\n",
      "Assigning document id: 6 \n",
      "\n",
      "Processing:  Meta.pdf\n",
      "Assigning document id: 7 \n",
      "\n",
      "Processing:  Tesla.pdf\n",
      "Assigning document id: 8 \n",
      "\n",
      "Processing:  Microsoft.pdf\n",
      "Assigning document id: 9 \n",
      "\n",
      "Processing:  Apple.pdf\n",
      "Assigning document id: 10 \n",
      "\n",
      "Processing:  Coca-Cola.pdf\n",
      "Assigning document id: 11 \n",
      "\n",
      "Processing:  Google.pdf\n",
      "Assigning document id: 12 \n",
      "\n",
      "Processing:  Exxon.pdf\n",
      "Assigning document id: 13 \n",
      "\n",
      "Processing:  Amazon.pdf\n",
      "Assigning document id: 14 \n",
      "\n"
     ]
    }
   ],
   "source": [
    "df = read_files(DATA_PATH)"
   ]
  },
  {
   "cell_type": "markdown",
   "id": "checked-pipeline",
   "metadata": {
    "id": "b3wOqoNioB4d",
    "slideshow": {
     "slide_type": "slide"
    }
   },
   "source": [
    "### Read SDG File & Clean Data"
   ]
  },
  {
   "cell_type": "code",
   "execution_count": 11,
   "id": "interim-rolling",
   "metadata": {
    "colab": {
     "base_uri": "https://localhost:8080/",
     "height": 419
    },
    "id": "UDj-iWpBoB4d",
    "outputId": "2965c007-d70b-42e7-9056-55cb0615f638",
    "slideshow": {
     "slide_type": "fragment"
    }
   },
   "outputs": [],
   "source": [
    "df_sdg = pd.read_excel(SDG_PATH)"
   ]
  },
  {
   "cell_type": "code",
   "execution_count": 12,
   "id": "liquid-collapse",
   "metadata": {
    "slideshow": {
     "slide_type": "skip"
    }
   },
   "outputs": [],
   "source": [
    "df_sdg_doc = df_sdg.groupby('gpname')['sentence'].agg(' '.join).reset_index()\n",
    "\n",
    "# save the \"themes\" as list, for later use\n",
    "sdg_theme_list = df_sdg_doc['gpname'].tolist()\n"
   ]
  },
  {
   "cell_type": "code",
   "execution_count": 13,
   "id": "theoretical-detroit",
   "metadata": {
    "scrolled": true,
    "slideshow": {
     "slide_type": "slide"
    }
   },
   "outputs": [
    {
     "data": {
      "text/html": [
       "<div>\n",
       "<style scoped>\n",
       "    .dataframe tbody tr th:only-of-type {\n",
       "        vertical-align: middle;\n",
       "    }\n",
       "\n",
       "    .dataframe tbody tr th {\n",
       "        vertical-align: top;\n",
       "    }\n",
       "\n",
       "    .dataframe thead th {\n",
       "        text-align: right;\n",
       "    }\n",
       "</style>\n",
       "<table border=\"1\" class=\"dataframe\">\n",
       "  <thead>\n",
       "    <tr style=\"text-align: right;\">\n",
       "      <th></th>\n",
       "      <th>gpnum</th>\n",
       "      <th>gpname</th>\n",
       "      <th>goalnum</th>\n",
       "      <th>sentence</th>\n",
       "    </tr>\n",
       "  </thead>\n",
       "  <tbody>\n",
       "    <tr>\n",
       "      <th>0</th>\n",
       "      <td>gp01</td>\n",
       "      <td>life</td>\n",
       "      <td>goal01</td>\n",
       "      <td>end poverty in all its forms everywhere</td>\n",
       "    </tr>\n",
       "    <tr>\n",
       "      <th>1</th>\n",
       "      <td>gp01</td>\n",
       "      <td>life</td>\n",
       "      <td>goal01</td>\n",
       "      <td>despite progress under the mdgs  approximately...</td>\n",
       "    </tr>\n",
       "    <tr>\n",
       "      <th>2</th>\n",
       "      <td>gp01</td>\n",
       "      <td>life</td>\n",
       "      <td>goal01</td>\n",
       "      <td>over the past decade  markets in developing co...</td>\n",
       "    </tr>\n",
       "    <tr>\n",
       "      <th>3</th>\n",
       "      <td>gp01</td>\n",
       "      <td>life</td>\n",
       "      <td>goal01</td>\n",
       "      <td>certain groups are disproportionately represen...</td>\n",
       "    </tr>\n",
       "    <tr>\n",
       "      <th>4</th>\n",
       "      <td>gp01</td>\n",
       "      <td>life</td>\n",
       "      <td>goal01</td>\n",
       "      <td>these include women  persons with disabilities...</td>\n",
       "    </tr>\n",
       "    <tr>\n",
       "      <th>...</th>\n",
       "      <td>...</td>\n",
       "      <td>...</td>\n",
       "      <td>...</td>\n",
       "      <td>...</td>\n",
       "    </tr>\n",
       "    <tr>\n",
       "      <th>636</th>\n",
       "      <td>gp06</td>\n",
       "      <td>environments</td>\n",
       "      <td>goal15</td>\n",
       "      <td>take urgent action to end poaching and tr...</td>\n",
       "    </tr>\n",
       "    <tr>\n",
       "      <th>637</th>\n",
       "      <td>gp06</td>\n",
       "      <td>environments</td>\n",
       "      <td>goal15</td>\n",
       "      <td>by       introduce measures to prevent th...</td>\n",
       "    </tr>\n",
       "    <tr>\n",
       "      <th>638</th>\n",
       "      <td>gp06</td>\n",
       "      <td>environments</td>\n",
       "      <td>goal15</td>\n",
       "      <td>by       integrate ecosystems and biodive...</td>\n",
       "    </tr>\n",
       "    <tr>\n",
       "      <th>639</th>\n",
       "      <td>gp06</td>\n",
       "      <td>environments</td>\n",
       "      <td>goal15</td>\n",
       "      <td>a mobilize and significantly increase from ...</td>\n",
       "    </tr>\n",
       "    <tr>\n",
       "      <th>640</th>\n",
       "      <td>gp06</td>\n",
       "      <td>environments</td>\n",
       "      <td>goal15</td>\n",
       "      <td>c enhance global support to efforts to comb...</td>\n",
       "    </tr>\n",
       "  </tbody>\n",
       "</table>\n",
       "<p>641 rows × 4 columns</p>\n",
       "</div>"
      ],
      "text/plain": [
       "    gpnum        gpname goalnum  \\\n",
       "0    gp01          life  goal01   \n",
       "1    gp01          life  goal01   \n",
       "2    gp01          life  goal01   \n",
       "3    gp01          life  goal01   \n",
       "4    gp01          life  goal01   \n",
       "..    ...           ...     ...   \n",
       "636  gp06  environments  goal15   \n",
       "637  gp06  environments  goal15   \n",
       "638  gp06  environments  goal15   \n",
       "639  gp06  environments  goal15   \n",
       "640  gp06  environments  goal15   \n",
       "\n",
       "                                              sentence  \n",
       "0              end poverty in all its forms everywhere  \n",
       "1    despite progress under the mdgs  approximately...  \n",
       "2    over the past decade  markets in developing co...  \n",
       "3    certain groups are disproportionately represen...  \n",
       "4    these include women  persons with disabilities...  \n",
       "..                                                 ...  \n",
       "636       take urgent action to end poaching and tr...  \n",
       "637       by       introduce measures to prevent th...  \n",
       "638       by       integrate ecosystems and biodive...  \n",
       "639     a mobilize and significantly increase from ...  \n",
       "640     c enhance global support to efforts to comb...  \n",
       "\n",
       "[641 rows x 4 columns]"
      ]
     },
     "execution_count": 13,
     "metadata": {},
     "output_type": "execute_result"
    }
   ],
   "source": [
    "# remove special characters info: https://regex101.com/\n",
    "regex_match = r'[^a-zA-Z]'\n",
    "df_sdg['sentence'] = df_sdg['sentence'].str.replace(regex_match,' ', regex=True)\n",
    "\n",
    "# convert all to lower case\n",
    "df_sdg = df_sdg.apply(lambda x: x.astype(str).str.lower())\n",
    "\n",
    "df_sdg"
   ]
  },
  {
   "cell_type": "code",
   "execution_count": 14,
   "id": "joined-armenia",
   "metadata": {
    "slideshow": {
     "slide_type": "slide"
    }
   },
   "outputs": [],
   "source": [
    "# init transformer model\n",
    "model = SentenceTransformer('all-MiniLM-L6-v2')\n",
    "\n",
    "# process data frames as list \n",
    "sdg_sentences = df_sdg['sentence'].tolist()\n",
    "reports_sentences = df['sentence'].tolist()\n",
    "\n",
    "# compute embeddings \n",
    "embeddings_sdg = model.encode(sdg_sentences, convert_to_tensor=True)\n",
    "embeddings_reports = model.encode(reports_sentences, convert_to_tensor=True)\n",
    "\n",
    "# compute cosine-similarity\n",
    "cosine_scores = util.pytorch_cos_sim(embeddings_sdg, embeddings_reports)"
   ]
  },
  {
   "cell_type": "code",
   "execution_count": 15,
   "id": "passive-favor",
   "metadata": {
    "slideshow": {
     "slide_type": "slide"
    }
   },
   "outputs": [],
   "source": [
    "cosine_sim_arr  = np.array(cosine_scores.cpu()).T"
   ]
  },
  {
   "cell_type": "code",
   "execution_count": 16,
   "id": "removed-browser",
   "metadata": {
    "scrolled": true,
    "slideshow": {
     "slide_type": "fragment"
    }
   },
   "outputs": [
    {
     "data": {
      "text/plain": [
       "goal01    40\n",
       "goal02    38\n",
       "goal03    43\n",
       "goal04    37\n",
       "goal05    43\n",
       "goal06    45\n",
       "goal07    29\n",
       "goal08    42\n",
       "goal09    29\n",
       "goal10    44\n",
       "goal11    35\n",
       "goal12    41\n",
       "goal13    30\n",
       "goal14    40\n",
       "goal15    44\n",
       "goal16    40\n",
       "goal17    21\n",
       "Name: goalnum, dtype: int64"
      ]
     },
     "execution_count": 16,
     "metadata": {},
     "output_type": "execute_result"
    }
   ],
   "source": [
    "sdg_goals = df_sdg['goalnum'].value_counts().sort_index()\n",
    "sdg_goals"
   ]
  },
  {
   "cell_type": "code",
   "execution_count": 17,
   "id": "chief-installation",
   "metadata": {
    "slideshow": {
     "slide_type": "slide"
    }
   },
   "outputs": [
    {
     "data": {
      "application/vnd.jupyter.widget-view+json": {
       "model_id": "03cfe2a741954c2f967db1a3153d6804",
       "version_major": 2,
       "version_minor": 0
      },
      "text/plain": [
       "  0%|          | 0/12598 [00:00<?, ?it/s]"
      ]
     },
     "metadata": {},
     "output_type": "display_data"
    }
   ],
   "source": [
    "# init\n",
    "for key in sdg_goals.index:\n",
    "    df[key] = 0.0\n",
    "\n",
    "for idx in tqdm(df.index):\n",
    "    off_b = 0\n",
    "    off_e = 0\n",
    "    \n",
    "    for key in sdg_goals.index:\n",
    "        off_b = off_e\n",
    "        off_e += sdg_goals[key]\n",
    "        df.loc[idx,key] = cosine_sim_arr[idx][off_b:off_e].mean()"
   ]
  },
  {
   "cell_type": "code",
   "execution_count": 18,
   "id": "unsigned-poultry",
   "metadata": {
    "scrolled": true,
    "slideshow": {
     "slide_type": "slide"
    }
   },
   "outputs": [
    {
     "data": {
      "text/html": [
       "<div>\n",
       "<style scoped>\n",
       "    .dataframe tbody tr th:only-of-type {\n",
       "        vertical-align: middle;\n",
       "    }\n",
       "\n",
       "    .dataframe tbody tr th {\n",
       "        vertical-align: top;\n",
       "    }\n",
       "\n",
       "    .dataframe thead th {\n",
       "        text-align: right;\n",
       "    }\n",
       "</style>\n",
       "<table border=\"1\" class=\"dataframe\">\n",
       "  <thead>\n",
       "    <tr style=\"text-align: right;\">\n",
       "      <th></th>\n",
       "      <th>doc_id</th>\n",
       "      <th>file_name</th>\n",
       "      <th>sentence</th>\n",
       "      <th>goal01</th>\n",
       "      <th>goal02</th>\n",
       "      <th>goal03</th>\n",
       "      <th>goal04</th>\n",
       "      <th>goal05</th>\n",
       "      <th>goal06</th>\n",
       "      <th>goal07</th>\n",
       "      <th>goal08</th>\n",
       "      <th>goal09</th>\n",
       "      <th>goal10</th>\n",
       "      <th>goal11</th>\n",
       "      <th>goal12</th>\n",
       "      <th>goal13</th>\n",
       "      <th>goal14</th>\n",
       "      <th>goal15</th>\n",
       "      <th>goal16</th>\n",
       "      <th>goal17</th>\n",
       "    </tr>\n",
       "  </thead>\n",
       "  <tbody>\n",
       "    <tr>\n",
       "      <th>0</th>\n",
       "      <td>1</td>\n",
       "      <td>United Health Group.pdf</td>\n",
       "      <td>Introduction A message from our CEO A message ...</td>\n",
       "      <td>0.235896</td>\n",
       "      <td>0.199520</td>\n",
       "      <td>0.266893</td>\n",
       "      <td>0.177224</td>\n",
       "      <td>0.257760</td>\n",
       "      <td>0.214584</td>\n",
       "      <td>0.188496</td>\n",
       "      <td>0.210663</td>\n",
       "      <td>0.261766</td>\n",
       "      <td>0.204824</td>\n",
       "      <td>0.243177</td>\n",
       "      <td>0.220734</td>\n",
       "      <td>0.257748</td>\n",
       "      <td>0.245555</td>\n",
       "      <td>0.200719</td>\n",
       "      <td>0.222063</td>\n",
       "      <td>0.187012</td>\n",
       "    </tr>\n",
       "    <tr>\n",
       "      <th>1</th>\n",
       "      <td>1</td>\n",
       "      <td>United Health Group.pdf</td>\n",
       "      <td>At UnitedHealth Group, we believe a healthy po...</td>\n",
       "      <td>0.207957</td>\n",
       "      <td>0.206365</td>\n",
       "      <td>0.237609</td>\n",
       "      <td>0.134319</td>\n",
       "      <td>0.236803</td>\n",
       "      <td>0.183946</td>\n",
       "      <td>0.140241</td>\n",
       "      <td>0.165552</td>\n",
       "      <td>0.273335</td>\n",
       "      <td>0.150690</td>\n",
       "      <td>0.216651</td>\n",
       "      <td>0.188037</td>\n",
       "      <td>0.288877</td>\n",
       "      <td>0.256878</td>\n",
       "      <td>0.197014</td>\n",
       "      <td>0.209454</td>\n",
       "      <td>0.203182</td>\n",
       "    </tr>\n",
       "    <tr>\n",
       "      <th>2</th>\n",
       "      <td>1</td>\n",
       "      <td>United Health Group.pdf</td>\n",
       "      <td>The more than 350,000 people across Optum and ...</td>\n",
       "      <td>0.201863</td>\n",
       "      <td>0.165649</td>\n",
       "      <td>0.279546</td>\n",
       "      <td>0.131096</td>\n",
       "      <td>0.167953</td>\n",
       "      <td>0.156176</td>\n",
       "      <td>0.143068</td>\n",
       "      <td>0.169272</td>\n",
       "      <td>0.193826</td>\n",
       "      <td>0.121127</td>\n",
       "      <td>0.142557</td>\n",
       "      <td>0.139904</td>\n",
       "      <td>0.183883</td>\n",
       "      <td>0.135371</td>\n",
       "      <td>0.119871</td>\n",
       "      <td>0.124189</td>\n",
       "      <td>0.120706</td>\n",
       "    </tr>\n",
       "    <tr>\n",
       "      <th>3</th>\n",
       "      <td>1</td>\n",
       "      <td>United Health Group.pdf</td>\n",
       "      <td>Given our reach and resources – and the millio...</td>\n",
       "      <td>0.247797</td>\n",
       "      <td>0.199685</td>\n",
       "      <td>0.301517</td>\n",
       "      <td>0.141523</td>\n",
       "      <td>0.252720</td>\n",
       "      <td>0.193579</td>\n",
       "      <td>0.148825</td>\n",
       "      <td>0.192238</td>\n",
       "      <td>0.270368</td>\n",
       "      <td>0.184259</td>\n",
       "      <td>0.234373</td>\n",
       "      <td>0.199052</td>\n",
       "      <td>0.250189</td>\n",
       "      <td>0.235037</td>\n",
       "      <td>0.188664</td>\n",
       "      <td>0.214435</td>\n",
       "      <td>0.212151</td>\n",
       "    </tr>\n",
       "    <tr>\n",
       "      <th>4</th>\n",
       "      <td>1</td>\n",
       "      <td>United Health Group.pdf</td>\n",
       "      <td>That’s what makes a health care system sustain...</td>\n",
       "      <td>0.211621</td>\n",
       "      <td>0.205682</td>\n",
       "      <td>0.294656</td>\n",
       "      <td>0.163138</td>\n",
       "      <td>0.242467</td>\n",
       "      <td>0.188796</td>\n",
       "      <td>0.158189</td>\n",
       "      <td>0.197520</td>\n",
       "      <td>0.225543</td>\n",
       "      <td>0.162897</td>\n",
       "      <td>0.205483</td>\n",
       "      <td>0.201493</td>\n",
       "      <td>0.253745</td>\n",
       "      <td>0.224078</td>\n",
       "      <td>0.176285</td>\n",
       "      <td>0.190528</td>\n",
       "      <td>0.172235</td>\n",
       "    </tr>\n",
       "  </tbody>\n",
       "</table>\n",
       "</div>"
      ],
      "text/plain": [
       "   doc_id                file_name  \\\n",
       "0       1  United Health Group.pdf   \n",
       "1       1  United Health Group.pdf   \n",
       "2       1  United Health Group.pdf   \n",
       "3       1  United Health Group.pdf   \n",
       "4       1  United Health Group.pdf   \n",
       "\n",
       "                                            sentence    goal01    goal02  \\\n",
       "0  Introduction A message from our CEO A message ...  0.235896  0.199520   \n",
       "1  At UnitedHealth Group, we believe a healthy po...  0.207957  0.206365   \n",
       "2  The more than 350,000 people across Optum and ...  0.201863  0.165649   \n",
       "3  Given our reach and resources – and the millio...  0.247797  0.199685   \n",
       "4  That’s what makes a health care system sustain...  0.211621  0.205682   \n",
       "\n",
       "     goal03    goal04    goal05    goal06    goal07    goal08    goal09  \\\n",
       "0  0.266893  0.177224  0.257760  0.214584  0.188496  0.210663  0.261766   \n",
       "1  0.237609  0.134319  0.236803  0.183946  0.140241  0.165552  0.273335   \n",
       "2  0.279546  0.131096  0.167953  0.156176  0.143068  0.169272  0.193826   \n",
       "3  0.301517  0.141523  0.252720  0.193579  0.148825  0.192238  0.270368   \n",
       "4  0.294656  0.163138  0.242467  0.188796  0.158189  0.197520  0.225543   \n",
       "\n",
       "     goal10    goal11    goal12    goal13    goal14    goal15    goal16  \\\n",
       "0  0.204824  0.243177  0.220734  0.257748  0.245555  0.200719  0.222063   \n",
       "1  0.150690  0.216651  0.188037  0.288877  0.256878  0.197014  0.209454   \n",
       "2  0.121127  0.142557  0.139904  0.183883  0.135371  0.119871  0.124189   \n",
       "3  0.184259  0.234373  0.199052  0.250189  0.235037  0.188664  0.214435   \n",
       "4  0.162897  0.205483  0.201493  0.253745  0.224078  0.176285  0.190528   \n",
       "\n",
       "     goal17  \n",
       "0  0.187012  \n",
       "1  0.203182  \n",
       "2  0.120706  \n",
       "3  0.212151  \n",
       "4  0.172235  "
      ]
     },
     "execution_count": 18,
     "metadata": {},
     "output_type": "execute_result"
    }
   ],
   "source": [
    "df.head()"
   ]
  },
  {
   "cell_type": "code",
   "execution_count": 19,
   "id": "authorized-location",
   "metadata": {
    "slideshow": {
     "slide_type": "skip"
    }
   },
   "outputs": [],
   "source": [
    "sdg_list = pd.read_excel(SDG_PATH)"
   ]
  },
  {
   "cell_type": "code",
   "execution_count": 20,
   "id": "stone-snowboard",
   "metadata": {
    "slideshow": {
     "slide_type": "slide"
    }
   },
   "outputs": [],
   "source": [
    "category_list = sdg_list.gpname.to_list()\n",
    "goals_list = sdg_list.goalnum.to_list()\n",
    "\n",
    "categories_dict = {}\n",
    "for key in goals_list:\n",
    "    for value in category_list:\n",
    "        categories_dict[key] = value\n",
    "        category_list.remove(value)\n",
    "        break  "
   ]
  },
  {
   "cell_type": "code",
   "execution_count": 21,
   "id": "serial-police",
   "metadata": {
    "scrolled": true,
    "slideshow": {
     "slide_type": "slide"
    }
   },
   "outputs": [
    {
     "data": {
      "text/plain": [
       "{'goal01': 'Life',\n",
       " 'goal02': 'Life',\n",
       " 'goal03': 'Life',\n",
       " 'goal08': 'Economic and Technological Development',\n",
       " 'goal09': 'Economic and Technological Development',\n",
       " 'goal04': 'Equity',\n",
       " 'goal05': 'Equity',\n",
       " 'goal10': 'Equity',\n",
       " 'goal11': 'Social Development',\n",
       " 'goal16': 'Social Development',\n",
       " 'goal17': 'Social Development',\n",
       " 'goal06': 'Resources',\n",
       " 'goal07': 'Resources',\n",
       " 'goal12': 'Resources',\n",
       " 'goal14': 'Resources',\n",
       " 'goal13': 'Environments',\n",
       " 'goal15': 'Environments'}"
      ]
     },
     "execution_count": 21,
     "metadata": {},
     "output_type": "execute_result"
    }
   ],
   "source": [
    "categories_dict"
   ]
  },
  {
   "cell_type": "code",
   "execution_count": 22,
   "id": "negative-minnesota",
   "metadata": {
    "slideshow": {
     "slide_type": "slide"
    }
   },
   "outputs": [
    {
     "data": {
      "text/plain": [
       "['Social Development',\n",
       " 'Resources',\n",
       " 'Economic and Technological Development',\n",
       " 'Life',\n",
       " 'Equity',\n",
       " 'Environments']"
      ]
     },
     "execution_count": 22,
     "metadata": {},
     "output_type": "execute_result"
    }
   ],
   "source": [
    "cat_list = [*set(sdg_list.gpname.to_list())]\n",
    "cat_list"
   ]
  },
  {
   "cell_type": "code",
   "execution_count": 23,
   "id": "opposed-selling",
   "metadata": {
    "slideshow": {
     "slide_type": "slide"
    }
   },
   "outputs": [],
   "source": [
    "df['company'] = df['file_name'].str.split('.').apply(lambda x: x[0])"
   ]
  },
  {
   "cell_type": "code",
   "execution_count": 24,
   "id": "elder-object",
   "metadata": {
    "slideshow": {
     "slide_type": "slide"
    }
   },
   "outputs": [],
   "source": [
    "# get list of companies\n",
    "companies_list = df['company'].unique().tolist()"
   ]
  },
  {
   "cell_type": "code",
   "execution_count": 25,
   "id": "signal-tiger",
   "metadata": {
    "slideshow": {
     "slide_type": "slide"
    }
   },
   "outputs": [],
   "source": [
    "df_companies = df.groupby(['company']).mean()\n",
    "df_companies.drop('doc_id', axis=1, inplace=True)"
   ]
  },
  {
   "cell_type": "code",
   "execution_count": 26,
   "id": "radio-portfolio",
   "metadata": {
    "scrolled": true,
    "slideshow": {
     "slide_type": "slide"
    }
   },
   "outputs": [
    {
     "data": {
      "text/html": [
       "<div>\n",
       "<style scoped>\n",
       "    .dataframe tbody tr th:only-of-type {\n",
       "        vertical-align: middle;\n",
       "    }\n",
       "\n",
       "    .dataframe tbody tr th {\n",
       "        vertical-align: top;\n",
       "    }\n",
       "\n",
       "    .dataframe thead th {\n",
       "        text-align: right;\n",
       "    }\n",
       "</style>\n",
       "<table border=\"1\" class=\"dataframe\">\n",
       "  <thead>\n",
       "    <tr style=\"text-align: right;\">\n",
       "      <th>company</th>\n",
       "      <th>index</th>\n",
       "      <th>Amazon</th>\n",
       "      <th>Apple</th>\n",
       "      <th>Broadcom</th>\n",
       "      <th>Coca-Cola</th>\n",
       "      <th>Exxon</th>\n",
       "      <th>Google</th>\n",
       "      <th>JPmorgan</th>\n",
       "      <th>Johnson-Johnson</th>\n",
       "      <th>Meta</th>\n",
       "      <th>Microsoft</th>\n",
       "      <th>NVDIA</th>\n",
       "      <th>P &amp; G</th>\n",
       "      <th>Tesla</th>\n",
       "      <th>United Health Group</th>\n",
       "    </tr>\n",
       "  </thead>\n",
       "  <tbody>\n",
       "    <tr>\n",
       "      <th>0</th>\n",
       "      <td>goal01</td>\n",
       "      <td>0.144490</td>\n",
       "      <td>0.144811</td>\n",
       "      <td>0.150579</td>\n",
       "      <td>0.148858</td>\n",
       "      <td>0.150769</td>\n",
       "      <td>0.167729</td>\n",
       "      <td>0.152211</td>\n",
       "      <td>0.136696</td>\n",
       "      <td>0.162128</td>\n",
       "      <td>0.142056</td>\n",
       "      <td>0.147925</td>\n",
       "      <td>0.161870</td>\n",
       "      <td>0.146474</td>\n",
       "      <td>0.147901</td>\n",
       "    </tr>\n",
       "    <tr>\n",
       "      <th>1</th>\n",
       "      <td>goal02</td>\n",
       "      <td>0.129587</td>\n",
       "      <td>0.130719</td>\n",
       "      <td>0.120753</td>\n",
       "      <td>0.129937</td>\n",
       "      <td>0.121108</td>\n",
       "      <td>0.146464</td>\n",
       "      <td>0.118220</td>\n",
       "      <td>0.123880</td>\n",
       "      <td>0.133256</td>\n",
       "      <td>0.128497</td>\n",
       "      <td>0.129837</td>\n",
       "      <td>0.146128</td>\n",
       "      <td>0.129175</td>\n",
       "      <td>0.125983</td>\n",
       "    </tr>\n",
       "    <tr>\n",
       "      <th>2</th>\n",
       "      <td>goal03</td>\n",
       "      <td>0.157913</td>\n",
       "      <td>0.159676</td>\n",
       "      <td>0.195069</td>\n",
       "      <td>0.165620</td>\n",
       "      <td>0.194389</td>\n",
       "      <td>0.199696</td>\n",
       "      <td>0.201267</td>\n",
       "      <td>0.158146</td>\n",
       "      <td>0.203740</td>\n",
       "      <td>0.159885</td>\n",
       "      <td>0.171893</td>\n",
       "      <td>0.191786</td>\n",
       "      <td>0.160872</td>\n",
       "      <td>0.178019</td>\n",
       "    </tr>\n",
       "    <tr>\n",
       "      <th>3</th>\n",
       "      <td>goal04</td>\n",
       "      <td>0.112778</td>\n",
       "      <td>0.112567</td>\n",
       "      <td>0.101941</td>\n",
       "      <td>0.115472</td>\n",
       "      <td>0.102607</td>\n",
       "      <td>0.120757</td>\n",
       "      <td>0.100764</td>\n",
       "      <td>0.105216</td>\n",
       "      <td>0.110932</td>\n",
       "      <td>0.109892</td>\n",
       "      <td>0.110793</td>\n",
       "      <td>0.117502</td>\n",
       "      <td>0.114343</td>\n",
       "      <td>0.108602</td>\n",
       "    </tr>\n",
       "    <tr>\n",
       "      <th>4</th>\n",
       "      <td>goal05</td>\n",
       "      <td>0.165702</td>\n",
       "      <td>0.167107</td>\n",
       "      <td>0.153223</td>\n",
       "      <td>0.167989</td>\n",
       "      <td>0.153951</td>\n",
       "      <td>0.181342</td>\n",
       "      <td>0.148179</td>\n",
       "      <td>0.159765</td>\n",
       "      <td>0.166626</td>\n",
       "      <td>0.164612</td>\n",
       "      <td>0.164916</td>\n",
       "      <td>0.184974</td>\n",
       "      <td>0.166593</td>\n",
       "      <td>0.158498</td>\n",
       "    </tr>\n",
       "    <tr>\n",
       "      <th>5</th>\n",
       "      <td>goal06</td>\n",
       "      <td>0.143526</td>\n",
       "      <td>0.144081</td>\n",
       "      <td>0.132919</td>\n",
       "      <td>0.148701</td>\n",
       "      <td>0.133865</td>\n",
       "      <td>0.156736</td>\n",
       "      <td>0.133387</td>\n",
       "      <td>0.135746</td>\n",
       "      <td>0.146699</td>\n",
       "      <td>0.141178</td>\n",
       "      <td>0.144460</td>\n",
       "      <td>0.155043</td>\n",
       "      <td>0.146568</td>\n",
       "      <td>0.144182</td>\n",
       "    </tr>\n",
       "    <tr>\n",
       "      <th>6</th>\n",
       "      <td>goal07</td>\n",
       "      <td>0.119759</td>\n",
       "      <td>0.120161</td>\n",
       "      <td>0.109226</td>\n",
       "      <td>0.122219</td>\n",
       "      <td>0.109628</td>\n",
       "      <td>0.129283</td>\n",
       "      <td>0.110154</td>\n",
       "      <td>0.112307</td>\n",
       "      <td>0.120760</td>\n",
       "      <td>0.117430</td>\n",
       "      <td>0.119664</td>\n",
       "      <td>0.124183</td>\n",
       "      <td>0.121470</td>\n",
       "      <td>0.120835</td>\n",
       "    </tr>\n",
       "    <tr>\n",
       "      <th>7</th>\n",
       "      <td>goal08</td>\n",
       "      <td>0.144851</td>\n",
       "      <td>0.144929</td>\n",
       "      <td>0.137117</td>\n",
       "      <td>0.147901</td>\n",
       "      <td>0.137206</td>\n",
       "      <td>0.157386</td>\n",
       "      <td>0.138208</td>\n",
       "      <td>0.136005</td>\n",
       "      <td>0.148939</td>\n",
       "      <td>0.141725</td>\n",
       "      <td>0.144238</td>\n",
       "      <td>0.153343</td>\n",
       "      <td>0.146977</td>\n",
       "      <td>0.142829</td>\n",
       "    </tr>\n",
       "    <tr>\n",
       "      <th>8</th>\n",
       "      <td>goal09</td>\n",
       "      <td>0.150243</td>\n",
       "      <td>0.151269</td>\n",
       "      <td>0.147527</td>\n",
       "      <td>0.152696</td>\n",
       "      <td>0.148166</td>\n",
       "      <td>0.169324</td>\n",
       "      <td>0.139538</td>\n",
       "      <td>0.142906</td>\n",
       "      <td>0.158066</td>\n",
       "      <td>0.148425</td>\n",
       "      <td>0.152510</td>\n",
       "      <td>0.173212</td>\n",
       "      <td>0.151144</td>\n",
       "      <td>0.145468</td>\n",
       "    </tr>\n",
       "    <tr>\n",
       "      <th>9</th>\n",
       "      <td>goal10</td>\n",
       "      <td>0.132403</td>\n",
       "      <td>0.133399</td>\n",
       "      <td>0.114466</td>\n",
       "      <td>0.132933</td>\n",
       "      <td>0.114865</td>\n",
       "      <td>0.138454</td>\n",
       "      <td>0.112611</td>\n",
       "      <td>0.125147</td>\n",
       "      <td>0.126990</td>\n",
       "      <td>0.130678</td>\n",
       "      <td>0.132148</td>\n",
       "      <td>0.140819</td>\n",
       "      <td>0.133295</td>\n",
       "      <td>0.131315</td>\n",
       "    </tr>\n",
       "    <tr>\n",
       "      <th>10</th>\n",
       "      <td>goal11</td>\n",
       "      <td>0.137518</td>\n",
       "      <td>0.139042</td>\n",
       "      <td>0.128137</td>\n",
       "      <td>0.138016</td>\n",
       "      <td>0.129234</td>\n",
       "      <td>0.149280</td>\n",
       "      <td>0.118773</td>\n",
       "      <td>0.131939</td>\n",
       "      <td>0.135283</td>\n",
       "      <td>0.136608</td>\n",
       "      <td>0.139379</td>\n",
       "      <td>0.153140</td>\n",
       "      <td>0.136948</td>\n",
       "      <td>0.132681</td>\n",
       "    </tr>\n",
       "    <tr>\n",
       "      <th>11</th>\n",
       "      <td>goal12</td>\n",
       "      <td>0.111274</td>\n",
       "      <td>0.111360</td>\n",
       "      <td>0.117924</td>\n",
       "      <td>0.113182</td>\n",
       "      <td>0.119484</td>\n",
       "      <td>0.120316</td>\n",
       "      <td>0.105087</td>\n",
       "      <td>0.104534</td>\n",
       "      <td>0.113845</td>\n",
       "      <td>0.108842</td>\n",
       "      <td>0.116536</td>\n",
       "      <td>0.123931</td>\n",
       "      <td>0.111190</td>\n",
       "      <td>0.110579</td>\n",
       "    </tr>\n",
       "    <tr>\n",
       "      <th>12</th>\n",
       "      <td>goal13</td>\n",
       "      <td>0.148770</td>\n",
       "      <td>0.149312</td>\n",
       "      <td>0.145543</td>\n",
       "      <td>0.149327</td>\n",
       "      <td>0.146317</td>\n",
       "      <td>0.159776</td>\n",
       "      <td>0.132383</td>\n",
       "      <td>0.139084</td>\n",
       "      <td>0.146009</td>\n",
       "      <td>0.145743</td>\n",
       "      <td>0.150790</td>\n",
       "      <td>0.166293</td>\n",
       "      <td>0.148326</td>\n",
       "      <td>0.140537</td>\n",
       "    </tr>\n",
       "    <tr>\n",
       "      <th>13</th>\n",
       "      <td>goal14</td>\n",
       "      <td>0.129790</td>\n",
       "      <td>0.130818</td>\n",
       "      <td>0.118462</td>\n",
       "      <td>0.128102</td>\n",
       "      <td>0.119442</td>\n",
       "      <td>0.137011</td>\n",
       "      <td>0.105394</td>\n",
       "      <td>0.122601</td>\n",
       "      <td>0.120805</td>\n",
       "      <td>0.127884</td>\n",
       "      <td>0.130379</td>\n",
       "      <td>0.145305</td>\n",
       "      <td>0.127491</td>\n",
       "      <td>0.122689</td>\n",
       "    </tr>\n",
       "    <tr>\n",
       "      <th>14</th>\n",
       "      <td>goal15</td>\n",
       "      <td>0.112295</td>\n",
       "      <td>0.113216</td>\n",
       "      <td>0.102375</td>\n",
       "      <td>0.110432</td>\n",
       "      <td>0.103430</td>\n",
       "      <td>0.113083</td>\n",
       "      <td>0.087282</td>\n",
       "      <td>0.105605</td>\n",
       "      <td>0.100491</td>\n",
       "      <td>0.110691</td>\n",
       "      <td>0.113271</td>\n",
       "      <td>0.119242</td>\n",
       "      <td>0.110261</td>\n",
       "      <td>0.105281</td>\n",
       "    </tr>\n",
       "    <tr>\n",
       "      <th>15</th>\n",
       "      <td>goal16</td>\n",
       "      <td>0.127452</td>\n",
       "      <td>0.128728</td>\n",
       "      <td>0.113363</td>\n",
       "      <td>0.126379</td>\n",
       "      <td>0.114092</td>\n",
       "      <td>0.135252</td>\n",
       "      <td>0.099511</td>\n",
       "      <td>0.119289</td>\n",
       "      <td>0.118925</td>\n",
       "      <td>0.125354</td>\n",
       "      <td>0.127715</td>\n",
       "      <td>0.140919</td>\n",
       "      <td>0.126119</td>\n",
       "      <td>0.117490</td>\n",
       "    </tr>\n",
       "    <tr>\n",
       "      <th>16</th>\n",
       "      <td>goal17</td>\n",
       "      <td>0.116334</td>\n",
       "      <td>0.117404</td>\n",
       "      <td>0.109557</td>\n",
       "      <td>0.115912</td>\n",
       "      <td>0.110307</td>\n",
       "      <td>0.125312</td>\n",
       "      <td>0.098438</td>\n",
       "      <td>0.110866</td>\n",
       "      <td>0.113020</td>\n",
       "      <td>0.114933</td>\n",
       "      <td>0.117845</td>\n",
       "      <td>0.132270</td>\n",
       "      <td>0.114953</td>\n",
       "      <td>0.110133</td>\n",
       "    </tr>\n",
       "  </tbody>\n",
       "</table>\n",
       "</div>"
      ],
      "text/plain": [
       "company   index    Amazon     Apple  Broadcom  Coca-Cola     Exxon    Google  \\\n",
       "0        goal01  0.144490  0.144811  0.150579   0.148858  0.150769  0.167729   \n",
       "1        goal02  0.129587  0.130719  0.120753   0.129937  0.121108  0.146464   \n",
       "2        goal03  0.157913  0.159676  0.195069   0.165620  0.194389  0.199696   \n",
       "3        goal04  0.112778  0.112567  0.101941   0.115472  0.102607  0.120757   \n",
       "4        goal05  0.165702  0.167107  0.153223   0.167989  0.153951  0.181342   \n",
       "5        goal06  0.143526  0.144081  0.132919   0.148701  0.133865  0.156736   \n",
       "6        goal07  0.119759  0.120161  0.109226   0.122219  0.109628  0.129283   \n",
       "7        goal08  0.144851  0.144929  0.137117   0.147901  0.137206  0.157386   \n",
       "8        goal09  0.150243  0.151269  0.147527   0.152696  0.148166  0.169324   \n",
       "9        goal10  0.132403  0.133399  0.114466   0.132933  0.114865  0.138454   \n",
       "10       goal11  0.137518  0.139042  0.128137   0.138016  0.129234  0.149280   \n",
       "11       goal12  0.111274  0.111360  0.117924   0.113182  0.119484  0.120316   \n",
       "12       goal13  0.148770  0.149312  0.145543   0.149327  0.146317  0.159776   \n",
       "13       goal14  0.129790  0.130818  0.118462   0.128102  0.119442  0.137011   \n",
       "14       goal15  0.112295  0.113216  0.102375   0.110432  0.103430  0.113083   \n",
       "15       goal16  0.127452  0.128728  0.113363   0.126379  0.114092  0.135252   \n",
       "16       goal17  0.116334  0.117404  0.109557   0.115912  0.110307  0.125312   \n",
       "\n",
       "company  JPmorgan  Johnson-Johnson      Meta  Microsoft     NVDIA     P & G  \\\n",
       "0        0.152211         0.136696  0.162128   0.142056  0.147925  0.161870   \n",
       "1        0.118220         0.123880  0.133256   0.128497  0.129837  0.146128   \n",
       "2        0.201267         0.158146  0.203740   0.159885  0.171893  0.191786   \n",
       "3        0.100764         0.105216  0.110932   0.109892  0.110793  0.117502   \n",
       "4        0.148179         0.159765  0.166626   0.164612  0.164916  0.184974   \n",
       "5        0.133387         0.135746  0.146699   0.141178  0.144460  0.155043   \n",
       "6        0.110154         0.112307  0.120760   0.117430  0.119664  0.124183   \n",
       "7        0.138208         0.136005  0.148939   0.141725  0.144238  0.153343   \n",
       "8        0.139538         0.142906  0.158066   0.148425  0.152510  0.173212   \n",
       "9        0.112611         0.125147  0.126990   0.130678  0.132148  0.140819   \n",
       "10       0.118773         0.131939  0.135283   0.136608  0.139379  0.153140   \n",
       "11       0.105087         0.104534  0.113845   0.108842  0.116536  0.123931   \n",
       "12       0.132383         0.139084  0.146009   0.145743  0.150790  0.166293   \n",
       "13       0.105394         0.122601  0.120805   0.127884  0.130379  0.145305   \n",
       "14       0.087282         0.105605  0.100491   0.110691  0.113271  0.119242   \n",
       "15       0.099511         0.119289  0.118925   0.125354  0.127715  0.140919   \n",
       "16       0.098438         0.110866  0.113020   0.114933  0.117845  0.132270   \n",
       "\n",
       "company     Tesla  United Health Group  \n",
       "0        0.146474             0.147901  \n",
       "1        0.129175             0.125983  \n",
       "2        0.160872             0.178019  \n",
       "3        0.114343             0.108602  \n",
       "4        0.166593             0.158498  \n",
       "5        0.146568             0.144182  \n",
       "6        0.121470             0.120835  \n",
       "7        0.146977             0.142829  \n",
       "8        0.151144             0.145468  \n",
       "9        0.133295             0.131315  \n",
       "10       0.136948             0.132681  \n",
       "11       0.111190             0.110579  \n",
       "12       0.148326             0.140537  \n",
       "13       0.127491             0.122689  \n",
       "14       0.110261             0.105281  \n",
       "15       0.126119             0.117490  \n",
       "16       0.114953             0.110133  "
      ]
     },
     "execution_count": 26,
     "metadata": {},
     "output_type": "execute_result"
    }
   ],
   "source": [
    "df_companies_T = df_companies.T.copy()\n",
    "df_companies_T.reset_index(inplace=True)\n",
    "\n",
    "df_companies_T"
   ]
  },
  {
   "cell_type": "code",
   "execution_count": 27,
   "id": "saving-calendar",
   "metadata": {
    "slideshow": {
     "slide_type": "slide"
    }
   },
   "outputs": [
    {
     "data": {
      "text/html": [
       "<div>\n",
       "<style scoped>\n",
       "    .dataframe tbody tr th:only-of-type {\n",
       "        vertical-align: middle;\n",
       "    }\n",
       "\n",
       "    .dataframe tbody tr th {\n",
       "        vertical-align: top;\n",
       "    }\n",
       "\n",
       "    .dataframe thead th {\n",
       "        text-align: right;\n",
       "    }\n",
       "</style>\n",
       "<table border=\"1\" class=\"dataframe\">\n",
       "  <thead>\n",
       "    <tr style=\"text-align: right;\">\n",
       "      <th>company</th>\n",
       "      <th>index</th>\n",
       "      <th>Amazon</th>\n",
       "      <th>Apple</th>\n",
       "      <th>Broadcom</th>\n",
       "      <th>Coca-Cola</th>\n",
       "      <th>Exxon</th>\n",
       "      <th>Google</th>\n",
       "      <th>JPmorgan</th>\n",
       "      <th>Johnson-Johnson</th>\n",
       "      <th>Meta</th>\n",
       "      <th>Microsoft</th>\n",
       "      <th>NVDIA</th>\n",
       "      <th>P &amp; G</th>\n",
       "      <th>Tesla</th>\n",
       "      <th>United Health Group</th>\n",
       "      <th>category</th>\n",
       "    </tr>\n",
       "  </thead>\n",
       "  <tbody>\n",
       "    <tr>\n",
       "      <th>0</th>\n",
       "      <td>goal01</td>\n",
       "      <td>0.144490</td>\n",
       "      <td>0.144811</td>\n",
       "      <td>0.150579</td>\n",
       "      <td>0.148858</td>\n",
       "      <td>0.150769</td>\n",
       "      <td>0.167729</td>\n",
       "      <td>0.152211</td>\n",
       "      <td>0.136696</td>\n",
       "      <td>0.162128</td>\n",
       "      <td>0.142056</td>\n",
       "      <td>0.147925</td>\n",
       "      <td>0.161870</td>\n",
       "      <td>0.146474</td>\n",
       "      <td>0.147901</td>\n",
       "      <td>Life</td>\n",
       "    </tr>\n",
       "    <tr>\n",
       "      <th>1</th>\n",
       "      <td>goal02</td>\n",
       "      <td>0.129587</td>\n",
       "      <td>0.130719</td>\n",
       "      <td>0.120753</td>\n",
       "      <td>0.129937</td>\n",
       "      <td>0.121108</td>\n",
       "      <td>0.146464</td>\n",
       "      <td>0.118220</td>\n",
       "      <td>0.123880</td>\n",
       "      <td>0.133256</td>\n",
       "      <td>0.128497</td>\n",
       "      <td>0.129837</td>\n",
       "      <td>0.146128</td>\n",
       "      <td>0.129175</td>\n",
       "      <td>0.125983</td>\n",
       "      <td>Life</td>\n",
       "    </tr>\n",
       "    <tr>\n",
       "      <th>2</th>\n",
       "      <td>goal03</td>\n",
       "      <td>0.157913</td>\n",
       "      <td>0.159676</td>\n",
       "      <td>0.195069</td>\n",
       "      <td>0.165620</td>\n",
       "      <td>0.194389</td>\n",
       "      <td>0.199696</td>\n",
       "      <td>0.201267</td>\n",
       "      <td>0.158146</td>\n",
       "      <td>0.203740</td>\n",
       "      <td>0.159885</td>\n",
       "      <td>0.171893</td>\n",
       "      <td>0.191786</td>\n",
       "      <td>0.160872</td>\n",
       "      <td>0.178019</td>\n",
       "      <td>Life</td>\n",
       "    </tr>\n",
       "    <tr>\n",
       "      <th>3</th>\n",
       "      <td>goal04</td>\n",
       "      <td>0.112778</td>\n",
       "      <td>0.112567</td>\n",
       "      <td>0.101941</td>\n",
       "      <td>0.115472</td>\n",
       "      <td>0.102607</td>\n",
       "      <td>0.120757</td>\n",
       "      <td>0.100764</td>\n",
       "      <td>0.105216</td>\n",
       "      <td>0.110932</td>\n",
       "      <td>0.109892</td>\n",
       "      <td>0.110793</td>\n",
       "      <td>0.117502</td>\n",
       "      <td>0.114343</td>\n",
       "      <td>0.108602</td>\n",
       "      <td>Equity</td>\n",
       "    </tr>\n",
       "    <tr>\n",
       "      <th>4</th>\n",
       "      <td>goal05</td>\n",
       "      <td>0.165702</td>\n",
       "      <td>0.167107</td>\n",
       "      <td>0.153223</td>\n",
       "      <td>0.167989</td>\n",
       "      <td>0.153951</td>\n",
       "      <td>0.181342</td>\n",
       "      <td>0.148179</td>\n",
       "      <td>0.159765</td>\n",
       "      <td>0.166626</td>\n",
       "      <td>0.164612</td>\n",
       "      <td>0.164916</td>\n",
       "      <td>0.184974</td>\n",
       "      <td>0.166593</td>\n",
       "      <td>0.158498</td>\n",
       "      <td>Equity</td>\n",
       "    </tr>\n",
       "  </tbody>\n",
       "</table>\n",
       "</div>"
      ],
      "text/plain": [
       "company   index    Amazon     Apple  Broadcom  Coca-Cola     Exxon    Google  \\\n",
       "0        goal01  0.144490  0.144811  0.150579   0.148858  0.150769  0.167729   \n",
       "1        goal02  0.129587  0.130719  0.120753   0.129937  0.121108  0.146464   \n",
       "2        goal03  0.157913  0.159676  0.195069   0.165620  0.194389  0.199696   \n",
       "3        goal04  0.112778  0.112567  0.101941   0.115472  0.102607  0.120757   \n",
       "4        goal05  0.165702  0.167107  0.153223   0.167989  0.153951  0.181342   \n",
       "\n",
       "company  JPmorgan  Johnson-Johnson      Meta  Microsoft     NVDIA     P & G  \\\n",
       "0        0.152211         0.136696  0.162128   0.142056  0.147925  0.161870   \n",
       "1        0.118220         0.123880  0.133256   0.128497  0.129837  0.146128   \n",
       "2        0.201267         0.158146  0.203740   0.159885  0.171893  0.191786   \n",
       "3        0.100764         0.105216  0.110932   0.109892  0.110793  0.117502   \n",
       "4        0.148179         0.159765  0.166626   0.164612  0.164916  0.184974   \n",
       "\n",
       "company     Tesla  United Health Group category  \n",
       "0        0.146474             0.147901     Life  \n",
       "1        0.129175             0.125983     Life  \n",
       "2        0.160872             0.178019     Life  \n",
       "3        0.114343             0.108602   Equity  \n",
       "4        0.166593             0.158498   Equity  "
      ]
     },
     "execution_count": 27,
     "metadata": {},
     "output_type": "execute_result"
    }
   ],
   "source": [
    "# map the dictonary\n",
    "df_companies_T['category'] = df_companies_T['index'].map(categories_dict)\n",
    "df_companies_T.head()"
   ]
  },
  {
   "cell_type": "code",
   "execution_count": 28,
   "id": "nasty-share",
   "metadata": {
    "scrolled": true,
    "slideshow": {
     "slide_type": "slide"
    }
   },
   "outputs": [
    {
     "data": {
      "text/html": [
       "<div>\n",
       "<style scoped>\n",
       "    .dataframe tbody tr th:only-of-type {\n",
       "        vertical-align: middle;\n",
       "    }\n",
       "\n",
       "    .dataframe tbody tr th {\n",
       "        vertical-align: top;\n",
       "    }\n",
       "\n",
       "    .dataframe thead th {\n",
       "        text-align: right;\n",
       "    }\n",
       "</style>\n",
       "<table border=\"1\" class=\"dataframe\">\n",
       "  <thead>\n",
       "    <tr style=\"text-align: right;\">\n",
       "      <th>company</th>\n",
       "      <th>category</th>\n",
       "      <th>SDG goal</th>\n",
       "      <th>Amazon</th>\n",
       "      <th>Apple</th>\n",
       "      <th>Broadcom</th>\n",
       "      <th>Coca-Cola</th>\n",
       "      <th>Exxon</th>\n",
       "      <th>Google</th>\n",
       "      <th>JPmorgan</th>\n",
       "      <th>Johnson-Johnson</th>\n",
       "      <th>Meta</th>\n",
       "      <th>Microsoft</th>\n",
       "      <th>NVDIA</th>\n",
       "      <th>P &amp; G</th>\n",
       "      <th>Tesla</th>\n",
       "      <th>United Health Group</th>\n",
       "    </tr>\n",
       "  </thead>\n",
       "  <tbody>\n",
       "    <tr>\n",
       "      <th>0</th>\n",
       "      <td>Life</td>\n",
       "      <td>goal01</td>\n",
       "      <td>0.144490</td>\n",
       "      <td>0.144811</td>\n",
       "      <td>0.150579</td>\n",
       "      <td>0.148858</td>\n",
       "      <td>0.150769</td>\n",
       "      <td>0.167729</td>\n",
       "      <td>0.152211</td>\n",
       "      <td>0.136696</td>\n",
       "      <td>0.162128</td>\n",
       "      <td>0.142056</td>\n",
       "      <td>0.147925</td>\n",
       "      <td>0.161870</td>\n",
       "      <td>0.146474</td>\n",
       "      <td>0.147901</td>\n",
       "    </tr>\n",
       "    <tr>\n",
       "      <th>1</th>\n",
       "      <td>Life</td>\n",
       "      <td>goal02</td>\n",
       "      <td>0.129587</td>\n",
       "      <td>0.130719</td>\n",
       "      <td>0.120753</td>\n",
       "      <td>0.129937</td>\n",
       "      <td>0.121108</td>\n",
       "      <td>0.146464</td>\n",
       "      <td>0.118220</td>\n",
       "      <td>0.123880</td>\n",
       "      <td>0.133256</td>\n",
       "      <td>0.128497</td>\n",
       "      <td>0.129837</td>\n",
       "      <td>0.146128</td>\n",
       "      <td>0.129175</td>\n",
       "      <td>0.125983</td>\n",
       "    </tr>\n",
       "    <tr>\n",
       "      <th>2</th>\n",
       "      <td>Life</td>\n",
       "      <td>goal03</td>\n",
       "      <td>0.157913</td>\n",
       "      <td>0.159676</td>\n",
       "      <td>0.195069</td>\n",
       "      <td>0.165620</td>\n",
       "      <td>0.194389</td>\n",
       "      <td>0.199696</td>\n",
       "      <td>0.201267</td>\n",
       "      <td>0.158146</td>\n",
       "      <td>0.203740</td>\n",
       "      <td>0.159885</td>\n",
       "      <td>0.171893</td>\n",
       "      <td>0.191786</td>\n",
       "      <td>0.160872</td>\n",
       "      <td>0.178019</td>\n",
       "    </tr>\n",
       "    <tr>\n",
       "      <th>3</th>\n",
       "      <td>Equity</td>\n",
       "      <td>goal04</td>\n",
       "      <td>0.112778</td>\n",
       "      <td>0.112567</td>\n",
       "      <td>0.101941</td>\n",
       "      <td>0.115472</td>\n",
       "      <td>0.102607</td>\n",
       "      <td>0.120757</td>\n",
       "      <td>0.100764</td>\n",
       "      <td>0.105216</td>\n",
       "      <td>0.110932</td>\n",
       "      <td>0.109892</td>\n",
       "      <td>0.110793</td>\n",
       "      <td>0.117502</td>\n",
       "      <td>0.114343</td>\n",
       "      <td>0.108602</td>\n",
       "    </tr>\n",
       "    <tr>\n",
       "      <th>4</th>\n",
       "      <td>Equity</td>\n",
       "      <td>goal05</td>\n",
       "      <td>0.165702</td>\n",
       "      <td>0.167107</td>\n",
       "      <td>0.153223</td>\n",
       "      <td>0.167989</td>\n",
       "      <td>0.153951</td>\n",
       "      <td>0.181342</td>\n",
       "      <td>0.148179</td>\n",
       "      <td>0.159765</td>\n",
       "      <td>0.166626</td>\n",
       "      <td>0.164612</td>\n",
       "      <td>0.164916</td>\n",
       "      <td>0.184974</td>\n",
       "      <td>0.166593</td>\n",
       "      <td>0.158498</td>\n",
       "    </tr>\n",
       "    <tr>\n",
       "      <th>5</th>\n",
       "      <td>Resources</td>\n",
       "      <td>goal06</td>\n",
       "      <td>0.143526</td>\n",
       "      <td>0.144081</td>\n",
       "      <td>0.132919</td>\n",
       "      <td>0.148701</td>\n",
       "      <td>0.133865</td>\n",
       "      <td>0.156736</td>\n",
       "      <td>0.133387</td>\n",
       "      <td>0.135746</td>\n",
       "      <td>0.146699</td>\n",
       "      <td>0.141178</td>\n",
       "      <td>0.144460</td>\n",
       "      <td>0.155043</td>\n",
       "      <td>0.146568</td>\n",
       "      <td>0.144182</td>\n",
       "    </tr>\n",
       "    <tr>\n",
       "      <th>6</th>\n",
       "      <td>Resources</td>\n",
       "      <td>goal07</td>\n",
       "      <td>0.119759</td>\n",
       "      <td>0.120161</td>\n",
       "      <td>0.109226</td>\n",
       "      <td>0.122219</td>\n",
       "      <td>0.109628</td>\n",
       "      <td>0.129283</td>\n",
       "      <td>0.110154</td>\n",
       "      <td>0.112307</td>\n",
       "      <td>0.120760</td>\n",
       "      <td>0.117430</td>\n",
       "      <td>0.119664</td>\n",
       "      <td>0.124183</td>\n",
       "      <td>0.121470</td>\n",
       "      <td>0.120835</td>\n",
       "    </tr>\n",
       "    <tr>\n",
       "      <th>7</th>\n",
       "      <td>Economic and Technological Development</td>\n",
       "      <td>goal08</td>\n",
       "      <td>0.144851</td>\n",
       "      <td>0.144929</td>\n",
       "      <td>0.137117</td>\n",
       "      <td>0.147901</td>\n",
       "      <td>0.137206</td>\n",
       "      <td>0.157386</td>\n",
       "      <td>0.138208</td>\n",
       "      <td>0.136005</td>\n",
       "      <td>0.148939</td>\n",
       "      <td>0.141725</td>\n",
       "      <td>0.144238</td>\n",
       "      <td>0.153343</td>\n",
       "      <td>0.146977</td>\n",
       "      <td>0.142829</td>\n",
       "    </tr>\n",
       "    <tr>\n",
       "      <th>8</th>\n",
       "      <td>Economic and Technological Development</td>\n",
       "      <td>goal09</td>\n",
       "      <td>0.150243</td>\n",
       "      <td>0.151269</td>\n",
       "      <td>0.147527</td>\n",
       "      <td>0.152696</td>\n",
       "      <td>0.148166</td>\n",
       "      <td>0.169324</td>\n",
       "      <td>0.139538</td>\n",
       "      <td>0.142906</td>\n",
       "      <td>0.158066</td>\n",
       "      <td>0.148425</td>\n",
       "      <td>0.152510</td>\n",
       "      <td>0.173212</td>\n",
       "      <td>0.151144</td>\n",
       "      <td>0.145468</td>\n",
       "    </tr>\n",
       "    <tr>\n",
       "      <th>9</th>\n",
       "      <td>Equity</td>\n",
       "      <td>goal10</td>\n",
       "      <td>0.132403</td>\n",
       "      <td>0.133399</td>\n",
       "      <td>0.114466</td>\n",
       "      <td>0.132933</td>\n",
       "      <td>0.114865</td>\n",
       "      <td>0.138454</td>\n",
       "      <td>0.112611</td>\n",
       "      <td>0.125147</td>\n",
       "      <td>0.126990</td>\n",
       "      <td>0.130678</td>\n",
       "      <td>0.132148</td>\n",
       "      <td>0.140819</td>\n",
       "      <td>0.133295</td>\n",
       "      <td>0.131315</td>\n",
       "    </tr>\n",
       "    <tr>\n",
       "      <th>10</th>\n",
       "      <td>Social Development</td>\n",
       "      <td>goal11</td>\n",
       "      <td>0.137518</td>\n",
       "      <td>0.139042</td>\n",
       "      <td>0.128137</td>\n",
       "      <td>0.138016</td>\n",
       "      <td>0.129234</td>\n",
       "      <td>0.149280</td>\n",
       "      <td>0.118773</td>\n",
       "      <td>0.131939</td>\n",
       "      <td>0.135283</td>\n",
       "      <td>0.136608</td>\n",
       "      <td>0.139379</td>\n",
       "      <td>0.153140</td>\n",
       "      <td>0.136948</td>\n",
       "      <td>0.132681</td>\n",
       "    </tr>\n",
       "    <tr>\n",
       "      <th>11</th>\n",
       "      <td>Resources</td>\n",
       "      <td>goal12</td>\n",
       "      <td>0.111274</td>\n",
       "      <td>0.111360</td>\n",
       "      <td>0.117924</td>\n",
       "      <td>0.113182</td>\n",
       "      <td>0.119484</td>\n",
       "      <td>0.120316</td>\n",
       "      <td>0.105087</td>\n",
       "      <td>0.104534</td>\n",
       "      <td>0.113845</td>\n",
       "      <td>0.108842</td>\n",
       "      <td>0.116536</td>\n",
       "      <td>0.123931</td>\n",
       "      <td>0.111190</td>\n",
       "      <td>0.110579</td>\n",
       "    </tr>\n",
       "    <tr>\n",
       "      <th>12</th>\n",
       "      <td>Environments</td>\n",
       "      <td>goal13</td>\n",
       "      <td>0.148770</td>\n",
       "      <td>0.149312</td>\n",
       "      <td>0.145543</td>\n",
       "      <td>0.149327</td>\n",
       "      <td>0.146317</td>\n",
       "      <td>0.159776</td>\n",
       "      <td>0.132383</td>\n",
       "      <td>0.139084</td>\n",
       "      <td>0.146009</td>\n",
       "      <td>0.145743</td>\n",
       "      <td>0.150790</td>\n",
       "      <td>0.166293</td>\n",
       "      <td>0.148326</td>\n",
       "      <td>0.140537</td>\n",
       "    </tr>\n",
       "    <tr>\n",
       "      <th>13</th>\n",
       "      <td>Resources</td>\n",
       "      <td>goal14</td>\n",
       "      <td>0.129790</td>\n",
       "      <td>0.130818</td>\n",
       "      <td>0.118462</td>\n",
       "      <td>0.128102</td>\n",
       "      <td>0.119442</td>\n",
       "      <td>0.137011</td>\n",
       "      <td>0.105394</td>\n",
       "      <td>0.122601</td>\n",
       "      <td>0.120805</td>\n",
       "      <td>0.127884</td>\n",
       "      <td>0.130379</td>\n",
       "      <td>0.145305</td>\n",
       "      <td>0.127491</td>\n",
       "      <td>0.122689</td>\n",
       "    </tr>\n",
       "    <tr>\n",
       "      <th>14</th>\n",
       "      <td>Environments</td>\n",
       "      <td>goal15</td>\n",
       "      <td>0.112295</td>\n",
       "      <td>0.113216</td>\n",
       "      <td>0.102375</td>\n",
       "      <td>0.110432</td>\n",
       "      <td>0.103430</td>\n",
       "      <td>0.113083</td>\n",
       "      <td>0.087282</td>\n",
       "      <td>0.105605</td>\n",
       "      <td>0.100491</td>\n",
       "      <td>0.110691</td>\n",
       "      <td>0.113271</td>\n",
       "      <td>0.119242</td>\n",
       "      <td>0.110261</td>\n",
       "      <td>0.105281</td>\n",
       "    </tr>\n",
       "    <tr>\n",
       "      <th>15</th>\n",
       "      <td>Social Development</td>\n",
       "      <td>goal16</td>\n",
       "      <td>0.127452</td>\n",
       "      <td>0.128728</td>\n",
       "      <td>0.113363</td>\n",
       "      <td>0.126379</td>\n",
       "      <td>0.114092</td>\n",
       "      <td>0.135252</td>\n",
       "      <td>0.099511</td>\n",
       "      <td>0.119289</td>\n",
       "      <td>0.118925</td>\n",
       "      <td>0.125354</td>\n",
       "      <td>0.127715</td>\n",
       "      <td>0.140919</td>\n",
       "      <td>0.126119</td>\n",
       "      <td>0.117490</td>\n",
       "    </tr>\n",
       "    <tr>\n",
       "      <th>16</th>\n",
       "      <td>Social Development</td>\n",
       "      <td>goal17</td>\n",
       "      <td>0.116334</td>\n",
       "      <td>0.117404</td>\n",
       "      <td>0.109557</td>\n",
       "      <td>0.115912</td>\n",
       "      <td>0.110307</td>\n",
       "      <td>0.125312</td>\n",
       "      <td>0.098438</td>\n",
       "      <td>0.110866</td>\n",
       "      <td>0.113020</td>\n",
       "      <td>0.114933</td>\n",
       "      <td>0.117845</td>\n",
       "      <td>0.132270</td>\n",
       "      <td>0.114953</td>\n",
       "      <td>0.110133</td>\n",
       "    </tr>\n",
       "  </tbody>\n",
       "</table>\n",
       "</div>"
      ],
      "text/plain": [
       "company                                category SDG goal    Amazon     Apple  \\\n",
       "0                                          Life   goal01  0.144490  0.144811   \n",
       "1                                          Life   goal02  0.129587  0.130719   \n",
       "2                                          Life   goal03  0.157913  0.159676   \n",
       "3                                        Equity   goal04  0.112778  0.112567   \n",
       "4                                        Equity   goal05  0.165702  0.167107   \n",
       "5                                     Resources   goal06  0.143526  0.144081   \n",
       "6                                     Resources   goal07  0.119759  0.120161   \n",
       "7        Economic and Technological Development   goal08  0.144851  0.144929   \n",
       "8        Economic and Technological Development   goal09  0.150243  0.151269   \n",
       "9                                        Equity   goal10  0.132403  0.133399   \n",
       "10                           Social Development   goal11  0.137518  0.139042   \n",
       "11                                    Resources   goal12  0.111274  0.111360   \n",
       "12                                 Environments   goal13  0.148770  0.149312   \n",
       "13                                    Resources   goal14  0.129790  0.130818   \n",
       "14                                 Environments   goal15  0.112295  0.113216   \n",
       "15                           Social Development   goal16  0.127452  0.128728   \n",
       "16                           Social Development   goal17  0.116334  0.117404   \n",
       "\n",
       "company  Broadcom  Coca-Cola     Exxon    Google  JPmorgan  Johnson-Johnson  \\\n",
       "0        0.150579   0.148858  0.150769  0.167729  0.152211         0.136696   \n",
       "1        0.120753   0.129937  0.121108  0.146464  0.118220         0.123880   \n",
       "2        0.195069   0.165620  0.194389  0.199696  0.201267         0.158146   \n",
       "3        0.101941   0.115472  0.102607  0.120757  0.100764         0.105216   \n",
       "4        0.153223   0.167989  0.153951  0.181342  0.148179         0.159765   \n",
       "5        0.132919   0.148701  0.133865  0.156736  0.133387         0.135746   \n",
       "6        0.109226   0.122219  0.109628  0.129283  0.110154         0.112307   \n",
       "7        0.137117   0.147901  0.137206  0.157386  0.138208         0.136005   \n",
       "8        0.147527   0.152696  0.148166  0.169324  0.139538         0.142906   \n",
       "9        0.114466   0.132933  0.114865  0.138454  0.112611         0.125147   \n",
       "10       0.128137   0.138016  0.129234  0.149280  0.118773         0.131939   \n",
       "11       0.117924   0.113182  0.119484  0.120316  0.105087         0.104534   \n",
       "12       0.145543   0.149327  0.146317  0.159776  0.132383         0.139084   \n",
       "13       0.118462   0.128102  0.119442  0.137011  0.105394         0.122601   \n",
       "14       0.102375   0.110432  0.103430  0.113083  0.087282         0.105605   \n",
       "15       0.113363   0.126379  0.114092  0.135252  0.099511         0.119289   \n",
       "16       0.109557   0.115912  0.110307  0.125312  0.098438         0.110866   \n",
       "\n",
       "company      Meta  Microsoft     NVDIA     P & G     Tesla  \\\n",
       "0        0.162128   0.142056  0.147925  0.161870  0.146474   \n",
       "1        0.133256   0.128497  0.129837  0.146128  0.129175   \n",
       "2        0.203740   0.159885  0.171893  0.191786  0.160872   \n",
       "3        0.110932   0.109892  0.110793  0.117502  0.114343   \n",
       "4        0.166626   0.164612  0.164916  0.184974  0.166593   \n",
       "5        0.146699   0.141178  0.144460  0.155043  0.146568   \n",
       "6        0.120760   0.117430  0.119664  0.124183  0.121470   \n",
       "7        0.148939   0.141725  0.144238  0.153343  0.146977   \n",
       "8        0.158066   0.148425  0.152510  0.173212  0.151144   \n",
       "9        0.126990   0.130678  0.132148  0.140819  0.133295   \n",
       "10       0.135283   0.136608  0.139379  0.153140  0.136948   \n",
       "11       0.113845   0.108842  0.116536  0.123931  0.111190   \n",
       "12       0.146009   0.145743  0.150790  0.166293  0.148326   \n",
       "13       0.120805   0.127884  0.130379  0.145305  0.127491   \n",
       "14       0.100491   0.110691  0.113271  0.119242  0.110261   \n",
       "15       0.118925   0.125354  0.127715  0.140919  0.126119   \n",
       "16       0.113020   0.114933  0.117845  0.132270  0.114953   \n",
       "\n",
       "company  United Health Group  \n",
       "0                   0.147901  \n",
       "1                   0.125983  \n",
       "2                   0.178019  \n",
       "3                   0.108602  \n",
       "4                   0.158498  \n",
       "5                   0.144182  \n",
       "6                   0.120835  \n",
       "7                   0.142829  \n",
       "8                   0.145468  \n",
       "9                   0.131315  \n",
       "10                  0.132681  \n",
       "11                  0.110579  \n",
       "12                  0.140537  \n",
       "13                  0.122689  \n",
       "14                  0.105281  \n",
       "15                  0.117490  \n",
       "16                  0.110133  "
      ]
     },
     "execution_count": 28,
     "metadata": {},
     "output_type": "execute_result"
    }
   ],
   "source": [
    "# rename column\n",
    "df_companies_T = df_companies_T.rename(columns={'index': 'SDG goal'})\n",
    "\n",
    "# reorder data frame\n",
    "df_companies_T.insert(0, 'category', df_companies_T.pop('category'))\n",
    "\n",
    "df_companies_T"
   ]
  },
  {
   "cell_type": "code",
   "execution_count": 29,
   "id": "aggregate-uncle",
   "metadata": {
    "slideshow": {
     "slide_type": "slide"
    }
   },
   "outputs": [
    {
     "data": {
      "image/png": "[encoded data removed]",
      "text/plain": [
       "<Figure size 1080x576 with 1 Axes>"
      ]
     },
     "metadata": {
      "needs_background": "light"
     },
     "output_type": "display_data"
    }
   ],
   "source": [
    "ordered_compare_plot(df_companies_T)"
   ]
  }
 ],
 "metadata": {
  "celltoolbar": "Slideshow",
  "kernelspec": {
   "display_name": "Python 3 (ipykernel)",
   "language": "python",
   "name": "python3"
  },
  "language_info": {
   "codemirror_mode": {
    "name": "ipython",
    "version": 3
   },
   "file_extension": ".py",
   "mimetype": "text/x-python",
   "name": "python",
   "nbconvert_exporter": "python",
   "pygments_lexer": "ipython3",
   "version": "3.10.8"
  },
  "toc": {
   "base_numbering": 1,
   "nav_menu": {},
   "number_sections": false,
   "sideBar": true,
   "skip_h1_title": false,
   "title_cell": "Table of Contents",
   "title_sidebar": "Contents",
   "toc_cell": false,
   "toc_position": {
    "height": "calc(100% - 180px)",
    "left": "10px",
    "top": "150px",
    "width": "349px"
   },
   "toc_section_display": true,
   "toc_window_display": false
  },
  "varInspector": {
   "cols": {
    "lenName": 16,
    "lenType": 16,
    "lenVar": 40
   },
   "kernels_config": {
    "python": {
     "delete_cmd_postfix": "",
     "delete_cmd_prefix": "del ",
     "library": "var_list.py",
     "varRefreshCmd": "print(var_dic_list())"
    },
    "r": {
     "delete_cmd_postfix": ") ",
     "delete_cmd_prefix": "rm(",
     "library": "var_list.r",
     "varRefreshCmd": "cat(var_dic_list()) "
    }
   },
   "types_to_exclude": [
    "module",
    "function",
    "builtin_function_or_method",
    "instance",
    "_Feature"
   ],
   "window_display": false
  }
 },
 "nbformat": 4,
 "nbformat_minor": 5
}
