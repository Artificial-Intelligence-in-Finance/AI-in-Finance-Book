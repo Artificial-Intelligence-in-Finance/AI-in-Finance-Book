{
 "cells": [
  {
   "attachments": {
    "AIFI_logo.jpg": {
     "image/jpeg": "[encoded data removed]"
    }
   },
   "cell_type": "markdown",
   "metadata": {
    "slideshow": {
     "slide_type": "slide"
    }
   },
   "source": [
    "![AIFI_logo.jpg](attachment:AIFI_logo.jpg)\n",
    "\n",
    "\n",
    "# Bootcamp - Python and Coding - Deep Learning"
   ]
  },
  {
   "cell_type": "markdown",
   "metadata": {
    "slideshow": {
     "slide_type": "fragment"
    }
   },
   "source": [
    "# TensorFlow Functional vs. Sequential API"
   ]
  },
  {
   "cell_type": "markdown",
   "metadata": {
    "slideshow": {
     "slide_type": "slide"
    }
   },
   "source": [
    "# About this Notebook"
   ]
  },
  {
   "cell_type": "markdown",
   "metadata": {
    "slideshow": {
     "slide_type": "fragment"
    }
   },
   "source": [
    "This is an introduction to the functional API from `TensorFlow`. The Keras functional API is a way to create models that are more flexible than the tf.keras.Sequential API. The functional API can handle models with non-linear topology, shared layers, and even multiple inputs or outputs.\n",
    "\n",
    "The main idea is that a deep learning model is usually a directed acyclic graph (DAG) of layers. So the functional API is a way to build graphs of layers. For more information see the [TensorFlow documentation](https://www.tensorflow.org/guide/keras/functional). \n",
    "\n",
    "This example is taken from my paper: [Dynamic and Context-Dependent Stock Price Prediction Using Attention Modules and News Sentiment](https://arxiv.org/abs/2205.01639)"
   ]
  },
  {
   "cell_type": "markdown",
   "metadata": {
    "slideshow": {
     "slide_type": "slide"
    }
   },
   "source": [
    "<table><tr>\n",
    "<td> <img src=\"../../resources/sequential_model_plot.png\" alt=\"Drawing\" style=\"width: 550px;\"/> </td>\n",
    "<td> <img src=\"../../resources/functional_model_plot.png\" alt=\"Drawing\" style=\"width: 950px;\"/> </td>\n",
    "</tr></table>"
   ]
  },
  {
   "cell_type": "markdown",
   "metadata": {
    "slideshow": {
     "slide_type": "fragment"
    }
   },
   "source": [
    "To visualize the model simply use after initializing the model the following: `plot_model(model, to_file='model_plot.png', show_shapes=True, show_layer_names=True)`"
   ]
  },
  {
   "cell_type": "markdown",
   "metadata": {
    "id": "fzHwINw0uv8o",
    "slideshow": {
     "slide_type": "skip"
    }
   },
   "source": [
    "# Imports"
   ]
  },
  {
   "cell_type": "code",
   "execution_count": 1,
   "metadata": {
    "id": "bGq9DxrOwVWj",
    "slideshow": {
     "slide_type": "skip"
    }
   },
   "outputs": [],
   "source": [
    "import tensorflow as tf\n",
    "import numpy as np\n",
    "import pandas as pd\n",
    "import matplotlib.pyplot as plt\n",
    "import sys\n",
    "import os\n",
    "import matplotlib.cm as cm\n",
    "from importlib import reload\n",
    "\n",
    "\n",
    "# to make this notebook's output stable across runs \n",
    "import random\n",
    "seed = 0\n",
    "random.seed(seed)\n",
    "np.random.seed(seed)\n",
    "tf.random.set_seed(seed)\n",
    "\n",
    "# custom library with functions\n",
    "py_file_location = '../../'\n",
    "sys.path.append(os.path.abspath(py_file_location)) # for accessing the path\n",
    "\n",
    "from customlib import preprocessing as pre\n",
    "from customlib import plotting\n",
    "\n",
    "\n",
    "# Ignore warnings\n",
    "import warnings\n",
    "warnings.filterwarnings('ignore')\n",
    "\n",
    "\n",
    "# custom class for alpha_t-RIM\n",
    "py_file_location = '../../customlib/'\n",
    "sys.path.append(os.path.abspath(py_file_location)) # for accessing the path\n",
    "from att_visualization import RIMCell, RIMCell2"
   ]
  },
  {
   "cell_type": "markdown",
   "metadata": {
    "slideshow": {
     "slide_type": "skip"
    }
   },
   "source": [
    "# Computing environment\n",
    "<a id=\"Versions\" > "
   ]
  },
  {
   "cell_type": "code",
   "execution_count": 2,
   "metadata": {
    "scrolled": false,
    "slideshow": {
     "slide_type": "skip"
    }
   },
   "outputs": [
    {
     "name": "stdout",
     "output_type": "stream",
     "text": [
      "Author: Author: Nicole Königstein\n",
      "\n",
      "Python implementation: CPython\n",
      "Python version       : 3.9.13\n",
      "IPython version      : 8.4.0\n",
      "\n",
      "Compiler    : Clang 13.1.6 (clang-1316.0.21.2)\n",
      "OS          : Darwin\n",
      "Release     : 21.1.0\n",
      "Machine     : x86_64\n",
      "Processor   : i386\n",
      "CPU cores   : 16\n",
      "Architecture: 64bit\n",
      "\n",
      "Python implementation: CPython\n",
      "Python version       : 3.9.13\n",
      "IPython version      : 8.4.0\n",
      "\n",
      "numpy     : 1.22.4\n",
      "matplotlib: 3.5.2\n",
      "pandas    : 1.4.3\n",
      "seaborn   : 0.11.1\n",
      "\n"
     ]
    }
   ],
   "source": [
    "%reload_ext watermark\n",
    "%watermark -a \"Author: Nicole Königstein\" \n",
    "%watermark -d -v -m \n",
    "%watermark -v -p numpy,matplotlib,pandas,seaborn\n"
   ]
  },
  {
   "cell_type": "markdown",
   "metadata": {
    "slideshow": {
     "slide_type": "slide"
    }
   },
   "source": [
    "This notebook is just for demonstration purposes to demotrate how the layer can be extracted from the $\\alpha_{t}$-RIM model. "
   ]
  },
  {
   "cell_type": "code",
   "execution_count": 3,
   "metadata": {
    "id": "XSAOXSjBFnoT",
    "slideshow": {
     "slide_type": "fragment"
    }
   },
   "outputs": [],
   "source": [
    "PATH = '../../'\n",
    "# get the considered stock\n",
    "data = pd.read_csv(PATH + 'data/feature_df_selected.csv')\n",
    "# convert date object to datetime\n",
    "format = '%Y-%m-%d'\n",
    "data['date'] = pd.to_datetime(data['date'], format=format)\n",
    "data.set_index('date',inplace=True)\n",
    "\n",
    "df = data.loc[data['ticker']=='BF_B']\n"
   ]
  },
  {
   "cell_type": "code",
   "execution_count": 4,
   "metadata": {
    "colab": {
     "base_uri": "https://localhost:8080/",
     "height": 235
    },
    "id": "ln-huvWqwVWl",
    "outputId": "c22fb070-b89b-4db7-9d2c-3a47aaeb2470",
    "slideshow": {
     "slide_type": "skip"
    }
   },
   "outputs": [
    {
     "data": {
      "text/html": [
       "<div>\n",
       "<style scoped>\n",
       "    .dataframe tbody tr th:only-of-type {\n",
       "        vertical-align: middle;\n",
       "    }\n",
       "\n",
       "    .dataframe tbody tr th {\n",
       "        vertical-align: top;\n",
       "    }\n",
       "\n",
       "    .dataframe thead th {\n",
       "        text-align: right;\n",
       "    }\n",
       "</style>\n",
       "<table border=\"1\" class=\"dataframe\">\n",
       "  <thead>\n",
       "    <tr style=\"text-align: right;\">\n",
       "      <th></th>\n",
       "      <th>close</th>\n",
       "    </tr>\n",
       "    <tr>\n",
       "      <th>date</th>\n",
       "      <th></th>\n",
       "    </tr>\n",
       "  </thead>\n",
       "  <tbody>\n",
       "    <tr>\n",
       "      <th>2015-01-02</th>\n",
       "      <td>32.197535</td>\n",
       "    </tr>\n",
       "    <tr>\n",
       "      <th>2015-01-05</th>\n",
       "      <td>32.197535</td>\n",
       "    </tr>\n",
       "    <tr>\n",
       "      <th>2015-01-06</th>\n",
       "      <td>32.197535</td>\n",
       "    </tr>\n",
       "    <tr>\n",
       "      <th>2015-01-07</th>\n",
       "      <td>32.197535</td>\n",
       "    </tr>\n",
       "    <tr>\n",
       "      <th>2015-01-08</th>\n",
       "      <td>32.690630</td>\n",
       "    </tr>\n",
       "  </tbody>\n",
       "</table>\n",
       "</div>"
      ],
      "text/plain": [
       "                close\n",
       "date                 \n",
       "2015-01-02  32.197535\n",
       "2015-01-05  32.197535\n",
       "2015-01-06  32.197535\n",
       "2015-01-07  32.197535\n",
       "2015-01-08  32.690630"
      ]
     },
     "execution_count": 4,
     "metadata": {},
     "output_type": "execute_result"
    }
   ],
   "source": [
    "df = data.loc[data['ticker']=='BF_B']\n",
    "df = df[['close']]\n",
    "#data = data[['close']]\n",
    "df.head() # show features"
   ]
  },
  {
   "cell_type": "code",
   "execution_count": 5,
   "metadata": {
    "id": "6xMwyiGlCHhP",
    "slideshow": {
     "slide_type": "slide"
    }
   },
   "outputs": [],
   "source": [
    "use_features = ['close'] # continuous input\n",
    "target = ['close'] # continuous output\n",
    "n_steps_ahead = 5 # forecasting horizon"
   ]
  },
  {
   "cell_type": "markdown",
   "metadata": {
    "id": "sE_4aaZu_6GC",
    "slideshow": {
     "slide_type": "skip"
    }
   },
   "source": [
    "# Data preparation"
   ]
  },
  {
   "cell_type": "code",
   "execution_count": 6,
   "metadata": {
    "id": "PALkH2a-0pnS",
    "slideshow": {
     "slide_type": "skip"
    }
   },
   "outputs": [],
   "source": [
    "mu, sigma, df_train,  df_test = pre.prepare_data(df)"
   ]
  },
  {
   "cell_type": "markdown",
   "metadata": {
    "id": "LeyzhqOvy5aU",
    "slideshow": {
     "slide_type": "skip"
    }
   },
   "source": [
    "# 5 lags input"
   ]
  },
  {
   "cell_type": "code",
   "execution_count": 7,
   "metadata": {
    "id": "e4fGnQh7BqqJ",
    "slideshow": {
     "slide_type": "skip"
    }
   },
   "outputs": [],
   "source": [
    "n_steps = 5\n",
    "n_steps_ahead = 5"
   ]
  },
  {
   "cell_type": "markdown",
   "metadata": {
    "slideshow": {
     "slide_type": "skip"
    }
   },
   "source": [
    "We split the data differntly, because it is harder to extract it with the not continuous output. "
   ]
  },
  {
   "cell_type": "code",
   "execution_count": 8,
   "metadata": {
    "colab": {
     "base_uri": "https://localhost:8080/"
    },
    "id": "8a2ZKZqawVWl",
    "outputId": "d85c3fe9-ed68-42f4-ef9f-a682c8841e74",
    "slideshow": {
     "slide_type": "skip"
    }
   },
   "outputs": [
    {
     "name": "stdout",
     "output_type": "stream",
     "text": [
      "[(1286, 5, 1), (1286, 1), (315, 5, 1), (315, 1)]\n"
     ]
    }
   ],
   "source": [
    "x_train = pre.get_lagged_features(df_train[use_features], n_steps, n_steps_ahead)\n",
    "y_train = df_train[target].values[n_steps + n_steps_ahead - 1:]\n",
    "\n",
    "x_test = pre.get_lagged_features(df_test[use_features], n_steps, n_steps_ahead)\n",
    "y_test = df_test[target].values[n_steps + n_steps_ahead - 1:]\n",
    "\n",
    "print([tensor.shape for tensor in (x_train, y_train, x_test, y_test)])"
   ]
  },
  {
   "cell_type": "markdown",
   "metadata": {
    "id": "gDC_tRivqHKN",
    "slideshow": {
     "slide_type": "slide"
    }
   },
   "source": [
    "# Build functional model"
   ]
  },
  {
   "cell_type": "code",
   "execution_count": 9,
   "metadata": {
    "id": "G5GXnwUnybAo",
    "slideshow": {
     "slide_type": "fragment"
    }
   },
   "outputs": [],
   "source": [
    "input_size = x_train.shape[-1]"
   ]
  },
  {
   "cell_type": "code",
   "execution_count": 10,
   "metadata": {
    "id": "BFMs1PCCtvzX",
    "slideshow": {
     "slide_type": "fragment"
    }
   },
   "outputs": [],
   "source": [
    "rnn_cell2 = RIMCell2(units=16, nRIM=14, k=10,\n",
    "                num_input_heads=input_size, input_key_size=10, input_value_size=12, \n",
    "                input_query_size=10, input_keep_prob=0.9,num_comm_heads=8, \n",
    "                comm_key_size=4, comm_value_size=8, comm_query_size=4, comm_keep_prob=0.7)"
   ]
  },
  {
   "cell_type": "markdown",
   "metadata": {
    "id": "FDClv-9xt5ee",
    "slideshow": {
     "slide_type": "slide"
    }
   },
   "source": [
    "## Compile the model"
   ]
  },
  {
   "cell_type": "code",
   "execution_count": 11,
   "metadata": {
    "colab": {
     "base_uri": "https://localhost:8080/"
    },
    "id": "QGbeBsMNiFPU",
    "outputId": "e58ec10d-8a4e-4d72-ff56-76ab8a06c6be",
    "slideshow": {
     "slide_type": "slide"
    }
   },
   "outputs": [
    {
     "name": "stderr",
     "output_type": "stream",
     "text": [
      "2022-08-06 09:57:05.984894: I tensorflow/core/platform/cpu_feature_guard.cc:151] This TensorFlow binary is optimized with oneAPI Deep Neural Network Library (oneDNN) to use the following CPU instructions in performance-critical operations:  AVX2 FMA\n",
      "To enable them in other operations, rebuild TensorFlow with the appropriate compiler flags.\n"
     ]
    },
    {
     "name": "stdout",
     "output_type": "stream",
     "text": [
      "Model: \"model\"\n",
      "_________________________________________________________________\n",
      " Layer (type)                Output Shape              Param #   \n",
      "=================================================================\n",
      " input_1 (InputLayer)        [(None, 5, 1)]            0         \n",
      "                                                                 \n",
      " rnn (RNN)                   {'topk': TopKV2(values=(  57836     \n",
      "                             None, 10),                          \n",
      "                              indices=(None, 10)),               \n",
      "                              'sparse_tensor': (None,            \n",
      "                              None),                             \n",
      "                              'mask': (None, None, 1)            \n",
      "                             , 'attention_prob': (Non            \n",
      "                             e, 14, 2),                          \n",
      "                              'inputs_attention': (No            \n",
      "                             ne, 14, 12),                        \n",
      "                              'inputs1': (None, 14, 1            \n",
      "                             2),                                 \n",
      "                              'output': (None, 224)}             \n",
      "                                                                 \n",
      " dense (Dense)               (None, 5)                 1125      \n",
      "                                                                 \n",
      "=================================================================\n",
      "Total params: 58,961\n",
      "Trainable params: 58,961\n",
      "Non-trainable params: 0\n",
      "_________________________________________________________________\n"
     ]
    }
   ],
   "source": [
    "rnn_layer = tf.keras.layers.RNN(cell=rnn_cell2, return_sequences = False, return_state=False)\n",
    "\n",
    "inputs = tf.keras.Input(shape=(n_steps, input_size))\n",
    "rnn_output = rnn_layer(inputs)\n",
    "dense_output = tf.keras.layers.Dense(n_steps_ahead)(rnn_output['output'])\n",
    "\n",
    "model = tf.keras.Model(inputs = inputs, outputs = dense_output)\n",
    "es = tf.keras.callbacks.EarlyStopping(monitor='loss', patience=20, min_delta=3e-5, restore_best_weights=True)\n",
    "\n",
    "metrics = [tf.keras.metrics.RootMeanSquaredError(name='rmse'),'mae']\n",
    "opt = tf.keras.optimizers.Adam(learning_rate=0.001)\n",
    "model.compile(optimizer=opt, loss='mean_squared_error', metrics=metrics)\n",
    "model.summary()"
   ]
  },
  {
   "cell_type": "code",
   "execution_count": 12,
   "metadata": {
    "colab": {
     "base_uri": "https://localhost:8080/"
    },
    "id": "dX5dcb3ukvZ_",
    "outputId": "85b99e16-a4a3-47ba-a4a7-74bd18fcd3ac",
    "slideshow": {
     "slide_type": "skip"
    }
   },
   "outputs": [
    {
     "data": {
      "text/plain": [
       "(1286, 5, 1)"
      ]
     },
     "execution_count": 12,
     "metadata": {},
     "output_type": "execute_result"
    }
   ],
   "source": [
    "x_train.shape"
   ]
  },
  {
   "cell_type": "markdown",
   "metadata": {
    "id": "VjUleryHuDqU",
    "slideshow": {
     "slide_type": "slide"
    }
   },
   "source": [
    "## Train the model"
   ]
  },
  {
   "cell_type": "code",
   "execution_count": 13,
   "metadata": {
    "colab": {
     "base_uri": "https://localhost:8080/"
    },
    "id": "8ezuKeMcjIGm",
    "outputId": "ca3a0277-60aa-4ff1-8986-d60bbe6b8a7e",
    "scrolled": true,
    "slideshow": {
     "slide_type": "fragment"
    }
   },
   "outputs": [
    {
     "name": "stdout",
     "output_type": "stream",
     "text": [
      "Epoch 1/2000\n",
      "41/41 [==============================] - 4s 14ms/step - loss: 0.3332 - rmse: 0.5772 - mae: 0.4258\n",
      "Epoch 2/2000\n",
      "41/41 [==============================] - 1s 14ms/step - loss: 0.0251 - rmse: 0.1584 - mae: 0.1206\n",
      "Epoch 3/2000\n",
      "41/41 [==============================] - 1s 14ms/step - loss: 0.0237 - rmse: 0.1540 - mae: 0.1167\n",
      "Epoch 4/2000\n",
      "41/41 [==============================] - 1s 14ms/step - loss: 0.0236 - rmse: 0.1535 - mae: 0.1164\n",
      "Epoch 5/2000\n",
      "41/41 [==============================] - 1s 16ms/step - loss: 0.0227 - rmse: 0.1508 - mae: 0.1150\n",
      "Epoch 6/2000\n",
      "41/41 [==============================] - 1s 14ms/step - loss: 0.0220 - rmse: 0.1483 - mae: 0.1128\n",
      "Epoch 7/2000\n",
      "41/41 [==============================] - 1s 14ms/step - loss: 0.0226 - rmse: 0.1505 - mae: 0.1144\n",
      "Epoch 8/2000\n",
      "41/41 [==============================] - 1s 14ms/step - loss: 0.0226 - rmse: 0.1504 - mae: 0.1136\n",
      "Epoch 9/2000\n",
      "41/41 [==============================] - 1s 14ms/step - loss: 0.0223 - rmse: 0.1494 - mae: 0.1131\n",
      "Epoch 10/2000\n",
      "41/41 [==============================] - 1s 15ms/step - loss: 0.0223 - rmse: 0.1494 - mae: 0.1134\n",
      "Epoch 11/2000\n",
      "41/41 [==============================] - 1s 15ms/step - loss: 0.0220 - rmse: 0.1484 - mae: 0.1127\n",
      "Epoch 12/2000\n",
      "41/41 [==============================] - 1s 14ms/step - loss: 0.0216 - rmse: 0.1469 - mae: 0.1105\n",
      "Epoch 13/2000\n",
      "41/41 [==============================] - 1s 14ms/step - loss: 0.0220 - rmse: 0.1483 - mae: 0.1120\n",
      "Epoch 14/2000\n",
      "41/41 [==============================] - 1s 15ms/step - loss: 0.0222 - rmse: 0.1491 - mae: 0.1135\n",
      "Epoch 15/2000\n",
      "41/41 [==============================] - 1s 15ms/step - loss: 0.0222 - rmse: 0.1490 - mae: 0.1123\n",
      "Epoch 16/2000\n",
      "41/41 [==============================] - 1s 15ms/step - loss: 0.0223 - rmse: 0.1493 - mae: 0.1114\n",
      "Epoch 17/2000\n",
      "41/41 [==============================] - 1s 15ms/step - loss: 0.0223 - rmse: 0.1494 - mae: 0.1125\n",
      "Epoch 18/2000\n",
      "41/41 [==============================] - 1s 15ms/step - loss: 0.0220 - rmse: 0.1483 - mae: 0.1113\n",
      "Epoch 19/2000\n",
      "41/41 [==============================] - 1s 15ms/step - loss: 0.0210 - rmse: 0.1451 - mae: 0.1091\n",
      "Epoch 20/2000\n",
      "41/41 [==============================] - 1s 15ms/step - loss: 0.0216 - rmse: 0.1469 - mae: 0.1113\n",
      "Epoch 21/2000\n",
      "41/41 [==============================] - 1s 15ms/step - loss: 0.0214 - rmse: 0.1462 - mae: 0.1111\n",
      "Epoch 22/2000\n",
      "41/41 [==============================] - 1s 15ms/step - loss: 0.0209 - rmse: 0.1446 - mae: 0.1097\n",
      "Epoch 23/2000\n",
      "41/41 [==============================] - 1s 16ms/step - loss: 0.0223 - rmse: 0.1495 - mae: 0.1135\n",
      "Epoch 24/2000\n",
      "41/41 [==============================] - 1s 15ms/step - loss: 0.0217 - rmse: 0.1472 - mae: 0.1117\n",
      "Epoch 25/2000\n",
      "41/41 [==============================] - 1s 16ms/step - loss: 0.0210 - rmse: 0.1448 - mae: 0.1094\n",
      "Epoch 26/2000\n",
      "41/41 [==============================] - 1s 18ms/step - loss: 0.0224 - rmse: 0.1496 - mae: 0.1128\n",
      "Epoch 27/2000\n",
      "41/41 [==============================] - 1s 16ms/step - loss: 0.0215 - rmse: 0.1465 - mae: 0.1107\n",
      "Epoch 28/2000\n",
      "41/41 [==============================] - 1s 17ms/step - loss: 0.0211 - rmse: 0.1452 - mae: 0.1089\n",
      "Epoch 29/2000\n",
      "41/41 [==============================] - 1s 16ms/step - loss: 0.0213 - rmse: 0.1459 - mae: 0.1113\n",
      "Epoch 30/2000\n",
      "41/41 [==============================] - 1s 17ms/step - loss: 0.0213 - rmse: 0.1459 - mae: 0.1104\n",
      "Epoch 31/2000\n",
      "41/41 [==============================] - 1s 17ms/step - loss: 0.0216 - rmse: 0.1470 - mae: 0.1106\n",
      "Epoch 32/2000\n",
      "41/41 [==============================] - 1s 16ms/step - loss: 0.0216 - rmse: 0.1469 - mae: 0.1111\n",
      "Epoch 33/2000\n",
      "41/41 [==============================] - 1s 17ms/step - loss: 0.0221 - rmse: 0.1487 - mae: 0.1122\n",
      "Epoch 34/2000\n",
      "41/41 [==============================] - 1s 17ms/step - loss: 0.0216 - rmse: 0.1468 - mae: 0.1115\n",
      "Epoch 35/2000\n",
      "41/41 [==============================] - 1s 18ms/step - loss: 0.0213 - rmse: 0.1460 - mae: 0.1100\n",
      "Epoch 36/2000\n",
      "41/41 [==============================] - 1s 18ms/step - loss: 0.0209 - rmse: 0.1444 - mae: 0.1094\n",
      "Epoch 37/2000\n",
      "41/41 [==============================] - 1s 18ms/step - loss: 0.0217 - rmse: 0.1473 - mae: 0.1110\n",
      "Epoch 38/2000\n",
      "41/41 [==============================] - 1s 17ms/step - loss: 0.0203 - rmse: 0.1425 - mae: 0.1069\n",
      "Epoch 39/2000\n",
      "41/41 [==============================] - 1s 18ms/step - loss: 0.0213 - rmse: 0.1460 - mae: 0.1101\n",
      "Epoch 40/2000\n",
      "41/41 [==============================] - 1s 19ms/step - loss: 0.0210 - rmse: 0.1450 - mae: 0.1097\n",
      "Epoch 41/2000\n",
      "41/41 [==============================] - 1s 17ms/step - loss: 0.0217 - rmse: 0.1473 - mae: 0.1123\n",
      "Epoch 42/2000\n",
      "41/41 [==============================] - 1s 19ms/step - loss: 0.0216 - rmse: 0.1469 - mae: 0.1110\n",
      "Epoch 43/2000\n",
      "41/41 [==============================] - 1s 19ms/step - loss: 0.0209 - rmse: 0.1447 - mae: 0.1097\n",
      "Epoch 44/2000\n",
      "41/41 [==============================] - 1s 20ms/step - loss: 0.0213 - rmse: 0.1461 - mae: 0.1100\n",
      "Epoch 45/2000\n",
      "41/41 [==============================] - 1s 20ms/step - loss: 0.0212 - rmse: 0.1455 - mae: 0.1106\n",
      "Epoch 46/2000\n",
      "41/41 [==============================] - 1s 20ms/step - loss: 0.0212 - rmse: 0.1457 - mae: 0.1101\n",
      "Epoch 47/2000\n",
      "41/41 [==============================] - 1s 20ms/step - loss: 0.0212 - rmse: 0.1454 - mae: 0.1107\n",
      "Epoch 48/2000\n",
      "41/41 [==============================] - 1s 21ms/step - loss: 0.0213 - rmse: 0.1460 - mae: 0.1096\n",
      "Epoch 49/2000\n",
      "41/41 [==============================] - 1s 19ms/step - loss: 0.0205 - rmse: 0.1432 - mae: 0.1078\n",
      "Epoch 50/2000\n",
      "41/41 [==============================] - 1s 20ms/step - loss: 0.0210 - rmse: 0.1448 - mae: 0.1090\n",
      "Epoch 51/2000\n",
      "41/41 [==============================] - 1s 22ms/step - loss: 0.0211 - rmse: 0.1452 - mae: 0.1095\n",
      "Epoch 52/2000\n",
      "41/41 [==============================] - 1s 22ms/step - loss: 0.0217 - rmse: 0.1472 - mae: 0.1110\n",
      "Epoch 53/2000\n",
      "41/41 [==============================] - 1s 23ms/step - loss: 0.0214 - rmse: 0.1464 - mae: 0.1103\n",
      "Epoch 54/2000\n",
      "41/41 [==============================] - 1s 24ms/step - loss: 0.0211 - rmse: 0.1453 - mae: 0.1097\n",
      "Epoch 55/2000\n",
      "41/41 [==============================] - 1s 22ms/step - loss: 0.0209 - rmse: 0.1446 - mae: 0.1095\n",
      "Epoch 56/2000\n",
      "41/41 [==============================] - 1s 21ms/step - loss: 0.0208 - rmse: 0.1443 - mae: 0.1086\n",
      "Epoch 57/2000\n",
      "41/41 [==============================] - 1s 24ms/step - loss: 0.0205 - rmse: 0.1431 - mae: 0.1083\n",
      "Epoch 58/2000\n",
      "41/41 [==============================] - 1s 26ms/step - loss: 0.0214 - rmse: 0.1461 - mae: 0.1104\n"
     ]
    }
   ],
   "source": [
    "max_epochs = 2000\n",
    "\n",
    "history = model.fit(x_train,y_train, epochs=max_epochs,verbose=True, callbacks=es).history"
   ]
  },
  {
   "cell_type": "markdown",
   "metadata": {
    "id": "GSLwEQ4EuJOL",
    "slideshow": {
     "slide_type": "slide"
    }
   },
   "source": [
    "## Feature Extractor"
   ]
  },
  {
   "cell_type": "code",
   "execution_count": 14,
   "metadata": {
    "colab": {
     "base_uri": "https://localhost:8080/"
    },
    "id": "KqAWKX9nkXtw",
    "outputId": "5e393427-458f-4f57-bdd0-58d608300ab8",
    "slideshow": {
     "slide_type": "fragment"
    }
   },
   "outputs": [],
   "source": [
    "topk_extractor = tf.keras.Model(inputs = inputs, outputs = [rnn_output['topk'], rnn_output['inputs1'], rnn_output['attention_prob'], rnn_output['inputs_attention'] ])\n",
    "topk_tensors, inputs1_tensors, attention_prob_tensors, inputs_attention_tensors = topk_extractor.predict(x_test[:100])\n"
   ]
  },
  {
   "cell_type": "code",
   "execution_count": 15,
   "metadata": {
    "colab": {
     "base_uri": "https://localhost:8080/"
    },
    "id": "CeOFYEKr5rwE",
    "outputId": "bf23755c-0955-4f39-b2e2-1e9396554de8",
    "slideshow": {
     "slide_type": "fragment"
    }
   },
   "outputs": [
    {
     "name": "stdout",
     "output_type": "stream",
     "text": [
      "10/10 [==============================] - 1s 10ms/step - loss: 0.0704 - rmse: 0.2653 - mae: 0.2163\n"
     ]
    },
    {
     "data": {
      "text/plain": [
       "[0.07038366049528122, 0.2652992010116577, 0.21633048355579376]"
      ]
     },
     "execution_count": 15,
     "metadata": {},
     "output_type": "execute_result"
    }
   ],
   "source": [
    "model.evaluate(x_test, y_test)\n"
   ]
  },
  {
   "cell_type": "markdown",
   "metadata": {
    "id": "xZ5gM3tvuOvB",
    "slideshow": {
     "slide_type": "slide"
    }
   },
   "source": [
    "## Feature Extractor Plots"
   ]
  },
  {
   "cell_type": "markdown",
   "metadata": {
    "id": "qsGxA-dONXT6",
    "slideshow": {
     "slide_type": "skip"
    }
   },
   "source": [
    "* The way to do it would be: get attention values for how each module is relevant at each particular time-step.\n",
    "* Look at the weights at each time-step and module and then use the ones with the highest weight as the activated ones and the others as deactivated ones. Meaning, look at the topk attention weights"
   ]
  },
  {
   "cell_type": "code",
   "execution_count": 16,
   "metadata": {
    "colab": {
     "base_uri": "https://localhost:8080/",
     "height": 609
    },
    "id": "my0eD5-JUH-N",
    "outputId": "bb5bfee8-bd4f-4f86-d370-1981b9ea5b02",
    "slideshow": {
     "slide_type": "skip"
    }
   },
   "outputs": [
    {
     "name": "stdout",
     "output_type": "stream",
     "text": [
      "(100, 14, 12)\n"
     ]
    },
    {
     "data": {
      "image/png": "[encoded data removed]",
      "text/plain": [
       "<Figure size 1440x720 with 2 Axes>"
      ]
     },
     "metadata": {
      "needs_background": "light"
     },
     "output_type": "display_data"
    }
   ],
   "source": [
    "print(inputs_attention_tensors.shape)\n",
    "plt.figure(figsize=(20,10))\n",
    "inputs_attention_condensed = tf.reduce_mean(inputs_attention_tensors, axis=[2])\n",
    "plt.imshow(inputs_attention_condensed.numpy().T,cmap='binary', aspect='auto')\n",
    "plt.colorbar();"
   ]
  },
  {
   "cell_type": "code",
   "execution_count": 17,
   "metadata": {
    "colab": {
     "base_uri": "https://localhost:8080/",
     "height": 337
    },
    "id": "nuTZnwZJRMH1",
    "outputId": "a5480a88-22fe-42b2-ff5a-565ad508137a",
    "slideshow": {
     "slide_type": "slide"
    }
   },
   "outputs": [
    {
     "name": "stdout",
     "output_type": "stream",
     "text": [
      "(100, 14, 2)\n"
     ]
    },
    {
     "data": {
      "image/png": "[encoded data removed]",
      "text/plain": [
       "<Figure size 1440x360 with 1 Axes>"
      ]
     },
     "metadata": {
      "needs_background": "light"
     },
     "output_type": "display_data"
    }
   ],
   "source": [
    "print(attention_prob_tensors.shape)\n",
    "plt.figure(figsize=(20,5))\n",
    "attention_prob_condensed = np.where(tf.reduce_mean(attention_prob_tensors, axis=[2]).numpy()>0.5,1,0)\n",
    "plt.imshow(attention_prob_condensed.T,cmap='binary', aspect='auto');"
   ]
  },
  {
   "cell_type": "code",
   "execution_count": 18,
   "metadata": {
    "colab": {
     "base_uri": "https://localhost:8080/",
     "height": 320
    },
    "id": "waaz0dNLnlcc",
    "outputId": "f7d9bad6-6428-46a0-cb9c-c0f1a75f054e",
    "slideshow": {
     "slide_type": "skip"
    }
   },
   "outputs": [
    {
     "data": {
      "image/png": "[encoded data removed]",
      "text/plain": [
       "<Figure size 1440x360 with 1 Axes>"
      ]
     },
     "metadata": {
      "needs_background": "light"
     },
     "output_type": "display_data"
    }
   ],
   "source": [
    "plt.figure(figsize=(20,5))\n",
    "plt.xlim(0, np.min(x_test.shape[0]))\n",
    "plt.plot(x_test[:100,0]);"
   ]
  },
  {
   "cell_type": "code",
   "execution_count": 19,
   "metadata": {
    "colab": {
     "base_uri": "https://localhost:8080/",
     "height": 592
    },
    "id": "O6ER4M51dfvs",
    "outputId": "75a28db3-c103-4fe6-f638-1ad91e23c357",
    "slideshow": {
     "slide_type": "skip"
    }
   },
   "outputs": [
    {
     "data": {
      "image/png": "[encoded data removed]",
      "text/plain": [
       "<Figure size 1440x720 with 2 Axes>"
      ]
     },
     "metadata": {
      "needs_background": "light"
     },
     "output_type": "display_data"
    }
   ],
   "source": [
    "plt.figure(figsize=(20,10))\n",
    "inputs1_tensors_condensed = tf.reduce_mean(inputs1_tensors, axis=[2])\n",
    "plt.imshow(inputs1_tensors_condensed.numpy().T,cmap='binary', aspect='auto')\n",
    "plt.colorbar();"
   ]
  },
  {
   "cell_type": "code",
   "execution_count": 20,
   "metadata": {
    "colab": {
     "base_uri": "https://localhost:8080/"
    },
    "id": "dpJtkK1sNrnc",
    "outputId": "5c80f361-f338-45e0-af50-78d4d6357fb2",
    "slideshow": {
     "slide_type": "skip"
    }
   },
   "outputs": [
    {
     "data": {
      "text/plain": [
       "(100, 10)"
      ]
     },
     "execution_count": 20,
     "metadata": {},
     "output_type": "execute_result"
    }
   ],
   "source": [
    "topk_tensors.indices.shape"
   ]
  },
  {
   "cell_type": "code",
   "execution_count": 21,
   "metadata": {
    "colab": {
     "base_uri": "https://localhost:8080/",
     "height": 592
    },
    "id": "p7ynIwtEvQ46",
    "outputId": "519026b7-b30d-49fd-806e-6ad1d8167d69",
    "slideshow": {
     "slide_type": "skip"
    }
   },
   "outputs": [
    {
     "data": {
      "image/png": "[encoded data removed]",
      "text/plain": [
       "<Figure size 1440x720 with 2 Axes>"
      ]
     },
     "metadata": {
      "needs_background": "light"
     },
     "output_type": "display_data"
    }
   ],
   "source": [
    "plt.figure(figsize=(20,10))\n",
    "plt.imshow(topk_tensors.values.T, cmap='binary',aspect='auto')\n",
    "plt.colorbar();\n"
   ]
  },
  {
   "cell_type": "markdown",
   "metadata": {
    "id": "NKWzZPctzFWz",
    "slideshow": {
     "slide_type": "skip"
    }
   },
   "source": [
    "# Bivariate input"
   ]
  },
  {
   "cell_type": "code",
   "execution_count": 22,
   "metadata": {
    "colab": {
     "base_uri": "https://localhost:8080/",
     "height": 235
    },
    "id": "TO6Sn8rQQ1s1",
    "outputId": "1761454d-bca5-41b9-ef1e-0c07381ed0b4",
    "slideshow": {
     "slide_type": "skip"
    }
   },
   "outputs": [
    {
     "data": {
      "text/html": [
       "<div>\n",
       "<style scoped>\n",
       "    .dataframe tbody tr th:only-of-type {\n",
       "        vertical-align: middle;\n",
       "    }\n",
       "\n",
       "    .dataframe tbody tr th {\n",
       "        vertical-align: top;\n",
       "    }\n",
       "\n",
       "    .dataframe thead th {\n",
       "        text-align: right;\n",
       "    }\n",
       "</style>\n",
       "<table border=\"1\" class=\"dataframe\">\n",
       "  <thead>\n",
       "    <tr style=\"text-align: right;\">\n",
       "      <th></th>\n",
       "      <th>close</th>\n",
       "      <th>conv_filter</th>\n",
       "    </tr>\n",
       "    <tr>\n",
       "      <th>date</th>\n",
       "      <th></th>\n",
       "      <th></th>\n",
       "    </tr>\n",
       "  </thead>\n",
       "  <tbody>\n",
       "    <tr>\n",
       "      <th>2015-01-02</th>\n",
       "      <td>32.197535</td>\n",
       "      <td>0.736203</td>\n",
       "    </tr>\n",
       "    <tr>\n",
       "      <th>2015-01-05</th>\n",
       "      <td>32.197535</td>\n",
       "      <td>0.736203</td>\n",
       "    </tr>\n",
       "    <tr>\n",
       "      <th>2015-01-06</th>\n",
       "      <td>32.197535</td>\n",
       "      <td>0.733010</td>\n",
       "    </tr>\n",
       "    <tr>\n",
       "      <th>2015-01-07</th>\n",
       "      <td>32.197535</td>\n",
       "      <td>0.743926</td>\n",
       "    </tr>\n",
       "    <tr>\n",
       "      <th>2015-01-08</th>\n",
       "      <td>32.690630</td>\n",
       "      <td>0.754841</td>\n",
       "    </tr>\n",
       "  </tbody>\n",
       "</table>\n",
       "</div>"
      ],
      "text/plain": [
       "                close  conv_filter\n",
       "date                              \n",
       "2015-01-02  32.197535     0.736203\n",
       "2015-01-05  32.197535     0.736203\n",
       "2015-01-06  32.197535     0.733010\n",
       "2015-01-07  32.197535     0.743926\n",
       "2015-01-08  32.690630     0.754841"
      ]
     },
     "execution_count": 22,
     "metadata": {},
     "output_type": "execute_result"
    }
   ],
   "source": [
    "df = data.loc[data['ticker']=='BF_B']\n",
    "df = df[['close','conv_filter']]\n",
    "#data = data[['close']]\n",
    "df.head() # show features"
   ]
  },
  {
   "cell_type": "code",
   "execution_count": 23,
   "metadata": {
    "id": "hW-5IL4lQ1s2",
    "slideshow": {
     "slide_type": "skip"
    }
   },
   "outputs": [],
   "source": [
    "use_features = ['close','conv_filter'] # continuous input\n",
    "target = ['close'] # continuous output\n",
    "n_steps_ahead = 5 # forecasting horizon"
   ]
  },
  {
   "cell_type": "markdown",
   "metadata": {
    "id": "oOmrN3-BQ1s2",
    "slideshow": {
     "slide_type": "skip"
    }
   },
   "source": [
    "# Data preparation"
   ]
  },
  {
   "cell_type": "code",
   "execution_count": 24,
   "metadata": {
    "id": "Y9i16mRtQ1s2",
    "slideshow": {
     "slide_type": "skip"
    }
   },
   "outputs": [],
   "source": [
    "mu, sigma, df_train,  df_test = pre.prepare_data(df)"
   ]
  },
  {
   "cell_type": "code",
   "execution_count": 25,
   "metadata": {
    "id": "im4KrNq7Q1s3",
    "slideshow": {
     "slide_type": "skip"
    }
   },
   "outputs": [],
   "source": [
    "n_steps = 5\n",
    "n_steps_ahead = 5"
   ]
  },
  {
   "cell_type": "code",
   "execution_count": 26,
   "metadata": {
    "colab": {
     "base_uri": "https://localhost:8080/"
    },
    "id": "PTuV1Vj9Q1s3",
    "outputId": "ba865ac1-5880-4f90-9821-81f87c3d06fa",
    "slideshow": {
     "slide_type": "skip"
    }
   },
   "outputs": [
    {
     "name": "stdout",
     "output_type": "stream",
     "text": [
      "[(1286, 5, 2), (1286, 1), (315, 5, 2), (315, 1)]\n"
     ]
    }
   ],
   "source": [
    "\n",
    "x_train = pre.get_lagged_features(df_train[use_features], n_steps, n_steps_ahead)\n",
    "y_train =  df_train[target].values[n_steps + n_steps_ahead - 1:]\n",
    "\n",
    "x_test = pre.get_lagged_features(df_test[use_features], n_steps, n_steps_ahead)\n",
    "y_test =  df_test[target].values[n_steps + n_steps_ahead - 1:]\n",
    "\n",
    "print([tensor.shape for tensor in (x_train, y_train, x_test, y_test)])"
   ]
  },
  {
   "cell_type": "code",
   "execution_count": 27,
   "metadata": {
    "id": "Q7FQ0NaIzimC",
    "slideshow": {
     "slide_type": "slide"
    }
   },
   "outputs": [],
   "source": [
    "input_size = x_train.shape[-1]\n",
    "rnn_cell3 = RIMCell2(units=16, nRIM=14, k=10,\n",
    "                num_input_heads=input_size, input_key_size=10, input_value_size=12, \n",
    "                input_query_size=10, input_keep_prob=0.9,num_comm_heads=8, \n",
    "                comm_key_size=4, comm_value_size=12, comm_query_size=4, comm_keep_prob=0.7)"
   ]
  },
  {
   "cell_type": "markdown",
   "metadata": {
    "id": "X4SvJcouzimC",
    "slideshow": {
     "slide_type": "slide"
    }
   },
   "source": [
    "## Compile the model"
   ]
  },
  {
   "cell_type": "code",
   "execution_count": 28,
   "metadata": {
    "colab": {
     "base_uri": "https://localhost:8080/"
    },
    "id": "R5PlUADdzimD",
    "outputId": "ae2c1a2c-e2b1-4094-a4df-5d4c5b33c805",
    "slideshow": {
     "slide_type": "slide"
    }
   },
   "outputs": [
    {
     "name": "stdout",
     "output_type": "stream",
     "text": [
      "Model: \"model_2\"\n",
      "_________________________________________________________________\n",
      " Layer (type)                Output Shape              Param #   \n",
      "=================================================================\n",
      " input_2 (InputLayer)        [(None, 5, 2)]            0         \n",
      "                                                                 \n",
      " rnn_1 (RNN)                 {'topk': TopKV2(values=(  74500     \n",
      "                             None, 10),                          \n",
      "                              indices=(None, 10)),               \n",
      "                              'sparse_tensor': (None,            \n",
      "                              None),                             \n",
      "                              'mask': (None, None, 1)            \n",
      "                             , 'attention_prob': (Non            \n",
      "                             e, 14, 2),                          \n",
      "                              'inputs_attention': (No            \n",
      "                             ne, 14, 12),                        \n",
      "                              'inputs1': (None, 14, 1            \n",
      "                             2),                                 \n",
      "                              'output': (None, 224)}             \n",
      "                                                                 \n",
      " dense_1 (Dense)             (None, 5)                 1125      \n",
      "                                                                 \n",
      "=================================================================\n",
      "Total params: 75,625\n",
      "Trainable params: 75,625\n",
      "Non-trainable params: 0\n",
      "_________________________________________________________________\n"
     ]
    }
   ],
   "source": [
    "rnn_layer = tf.keras.layers.RNN(cell=rnn_cell3, return_sequences = False, return_state=False)\n",
    "\n",
    "inputs = tf.keras.Input(shape=(n_steps, input_size))\n",
    "rnn_output = rnn_layer(inputs)\n",
    "dense_output = tf.keras.layers.Dense(n_steps_ahead)(rnn_output['output'])\n",
    "\n",
    "model_2 = tf.keras.Model(inputs = inputs, outputs = dense_output)\n",
    "es = tf.keras.callbacks.EarlyStopping(monitor='loss', patience=20, min_delta=3e-5, restore_best_weights=True)\n",
    "\n",
    "metrics = [tf.keras.metrics.RootMeanSquaredError(name='rmse'),'mae']\n",
    "opt = tf.keras.optimizers.Adam(learning_rate=0.001)\n",
    "model_2.compile(optimizer=opt, loss='mean_squared_error', metrics=metrics)\n",
    "model_2.summary()"
   ]
  },
  {
   "cell_type": "markdown",
   "metadata": {
    "id": "pFAvz2WszimM",
    "slideshow": {
     "slide_type": "skip"
    }
   },
   "source": [
    "## Train the model"
   ]
  },
  {
   "cell_type": "code",
   "execution_count": 29,
   "metadata": {
    "colab": {
     "base_uri": "https://localhost:8080/"
    },
    "id": "H6258ZJ3zimM",
    "outputId": "62a67a71-3d87-40de-f58f-912337c275f4",
    "slideshow": {
     "slide_type": "skip"
    }
   },
   "outputs": [
    {
     "name": "stdout",
     "output_type": "stream",
     "text": [
      "Epoch 1/2000\n",
      "41/41 [==============================] - 4s 25ms/step - loss: 0.4747 - rmse: 0.6890 - mae: 0.5440\n",
      "Epoch 2/2000\n",
      "41/41 [==============================] - 1s 27ms/step - loss: 0.0281 - rmse: 0.1675 - mae: 0.1279\n",
      "Epoch 3/2000\n",
      "41/41 [==============================] - 1s 26ms/step - loss: 0.0244 - rmse: 0.1562 - mae: 0.1193\n",
      "Epoch 4/2000\n",
      "41/41 [==============================] - 1s 27ms/step - loss: 0.0238 - rmse: 0.1544 - mae: 0.1181\n",
      "Epoch 5/2000\n",
      "41/41 [==============================] - 1s 27ms/step - loss: 0.0252 - rmse: 0.1588 - mae: 0.1223\n",
      "Epoch 6/2000\n",
      "41/41 [==============================] - 1s 29ms/step - loss: 0.0234 - rmse: 0.1529 - mae: 0.1165\n",
      "Epoch 7/2000\n",
      "41/41 [==============================] - 1s 31ms/step - loss: 0.0243 - rmse: 0.1558 - mae: 0.1188\n",
      "Epoch 8/2000\n",
      "41/41 [==============================] - 1s 26ms/step - loss: 0.0221 - rmse: 0.1486 - mae: 0.1124\n",
      "Epoch 9/2000\n",
      "41/41 [==============================] - 1s 26ms/step - loss: 0.0228 - rmse: 0.1509 - mae: 0.1157\n",
      "Epoch 10/2000\n",
      "41/41 [==============================] - 1s 28ms/step - loss: 0.0220 - rmse: 0.1484 - mae: 0.1125\n",
      "Epoch 11/2000\n",
      "41/41 [==============================] - 1s 29ms/step - loss: 0.0223 - rmse: 0.1492 - mae: 0.1132\n",
      "Epoch 12/2000\n",
      "41/41 [==============================] - 1s 29ms/step - loss: 0.0225 - rmse: 0.1499 - mae: 0.1148\n",
      "Epoch 13/2000\n",
      "41/41 [==============================] - 1s 28ms/step - loss: 0.0224 - rmse: 0.1498 - mae: 0.1149\n",
      "Epoch 14/2000\n",
      "41/41 [==============================] - 1s 27ms/step - loss: 0.0228 - rmse: 0.1509 - mae: 0.1153\n",
      "Epoch 15/2000\n",
      "41/41 [==============================] - 1s 29ms/step - loss: 0.0220 - rmse: 0.1483 - mae: 0.1124\n",
      "Epoch 16/2000\n",
      "41/41 [==============================] - 1s 29ms/step - loss: 0.0226 - rmse: 0.1505 - mae: 0.1137\n",
      "Epoch 17/2000\n",
      "41/41 [==============================] - 1s 29ms/step - loss: 0.0232 - rmse: 0.1524 - mae: 0.1160\n",
      "Epoch 18/2000\n",
      "41/41 [==============================] - 1s 30ms/step - loss: 0.0218 - rmse: 0.1475 - mae: 0.1125\n",
      "Epoch 19/2000\n",
      "41/41 [==============================] - 1s 28ms/step - loss: 0.0220 - rmse: 0.1482 - mae: 0.1121\n",
      "Epoch 20/2000\n",
      "41/41 [==============================] - 1s 34ms/step - loss: 0.0219 - rmse: 0.1480 - mae: 0.1126\n",
      "Epoch 21/2000\n",
      "41/41 [==============================] - 1s 31ms/step - loss: 0.0223 - rmse: 0.1495 - mae: 0.1150\n",
      "Epoch 22/2000\n",
      "41/41 [==============================] - 1s 30ms/step - loss: 0.0213 - rmse: 0.1461 - mae: 0.1107\n",
      "Epoch 23/2000\n",
      "41/41 [==============================] - 1s 32ms/step - loss: 0.0223 - rmse: 0.1495 - mae: 0.1150\n",
      "Epoch 24/2000\n",
      "41/41 [==============================] - 1s 30ms/step - loss: 0.0224 - rmse: 0.1497 - mae: 0.1143\n",
      "Epoch 25/2000\n",
      "41/41 [==============================] - 1s 32ms/step - loss: 0.0209 - rmse: 0.1446 - mae: 0.1102\n",
      "Epoch 26/2000\n",
      "41/41 [==============================] - 1s 32ms/step - loss: 0.0215 - rmse: 0.1465 - mae: 0.1118\n",
      "Epoch 27/2000\n",
      "41/41 [==============================] - 1s 30ms/step - loss: 0.0216 - rmse: 0.1470 - mae: 0.1120\n",
      "Epoch 28/2000\n",
      "41/41 [==============================] - 1s 27ms/step - loss: 0.0218 - rmse: 0.1478 - mae: 0.1126\n",
      "Epoch 29/2000\n",
      "41/41 [==============================] - 1s 29ms/step - loss: 0.0209 - rmse: 0.1446 - mae: 0.1109\n",
      "Epoch 30/2000\n",
      "41/41 [==============================] - 1s 30ms/step - loss: 0.0199 - rmse: 0.1410 - mae: 0.1080\n",
      "Epoch 31/2000\n",
      "41/41 [==============================] - 1s 30ms/step - loss: 0.0214 - rmse: 0.1462 - mae: 0.1120\n",
      "Epoch 32/2000\n",
      "41/41 [==============================] - 1s 29ms/step - loss: 0.0210 - rmse: 0.1449 - mae: 0.1102\n",
      "Epoch 33/2000\n",
      "41/41 [==============================] - 1s 30ms/step - loss: 0.0211 - rmse: 0.1454 - mae: 0.1107\n",
      "Epoch 34/2000\n",
      "41/41 [==============================] - 1s 31ms/step - loss: 0.0219 - rmse: 0.1479 - mae: 0.1133\n",
      "Epoch 35/2000\n",
      "41/41 [==============================] - 1s 33ms/step - loss: 0.0216 - rmse: 0.1470 - mae: 0.1120\n",
      "Epoch 36/2000\n",
      "41/41 [==============================] - 1s 34ms/step - loss: 0.0203 - rmse: 0.1425 - mae: 0.1087\n",
      "Epoch 37/2000\n",
      "41/41 [==============================] - 1s 34ms/step - loss: 0.0214 - rmse: 0.1464 - mae: 0.1116\n",
      "Epoch 38/2000\n",
      "41/41 [==============================] - 1s 33ms/step - loss: 0.0202 - rmse: 0.1420 - mae: 0.1083\n",
      "Epoch 39/2000\n",
      "41/41 [==============================] - 1s 36ms/step - loss: 0.0209 - rmse: 0.1444 - mae: 0.1100\n",
      "Epoch 40/2000\n",
      "41/41 [==============================] - 1s 34ms/step - loss: 0.0204 - rmse: 0.1430 - mae: 0.1081\n",
      "Epoch 41/2000\n",
      "41/41 [==============================] - 1s 32ms/step - loss: 0.0207 - rmse: 0.1440 - mae: 0.1104\n",
      "Epoch 42/2000\n",
      "41/41 [==============================] - 1s 31ms/step - loss: 0.0203 - rmse: 0.1426 - mae: 0.1086\n",
      "Epoch 43/2000\n",
      "41/41 [==============================] - 1s 34ms/step - loss: 0.0203 - rmse: 0.1423 - mae: 0.1092\n",
      "Epoch 44/2000\n",
      "41/41 [==============================] - 1s 33ms/step - loss: 0.0203 - rmse: 0.1425 - mae: 0.1088\n",
      "Epoch 45/2000\n",
      "41/41 [==============================] - 2s 39ms/step - loss: 0.0214 - rmse: 0.1462 - mae: 0.1120\n",
      "Epoch 46/2000\n",
      "41/41 [==============================] - 2s 37ms/step - loss: 0.0201 - rmse: 0.1416 - mae: 0.1087\n",
      "Epoch 47/2000\n",
      "41/41 [==============================] - 2s 39ms/step - loss: 0.0207 - rmse: 0.1440 - mae: 0.1101\n",
      "Epoch 48/2000\n",
      "41/41 [==============================] - 1s 36ms/step - loss: 0.0205 - rmse: 0.1431 - mae: 0.1082\n",
      "Epoch 49/2000\n",
      "41/41 [==============================] - 2s 38ms/step - loss: 0.0209 - rmse: 0.1446 - mae: 0.1114\n",
      "Epoch 50/2000\n",
      "41/41 [==============================] - 2s 41ms/step - loss: 0.0201 - rmse: 0.1418 - mae: 0.1075\n"
     ]
    }
   ],
   "source": [
    "max_epochs = 2000\n",
    "\n",
    "history_2 = model_2.fit(x_train,y_train, epochs=max_epochs,verbose=True, callbacks=es).history"
   ]
  },
  {
   "cell_type": "markdown",
   "metadata": {
    "id": "6JD7sEXrzimN",
    "slideshow": {
     "slide_type": "slide"
    }
   },
   "source": [
    "## Feature Extractor"
   ]
  },
  {
   "cell_type": "code",
   "execution_count": 30,
   "metadata": {
    "id": "QLupcKWCzimN",
    "slideshow": {
     "slide_type": "slide"
    }
   },
   "outputs": [],
   "source": [
    "topk_extractor_2 = tf.keras.Model(inputs = inputs, outputs = [rnn_output['topk'], rnn_output['inputs1'], rnn_output['attention_prob'], rnn_output['inputs_attention'] ])\n",
    "topk_tensors_2, inputs1_tensors_2, attention_prob_tensors_2, inputs_attention_tensors_2 = topk_extractor_2.predict(x_test[:100])\n",
    "\n"
   ]
  },
  {
   "cell_type": "code",
   "execution_count": 31,
   "metadata": {
    "colab": {
     "base_uri": "https://localhost:8080/"
    },
    "id": "uh7ch7ykzimN",
    "outputId": "111b9022-7357-45d1-ca1b-59a2415e4787",
    "slideshow": {
     "slide_type": "skip"
    }
   },
   "outputs": [
    {
     "name": "stdout",
     "output_type": "stream",
     "text": [
      "10/10 [==============================] - 1s 14ms/step - loss: 0.0931 - rmse: 0.3051 - mae: 0.2606\n"
     ]
    },
    {
     "data": {
      "text/plain": [
       "[0.09307599812746048, 0.30508360266685486, 0.26061248779296875]"
      ]
     },
     "execution_count": 31,
     "metadata": {},
     "output_type": "execute_result"
    }
   ],
   "source": [
    "model_2.evaluate(x_test, y_test)"
   ]
  },
  {
   "cell_type": "markdown",
   "metadata": {
    "id": "30vUqcTnzimN",
    "slideshow": {
     "slide_type": "slide"
    }
   },
   "source": [
    "## Feature Extractor Plots"
   ]
  },
  {
   "cell_type": "markdown",
   "metadata": {
    "id": "oQnO8ZayzimO",
    "slideshow": {
     "slide_type": "skip"
    }
   },
   "source": [
    "* The way to do it would be: get attention values for how each module is relevant at each particular time-step.\n",
    "* Look at the weights at each time-step and module and then use the ones with the highest weight as the activated ones and the others as deactivated ones. Meaning, look at the topk attention weights"
   ]
  },
  {
   "cell_type": "code",
   "execution_count": 32,
   "metadata": {
    "colab": {
     "base_uri": "https://localhost:8080/",
     "height": 609
    },
    "id": "kQY8dd-KzimO",
    "outputId": "a1c80431-121c-4ca4-e7f3-6c62512f9c6b",
    "slideshow": {
     "slide_type": "skip"
    }
   },
   "outputs": [
    {
     "name": "stdout",
     "output_type": "stream",
     "text": [
      "(100, 14, 12)\n"
     ]
    },
    {
     "data": {
      "image/png": "[encoded data removed]",
      "text/plain": [
       "<Figure size 1440x720 with 2 Axes>"
      ]
     },
     "metadata": {
      "needs_background": "light"
     },
     "output_type": "display_data"
    }
   ],
   "source": [
    "print(inputs_attention_tensors_2.shape)\n",
    "plt.figure(figsize=(20,10))\n",
    "inputs_attention_condensed = tf.reduce_mean(inputs_attention_tensors_2, axis=[2])\n",
    "plt.imshow(inputs_attention_condensed.numpy().T,cmap='binary', aspect='auto')\n",
    "plt.colorbar();"
   ]
  },
  {
   "cell_type": "code",
   "execution_count": 33,
   "metadata": {
    "colab": {
     "base_uri": "https://localhost:8080/",
     "height": 387
    },
    "id": "mjpMaaLRzimO",
    "outputId": "965622f0-088f-4c6f-bfde-d0d199eb5782",
    "slideshow": {
     "slide_type": "slide"
    }
   },
   "outputs": [
    {
     "name": "stdout",
     "output_type": "stream",
     "text": [
      "(100, 14, 2)\n"
     ]
    },
    {
     "data": {
      "image/png": "[encoded data removed]",
      "text/plain": [
       "<Figure size 1440x360 with 1 Axes>"
      ]
     },
     "metadata": {
      "needs_background": "light"
     },
     "output_type": "display_data"
    }
   ],
   "source": [
    "print(attention_prob_tensors.shape)\n",
    "plt.figure(figsize=(20,5))\n",
    "attention_prob_condensed_2 = np.where(tf.reduce_mean(attention_prob_tensors_2, axis=[2]).numpy()>0.5,1,0)\n",
    "plt.imshow(attention_prob_condensed_2.T,cmap='binary', aspect='auto')\n",
    "plt.xlabel('Time',fontsize=18)\n",
    "plt.ylabel('K-modules',fontsize=18)\n",
    "plt.title(\"Activation pattern for    $ '\\alpha_{t}$-RIM\",fontsize=24);\n",
    "#plt.imshow(attention_prob_condensed.T,cmap='Reds', aspect='auto');\n",
    "#plt.colorbar();"
   ]
  },
  {
   "cell_type": "code",
   "execution_count": 34,
   "metadata": {
    "id": "VGL2ewSOzimP",
    "slideshow": {
     "slide_type": "skip"
    }
   },
   "outputs": [
    {
     "data": {
      "text/plain": [
       "(100, 14, 12)"
      ]
     },
     "execution_count": 34,
     "metadata": {},
     "output_type": "execute_result"
    }
   ],
   "source": [
    "inputs1_tensors.shape"
   ]
  },
  {
   "cell_type": "code",
   "execution_count": 35,
   "metadata": {
    "colab": {
     "base_uri": "https://localhost:8080/",
     "height": 642
    },
    "id": "HFoYBXdEzimP",
    "outputId": "861ed763-c28a-4213-a61b-477e5050b36f",
    "slideshow": {
     "slide_type": "skip"
    }
   },
   "outputs": [
    {
     "data": {
      "image/png": "[encoded data removed]",
      "text/plain": [
       "<Figure size 1440x720 with 2 Axes>"
      ]
     },
     "metadata": {
      "needs_background": "light"
     },
     "output_type": "display_data"
    }
   ],
   "source": [
    "plt.figure(figsize=(20,10))\n",
    "inputs1_tensors_condensed = tf.reduce_mean(inputs1_tensors_2, axis=[2])\n",
    "plt.imshow(inputs1_tensors_condensed.numpy().T,cmap='binary', aspect='auto')\n",
    "plt.colorbar()\n",
    "plt.xlabel('Time',fontsize=18)\n",
    "plt.ylabel('K-modules',fontsize=18)\n",
    "plt.title('Attention input weights for    $ _{t}$-RIM with sentiment',fontsize=24);"
   ]
  },
  {
   "cell_type": "code",
   "execution_count": 36,
   "metadata": {
    "colab": {
     "base_uri": "https://localhost:8080/",
     "height": 642
    },
    "id": "Gjs6GmlCVAUn",
    "outputId": "1601d1ac-1ceb-4eea-c032-10086a4bb674",
    "slideshow": {
     "slide_type": "skip"
    }
   },
   "outputs": [
    {
     "data": {
      "image/png": "[encoded data removed]",
      "text/plain": [
       "<Figure size 1440x720 with 2 Axes>"
      ]
     },
     "metadata": {
      "needs_background": "light"
     },
     "output_type": "display_data"
    }
   ],
   "source": [
    "plt.figure(figsize=(20,10))\n",
    "inputs1_tensors_condensed = tf.reduce_mean(inputs1_tensors, axis=[2])\n",
    "plt.imshow(inputs1_tensors_condensed.numpy().T,cmap='binary', aspect='auto')\n",
    "plt.xlabel('Time',fontsize=18)\n",
    "plt.ylabel('K-modules',fontsize=18)\n",
    "plt.title('Attention input weights for    $ _{t}$-RIM without sentiment',fontsize=24);\n",
    "plt.colorbar(); "
   ]
  },
  {
   "cell_type": "code",
   "execution_count": 37,
   "metadata": {
    "colab": {
     "base_uri": "https://localhost:8080/"
    },
    "id": "YZ2JQEs3zimP",
    "outputId": "fe0d5573-31c6-417b-8eb3-dd809fb33456",
    "slideshow": {
     "slide_type": "skip"
    }
   },
   "outputs": [
    {
     "data": {
      "text/plain": [
       "(100, 10)"
      ]
     },
     "execution_count": 37,
     "metadata": {},
     "output_type": "execute_result"
    }
   ],
   "source": [
    "topk_tensors.indices.shape"
   ]
  },
  {
   "cell_type": "code",
   "execution_count": 38,
   "metadata": {
    "colab": {
     "base_uri": "https://localhost:8080/",
     "height": 592
    },
    "id": "nNmaL5w7zimP",
    "outputId": "610bd968-0e7a-4f19-b8c3-c82b9f071ef2",
    "slideshow": {
     "slide_type": "skip"
    }
   },
   "outputs": [
    {
     "data": {
      "image/png": "[encoded data removed]",
      "text/plain": [
       "<Figure size 1440x720 with 2 Axes>"
      ]
     },
     "metadata": {
      "needs_background": "light"
     },
     "output_type": "display_data"
    }
   ],
   "source": [
    "plt.figure(figsize=(20,10))\n",
    "plt.imshow(topk_tensors.values.T, cmap='binary',aspect='auto')\n",
    "plt.colorbar();\n"
   ]
  }
 ],
 "metadata": {
  "celltoolbar": "Slideshow",
  "colab": {
   "collapsed_sections": [],
   "name": "Attention_visualization_alphat_RIM-Amazon.ipynb",
   "provenance": [],
   "toc_visible": true
  },
  "kernelspec": {
   "display_name": "Python 3 (ipykernel)",
   "language": "python",
   "name": "python3"
  },
  "language_info": {
   "codemirror_mode": {
    "name": "ipython",
    "version": 3
   },
   "file_extension": ".py",
   "mimetype": "text/x-python",
   "name": "python",
   "nbconvert_exporter": "python",
   "pygments_lexer": "ipython3",
   "version": "3.10.8"
  },
  "toc": {
   "base_numbering": 1,
   "nav_menu": {},
   "number_sections": false,
   "sideBar": true,
   "skip_h1_title": false,
   "title_cell": "Table of Contents",
   "title_sidebar": "Contents",
   "toc_cell": false,
   "toc_position": {},
   "toc_section_display": true,
   "toc_window_display": false
  },
  "varInspector": {
   "cols": {
    "lenName": 16,
    "lenType": 16,
    "lenVar": 40
   },
   "kernels_config": {
    "python": {
     "delete_cmd_postfix": "",
     "delete_cmd_prefix": "del ",
     "library": "var_list.py",
     "varRefreshCmd": "print(var_dic_list())"
    },
    "r": {
     "delete_cmd_postfix": ") ",
     "delete_cmd_prefix": "rm(",
     "library": "var_list.r",
     "varRefreshCmd": "cat(var_dic_list()) "
    }
   },
   "types_to_exclude": [
    "module",
    "function",
    "builtin_function_or_method",
    "instance",
    "_Feature"
   ],
   "window_display": false
  }
 },
 "nbformat": 4,
 "nbformat_minor": 1
}
